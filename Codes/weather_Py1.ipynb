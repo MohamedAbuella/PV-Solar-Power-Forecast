{
 "cells": [
  {
   "cell_type": "markdown",
   "metadata": {},
   "source": [
    "https://confluence.ecmwf.int/display/GRIB/index.py\n",
    "\n",
    "Exaple Grib data\n"
   ]
  },
  {
   "cell_type": "code",
   "execution_count": 3,
   "metadata": {},
   "outputs": [
    {
     "ename": "SyntaxError",
     "evalue": "invalid syntax (<ipython-input-3-f68f3079e7b7>, line 38)",
     "output_type": "error",
     "traceback": [
      "\u001b[1;36m  File \u001b[1;32m\"<ipython-input-3-f68f3079e7b7>\"\u001b[1;36m, line \u001b[1;32m38\u001b[0m\n\u001b[1;33m    print \"%sSize=%d\" % (\u001b[0m\n\u001b[1;37m                    ^\u001b[0m\n\u001b[1;31mSyntaxError\u001b[0m\u001b[1;31m:\u001b[0m invalid syntax\n"
     ]
    }
   ],
   "source": [
    "import traceback\n",
    "import sys,os\n",
    " \n",
    "from gribapi import *\n",
    " \n",
    "INPUT='../../data/index.grib'\n",
    "VERBOSE=1 # verbose error reporting\n",
    " \n",
    "def product(*args, **kwds):\n",
    "    # product('ABCD', 'xy') --> Ax Ay Bx By Cx Cy Dx Dy\n",
    "    # product(range(2), repeat=3) --> 000 001 010 011 100 101 110 111\n",
    "    pools = map(tuple, args) * kwds.get('repeat', 1)\n",
    "    result = [[]]\n",
    "    for pool in pools:\n",
    "        result = [x+[y] for x in result for y in pool]\n",
    "    for prod in result:\n",
    "        yield tuple(prod)\n",
    " \n",
    "def example():\n",
    "    index_keys = [\"shortName\",\"level\",\"number\",\"step\"]\n",
    "    index_file = \"my.idx\"\n",
    " \n",
    "    iid = None\n",
    " \n",
    "    if (os.path.exists(index_file)):\n",
    "        iid = grib_index_read(index_file)\n",
    "    else:\n",
    "        iid = grib_index_new_from_file(INPUT,index_keys)\n",
    " \n",
    "        # multiple files can be added to an index:\n",
    "        # grib_index_add_file(iid,\"grib file to add\")\n",
    " \n",
    "        grib_index_write(iid,index_file)\n",
    " \n",
    "    index_vals = []\n",
    " \n",
    "    for key in index_keys:\n",
    "        print \"%sSize=%d\" % (\n",
    "            key,\n",
    "            grib_index_get_size(iid,key)\n",
    "        )\n",
    " \n",
    "        key_vals = grib_index_get(iid,key)\n",
    "        print \" \".join(key_vals)\n",
    " \n",
    "        index_vals.append(key_vals)\n",
    " \n",
    "    for prod in product(*index_vals):\n",
    "        for i in range(len(index_keys)):\n",
    "            grib_index_select(iid,index_keys[i],prod[i])\n",
    " \n",
    "        while 1:\n",
    "            gid = grib_new_from_index(iid)\n",
    "            if gid is None: break\n",
    "            print \" \".join([\"%s=%s\" % (key,grib_get(gid,key)) for key in index_keys])\n",
    "            grib_release(gid)\n",
    " \n",
    "    grib_index_release(iid)\n",
    "     \n",
    " \n",
    "def main():\n",
    "    try:\n",
    "        example()\n",
    "    except GribInternalError,err:\n",
    "        if VERBOSE:\n",
    "            traceback.print_exc(file=sys.stderr)\n",
    "        else:\n",
    "            print >>sys.stderr,err.msg\n",
    " \n",
    "        return 1\n",
    " \n",
    "if __name__ == \"__main__\":\n",
    "    sys.exit(main())"
   ]
  },
  {
   "cell_type": "markdown",
   "metadata": {},
   "source": [
    "https://github.com/erdc/grib_api/blob/master/examples/python/samples.py"
   ]
  },
  {
   "cell_type": "code",
   "execution_count": 4,
   "metadata": {},
   "outputs": [
    {
     "ename": "SyntaxError",
     "evalue": "invalid syntax (<ipython-input-4-99a12c818c60>, line 64)",
     "output_type": "error",
     "traceback": [
      "\u001b[1;36m  File \u001b[1;32m\"<ipython-input-4-99a12c818c60>\"\u001b[1;36m, line \u001b[1;32m64\u001b[0m\n\u001b[1;33m    except GribInternalError,err:\u001b[0m\n\u001b[1;37m                            ^\u001b[0m\n\u001b[1;31mSyntaxError\u001b[0m\u001b[1;31m:\u001b[0m invalid syntax\n"
     ]
    }
   ],
   "source": [
    "import traceback\n",
    "import sys\n",
    "\n",
    "from gribapi import *\n",
    "\n",
    "INPUT='../../data/tp_ecmwf.grib'\n",
    "OUTPUT='out.grib'\n",
    "VERBOSE=1 # verbose error reporting\n",
    "\n",
    "def example():\n",
    "    sample_id = grib_new_from_samples(\"regular_ll_sfc_grib1\")\n",
    "    fin = open(INPUT)\n",
    "    fout = open(OUTPUT,'w')\n",
    "\n",
    "    keys = {\n",
    "        'dataDate':20080104,\n",
    "        'startStep':0,\n",
    "        'endStep':12,\n",
    "        'stepType':'accum',\n",
    "        'table2Version':2,\n",
    "        'indicatorOfParameter':61,\n",
    "        'decimalPrecision':2,\n",
    "        }\n",
    "\n",
    "    prev_vals = None\n",
    "    while 1:\n",
    "        gid = grib_new_from_file(fin)\n",
    "        if gid is None: break\n",
    "\n",
    "        curr_vals = grib_get_values(gid)\n",
    "\n",
    "        if prev_vals is None:\n",
    "            result = prev_vals = curr_vals\n",
    "        else:\n",
    "            try:\n",
    "                # works with NumPy\n",
    "                result = curr_vals - prev_vals\n",
    "            except TypeError: # but not with array\n",
    "                result = curr_vals\n",
    "                for i in range(len(result)):\n",
    "                    result[i] -= prev_vals[i]\n",
    "\n",
    "            prev_vals = curr_vals\n",
    "            keys['startStep'] += 12\n",
    "            keys['endStep'] += 12\n",
    "\n",
    "        clone_id = grib_clone(sample_id)\n",
    "\n",
    "        for key in keys:\n",
    "            grib_set(clone_id,key,keys[key])\n",
    "\n",
    "        grib_set_values(clone_id,result * 1000)\n",
    "\n",
    "        grib_write(clone_id,fout)\n",
    "\n",
    "        grib_release(gid)\n",
    "\n",
    "    fin.close()\n",
    "    fout.close()\n",
    "\n",
    "def main():\n",
    "    try:\n",
    "        example()\n",
    "    except GribInternalError,err:\n",
    "        if VERBOSE:\n",
    "            traceback.print_exc(file=sys.stderr)\n",
    "        else:\n",
    "            print >>sys.stderr,err.msg\n",
    "\n",
    "        return 1\n",
    "\n",
    "if __name__ == \"__main__\":\n",
    "sys.exit(main())"
   ]
  },
  {
   "cell_type": "markdown",
   "metadata": {},
   "source": [
    "https://gis.stackexchange.com/questions/173775/how-to-extract-specific-information-from-grib-files"
   ]
  },
  {
   "cell_type": "code",
   "execution_count": 5,
   "metadata": {},
   "outputs": [
    {
     "ename": "SyntaxError",
     "evalue": "invalid syntax (<ipython-input-5-7904e0d5c088>, line 59)",
     "output_type": "error",
     "traceback": [
      "\u001b[1;36m  File \u001b[1;32m\"<ipython-input-5-7904e0d5c088>\"\u001b[1;36m, line \u001b[1;32m59\u001b[0m\n\u001b[1;33m    except GribInternalError,err:\u001b[0m\n\u001b[1;37m                            ^\u001b[0m\n\u001b[1;31mSyntaxError\u001b[0m\u001b[1;31m:\u001b[0m invalid syntax\n"
     ]
    }
   ],
   "source": [
    "import traceback\n",
    "import sys\n",
    "\n",
    "# hopefully the only external package I need\n",
    "from gribapi import *\n",
    "\n",
    "# file with all possible 'messages'\n",
    "INPUT = '2015121406_gfs.t06z.pgrb2.0p25.f000'\n",
    "VERBOSE=1 # verbose error reporting\n",
    "\n",
    "def example():\n",
    "    f = open(INPUT)\n",
    "\n",
    "    # location we are interested in\n",
    "    lat, lon = 64.1353, -21.8952\n",
    "\n",
    "    while 1:\n",
    "        # STEP 1:\n",
    "        # open downloaded GRIB2 file\n",
    "        gid = grib_new_from_file(f)\n",
    "        if gid is None: break\n",
    "\n",
    "        # define the iterator (which is throughout the program the same?)\n",
    "        iterid = grib_iterator_new(gid,0)\n",
    "\n",
    "        # get the result for the nearest location\n",
    "        nearest = grib_find_nearest(gid, lat, lon)[0]\n",
    "\n",
    "        while 1:\n",
    "            # STEP 2:\n",
    "            # ???\n",
    "            #\n",
    "            # the loop goes through the whole file\n",
    "            # instead just selecting messages we need beforehand...\n",
    "            # fictional function which selects\n",
    "            # 'TMP' (temperature) on 'surface' messages only\n",
    "            # without need to iterate all of them:\n",
    "            # \n",
    "            # result = grib_select_specific_message(gid, 'TMP', 'surface')\n",
    "\n",
    "            result = grib_iterator_next(iterid)\n",
    "            if not result: break\n",
    "\n",
    "        # STEP 3:\n",
    "        # profit!\n",
    "        # result variable returns numbers which I process in any way I need, yay!\n",
    "\n",
    "        # more undocumented stuff,\n",
    "        # put here just because examples do it the same way\n",
    "        grib_iterator_delete(iterid)\n",
    "        grib_release(gid)\n",
    "\n",
    "    f.close()\n",
    "\n",
    "# main program function\n",
    "def main():\n",
    "    try:\n",
    "        example()\n",
    "    except GribInternalError,err:\n",
    "        if VERBOSE:\n",
    "            traceback.print_exc(file=sys.stderr)\n",
    "        else:\n",
    "            print >>sys.stderr,err.msg\n",
    "\n",
    "        return 1\n",
    "\n",
    "# run the program\n",
    "if __name__ == \"__main__\":\n",
    "    sys.exit(main())"
   ]
  },
  {
   "cell_type": "code",
   "execution_count": 8,
   "metadata": {},
   "outputs": [
    {
     "ename": "IndentationError",
     "evalue": "unexpected indent (<ipython-input-8-b009f56f325a>, line 5)",
     "output_type": "error",
     "traceback": [
      "\u001b[1;36m  File \u001b[1;32m\"<ipython-input-8-b009f56f325a>\"\u001b[1;36m, line \u001b[1;32m5\u001b[0m\n\u001b[1;33m    grbs= pygrib.open(\"../../USTemperatureForecast.grb2\")\u001b[0m\n\u001b[1;37m    ^\u001b[0m\n\u001b[1;31mIndentationError\u001b[0m\u001b[1;31m:\u001b[0m unexpected indent\n"
     ]
    }
   ],
   "source": [
    " import pygrib\n",
    "\n",
    "#     grbs= pygrib.open(\"my_file.grb\")\n",
    "#     grbs= pygrib.open(\"C:\\Users\\Mhdella\\Downloads\\USTemperatureForecast.grb2\")\n",
    "    grbs= pygrib.open(\"../../USTemperatureForecast.grb2\")\n",
    "\n",
    "    # use grbs.select to select the grids you are interested in (shortName, typeOfLevel, level=500, marsParam, dataDate, dataTime, ...)\n",
    "\n",
    "    DATA=np.array(grbs.select(marsParam=my_param,dataDate=my_date,dataTime=my_time))\n",
    "\n",
    "    # DATA will contain 3 arrays\n",
    "    # DATA[0] for values\n",
    "    # DATA[1] for longitudes\n",
    "    # DATA[2] for latitudes\n",
    "\n",
    "    # from the \"values\" array, extract in lon and lat\n",
    "    DATA1=DATA[0].data(lat1=my_y1,lat2=my_y2,lon1=my_x1,lon2=my_x2))"
   ]
  },
  {
   "cell_type": "code",
   "execution_count": 12,
   "metadata": {},
   "outputs": [
    {
     "ename": "ModuleNotFoundError",
     "evalue": "No module named 'pygrib'",
     "output_type": "error",
     "traceback": [
      "\u001b[1;31m---------------------------------------------------------------------------\u001b[0m",
      "\u001b[1;31mModuleNotFoundError\u001b[0m                       Traceback (most recent call last)",
      "\u001b[1;32m<ipython-input-12-0c9a325d19da>\u001b[0m in \u001b[0;36m<module>\u001b[1;34m()\u001b[0m\n\u001b[1;32m----> 1\u001b[1;33m \u001b[1;32mimport\u001b[0m \u001b[0mpygrib\u001b[0m\u001b[1;33m\u001b[0m\u001b[0m\n\u001b[0m\u001b[0;32m      2\u001b[0m \u001b[1;31m# grbs = pygrib.open('sampledata/gfs.grb')\u001b[0m\u001b[1;33m\u001b[0m\u001b[1;33m\u001b[0m\u001b[0m\n",
      "\u001b[1;31mModuleNotFoundError\u001b[0m: No module named 'pygrib'"
     ]
    }
   ],
   "source": [
    "import pygrib\n",
    "# grbs = pygrib.open('sampledata/gfs.grb')"
   ]
  },
  {
   "cell_type": "code",
   "execution_count": null,
   "metadata": {},
   "outputs": [],
   "source": []
  },
  {
   "cell_type": "code",
   "execution_count": null,
   "metadata": {},
   "outputs": [],
   "source": []
  }
 ],
 "metadata": {
  "kernelspec": {
   "display_name": "Python 3",
   "language": "python",
   "name": "python3"
  },
  "language_info": {
   "codemirror_mode": {
    "name": "ipython",
    "version": 3
   },
   "file_extension": ".py",
   "mimetype": "text/x-python",
   "name": "python",
   "nbconvert_exporter": "python",
   "pygments_lexer": "ipython3",
   "version": "3.7.0"
  }
 },
 "nbformat": 4,
 "nbformat_minor": 2
}
