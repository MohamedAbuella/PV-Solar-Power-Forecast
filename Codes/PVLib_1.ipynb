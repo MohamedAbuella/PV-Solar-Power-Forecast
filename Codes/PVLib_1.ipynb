{
 "cells": [
  {
   "cell_type": "markdown",
   "metadata": {},
   "source": [
    "https://github.com/Solcast/howto-pandas\n",
    "\n",
    "# HowTo Solcast - Python, Pandas, MatPlotLib, and PvLib\n",
    "\n",
    "Integrating with pvlib\n",
    "\n",
    "In the file main.py is a minimal set of commands to obtain the following charts. The pvlib library is a powerful open source tool\n",
    "that is used in computing and forecasting photovoltaic solar cell arrays. There are numerous options and details that can be\n",
    "configured, the following example compares pvlib forecasts with Solcast forecasts and how to obtain datasets that can be\n",
    "compared and graphed."
   ]
  },
  {
   "cell_type": "code",
   "execution_count": 7,
   "metadata": {},
   "outputs": [],
   "source": [
    "# This line is only for using the matplotlib\n",
    "import matplotlib.pyplot as plt\n",
    "# from solcast_frames.latlng import LatLng\n",
    "# from solcast_frames.radiationframehandler import RadiationFrameHandler\n",
    "import timeit\n",
    "import pandas as pd\n",
    "import datetime"
   ]
  },
  {
   "cell_type": "code",
   "execution_count": 12,
   "metadata": {},
   "outputs": [
    {
     "name": "stderr",
     "output_type": "stream",
     "text": [
      "C:\\Users\\Mhdella\\Anaconda3\\lib\\site-packages\\pvlib\\forecast.py:21: UserWarning: The forecast module algorithms and features are highly experimental. The API may change, the functionality may be consolidated into an io module, or the module may be separated into its own package.\n",
      "  'The API may change, the functionality may be consolidated into an io ' +\n"
     ]
    }
   ],
   "source": [
    "from pvlib.forecast import GFS, NAM, NDFD, HRRR, RAP\n",
    "# plt.interactive(False) # Turn this off to create plots\n",
    "#\n",
    "# Following code is from http://pvlib-python.readthedocs.io/en/latest/forecasts.html\n",
    "#"
   ]
  },
  {
   "cell_type": "code",
   "execution_count": 15,
   "metadata": {},
   "outputs": [
    {
     "ename": "NameError",
     "evalue": "name 'LatLng' is not defined",
     "output_type": "error",
     "traceback": [
      "\u001b[1;31m---------------------------------------------------------------------------\u001b[0m",
      "\u001b[1;31mNameError\u001b[0m                                 Traceback (most recent call last)",
      "\u001b[1;32m<ipython-input-15-377511cc01ef>\u001b[0m in \u001b[0;36m<module>\u001b[1;34m()\u001b[0m\n\u001b[0;32m      1\u001b[0m \u001b[1;31m# Changing the location pvlib default model uses Tucson for examples\u001b[0m\u001b[1;33m\u001b[0m\u001b[1;33m\u001b[0m\u001b[0m\n\u001b[1;32m----> 2\u001b[1;33m \u001b[0mlocation\u001b[0m \u001b[1;33m=\u001b[0m \u001b[0mLatLng\u001b[0m\u001b[1;33m(\u001b[0m\u001b[0mlat\u001b[0m\u001b[1;33m=\u001b[0m\u001b[1;36m32.2\u001b[0m\u001b[1;33m,\u001b[0m \u001b[0mlng\u001b[0m\u001b[1;33m=\u001b[0m\u001b[1;33m-\u001b[0m\u001b[1;36m110.9\u001b[0m\u001b[1;33m,\u001b[0m \u001b[0mname\u001b[0m\u001b[1;33m=\u001b[0m\u001b[1;34m\"Tucson\"\u001b[0m\u001b[1;33m,\u001b[0m \u001b[0mtag\u001b[0m\u001b[1;33m=\u001b[0m\u001b[1;34m\"Cactus Land\"\u001b[0m\u001b[1;33m,\u001b[0m \u001b[0mtimezone\u001b[0m\u001b[1;33m=\u001b[0m\u001b[1;34m\"US/Arizona\"\u001b[0m\u001b[1;33m)\u001b[0m\u001b[1;33m\u001b[0m\u001b[0m\n\u001b[0m\u001b[0;32m      3\u001b[0m \u001b[0mprint\u001b[0m\u001b[1;33m(\u001b[0m\u001b[0mlocation\u001b[0m\u001b[1;33m.\u001b[0m\u001b[0mdesc\u001b[0m\u001b[1;33m(\u001b[0m\u001b[1;33m)\u001b[0m\u001b[1;33m)\u001b[0m\u001b[1;33m\u001b[0m\u001b[0m\n\u001b[0;32m      4\u001b[0m \u001b[0mstart_time\u001b[0m \u001b[1;33m=\u001b[0m \u001b[0mtimeit\u001b[0m\u001b[1;33m.\u001b[0m\u001b[0mdefault_timer\u001b[0m\u001b[1;33m(\u001b[0m\u001b[1;33m)\u001b[0m\u001b[1;33m\u001b[0m\u001b[0m\n\u001b[0;32m      5\u001b[0m \u001b[0mradiationForecast\u001b[0m \u001b[1;33m=\u001b[0m \u001b[0mRadiationFrameHandler\u001b[0m\u001b[1;33m.\u001b[0m\u001b[0mforecast\u001b[0m\u001b[1;33m(\u001b[0m\u001b[0mlocation\u001b[0m\u001b[1;33m)\u001b[0m\u001b[1;33m\u001b[0m\u001b[0m\n",
      "\u001b[1;31mNameError\u001b[0m: name 'LatLng' is not defined"
     ]
    }
   ],
   "source": [
    "# Changing the location pvlib default model uses Tucson for examples\n",
    "location = LatLng(lat=32.2, lng=-110.9, name=\"Tucson\", tag=\"Cactus Land\", timezone=\"US/Arizona\")\n",
    "print(location.desc())\n",
    "start_time = timeit.default_timer()\n",
    "radiationForecast = RadiationFrameHandler.forecast(location)\n",
    "elapsed = timeit.default_timer() - start_time\n",
    "print(\"Solcast Radiation Forecast Location: %s Time: %s (seconds)\" % (location.name, '%.6f' % elapsed))\n",
    "# specify time range with timezone\n",
    "start = pd.Timestamp(datetime.date.today(), tz=location.timezone)\n",
    "end = start + pd.Timedelta(days=7)\n",
    "start_time = timeit.default_timer()\n",
    "# fx is a common abbreviation for forecast\n",
    "fx_model = GFS() # From Forecast models http://pvlib-python.readthedocs.io/en/latest/api.html#forecast-models\n",
    "fx_data = fx_model.get_processed_data(location.lat, location.lng, start, end)\n",
    "elapsed = timeit.default_timer() - start_time\n",
    "print(\"pvlib (GFS) Radiation Forecast Location: %s Time: %s (seconds)\" % (location.name, '%.6f' % elapsed))\n",
    "plt.plot(fx_data.ghi, label=\"ghi - PVLIB (GFS)\")\n",
    "plt.plot(radiationForecast.ghi, label=\"ghi - Solcast\", linestyle='dashdot')\n",
    "plt.plot(fx_data.dhi, label=\"dhi - PVLIB (GFS)\")\n",
    "plt.plot(radiationForecast.dhi, label=\"dhi - Solcast\", linestyle='dashdot')\n",
    "plt.plot(fx_data.dni, label=\"dni - PVLIB (GFS)\")\n",
    "plt.plot(radiationForecast.dni, label=\"dni - Solcast\", linestyle='dashdot')\n",
    "plt.legend()\n",
    "plt.show()"
   ]
  },
  {
   "cell_type": "code",
   "execution_count": null,
   "metadata": {},
   "outputs": [],
   "source": []
  },
  {
   "cell_type": "code",
   "execution_count": null,
   "metadata": {},
   "outputs": [],
   "source": []
  },
  {
   "cell_type": "code",
   "execution_count": null,
   "metadata": {},
   "outputs": [],
   "source": []
  }
 ],
 "metadata": {
  "kernelspec": {
   "display_name": "Python 3",
   "language": "python",
   "name": "python3"
  },
  "language_info": {
   "codemirror_mode": {
    "name": "ipython",
    "version": 3
   },
   "file_extension": ".py",
   "mimetype": "text/x-python",
   "name": "python",
   "nbconvert_exporter": "python",
   "pygments_lexer": "ipython3",
   "version": "3.7.0"
  }
 },
 "nbformat": 4,
 "nbformat_minor": 2
}
