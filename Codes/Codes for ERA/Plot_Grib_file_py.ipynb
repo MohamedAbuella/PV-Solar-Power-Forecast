{
 "cells": [
  {
   "cell_type": "markdown",
   "metadata": {},
   "source": [
    "https://confluence.ecmwf.int/pages/viewpage.action?pageId=57443489\n",
    "\n",
    " # How to plot GRIB files with Python and matplotlib\n",
    "\n",
    "Created by Karl Hennermann, last modified on Feb 21, 2018\n",
    "\n",
    "Example Python code"
   ]
  },
  {
   "cell_type": "code",
   "execution_count": 2,
   "metadata": {},
   "outputs": [
    {
     "ename": "ModuleNotFoundError",
     "evalue": "No module named 'pygrib'",
     "output_type": "error",
     "traceback": [
      "\u001b[1;31m---------------------------------------------------------------------------\u001b[0m",
      "\u001b[1;31mModuleNotFoundError\u001b[0m                       Traceback (most recent call last)",
      "\u001b[1;32m<ipython-input-2-d83839d7a8bf>\u001b[0m in \u001b[0;36m<module>\u001b[1;34m()\u001b[0m\n\u001b[1;32m----> 1\u001b[1;33m \u001b[1;32mimport\u001b[0m \u001b[0mpygrib\u001b[0m\u001b[1;33m\u001b[0m\u001b[0m\n\u001b[0m\u001b[0;32m      2\u001b[0m \u001b[1;32mimport\u001b[0m \u001b[0mmatplotlib\u001b[0m\u001b[1;33m.\u001b[0m\u001b[0mpyplot\u001b[0m \u001b[1;32mas\u001b[0m \u001b[0mplt\u001b[0m\u001b[1;33m\u001b[0m\u001b[0m\n\u001b[0;32m      3\u001b[0m \u001b[1;32mimport\u001b[0m \u001b[0mmatplotlib\u001b[0m\u001b[1;33m.\u001b[0m\u001b[0mcolors\u001b[0m \u001b[1;32mas\u001b[0m \u001b[0mcolors\u001b[0m\u001b[1;33m\u001b[0m\u001b[0m\n\u001b[0;32m      4\u001b[0m \u001b[1;32mfrom\u001b[0m \u001b[0mmpl_toolkits\u001b[0m\u001b[1;33m.\u001b[0m\u001b[0mbasemap\u001b[0m \u001b[1;32mimport\u001b[0m \u001b[0mBasemap\u001b[0m\u001b[1;33m\u001b[0m\u001b[0m\n\u001b[0;32m      5\u001b[0m \u001b[1;32mfrom\u001b[0m \u001b[0mmpl_toolkits\u001b[0m\u001b[1;33m.\u001b[0m\u001b[0mbasemap\u001b[0m \u001b[1;32mimport\u001b[0m \u001b[0mshiftgrid\u001b[0m\u001b[1;33m\u001b[0m\u001b[0m\n",
      "\u001b[1;31mModuleNotFoundError\u001b[0m: No module named 'pygrib'"
     ]
    }
   ],
   "source": [
    "import pygrib\n",
    "import matplotlib.pyplot as plt\n",
    "import matplotlib.colors as colors\n",
    "from mpl_toolkits.basemap import Basemap\n",
    "from mpl_toolkits.basemap import shiftgrid\n",
    "import numpy as np"
   ]
  },
  {
   "cell_type": "code",
   "execution_count": null,
   "metadata": {},
   "outputs": [],
   "source": [
    "plt.figure(figsize=(12,8))\n",
    " \n",
    "grib = 'cams_aod.grib' # Set the file name of your input GRIB file\n",
    "grbs = pygrib.open(grib)\n",
    " \n",
    "grb = grbs.select()[0]\n",
    "data = grb.values\n",
    " \n",
    "# need to shift data grid longitudes from (0..360) to (-180..180)\n",
    "lons = np.linspace(float(grb['longitudeOfFirstGridPointInDegrees']), \\\n",
    "float(grb['longitudeOfLastGridPointInDegrees']), int(grb['Ni']) )\n",
    "lats = np.linspace(float(grb['latitudeOfFirstGridPointInDegrees']), \\\n",
    "float(grb['latitudeOfLastGridPointInDegrees']), int(grb['Nj']) )\n",
    "data, lons = shiftgrid(180., data, lons, start=False)\n",
    "grid_lon, grid_lat = np.meshgrid(lons, lats) #regularly spaced 2D grid\n",
    " \n",
    "m = Basemap(projection='cyl', llcrnrlon=-180, \\\n",
    "    urcrnrlon=180.,llcrnrlat=lats.min(),urcrnrlat=lats.max(), \\\n",
    "    resolution='c')\n",
    " \n",
    "x, y = m(grid_lon, grid_lat)\n",
    " \n",
    "cs = m.pcolormesh(x,y,data,shading='flat',cmap=plt.cm.gist_stern_r)\n",
    " \n",
    "m.drawcoastlines()\n",
    "m.drawmapboundary()\n",
    "m.drawparallels(np.arange(-90.,120.,30.),labels=[1,0,0,0])\n",
    "m.drawmeridians(np.arange(-180.,180.,60.),labels=[0,0,0,1])\n",
    " \n",
    "plt.colorbar(cs,orientation='vertical', shrink=0.5)\n",
    "plt.title('CAMS AOD forecast') # Set the name of the variable to plot\n",
    "plt.savefig(grib+'.png') # Set the output file name"
   ]
  },
  {
   "cell_type": "code",
   "execution_count": null,
   "metadata": {},
   "outputs": [],
   "source": []
  },
  {
   "cell_type": "code",
   "execution_count": null,
   "metadata": {},
   "outputs": [],
   "source": []
  },
  {
   "cell_type": "code",
   "execution_count": null,
   "metadata": {},
   "outputs": [],
   "source": []
  },
  {
   "cell_type": "code",
   "execution_count": null,
   "metadata": {},
   "outputs": [],
   "source": []
  }
 ],
 "metadata": {
  "kernelspec": {
   "display_name": "Python 3",
   "language": "python",
   "name": "python3"
  },
  "language_info": {
   "codemirror_mode": {
    "name": "ipython",
    "version": 3
   },
   "file_extension": ".py",
   "mimetype": "text/x-python",
   "name": "python",
   "nbconvert_exporter": "python",
   "pygments_lexer": "ipython3",
   "version": "3.7.0"
  }
 },
 "nbformat": 4,
 "nbformat_minor": 2
}
