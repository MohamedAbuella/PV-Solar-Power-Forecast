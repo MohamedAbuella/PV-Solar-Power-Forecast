{
 "cells": [
  {
   "cell_type": "code",
   "execution_count": 3,
   "metadata": {},
   "outputs": [],
   "source": [
    "# install.packages(\"rNOMADS\")\n",
    "library(rNOMADS)"
   ]
  },
  {
   "cell_type": "code",
   "execution_count": 12,
   "metadata": {},
   "outputs": [],
   "source": [
    "system(\"wgrib2\")"
   ]
  },
  {
   "cell_type": "markdown",
   "metadata": {},
   "source": [
    "https://stackoverflow.com/questions/46242134/readgrib-from-rnomads-returning-empty-lists"
   ]
  },
  {
   "cell_type": "markdown",
   "metadata": {},
   "source": [
    "For Linux: https://www.rstudio.com/products/rpackages/devtools/\n",
    "\n",
    "Install r-base-dev(Rtool in window) to help get the dependicies for each package to be installed.\n",
    "\n",
    "https://stackoverflow.com/questions/21631191/issues-in-installing-r-base-dev\n",
    "\n",
    "https://bovineaerospace.wordpress.com/2014/01/24/how-to-install-rnomads-on-linux/\n",
    "\n",
    "https://askubuntu.com/questions/866161/setting-path-variable-in-etc-environment-vs-profile"
   ]
  },
  {
   "cell_type": "markdown",
   "metadata": {},
   "source": [
    "This exapmple code of reading grib2 by ReadGrib from : https://rdrr.io/cran/rNOMADS/man/ReadGrib.html"
   ]
  },
  {
   "cell_type": "code",
   "execution_count": 13,
   "metadata": {},
   "outputs": [
    {
     "name": "stdout",
     "output_type": "stream",
     "text": [
      "[1] \"https://nomads.ncep.noaa.gov/cgi-bin/filter_gfs_0p50.pl?dir=%2Fgfs.2019021906\"\n"
     ]
    }
   ],
   "source": [
    "#Operational Forecast Data Extraction\n",
    "#NCEP output is always in GRIB2 format - this makes things easy for us\n",
    "#An example for the Global Forecast System 0.5 degree model\n",
    "\n",
    "#Get the latest model url\n",
    "## Not run: \n",
    "urls.out <- CrawlModels(abbrev = \"gfs_0p50\", depth = 1)\n",
    "\n",
    "#Get a list of forecasts, variables and levels\n",
    "model.parameters <- ParseModelPage(urls.out[1])\n",
    "\n",
    "#Figure out which one is the 6 hour forecast\n",
    "#provided by the latest model run\n",
    "#(will be the forecast from 6-12 hours from the current date) \n",
    "\n",
    "my.pred <- model.parameters$pred[grep(\"06$\", model.parameters$pred)]\n",
    "\n",
    "#What region of the atmosphere to get data for\n",
    "levels <- c(\"2 m above ground\", \"800 mb\")\n",
    "\n",
    "#What data to return\n",
    "variables <- c(\"TMP\", \"RH\") #Temperature and relative humidity"
   ]
  },
  {
   "cell_type": "code",
   "execution_count": 17,
   "metadata": {},
   "outputs": [],
   "source": [
    "#Get the data\n",
    "model.info <- GribGrab(urls.out[1], my.pred, levels, variables)\n",
    "# model.info\n",
    "# model.info[[1]]\n",
    "# model.info[[1]]$file.name"
   ]
  },
  {
   "cell_type": "code",
   "execution_count": 18,
   "metadata": {},
   "outputs": [
    {
     "name": "stderr",
     "output_type": "stream",
     "text": [
      "Your code contains a unicode char which cannot be displayed in your\n",
      "current locale and R will silently convert it to an escaped form when the\n",
      "R kernel executes this code. This can lead to subtle errors if you use\n",
      "such chars to do comparisons. For more information, please see\n",
      "https://github.com/IRkernel/repr/wiki/Problems-with-unicode-on-windows"
     ]
    }
   ],
   "source": [
    "# ERROR: dependencies ‘rvest’, ‘scrapeR’, ‘RCurl’, ‘XML’, ‘xml2’ are not available for package ‘rNOMADS’\n",
    "library(rNOMADS)"
   ]
  },
  {
   "cell_type": "code",
   "execution_count": 20,
   "metadata": {
    "scrolled": true
   },
   "outputs": [
    {
     "ename": "ERROR",
     "evalue": "Error in system(\"wgrib2\", intern = TRUE): 'wgrib2' not found\n",
     "output_type": "error",
     "traceback": [
      "Error in system(\"wgrib2\", intern = TRUE): 'wgrib2' not found\nTraceback:\n",
      "1. ReadGrib(model.info[[1]]$file.name, levels, variables)",
      "2. tryCatch(system(\"wgrib2\", intern = TRUE))",
      "3. tryCatchList(expr, classes, parentenv, handlers)",
      "4. system(\"wgrib2\", intern = TRUE)"
     ]
    }
   ],
   "source": [
    "#Extract the data\n",
    "model.data <- ReadGrib(model.info[[1]]$file.name, levels, variables)\n",
    "# model.data <- ReadGrib('gfs.t18z.pgrb2full.0p50.f006.grb', levels, variables)"
   ]
  },
  {
   "cell_type": "code",
   "execution_count": 32,
   "metadata": {
    "scrolled": true
   },
   "outputs": [
    {
     "ename": "ERROR",
     "evalue": "Error in diff(model.data$lat): object 'model.data' not found\n",
     "output_type": "error",
     "traceback": [
      "Error in diff(model.data$lat): object 'model.data' not found\nTraceback:\n",
      "1. ModelGrid(model.data, c(0.5, 0.5))",
      "2. diff(model.data$lat)"
     ]
    }
   ],
   "source": [
    "#Reformat it\n",
    "model.grid <- ModelGrid(model.data, c(0.5, 0.5))\n",
    "\n",
    "#Show an image of world temperature at ground level\n",
    "image(model.grid$z[2, 1,,])\n",
    "\n",
    "\n",
    "## End(Not run)"
   ]
  },
  {
   "cell_type": "markdown",
   "metadata": {},
   "source": [
    "https://anaconda.org/conda-forge/wgrib2\n",
    "To install this package with conda run one of the following: (in the anaconda prompt)\n",
    "\n",
    "conda install -c conda-forge wgrib2\n",
    "\n",
    "conda install -c conda-forge/label/cf201901 wgrib2 "
   ]
  },
  {
   "cell_type": "markdown",
   "metadata": {},
   "source": [
    "   https://github.com/dannycbowman/cageo-rnomads"
   ]
  },
  {
   "cell_type": "code",
   "execution_count": null,
   "metadata": {},
   "outputs": [],
   "source": [
    "# urls.out <- CrawlModels(abbrev = \"gfs_0p50\", depth = 2)\n",
    "# levels <- c(\"2 m above ground\", \"800 mb\")\n",
    "# variables <- c(\"TMP\", \"RH\") #Temperature and relative humidity\n",
    "# grib.info <- GribGrab(urls.out[2], my.pred, levels, variables)\n",
    "# ReadGrib(grib.info[[1]]$file.name, variables = variables, levels = levels)"
   ]
  },
  {
   "cell_type": "code",
   "execution_count": null,
   "metadata": {},
   "outputs": [],
   "source": []
  },
  {
   "cell_type": "code",
   "execution_count": null,
   "metadata": {},
   "outputs": [],
   "source": []
  },
  {
   "cell_type": "code",
   "execution_count": null,
   "metadata": {},
   "outputs": [],
   "source": []
  },
  {
   "cell_type": "code",
   "execution_count": null,
   "metadata": {},
   "outputs": [],
   "source": []
  },
  {
   "cell_type": "code",
   "execution_count": null,
   "metadata": {},
   "outputs": [],
   "source": []
  }
 ],
 "metadata": {
  "kernelspec": {
   "display_name": "R",
   "language": "R",
   "name": "ir"
  },
  "language_info": {
   "codemirror_mode": "r",
   "file_extension": ".r",
   "mimetype": "text/x-r-source",
   "name": "R",
   "pygments_lexer": "r",
   "version": "3.5.1"
  }
 },
 "nbformat": 4,
 "nbformat_minor": 2
}
