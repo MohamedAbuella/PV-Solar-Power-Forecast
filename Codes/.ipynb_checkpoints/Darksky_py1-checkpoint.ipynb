{
 "cells": [
  {
   "cell_type": "markdown",
   "metadata": {},
   "source": [
    "https://github.com/ZeevG/python-forecast.io\n",
    "\n",
    "https://darksky.net/dev/docs\n",
    "\n",
    "cloudCover optional\n",
    "The percentage of sky occluded by clouds, between 0 and 1, inclusive."
   ]
  },
  {
   "cell_type": "code",
   "execution_count": 1,
   "metadata": {},
   "outputs": [],
   "source": [
    "import numpy as np\n",
    "import pandas as pd\n",
    "import datetime\n",
    "import forecastio"
   ]
  },
  {
   "cell_type": "markdown",
   "metadata": {},
   "source": [
    "The load_forecast() method has a few optional parameters. Providing your API key, a latitude and longitude are the only required parameters.\n",
    "\n",
    "Use the forecast.DataBlockType() eg. currently(), daily(), hourly(), minutely() methods to load the data you are after.\n",
    "\n",
    "These methods return a DataBlock. Except currently() which returns a DataPoint.\n",
    "\n",
    "Fore example: Sapporo\n",
    "City in Hokkaido, Japan\n",
    "\n",
    "43.0621° N, 141.3544° E"
   ]
  },
  {
   "cell_type": "code",
   "execution_count": 2,
   "metadata": {},
   "outputs": [],
   "source": [
    "api_key = \"4c1d8ffee5fc3ba8762c24c23f084a52\"\n",
    "lat = 43.0621\n",
    "lng = 141.3544"
   ]
  },
  {
   "cell_type": "code",
   "execution_count": 3,
   "metadata": {},
   "outputs": [
    {
     "data": {
      "text/plain": [
       "array([1, 2])"
      ]
     },
     "execution_count": 3,
     "metadata": {},
     "output_type": "execute_result"
    }
   ],
   "source": [
    "start_date = datetime.datetime(2018, 1, 1)\n",
    "start_date\n",
    "\n",
    "end_date=start_date = datetime.datetime(2018, 1, 1)\n",
    "end_date\n",
    "\n",
    "offset=1\n",
    "\n",
    "time= np.arange(1,3)\n",
    "time"
   ]
  },
  {
   "cell_type": "code",
   "execution_count": 4,
   "metadata": {},
   "outputs": [],
   "source": [
    "# forecast = forecastio.load_forecast(api_key, lat, lng)\n",
    "# forecast\n",
    "\n",
    "forecast = forecastio.load_forecast(api_key, lat, lng, time=start_date+datetime.timedelta(offset), units=\"si\")"
   ]
  },
  {
   "cell_type": "code",
   "execution_count": 5,
   "metadata": {},
   "outputs": [
    {
     "data": {
      "text/plain": [
       "<forecastio.models.ForecastioDataBlock at 0x25ac95e0dd8>"
      ]
     },
     "execution_count": 5,
     "metadata": {},
     "output_type": "execute_result"
    }
   ],
   "source": [
    "forecast.hourly()\n",
    "# forecast.data()\n",
    "# forecastio.models.ForecastioDataBlock()"
   ]
  },
  {
   "cell_type": "code",
   "execution_count": 25,
   "metadata": {},
   "outputs": [
    {
     "data": {
      "text/plain": [
       "{'d': {'time': 1514818800,\n",
       "  'summary': 'Mostly Cloudy',\n",
       "  'icon': 'partly-cloudy-night',\n",
       "  'precipIntensity': 0,\n",
       "  'precipProbability': 0,\n",
       "  'temperature': 0.98,\n",
       "  'apparentTemperature': -2.12,\n",
       "  'dewPoint': 0.02,\n",
       "  'humidity': 0.93,\n",
       "  'pressure': 1006.45,\n",
       "  'windSpeed': 2.77,\n",
       "  'windBearing': 105,\n",
       "  'cloudCover': 0.75,\n",
       "  'uvIndex': 0,\n",
       "  'visibility': 10.01},\n",
       " 'time': datetime.datetime(2018, 1, 1, 15, 0),\n",
       " 'utime': 1514818800,\n",
       " 'sunriseTime': None,\n",
       " 'sunsetTime': None}"
      ]
     },
     "execution_count": 25,
     "metadata": {},
     "output_type": "execute_result"
    }
   ],
   "source": [
    "details = forecast.currently()\n",
    "details.__dict__\n",
    "# print(details.precipitation)\n",
    "# print(details.snowfall)\n",
    "# print(details.temperature)"
   ]
  },
  {
   "cell_type": "code",
   "execution_count": 20,
   "metadata": {},
   "outputs": [
    {
     "name": "stdout",
     "output_type": "stream",
     "text": [
      "Foggy in the morning.\n",
      "fog\n"
     ]
    }
   ],
   "source": [
    "byHour = forecast.hourly()\n",
    "# byHour = forecast.currently()\n",
    "print (byHour.summary)\n",
    "print (byHour.icon)\n",
    "# print (byHour.data)"
   ]
  },
  {
   "cell_type": "code",
   "execution_count": 15,
   "metadata": {
    "scrolled": true
   },
   "outputs": [
    {
     "name": "stdout",
     "output_type": "stream",
     "text": [
      "[0.98, 0.99, 1.09, 1.21, 1.09, 0.99, 0.98, 0.88, 0.64, 0.01, 0.81, 0.98, 0.98, 1.99, 3.47, 2.97, 1.99, 1.89, 0.88, 0.01, -0.6, -0.9, -0.9, -1.02]\n"
     ]
    }
   ],
   "source": [
    "# attributes =  [\"temperature\", \"cloudCover\", \"Snowfall\", \"Sun rise\", \"Sun set\", \"humidity\", \"windSpeed\",\"Wind direction\",\n",
    "#               \"Precipitation type\", \"Liquid precipitation rate\"]\n",
    "\n",
    "T_hr=[]\n",
    "# byHour.data[23]=[]\n",
    "for hourlyData in byHour.data:\n",
    "    T_hr.append(hourlyData.temperature)\n",
    "#     T_hr.append(hourlyData.cloudCover)\n",
    "#     T_hr.append(hourlyData.snowfall)\n",
    "print(T_hr)"
   ]
  },
  {
   "cell_type": "code",
   "execution_count": 16,
   "metadata": {},
   "outputs": [
    {
     "name": "stdout",
     "output_type": "stream",
     "text": [
      "<ForecastioDataBlock instance: Foggy in the morning. with 24 ForecastioDataPoints>\n",
      "[]\n",
      "<ForecastioDataPoint instance: Mostly Cloudy at 2018-01-02 14:00:00>\n",
      "-1.02\n",
      "0.75\n",
      "3.6\n",
      "[0.98, 0.99, 1.09, 1.21, 1.09, 0.99, 0.98, 0.88, 0.64, 0.01, 0.81, 0.98, 0.98, 1.99, 3.47, 2.97, 1.99, 1.89, 0.88, 0.01, -0.6, -0.9, -0.9, -1.02]\n"
     ]
    }
   ],
   "source": [
    "byHour.data[23]=[]\n",
    "print(byHour)\n",
    "print(byHour.data[23])\n",
    "print(hourlyData)\n",
    "print(hourlyData.temperature)\n",
    "# print(hourlyData.Snowflal)\n",
    "print(hourlyData.cloudCover)\n",
    "print(hourlyData.windSpeed)\n",
    "print(T_hr)\n",
    "# len(hourlyData.temperature)"
   ]
  },
  {
   "cell_type": "code",
   "execution_count": 17,
   "metadata": {},
   "outputs": [
    {
     "data": {
      "text/html": [
       "<div>\n",
       "<style scoped>\n",
       "    .dataframe tbody tr th:only-of-type {\n",
       "        vertical-align: middle;\n",
       "    }\n",
       "\n",
       "    .dataframe tbody tr th {\n",
       "        vertical-align: top;\n",
       "    }\n",
       "\n",
       "    .dataframe thead th {\n",
       "        text-align: right;\n",
       "    }\n",
       "</style>\n",
       "<table border=\"1\" class=\"dataframe\">\n",
       "  <thead>\n",
       "    <tr style=\"text-align: right;\">\n",
       "      <th></th>\n",
       "      <th>0</th>\n",
       "    </tr>\n",
       "  </thead>\n",
       "  <tbody>\n",
       "    <tr>\n",
       "      <th>count</th>\n",
       "      <td>24.000000</td>\n",
       "    </tr>\n",
       "    <tr>\n",
       "      <th>mean</th>\n",
       "      <td>0.892083</td>\n",
       "    </tr>\n",
       "    <tr>\n",
       "      <th>std</th>\n",
       "      <td>1.113783</td>\n",
       "    </tr>\n",
       "    <tr>\n",
       "      <th>min</th>\n",
       "      <td>-1.020000</td>\n",
       "    </tr>\n",
       "    <tr>\n",
       "      <th>25%</th>\n",
       "      <td>0.482500</td>\n",
       "    </tr>\n",
       "    <tr>\n",
       "      <th>50%</th>\n",
       "      <td>0.980000</td>\n",
       "    </tr>\n",
       "    <tr>\n",
       "      <th>75%</th>\n",
       "      <td>1.120000</td>\n",
       "    </tr>\n",
       "    <tr>\n",
       "      <th>max</th>\n",
       "      <td>3.470000</td>\n",
       "    </tr>\n",
       "  </tbody>\n",
       "</table>\n",
       "</div>"
      ],
      "text/plain": [
       "               0\n",
       "count  24.000000\n",
       "mean    0.892083\n",
       "std     1.113783\n",
       "min    -1.020000\n",
       "25%     0.482500\n",
       "50%     0.980000\n",
       "75%     1.120000\n",
       "max     3.470000"
      ]
     },
     "execution_count": 17,
     "metadata": {},
     "output_type": "execute_result"
    }
   ],
   "source": [
    "df = pd.DataFrame(T_hr)\n",
    "df.describe()\n",
    "# df1 = pd.DataFrame(hourlyData)\n",
    "# df1.head()"
   ]
  },
  {
   "cell_type": "markdown",
   "metadata": {},
   "source": [
    "https://darksky.net/dev/docs\n",
    "\n",
    "cloudCover optional\n",
    "The percentage of sky occluded by clouds, between 0 and 1, inclusive."
   ]
  },
  {
   "cell_type": "code",
   "execution_count": 34,
   "metadata": {},
   "outputs": [
    {
     "data": {
      "text/plain": [
       "array([12, 13, 14, 15, 16, 17, 18, 19, 20, 21, 22, 23, 24])"
      ]
     },
     "execution_count": 34,
     "metadata": {},
     "output_type": "execute_result"
    }
   ],
   "source": [
    "import numpy as np\n",
    "time= np.arange(12, 25, 1)\n",
    "time"
   ]
  },
  {
   "cell_type": "code",
   "execution_count": 35,
   "metadata": {},
   "outputs": [],
   "source": [
    "# example_series = byHour.describe()\n",
    "# example_series = forecast.describe()\n",
    "# print(example_series)\n",
    "# Data = pd.read_excel('Exercise1_DataPython.xlsx')\n",
    "# df = pd.DataFrame('byHour')\n",
    "# df.describe()\n",
    "# byHour.describe()"
   ]
  },
  {
   "cell_type": "code",
   "execution_count": 36,
   "metadata": {},
   "outputs": [
    {
     "name": "stdout",
     "output_type": "stream",
     "text": [
      "[0.98, 0.99, 1.09, 'Nan', 1.09, 0.99, 0.98, 0.88, 0.64, 0.01, 0.81, 0.98, 0.98, 1.99, 3.47, 2.97, 1.99, 1.89, 0.88, 0.01, -0.6, -0.9, -0.9, -1.02]\n"
     ]
    }
   ],
   "source": [
    "T_hr[3]='Nan'\n",
    "print(T_hr)"
   ]
  },
  {
   "cell_type": "code",
   "execution_count": 37,
   "metadata": {},
   "outputs": [
    {
     "name": "stdout",
     "output_type": "stream",
     "text": [
      "range(0, 4)\n"
     ]
    },
    {
     "data": {
      "text/plain": [
       "24"
      ]
     },
     "execution_count": 37,
     "metadata": {},
     "output_type": "execute_result"
    }
   ],
   "source": [
    "d=range(4)\n",
    "d\n",
    "print(d)\n",
    "len(T_hr)"
   ]
  },
  {
   "cell_type": "code",
   "execution_count": 38,
   "metadata": {},
   "outputs": [
    {
     "name": "stdout",
     "output_type": "stream",
     "text": [
      "[0.98, 0.99, 1.09, 'Nan', 1.09, 0.99, 0.98, 0.88, 0.64, 0.01, 0.81, 0.98, 0.98, 1.99, 3.47, 2.97, 1.99, 1.89, 0.88, 0.01, -0.6, -0.9, -0.9, -1.02, [...], [...], [...], [...], [...], [...], [...], [...], [...], [...], [...], [...], [...], [...], [...], [...], [...], [...], [...], [...], [...], [...], [...], [...]]\n"
     ]
    }
   ],
   "source": [
    "Test=T_hr\n",
    "for cnt in range(24):\n",
    "    Test.append(Test)\n",
    "print(Test)"
   ]
  },
  {
   "cell_type": "code",
   "execution_count": 50,
   "metadata": {},
   "outputs": [
    {
     "ename": "ValueError",
     "evalue": "second must be in 0..59",
     "output_type": "error",
     "traceback": [
      "\u001b[1;31m---------------------------------------------------------------------------\u001b[0m",
      "\u001b[1;31mValueError\u001b[0m                                Traceback (most recent call last)",
      "\u001b[1;32m<ipython-input-50-8f229ea595ef>\u001b[0m in \u001b[0;36m<module>\u001b[1;34m()\u001b[0m\n\u001b[1;32m----> 1\u001b[1;33m \u001b[0mcurrent_time\u001b[0m \u001b[1;33m=\u001b[0m \u001b[0mdatetime\u001b[0m\u001b[1;33m.\u001b[0m\u001b[0mdatetime\u001b[0m\u001b[1;33m(\u001b[0m\u001b[1;36m2015\u001b[0m\u001b[1;33m,\u001b[0m \u001b[1;36m2\u001b[0m\u001b[1;33m,\u001b[0m \u001b[1;36m27\u001b[0m\u001b[1;33m,\u001b[0m \u001b[1;36m6\u001b[0m\u001b[1;33m,\u001b[0m \u001b[1;36m0\u001b[0m\u001b[1;33m,\u001b[0m \u001b[1;33m-\u001b[0m\u001b[1;36m2\u001b[0m\u001b[1;33m)\u001b[0m\u001b[1;33m\u001b[0m\u001b[0m\n\u001b[0m\u001b[0;32m      2\u001b[0m \u001b[0mcurrent_time\u001b[0m\u001b[1;33m\u001b[0m\u001b[0m\n",
      "\u001b[1;31mValueError\u001b[0m: second must be in 0..59"
     ]
    }
   ],
   "source": [
    "current_time = datetime.datetime(2015, 2, 27, 6, 0, -2)\n",
    "current_time"
   ]
  },
  {
   "cell_type": "code",
   "execution_count": null,
   "metadata": {},
   "outputs": [],
   "source": []
  },
  {
   "cell_type": "code",
   "execution_count": null,
   "metadata": {},
   "outputs": [],
   "source": []
  },
  {
   "cell_type": "code",
   "execution_count": null,
   "metadata": {},
   "outputs": [],
   "source": []
  },
  {
   "cell_type": "code",
   "execution_count": null,
   "metadata": {},
   "outputs": [],
   "source": []
  }
 ],
 "metadata": {
  "kernelspec": {
   "display_name": "Python 3",
   "language": "python",
   "name": "python3"
  },
  "language_info": {
   "codemirror_mode": {
    "name": "ipython",
    "version": 3
   },
   "file_extension": ".py",
   "mimetype": "text/x-python",
   "name": "python",
   "nbconvert_exporter": "python",
   "pygments_lexer": "ipython3",
   "version": "3.7.0"
  }
 },
 "nbformat": 4,
 "nbformat_minor": 2
}
