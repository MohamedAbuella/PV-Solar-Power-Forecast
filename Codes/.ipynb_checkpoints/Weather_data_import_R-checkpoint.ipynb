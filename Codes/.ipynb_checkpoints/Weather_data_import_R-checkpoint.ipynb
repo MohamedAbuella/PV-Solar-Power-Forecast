{
 "cells": [
  {
   "cell_type": "markdown",
   "metadata": {},
   "source": [
    "In this code the weather data is imported\n",
    "\n",
    "Dear Mohamed Abuella\n",
    "Thank you for your e-mail and your inquires on data access GPV-MSM.\n",
    "JMA provided forecast data freely from the web site of Kyoto University.\n",
    "However, the information on the data is explained in Japanese in the web site.\n",
    "Would you have a contact the following address (glob-atmos@rish.kyoto-u.ac.jp)\n",
    "After Dec 5, 2017, GHI forecasts from GPV-MSM and global model are provided from the database.\n",
    "You can use the  data base freely in the only research field. \n",
    "http://database.rish.kyoto-u.ac.jp/arch/jmadata/gpv-original.html\n",
    "Data base\n",
    "http://database.rish.kyoto-u.ac.jp/arch/jmadata/data/gpv/original/\n",
    "For a commercial use, you can receive the data from the The Japan Meteorological Business Support Center (JMBSC).\n",
    "GPV datasets are not free for a commercial use. \n",
    "http://www.jmbsc.or.jp/en/index-e.html\n",
    "Best regards,\n",
    " Hideaki\n",
    "\n",
    "Hideaki Ohtake\n",
    "Research Center for Photovoltaics\n",
    "National Institute of Advanced Industrial Science and Technology (AIST), JAPAN\n",
    "OSL, Central 2,1-1-1 Umezono, Tsukuba, Ibaraki 305-8568, Japan\n",
    "tel: +81-29-849-1526, fax: +81-29-861-5829\n",
    "\n",
    "================= From Another website: JMA Archive maintained by the Center for Computational Sciences, University of Tsukuba University for academic purposes (not commercial). \n",
    "\n",
    "3.1 How to use the data\n",
    "User registration To use the data described in this manual, usersneed to access the following web site and register. Note thatthe use of the data is allowed for academic purposesonly,and any commercial use is prohibited.http://gpvjma.ccs.hpcc.jp/~gpvjma/\n",
    "\n",
    "3.2 Wgrib and wgrib2 The data provided by theCCS usesthree data formats: the Japanese domestic grid binary (DGRB)as well asGRIB1 and GRIB2. A tool to convert GRIB1andGRIB2 formatted datainto various other data formats is provided onthe following web sites of the National Oceanic and Atmospheric Administrations (NOAA). GRIB1: http://www.cpc.ncep.noaa.gov/products/wesley/wgrib.html   GRIB2: http://www.cpc.ncep.noaa.gov/products/wesley/wgrib2/\n",
    "\n",
    "===== Registerd by mabuella@uncc.edu ==== and tried to get some January 1st 2018 data for coding example, as follows:\n",
    "\n",
    "#Save the following \"wget\" commands and execute them using Linux computer to download the data.\n",
    "#You may need to store your user-id and passwd in .wgetrc file as:\n",
    "http-user=\"user-id\"\n",
    "http-passwd=\"passwd\"\n",
    "\n",
    "\n",
    "wget http://gpvjma.ccs.hpcc.jp/data/gfarm/gpvjma/2018/2018010100/msm_jma/Z__C_RJTD_20180101000000_MSM_GPV_Rjp_L-pall_FH00-15_grib2.bin\n",
    "wget http://gpvjma.ccs.hpcc.jp/data/gfarm/gpvjma/2018/2018010100/msm_jma/Z__C_RJTD_20180101000000_MSM_GPV_Rjp_Lsurf_FH00-15_grib2.bin\n",
    "wget http://gpvjma.ccs.hpcc.jp/data/gfarm/gpvjma/2018/2018010100/msm_jma/Z__C_RJTD_20180101030000_MSM_GPV_Rjp_Lsurf_FH00-15_grib2.bin\n",
    "wget http://gpvjma.ccs.hpcc.jp/data/gfarm/gpvjma/2018/2018010100/msm_jma/Z__C_RJTD_20180101090000_MSM_GPV_Rjp_Lsurf_FH34-39_grib2.bin\n",
    "wget http://gpvjma.ccs.hpcc.jp/data/gfarm/gpvjma/2018/2018010100/msm_jma/Z__C_RJTD_20180101210000_MSM_GPV_Rjp_Lsurf_FH34-39_grib2.bin\n",
    "\n",
    "\n",
    "========= Reading Grib2 files ========\n",
    "\n",
    "Reading grib2 files - General - RStudio Community\n",
    "https://community.rstudio.com/t/reading-grib2-files/5788\n",
    "\n",
    "Mar 3, 2018 - I am new to R programming. I want to get weather forecast data from nomads grib2 files. Its is huge file around 200mb, from that i want to get ...\n",
    "\n",
    "When dealing with grib2 files, we use wgrib2 https://www.cpc.ncep.noaa.gov/products/wesley/wgrib2/ utility to convert to netcdf. there are some tools available in R https://www.r-pkg.org/search.html?q=netcdf to read this type of data. We use netcdf4 for example. \n",
    "\n",
    "rNOMADS has a function ReadGrib that uses wgrib2 utility to convert to csv and get data into R. See the source code https://github.com/cran/rNOMADS/blob/master/R/ReadGrib.R#L48\n",
    "\n",
    "Both solution are good. It depends on performance, data you want to extract from the grib2 file. You have to try what suits you best.\n",
    "\n",
    "----OR----\n",
    "\n",
    "Search Results\n",
    "Web results\n",
    "GitHub - erget/wgrib2: Read and write GRIB2 files\n",
    "https://github.com/erget/wgrib2\n",
    "\n",
    "Read and write GRIB2 files. Contribute to erget/wgrib2 development by creating an account on GitHub.\n",
    "\n",
    "\n",
    "NOTE: Take care of the time of Japane and the UTC that is used in NWP data. (The weather forecasts should be generated not beyond by 6:00pm Japan local time).\n",
    "\n"
   ]
  },
  {
   "cell_type": "code",
   "execution_count": 7,
   "metadata": {},
   "outputs": [],
   "source": [
    "# install.packages(\"rNOMADS\")\n",
    "library(rNOMADS )"
   ]
  },
  {
   "cell_type": "markdown",
   "metadata": {},
   "source": [
    "https://stackoverflow.com/questions/46242134/readgrib-from-rnomads-returning-empty-lists"
   ]
  },
  {
   "cell_type": "code",
   "execution_count": 10,
   "metadata": {},
   "outputs": [
    {
     "name": "stdout",
     "output_type": "stream",
     "text": [
      "[1] \"https://nomads.ncep.noaa.gov/cgi-bin/filter_gfs_0p50.pl?dir=%2Fgfs.2019021718\"\n",
      "[1] \"https://nomads.ncep.noaa.gov/cgi-bin/filter_gfs_0p50.pl?dir=%2Fgfs.2019021712\"\n"
     ]
    },
    {
     "name": "stderr",
     "output_type": "stream",
     "text": [
      "Warning message in download.file(grb.url, paste(local.dir, file.name, sep = \"/\"), :\n",
      "\"cannot open URL 'https://nomads.ncep.noaa.gov/cgi-bin/filter_gfs_0p50.pl?file=NA&lev_2_m_above_ground=on&lev_800_mb=on&var_TMP=on&var_RH=on&dir=%2Fgfs.2019021712': HTTP status was '500 server error'\""
     ]
    },
    {
     "ename": "ERROR",
     "evalue": "Error in download.file(grb.url, paste(local.dir, file.name, sep = \"/\"), : cannot open URL 'https://nomads.ncep.noaa.gov/cgi-bin/filter_gfs_0p50.pl?file=NA&lev_2_m_above_ground=on&lev_800_mb=on&var_TMP=on&var_RH=on&dir=%2Fgfs.2019021712'\n",
     "output_type": "error",
     "traceback": [
      "Error in download.file(grb.url, paste(local.dir, file.name, sep = \"/\"), : cannot open URL 'https://nomads.ncep.noaa.gov/cgi-bin/filter_gfs_0p50.pl?file=NA&lev_2_m_above_ground=on&lev_800_mb=on&var_TMP=on&var_RH=on&dir=%2Fgfs.2019021712'\nTraceback:\n",
      "1. GribGrab(urls.out[2], my.pred, levels, variables)",
      "2. download.file(grb.url, paste(local.dir, file.name, sep = \"/\"), \n .     mode = \"wb\", quiet = !verbose)"
     ]
    }
   ],
   "source": [
    "urls.out <- CrawlModels(abbrev = \"gfs_0p50\", depth = 2)\n",
    "levels <- c(\"2 m above ground\", \"800 mb\")\n",
    "variables <- c(\"TMP\", \"RH\") #Temperature and relative humidity\n",
    "grib.info <- GribGrab(urls.out[2], my.pred, levels, variables)\n",
    "ReadGrib(grib.info[[1]]$file.name, variables = variables, levels = levels)"
   ]
  },
  {
   "cell_type": "code",
   "execution_count": 11,
   "metadata": {},
   "outputs": [
    {
     "ename": "ERROR",
     "evalue": "Error in GribGrab(levels, variables, model.date = model.date, fcst.date = fcst.date, : unused arguments (model.date = model.date, fcst.date = fcst.date)\n",
     "output_type": "error",
     "traceback": [
      "Error in GribGrab(levels, variables, model.date = model.date, fcst.date = fcst.date, : unused arguments (model.date = model.date, fcst.date = fcst.date)\nTraceback:\n"
     ]
    }
   ],
   "source": [
    "#Get the latest model date\n",
    "model.date <- Sys.time()\n",
    "\n",
    "#Get the forecast 6 hours from now - addition is defined in seconds\n",
    "fcst.date <- model.date + 6 * 3600\n",
    "\n",
    "#What region of the atmosphere to get data for\n",
    "#2 meters above the ground and at 800 mb pressure\n",
    "levels <- c(\"2 m above ground\", \"800 mb\")\n",
    "\n",
    "#What data to return\n",
    "variables <- c(\"TMP\", \"RH\") #Temperature and relative humidity\n",
    "\n",
    "#What region of the world to get data for - omit this and you get the whole planet!\n",
    "model.domain <- c(-84, -74, 37, 32) #Get the area around North Carolina, USA\n",
    "\n",
    "file.name <- \"fcst.grb\" #Name of file to save downloaded data to\n",
    "\n",
    "#Get the data\n",
    "GribGrab(levels, variables, model.date = model.date,\n",
    "    fcst.date = fcst.date, model.domain = model.domain, file.name = file.name)\n",
    "\n",
    "#Read the data, only capturing temperature at the 2 m above ground level\n",
    "model.data <- ReadGrib(file.name, c(\"TMP\"), c(\"2 m above ground\"))\n",
    "\n",
    "#Make it into an array\n",
    "model.array <- ModelGrid(model.data, 0.5, 0.5)\n",
    "\n",
    "#Make a contour plot of the temperature around North Carolina, USA:\n",
    "contour(x = model.array$x, y = model.array$y, model.array$z[1,1,,] - 273.15, \n",
    "    xlab = \"Latitude\", ylab = \"Longitude\", \n",
    "   main = paste(\"North Carolina Temperatures for\", \n",
    "   model.array$fcst.date, \"GMT in Celsius\"))"
   ]
  },
  {
   "cell_type": "markdown",
   "metadata": {},
   "source": [
    "https://rdrr.io/cran/rNOMADS/man/ReadGrib.html"
   ]
  },
  {
   "cell_type": "code",
   "execution_count": 12,
   "metadata": {
    "scrolled": true
   },
   "outputs": [
    {
     "name": "stdout",
     "output_type": "stream",
     "text": [
      "[1] \"https://nomads.ncep.noaa.gov/cgi-bin/filter_gfs_0p50.pl?dir=%2Fgfs.2019021718\"\n"
     ]
    },
    {
     "ename": "ERROR",
     "evalue": "Error in system(\"wgrib2\", intern = TRUE): 'wgrib2' not found\n",
     "output_type": "error",
     "traceback": [
      "Error in system(\"wgrib2\", intern = TRUE): 'wgrib2' not found\nTraceback:\n",
      "1. ReadGrib(model.info[[1]]$file.name, levels, variables)",
      "2. tryCatch(system(\"wgrib2\", intern = TRUE))",
      "3. tryCatchList(expr, classes, parentenv, handlers)",
      "4. system(\"wgrib2\", intern = TRUE)"
     ]
    }
   ],
   "source": [
    "#Operational Forecast Data Extraction\n",
    "#NCEP output is always in GRIB2 format - this makes things easy for us\n",
    "#An example for the Global Forecast System 0.5 degree model\n",
    "\n",
    "#Get the latest model url\n",
    "## Not run: \n",
    "urls.out <- CrawlModels(abbrev = \"gfs_0p50\", depth = 1)\n",
    "\n",
    "#Get a list of forecasts, variables and levels\n",
    "model.parameters <- ParseModelPage(urls.out[1])\n",
    "\n",
    "#Figure out which one is the 6 hour forecast\n",
    "#provided by the latest model run\n",
    "#(will be the forecast from 6-12 hours from the current date) \n",
    "\n",
    "my.pred <- model.parameters$pred[grep(\"06$\", model.parameters$pred)]\n",
    "\n",
    "#What region of the atmosphere to get data for\n",
    "levels <- c(\"2 m above ground\", \"800 mb\")\n",
    "\n",
    "#What data to return\n",
    "variables <- c(\"TMP\", \"RH\") #Temperature and relative humidity\n",
    "\n",
    "#Get the data\n",
    "model.info <- GribGrab(urls.out[1], my.pred, levels, variables)\n",
    "\n",
    "#Extract the data\n",
    "model.data <- ReadGrib(model.info[[1]]$file.name, levels, variables)\n",
    "\n",
    "#Reformat it\n",
    "model.grid <- ModelGrid(model.data, c(0.5, 0.5))\n",
    "\n",
    "#Show an image of world temperature at ground level\n",
    "image(model.grid$z[2, 1,,])\n",
    "\n",
    "\n",
    "## End(Not run)"
   ]
  },
  {
   "cell_type": "markdown",
   "metadata": {},
   "source": [
    "https://anaconda.org/conda-forge/wgrib2\n",
    "To install this package with conda run one of the following: (in the anaconda prompt)\n",
    "\n",
    "conda install -c conda-forge wgrib2\n",
    "\n",
    "conda install -c conda-forge/label/cf201901 wgrib2 "
   ]
  },
  {
   "cell_type": "markdown",
   "metadata": {},
   "source": [
    "   https://github.com/dannycbowman/cageo-rnomads"
   ]
  },
  {
   "cell_type": "code",
   "execution_count": null,
   "metadata": {},
   "outputs": [],
   "source": []
  },
  {
   "cell_type": "code",
   "execution_count": null,
   "metadata": {},
   "outputs": [],
   "source": []
  },
  {
   "cell_type": "code",
   "execution_count": null,
   "metadata": {},
   "outputs": [],
   "source": []
  },
  {
   "cell_type": "code",
   "execution_count": null,
   "metadata": {},
   "outputs": [],
   "source": []
  },
  {
   "cell_type": "code",
   "execution_count": null,
   "metadata": {},
   "outputs": [],
   "source": []
  },
  {
   "cell_type": "code",
   "execution_count": null,
   "metadata": {},
   "outputs": [],
   "source": []
  }
 ],
 "metadata": {
  "kernelspec": {
   "display_name": "R",
   "language": "R",
   "name": "ir"
  },
  "language_info": {
   "codemirror_mode": "r",
   "file_extension": ".r",
   "mimetype": "text/x-r-source",
   "name": "R",
   "pygments_lexer": "r",
   "version": "3.5.1"
  }
 },
 "nbformat": 4,
 "nbformat_minor": 2
}
