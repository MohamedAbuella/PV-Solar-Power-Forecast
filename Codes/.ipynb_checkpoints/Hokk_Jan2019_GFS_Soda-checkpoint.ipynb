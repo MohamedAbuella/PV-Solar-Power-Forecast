{
 "cells": [
  {
   "cell_type": "markdown",
   "metadata": {},
   "source": [
    "Read CVSs files of GFS4 data retrieved from SoDsGFS forecasts\n",
    "http://www.soda-pro.com/web-services/meteo-data/gfs-forecasts"
   ]
  },
  {
   "cell_type": "code",
   "execution_count": 3,
   "metadata": {},
   "outputs": [],
   "source": [
    "import pandas as pd\n",
    "import numpy as np\n",
    "import datetime as dt\n",
    "import csv \n",
    "import matplotlib.pyplot as plt\n",
    "import pytz\n",
    "import xgboost as xgb"
   ]
  },
  {
   "cell_type": "code",
   "execution_count": 4,
   "metadata": {},
   "outputs": [
    {
     "data": {
      "text/plain": [
       "'C:\\\\Users\\\\Mhdella\\\\Google Drive\\\\Jupyter Folder\\\\PV_Hokkaido_forecast_contest\\\\pvinhokkaidodatadistribution'"
      ]
     },
     "execution_count": 4,
     "metadata": {},
     "output_type": "execute_result"
    }
   ],
   "source": [
    "import os\n",
    "cwd = os.getcwd()\n",
    "cwd\n",
    "# os.chdir('pvinhokkaidodatadistribution')\n",
    "# C:\\Users\\Mhdella\\Google Drive\\Jupyter Folder\\PV_Hokkaido_forecast_contest\\\n",
    "os.chdir('C:\\\\Users\\\\Mhdella\\\\Google Drive\\\\Jupyter Folder\\\\PV_Hokkaido_forecast_contest\\\\pvinhokkaidodatadistribution')\n",
    "nwd=os.getcwd()\n",
    "nwd"
   ]
  },
  {
   "cell_type": "code",
   "execution_count": 9,
   "metadata": {},
   "outputs": [
    {
     "data": {
      "text/html": [
       "<div>\n",
       "<style scoped>\n",
       "    .dataframe tbody tr th:only-of-type {\n",
       "        vertical-align: middle;\n",
       "    }\n",
       "\n",
       "    .dataframe tbody tr th {\n",
       "        vertical-align: top;\n",
       "    }\n",
       "\n",
       "    .dataframe thead th {\n",
       "        text-align: right;\n",
       "    }\n",
       "</style>\n",
       "<table border=\"1\" class=\"dataframe\">\n",
       "  <thead>\n",
       "    <tr style=\"text-align: right;\">\n",
       "      <th></th>\n",
       "      <th>Date</th>\n",
       "      <th>UT time</th>\n",
       "      <th>Temperature</th>\n",
       "      <th>Relative Humidity</th>\n",
       "      <th>Pressure</th>\n",
       "      <th>Wind speed</th>\n",
       "      <th>Wind direction</th>\n",
       "      <th>Rainfall</th>\n",
       "      <th>Snowfall</th>\n",
       "      <th>Snow depth</th>\n",
       "      <th>Short-wave irradiation</th>\n",
       "    </tr>\n",
       "  </thead>\n",
       "  <tbody>\n",
       "    <tr>\n",
       "      <th>0</th>\n",
       "      <td>1/1/2019</td>\n",
       "      <td>0:30</td>\n",
       "      <td>270.95</td>\n",
       "      <td>62.62</td>\n",
       "      <td>1001.71</td>\n",
       "      <td>1.11</td>\n",
       "      <td>289.63</td>\n",
       "      <td>0.000150</td>\n",
       "      <td>0.000005</td>\n",
       "      <td>0.068333</td>\n",
       "      <td>89.7850</td>\n",
       "    </tr>\n",
       "    <tr>\n",
       "      <th>1</th>\n",
       "      <td>1/1/2019</td>\n",
       "      <td>1:00</td>\n",
       "      <td>271.18</td>\n",
       "      <td>61.33</td>\n",
       "      <td>1001.69</td>\n",
       "      <td>1.38</td>\n",
       "      <td>294.32</td>\n",
       "      <td>0.000090</td>\n",
       "      <td>0.000002</td>\n",
       "      <td>0.066667</td>\n",
       "      <td>117.5877</td>\n",
       "    </tr>\n",
       "    <tr>\n",
       "      <th>2</th>\n",
       "      <td>1/1/2019</td>\n",
       "      <td>1:30</td>\n",
       "      <td>271.41</td>\n",
       "      <td>60.04</td>\n",
       "      <td>1001.67</td>\n",
       "      <td>1.66</td>\n",
       "      <td>297.47</td>\n",
       "      <td>0.000030</td>\n",
       "      <td>0.000001</td>\n",
       "      <td>0.065000</td>\n",
       "      <td>145.0732</td>\n",
       "    </tr>\n",
       "    <tr>\n",
       "      <th>3</th>\n",
       "      <td>1/1/2019</td>\n",
       "      <td>2:00</td>\n",
       "      <td>271.65</td>\n",
       "      <td>58.76</td>\n",
       "      <td>1001.65</td>\n",
       "      <td>1.94</td>\n",
       "      <td>299.70</td>\n",
       "      <td>0.000230</td>\n",
       "      <td>0.000003</td>\n",
       "      <td>0.063333</td>\n",
       "      <td>160.9323</td>\n",
       "    </tr>\n",
       "    <tr>\n",
       "      <th>4</th>\n",
       "      <td>1/1/2019</td>\n",
       "      <td>2:30</td>\n",
       "      <td>271.88</td>\n",
       "      <td>57.47</td>\n",
       "      <td>1001.62</td>\n",
       "      <td>2.22</td>\n",
       "      <td>301.38</td>\n",
       "      <td>0.000694</td>\n",
       "      <td>0.000004</td>\n",
       "      <td>0.061667</td>\n",
       "      <td>162.6078</td>\n",
       "    </tr>\n",
       "  </tbody>\n",
       "</table>\n",
       "</div>"
      ],
      "text/plain": [
       "       Date UT time  Temperature  Relative Humidity  Pressure  Wind speed  \\\n",
       "0  1/1/2019    0:30       270.95              62.62   1001.71        1.11   \n",
       "1  1/1/2019    1:00       271.18              61.33   1001.69        1.38   \n",
       "2  1/1/2019    1:30       271.41              60.04   1001.67        1.66   \n",
       "3  1/1/2019    2:00       271.65              58.76   1001.65        1.94   \n",
       "4  1/1/2019    2:30       271.88              57.47   1001.62        2.22   \n",
       "\n",
       "   Wind direction  Rainfall  Snowfall  Snow depth  Short-wave irradiation  \n",
       "0          289.63  0.000150  0.000005    0.068333                 89.7850  \n",
       "1          294.32  0.000090  0.000002    0.066667                117.5877  \n",
       "2          297.47  0.000030  0.000001    0.065000                145.0732  \n",
       "3          299.70  0.000230  0.000003    0.063333                160.9323  \n",
       "4          301.38  0.000694  0.000004    0.061667                162.6078  "
      ]
     },
     "execution_count": 9,
     "metadata": {},
     "output_type": "execute_result"
    }
   ],
   "source": [
    "file_name='PV_S1_SoDa.csv'\n",
    "\n",
    "df_hok=pd.read_csv(file_name) \n",
    "df_hok.head()\n",
    "# df_hok.tail()"
   ]
  },
  {
   "cell_type": "code",
   "execution_count": 6,
   "metadata": {},
   "outputs": [],
   "source": []
  },
  {
   "cell_type": "code",
   "execution_count": null,
   "metadata": {},
   "outputs": [],
   "source": []
  },
  {
   "cell_type": "code",
   "execution_count": null,
   "metadata": {},
   "outputs": [],
   "source": []
  },
  {
   "cell_type": "code",
   "execution_count": null,
   "metadata": {},
   "outputs": [],
   "source": []
  },
  {
   "cell_type": "code",
   "execution_count": null,
   "metadata": {},
   "outputs": [],
   "source": []
  },
  {
   "cell_type": "code",
   "execution_count": null,
   "metadata": {},
   "outputs": [],
   "source": []
  }
 ],
 "metadata": {
  "kernelspec": {
   "display_name": "Python 3",
   "language": "python",
   "name": "python3"
  },
  "language_info": {
   "codemirror_mode": {
    "name": "ipython",
    "version": 3
   },
   "file_extension": ".py",
   "mimetype": "text/x-python",
   "name": "python",
   "nbconvert_exporter": "python",
   "pygments_lexer": "ipython3",
   "version": "3.7.0"
  }
 },
 "nbformat": 4,
 "nbformat_minor": 2
}
