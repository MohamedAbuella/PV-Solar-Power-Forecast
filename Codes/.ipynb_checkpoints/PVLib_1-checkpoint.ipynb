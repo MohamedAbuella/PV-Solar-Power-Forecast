{
 "cells": [
  {
   "cell_type": "markdown",
   "metadata": {},
   "source": [
    "https://github.com/Solcast/howto-pandas\n",
    "\n",
    "# HowTo Solcast - Python, Pandas, MatPlotLib, and PvLib\n",
    "\n",
    "Integrating with pvlib\n",
    "\n",
    "In the file main.py is a minimal set of commands to obtain the following charts. The pvlib library is a powerful open source tool\n",
    "that is used in computing and forecasting photovoltaic solar cell arrays. There are numerous options and details that can be\n",
    "configured, the following example compares pvlib forecasts with Solcast forecasts and how to obtain datasets that can be\n",
    "compared and graphed."
   ]
  },
  {
   "cell_type": "code",
   "execution_count": 3,
   "metadata": {},
   "outputs": [],
   "source": [
    "# This line is only for using the matplotlib\n",
    "import matplotlib.pyplot as plt\n",
    "# from solcast_frames.latlng import LatLng\n",
    "# from solcast_frames.radiationframehandler import RadiationFrameHandler\n",
    "import timeit\n",
    "import pandas as pd\n",
    "import datetime"
   ]
  },
  {
   "cell_type": "code",
   "execution_count": 8,
   "metadata": {},
   "outputs": [
    {
     "ename": "SyntaxError",
     "evalue": "invalid syntax (<ipython-input-8-af96cfbbf662>, line 1)",
     "output_type": "error",
     "traceback": [
      "\u001b[1;36m  File \u001b[1;32m\"<ipython-input-8-af96cfbbf662>\"\u001b[1;36m, line \u001b[1;32m1\u001b[0m\n\u001b[1;33m    import pvlib forecast models\u001b[0m\n\u001b[1;37m                        ^\u001b[0m\n\u001b[1;31mSyntaxError\u001b[0m\u001b[1;31m:\u001b[0m invalid syntax\n"
     ]
    }
   ],
   "source": [
    "import pvlib forecast models\n",
    "from pvlib.forecast import GFS, NAM, NDFD, HRRR, RAP\n",
    "plt.interactive(False) # Turn this off to create plots\n",
    "#\n",
    "# Following code is from http://pvlib-python.readthedocs.io/en/latest/forecasts.html\n",
    "#"
   ]
  },
  {
   "cell_type": "code",
   "execution_count": 4,
   "metadata": {},
   "outputs": [
    {
     "ename": "ModuleNotFoundError",
     "evalue": "No module named 'pvlib'",
     "output_type": "error",
     "traceback": [
      "\u001b[1;31m---------------------------------------------------------------------------\u001b[0m",
      "\u001b[1;31mModuleNotFoundError\u001b[0m                       Traceback (most recent call last)",
      "\u001b[1;32m<ipython-input-4-7e0f44b1f868>\u001b[0m in \u001b[0;36m<module>\u001b[1;34m()\u001b[0m\n\u001b[0;32m      1\u001b[0m \u001b[1;31m# import pvlib forecast models\u001b[0m\u001b[1;33m\u001b[0m\u001b[1;33m\u001b[0m\u001b[0m\n\u001b[1;32m----> 2\u001b[1;33m \u001b[1;32mfrom\u001b[0m \u001b[0mpvlib\u001b[0m\u001b[1;33m.\u001b[0m\u001b[0mforecast\u001b[0m \u001b[1;32mimport\u001b[0m \u001b[0mGFS\u001b[0m\u001b[1;33m,\u001b[0m \u001b[0mNAM\u001b[0m\u001b[1;33m,\u001b[0m \u001b[0mNDFD\u001b[0m\u001b[1;33m,\u001b[0m \u001b[0mHRRR\u001b[0m\u001b[1;33m,\u001b[0m \u001b[0mRAP\u001b[0m\u001b[1;33m\u001b[0m\u001b[0m\n\u001b[0m\u001b[0;32m      3\u001b[0m \u001b[0mplt\u001b[0m\u001b[1;33m.\u001b[0m\u001b[0minteractive\u001b[0m\u001b[1;33m(\u001b[0m\u001b[1;32mFalse\u001b[0m\u001b[1;33m)\u001b[0m \u001b[1;31m# Turn this off to create plots\u001b[0m\u001b[1;33m\u001b[0m\u001b[0m\n\u001b[0;32m      4\u001b[0m \u001b[1;31m#\u001b[0m\u001b[1;33m\u001b[0m\u001b[1;33m\u001b[0m\u001b[0m\n\u001b[0;32m      5\u001b[0m \u001b[1;31m# Following code is from http://pvlib-python.readthedocs.io/en/latest/forecasts.html\u001b[0m\u001b[1;33m\u001b[0m\u001b[1;33m\u001b[0m\u001b[0m\n",
      "\u001b[1;31mModuleNotFoundError\u001b[0m: No module named 'pvlib'"
     ]
    }
   ],
   "source": [
    "# Changing the location pvlib default model uses Tucson for examples\n",
    "location = LatLng(lat=32.2, lng=-110.9, name=\"Tucson\", tag=\"Cactus Land\", timezone=\"US/Arizona\")\n",
    "print(location.desc())\n",
    "start_time = timeit.default_timer()\n",
    "radiationForecast = RadiationFrameHandler.forecast(location)\n",
    "elapsed = timeit.default_timer() - start_time\n",
    "print(\"Solcast Radiation Forecast Location: %s Time: %s (seconds)\" % (location.name, '%.6f' % elapsed))\n",
    "# specify time range with timezone\n",
    "start = pd.Timestamp(datetime.date.today(), tz=location.timezone)\n",
    "end = start + pd.Timedelta(days=7)\n",
    "start_time = timeit.default_timer()\n",
    "# fx is a common abbreviation for forecast\n",
    "fx_model = GFS() # From Forecast models http://pvlib-python.readthedocs.io/en/latest/api.html#forecast-models\n",
    "fx_data = fx_model.get_processed_data(location.lat, location.lng, start, end)\n",
    "elapsed = timeit.default_timer() - start_time\n",
    "print(\"pvlib (GFS) Radiation Forecast Location: %s Time: %s (seconds)\" % (location.name, '%.6f' % elapsed))\n",
    "plt.plot(fx_data.ghi, label=\"ghi - PVLIB (GFS)\")\n",
    "plt.plot(radiationForecast.ghi, label=\"ghi - Solcast\", linestyle='dashdot')\n",
    "plt.plot(fx_data.dhi, label=\"dhi - PVLIB (GFS)\")\n",
    "plt.plot(radiationForecast.dhi, label=\"dhi - Solcast\", linestyle='dashdot')\n",
    "plt.plot(fx_data.dni, label=\"dni - PVLIB (GFS)\")\n",
    "plt.plot(radiationForecast.dni, label=\"dni - Solcast\", linestyle='dashdot')\n",
    "plt.legend()\n",
    "plt.show()"
   ]
  },
  {
   "cell_type": "code",
   "execution_count": null,
   "metadata": {},
   "outputs": [],
   "source": []
  },
  {
   "cell_type": "code",
   "execution_count": null,
   "metadata": {},
   "outputs": [],
   "source": []
  },
  {
   "cell_type": "code",
   "execution_count": null,
   "metadata": {},
   "outputs": [],
   "source": []
  }
 ],
 "metadata": {
  "kernelspec": {
   "display_name": "Python 3",
   "language": "python",
   "name": "python3"
  },
  "language_info": {
   "codemirror_mode": {
    "name": "ipython",
    "version": 3
   },
   "file_extension": ".py",
   "mimetype": "text/x-python",
   "name": "python",
   "nbconvert_exporter": "python",
   "pygments_lexer": "ipython3",
   "version": "3.7.0"
  }
 },
 "nbformat": 4,
 "nbformat_minor": 2
}
