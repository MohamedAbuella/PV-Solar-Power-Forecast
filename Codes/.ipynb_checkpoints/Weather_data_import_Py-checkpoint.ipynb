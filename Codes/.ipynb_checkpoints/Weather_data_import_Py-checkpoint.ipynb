{
 "cells": [
  {
   "cell_type": "markdown",
   "metadata": {},
   "source": [
    "In this code the weather data is imported\n",
    "\n",
    "Dear Mohamed Abuella\n",
    "Thank you for your e-mail and your inquires on data access GPV-MSM.\n",
    "JMA provided forecast data freely from the web site of Kyoto University.\n",
    "However, the information on the data is explained in Japanese in the web site.\n",
    "Would you have a contact the following address (glob-atmos@rish.kyoto-u.ac.jp)\n",
    "After Dec 5, 2017, GHI forecasts from GPV-MSM and global model are provided from the database.\n",
    "You can use the  data base freely in the only research field. \n",
    "http://database.rish.kyoto-u.ac.jp/arch/jmadata/gpv-original.html\n",
    "Data base\n",
    "http://database.rish.kyoto-u.ac.jp/arch/jmadata/data/gpv/original/\n",
    "For a commercial use, you can receive the data from the The Japan Meteorological Business Support Center (JMBSC).\n",
    "GPV datasets are not free for a commercial use. \n",
    "http://www.jmbsc.or.jp/en/index-e.html\n",
    "Best regards,\n",
    " Hideaki\n",
    "\n",
    "Hideaki Ohtake\n",
    "Research Center for Photovoltaics\n",
    "National Institute of Advanced Industrial Science and Technology (AIST), JAPAN\n",
    "OSL, Central 2,1-1-1 Umezono, Tsukuba, Ibaraki 305-8568, Japan\n",
    "tel: +81-29-849-1526, fax: +81-29-861-5829"
   ]
  },
  {
   "cell_type": "markdown",
   "metadata": {},
   "source": [
    "================= From Another website: JMA Archive maintained by the Center for Computational Sciences, University of Tsukuba University for academic purposes (not commercial). \n",
    "\n",
    "3.1 How to use the data\n",
    "User registration To use the data described in this manual, usersneed to access the following web site and register. Note thatthe use of the data is allowed for academic purposesonly,and any commercial use is prohibited.http://gpvjma.ccs.hpcc.jp/~gpvjma/\n",
    "\n",
    "3.2 Wgrib and wgrib2 The data provided by theCCS usesthree data formats: the Japanese domestic grid binary (DGRB)as well asGRIB1 and GRIB2. A tool to convert GRIB1andGRIB2 formatted datainto various other data formats is provided onthe following web sites of the National Oceanic and Atmospheric Administrations (NOAA). GRIB1: http://www.cpc.ncep.noaa.gov/products/wesley/wgrib.html   GRIB2: http://www.cpc.ncep.noaa.gov/products/wesley/wgrib2/\n",
    "\n",
    "===== Registerd by mabuella@uncc.edu ==== and tried to get some January 1st 2018 data for coding example, as follows:\n",
    "\n",
    "#Save the following \"wget\" commands and execute them using Linux computer to download the data.\n",
    "#You may need to store your user-id and passwd in .wgetrc file as:\n",
    "http-user=\"user-id\"\n",
    "http-passwd=\"passwd\"\n",
    "\n",
    "\n",
    "wget http://gpvjma.ccs.hpcc.jp/data/gfarm/gpvjma/2018/2018010100/msm_jma/Z__C_RJTD_20180101000000_MSM_GPV_Rjp_L-pall_FH00-15_grib2.bin\n",
    "wget http://gpvjma.ccs.hpcc.jp/data/gfarm/gpvjma/2018/2018010100/msm_jma/Z__C_RJTD_20180101000000_MSM_GPV_Rjp_Lsurf_FH00-15_grib2.bin\n",
    "wget http://gpvjma.ccs.hpcc.jp/data/gfarm/gpvjma/2018/2018010100/msm_jma/Z__C_RJTD_20180101030000_MSM_GPV_Rjp_Lsurf_FH00-15_grib2.bin\n",
    "wget http://gpvjma.ccs.hpcc.jp/data/gfarm/gpvjma/2018/2018010100/msm_jma/Z__C_RJTD_20180101090000_MSM_GPV_Rjp_Lsurf_FH34-39_grib2.bin\n",
    "wget http://gpvjma.ccs.hpcc.jp/data/gfarm/gpvjma/2018/2018010100/msm_jma/Z__C_RJTD_20180101210000_MSM_GPV_Rjp_Lsurf_FH34-39_grib2.bin\n"
   ]
  },
  {
   "cell_type": "markdown",
   "metadata": {},
   "source": [
    "========= Reading Grib2 files ========\n",
    "\n",
    "Reading grib2 files - General - RStudio Community\n",
    "https://community.rstudio.com/t/reading-grib2-files/5788\n",
    "\n",
    "Mar 3, 2018 - I am new to R programming. I want to get weather forecast data from nomads grib2 files. Its is huge file around 200mb, from that i want to get ...\n",
    "\n",
    "When dealing with grib2 files, we use wgrib2 https://www.cpc.ncep.noaa.gov/products/wesley/wgrib2/ utility to convert to netcdf. there are some tools available in R https://www.r-pkg.org/search.html?q=netcdf to read this type of data. We use netcdf4 for example. \n",
    "\n",
    "rNOMADS has a function ReadGrib that uses wgrib2 utility to convert to csv and get data into R. See the source code https://github.com/cran/rNOMADS/blob/master/R/ReadGrib.R#L48\n",
    "\n",
    "Both solution are good. It depends on performance, data you want to extract from the grib2 file. You have to try what suits you best.\n",
    "\n",
    "----OR----\n",
    "\n",
    "Search Results\n",
    "Web results\n",
    "GitHub - erget/wgrib2: Read and write GRIB2 files\n",
    "https://github.com/erget/wgrib2\n",
    "\n",
    "Read and write GRIB2 files. Contribute to erget/wgrib2 development by creating an account on GitHub.\n"
   ]
  },
  {
   "cell_type": "markdown",
   "metadata": {},
   "source": [
    "NOTE: Take care of the time of Japane and the UTC that is used in NWP data. (The weather forecasts should be generated not beyond by 6:00pm Japan local time)."
   ]
  },
  {
   "cell_type": "markdown",
   "metadata": {},
   "source": [
    "=======\n",
    "A Python interface to map GRIB files to the NetCDF Common Data Model following the CF Convention using ecCodes\n",
    "\n",
    "\n",
    "https://github.com/ecmwf/cfgrib\n",
    "\n",
    "https://confluence.ecmwf.int/display/CKB/How+to+convert+GRIB+to+CSV   (For a GRIB file using ECMWF)\n",
    "\n",
    "http://unidata.github.io/netcdf4-python/\n",
    "\n",
    "https://sandbox.idre.ucla.edu/sandbox/tutorials/installing-gdal-for-windows\n",
    "\n",
    "https://gis.stackexchange.com/questions/294231/installing-gdal-with-anaconda"
   ]
  },
  {
   "cell_type": "markdown",
   "metadata": {},
   "source": [
    "https://gis.stackexchange.com/questions/289314/using-gdal-to-read-data-from-grib-file-in-python"
   ]
  },
  {
   "cell_type": "code",
   "execution_count": 2,
   "metadata": {},
   "outputs": [
    {
     "ename": "AttributeError",
     "evalue": "'NoneType' object has no attribute 'RasterCount'",
     "output_type": "error",
     "traceback": [
      "\u001b[1;31m---------------------------------------------------------------------------\u001b[0m",
      "\u001b[1;31mAttributeError\u001b[0m                            Traceback (most recent call last)",
      "\u001b[1;32m<ipython-input-2-0619be52b348>\u001b[0m in \u001b[0;36m<module>\u001b[1;34m()\u001b[0m\n\u001b[0;32m      7\u001b[0m \u001b[1;31m# Open file\u001b[0m\u001b[1;33m\u001b[0m\u001b[1;33m\u001b[0m\u001b[0m\n\u001b[0;32m      8\u001b[0m \u001b[0mdataset\u001b[0m \u001b[1;33m=\u001b[0m \u001b[0mgdal\u001b[0m\u001b[1;33m.\u001b[0m\u001b[0mOpen\u001b[0m\u001b[1;33m(\u001b[0m\u001b[1;34m'E:/Downloads/YEUZ98_KWBN_201001011259.grb2'\u001b[0m\u001b[1;33m,\u001b[0m \u001b[0mgdal\u001b[0m\u001b[1;33m.\u001b[0m\u001b[0mGA_ReadOnly\u001b[0m\u001b[1;33m)\u001b[0m\u001b[1;33m\u001b[0m\u001b[0m\n\u001b[1;32m----> 9\u001b[1;33m \u001b[0mmessage_count\u001b[0m \u001b[1;33m=\u001b[0m \u001b[0mdataset\u001b[0m\u001b[1;33m.\u001b[0m\u001b[0mRasterCount\u001b[0m\u001b[1;33m\u001b[0m\u001b[0m\n\u001b[0m\u001b[0;32m     10\u001b[0m \u001b[0mx_size\u001b[0m \u001b[1;33m=\u001b[0m \u001b[0mdataset\u001b[0m\u001b[1;33m.\u001b[0m\u001b[0mRasterXSize\u001b[0m\u001b[1;33m\u001b[0m\u001b[0m\n\u001b[0;32m     11\u001b[0m \u001b[0my_size\u001b[0m \u001b[1;33m=\u001b[0m \u001b[0mdataset\u001b[0m\u001b[1;33m.\u001b[0m\u001b[0mRasterYSize\u001b[0m\u001b[1;33m\u001b[0m\u001b[0m\n",
      "\u001b[1;31mAttributeError\u001b[0m: 'NoneType' object has no attribute 'RasterCount'"
     ]
    }
   ],
   "source": [
    "import gdal\n",
    "import numpy as np\n",
    "import statistics\n",
    "import osr\n",
    "import math\n",
    "\n",
    "# Open file\n",
    "dataset = gdal.Open('E:/Downloads/YEUZ98_KWBN_201001011259.grb2', gdal.GA_ReadOnly)\n",
    "message_count = dataset.RasterCount\n",
    "x_size = dataset.RasterXSize\n",
    "y_size = dataset.RasterYSize\n",
    "\n",
    "# Preparing transformation\n",
    "src_srs = osr.SpatialReference()\n",
    "src_srs.ImportFromWkt(dataset.GetProjection())\n",
    "tgt_srs = osr.SpatialReference()\n",
    "tgt_srs.ImportFromEPSG(4326)\n",
    "transform = osr.CoordinateTransformation(src_srs, tgt_srs)\n",
    "\n",
    "# Parsing for valid data points\n",
    "message = dataset.GetRasterBand(1)\n",
    "data_array = message.ReadAsArray()\n",
    "data_points = []\n",
    "for row in range(y_size):\n",
    "    for col in range(x_size):\n",
    "        temperature = data_array[row][col]\n",
    "        if temperature != message.GetNoDataValue():\n",
    "            lat_long_point = transform.TransformPoint(row, col)\n",
    "            lat = lat_long_point[1]\n",
    "            long = lat_long_point[0]\n",
    "            data_points.append([lat, long, temperature])\n",
    "\n",
    "# Display statistics for temperature\n",
    "temperatures = [data_point[2] for data_point in data_points]\n",
    "print(\"Count: \" + str(len(temperatures)))\n",
    "print(\"Max: \" + str(np.max(temperatures)))\n",
    "print(\"Min: \" + str(np.min(temperatures)))\n",
    "print(\"Mean: \" + str(statistics.mean(temperatures)))\n",
    "print(\"Standard Deviation: \" + str(statistics.stdev(temperatures)))\n",
    "\n",
    "# Show 1/20000 of the data points. Each data point holds a temperature and its corresponding lat/long\n",
    "print(\"\\nData Points:\")\n",
    "for i in range(math.floor(len(data_points) / 20000)):\n",
    "    print(data_points[i * 20000])"
   ]
  },
  {
   "cell_type": "markdown",
   "metadata": {},
   "source": [
    "#test in Anaconda Prompt\n",
    "gdalinfo --version\n",
    "#GDAL 2.3.3, released 2018/12/14"
   ]
  },
  {
   "cell_type": "markdown",
   "metadata": {},
   "source": [
    "http://www.ncl.ucar.edu/Training/Tutorials/SEA2016/index.shtml"
   ]
  },
  {
   "cell_type": "markdown",
   "metadata": {},
   "source": [
    "========  conda-forge / packages / pygrib  ========\n",
    "\n",
    "https://anaconda.org/conda-forge/pygrib\n",
    "\n",
    "\n",
    "conda install\n",
    "Only for Linux and OSX (apple): (no Windows ?!)\n",
    "\n",
    "    linux-64  v2.0.3\n",
    "    osx-64  v2.0.3\n",
    "\n",
    "To install this package with conda run one of the following:\n",
    "\n",
    "conda install -c conda-forge pygrib\n",
    "\n",
    "conda install -c conda-forge/label/gcc7 pygrib\n",
    "\n",
    "conda install -c conda-forge/label/cf201901 pygrib \n",
    "\n",
    "https://stackoverflow.com/questions/35640117/installing-pygrib-package"
   ]
  },
  {
   "cell_type": "code",
   "execution_count": 4,
   "metadata": {},
   "outputs": [
    {
     "ename": "ModuleNotFoundError",
     "evalue": "No module named 'pygrib'",
     "output_type": "error",
     "traceback": [
      "\u001b[1;31m---------------------------------------------------------------------------\u001b[0m",
      "\u001b[1;31mModuleNotFoundError\u001b[0m                       Traceback (most recent call last)",
      "\u001b[1;32m<ipython-input-4-3c8d93a315ed>\u001b[0m in \u001b[0;36m<module>\u001b[1;34m()\u001b[0m\n\u001b[0;32m      1\u001b[0m \u001b[1;31m#http://www.himpactwxlab.com/home/how-to-wiki/write-grib2-data-with-pygrib\u001b[0m\u001b[1;33m\u001b[0m\u001b[1;33m\u001b[0m\u001b[0m\n\u001b[1;32m----> 2\u001b[1;33m \u001b[1;32mimport\u001b[0m \u001b[0mpygrib\u001b[0m\u001b[1;33m\u001b[0m\u001b[0m\n\u001b[0m",
      "\u001b[1;31mModuleNotFoundError\u001b[0m: No module named 'pygrib'"
     ]
    }
   ],
   "source": [
    "#http://www.himpactwxlab.com/home/how-to-wiki/write-grib2-data-with-pygrib\n",
    "import pygrib"
   ]
  },
  {
   "cell_type": "code",
   "execution_count": 3,
   "metadata": {},
   "outputs": [
    {
     "ename": "SyntaxError",
     "evalue": "Missing parentheses in call to 'print'. Did you mean print(g)? (<ipython-input-3-822c9a03fd78>, line 5)",
     "output_type": "error",
     "traceback": [
      "\u001b[1;36m  File \u001b[1;32m\"<ipython-input-3-822c9a03fd78>\"\u001b[1;36m, line \u001b[1;32m5\u001b[0m\n\u001b[1;33m    print g\u001b[0m\n\u001b[1;37m          ^\u001b[0m\n\u001b[1;31mSyntaxError\u001b[0m\u001b[1;31m:\u001b[0m Missing parentheses in call to 'print'. Did you mean print(g)?\n"
     ]
    }
   ],
   "source": [
    "file = 'rap_130_20131206_0500_001.grb2' #example filename\n",
    "gr = pygrib.open(file)\n",
    "#print inventory\n",
    "for g in gr:\n",
    "    print g"
   ]
  },
  {
   "cell_type": "markdown",
   "metadata": {},
   "source": [
    "https://gis.stackexchange.com/questions/92195/getting-time-dimension-from-grib-file\n",
    "\n",
    "https://www.oliversherouse.com/2017/01/03/unix-anaconda-m2.html (Unix through anaconda channel)"
   ]
  },
  {
   "cell_type": "code",
   "execution_count": null,
   "metadata": {},
   "outputs": [],
   "source": []
  },
  {
   "cell_type": "code",
   "execution_count": null,
   "metadata": {},
   "outputs": [],
   "source": []
  },
  {
   "cell_type": "code",
   "execution_count": null,
   "metadata": {},
   "outputs": [],
   "source": []
  },
  {
   "cell_type": "code",
   "execution_count": null,
   "metadata": {},
   "outputs": [],
   "source": []
  },
  {
   "cell_type": "code",
   "execution_count": null,
   "metadata": {},
   "outputs": [],
   "source": []
  }
 ],
 "metadata": {
  "kernelspec": {
   "display_name": "Python 3",
   "language": "python",
   "name": "python3"
  },
  "language_info": {
   "codemirror_mode": {
    "name": "ipython",
    "version": 3
   },
   "file_extension": ".py",
   "mimetype": "text/x-python",
   "name": "python",
   "nbconvert_exporter": "python",
   "pygments_lexer": "ipython3",
   "version": "3.7.0"
  }
 },
 "nbformat": 4,
 "nbformat_minor": 2
}
