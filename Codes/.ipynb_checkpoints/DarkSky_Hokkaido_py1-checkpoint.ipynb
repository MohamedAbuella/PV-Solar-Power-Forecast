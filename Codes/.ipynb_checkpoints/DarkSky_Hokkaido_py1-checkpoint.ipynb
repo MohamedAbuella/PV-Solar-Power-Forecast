{
 "cells": [
  {
   "cell_type": "markdown",
   "metadata": {},
   "source": [
    "https://stackoverflow.com/questions/53186669/is-there-a-free-historic-weather-data-api-with-latitude-longitude-support (Stackoverflow code of Dark Sky)\n",
    "\n",
    "https://stackoverflow.com/questions/3200984/where-can-i-find-historical-raw-weather-data?rq=1  (Stackoverflow question about where can raw weather data be found)\n",
    "\n",
    "https://darksky.net/dev/docs"
   ]
  },
  {
   "cell_type": "markdown",
   "metadata": {},
   "source": [
    "Fore example: Sapporo\n",
    "City in Hokkaido, Japan\n",
    "\n",
    "43.0621° N, 141.3544° E"
   ]
  },
  {
   "cell_type": "markdown",
   "metadata": {},
   "source": [
    "#Caculate the mean of the coordination of PV systems in Hokkaido\n",
    "\n",
    "From file: LD_DETAIL_EN_excel.docx\n",
    "\n",
    "Data 1: Targeted Solar Power Plants \t\t\t\n",
    "\n",
    "S1: lat=42.7169,  lng=141.6920625\n",
    "\n",
    "S2: lat=43.12896,  lng=144.1081429\n",
    "\n",
    "mean(S1,S2):lat=42.90919333, lng=142.8195667\n",
    "\n",
    "Data2: Measurement Locations (Temperature and Global Solar Radiation Values)\n",
    "\n",
    "S1: lat=42.8769, lng=141.54755\n",
    "\n",
    "S2: lat=43.3968, lng=144.15215\n",
    "\n",
    "mean(S1,S2):lat=43.136825, lng=142.84985\n"
   ]
  },
  {
   "cell_type": "code",
   "execution_count": 6,
   "metadata": {},
   "outputs": [],
   "source": [
    "import numpy as np\n",
    "import pandas as pd\n",
    "import datetime\n",
    "import forecastio\n",
    "api_key = \"4c1d8ffee5fc3ba8762c24c23f084a52\"\n",
    "\n",
    "### # Measurement sites\n",
    "##S1\n",
    "lat=42.8769\n",
    "lng=141.5476\n",
    "# ##S2\n",
    "# lat=43.3968\n",
    "# lng=144.1522"
   ]
  },
  {
   "cell_type": "code",
   "execution_count": 7,
   "metadata": {},
   "outputs": [
    {
     "data": {
      "text/plain": [
       "datetime.datetime(2018, 1, 1, 0, 0)"
      ]
     },
     "execution_count": 7,
     "metadata": {},
     "output_type": "execute_result"
    }
   ],
   "source": [
    "#start_date = datetime.datetime(2017, 1, 1)\n",
    "start_date = datetime.datetime(2018, 1, 1)\n",
    "start_date\n",
    "# end_date = datetime.datetime(2018, 1, 3)\n",
    "# end_date"
   ]
  },
  {
   "cell_type": "markdown",
   "metadata": {},
   "source": [
    "https://darksky.net/dev/docs\n",
    "\n",
    "precipType optional\n",
    "\n",
    "The type of precipitation occurring at the given time. If defined, this property will have one of the following values: \"rain\", \"snow\", or \"sleet\" (which refers to each of freezing rain, ice pellets, and “wintery mix”). (If precipIntensity is zero, then this property will not be defined. Additionally, due to the lack of data in our sources, historical precipType information is usually estimated, rather than observed.)\n",
    "\n",
    "So, in timeperods of precipIntensity is not zero, the precipType can be used (in this timeperiod only))."
   ]
  },
  {
   "cell_type": "code",
   "execution_count": 8,
   "metadata": {},
   "outputs": [],
   "source": [
    "# attributes = [\"temperature\", \"humidity\", \"pressure\", \"windSpeed\"]\n",
    "# attributes = [\"temperature\"]\n",
    "\n",
    "attributes =  [\"temperature\", \"cloudCover\", \"precipIntensity\", \"precipType\", \"humidity\", \"windSpeed\"]\n",
    "\n",
    "# attributes =  [\"temperature\", \"cloudCover\", \"precipIntensity\", \"humidity\", \"windSpeed\"]\n",
    "\n",
    "# attributes =  [\"temperature\", \"humidity\"]\n",
    "\n",
    "\n",
    "# attributes =  [\"temperature\", \"cloudCover\", \"humidity\", \"windSpeed\"]\n",
    "\n",
    "# attributes =  [\"temperature\", \"cloudCover\", \"Snowfall\", \"Sun rise\", \"Sun set\", \"humidity\", \"windSpeed\",\"Wind direction\",\n",
    "#               \"Precipitation type\", \"Liquid precipitation rate\"]"
   ]
  },
  {
   "cell_type": "code",
   "execution_count": 9,
   "metadata": {},
   "outputs": [],
   "source": [
    "##### Definition of User-defined Function: getWeather# attributes =  [\"temperature\", \"cloudCover\", \"Snowfall\", \"Sun rise\", \"Sun set\", \"humidity\", \"windSpeed\",\"Wind direction\",\n",
    "#               \"Precipitation type\", \"Liquid precipitation rate\"]Data ######\n",
    "# def getWeatherData(lat, lng, start_date, attributes):\n",
    "def getWeatherData(lat, lng, start_date, end_date, attributes):\n",
    "    \n",
    "    times = []\n",
    "    data = {}\n",
    "\n",
    "    for attr in attributes:\n",
    "        data[attr] = []\n",
    "\n",
    "#     for offset in range(1, 1000):\n",
    "    for offset in range(1, 10):\n",
    "#     for offset in range(1, 365):\n",
    "        forecast = forecastio.load_forecast(api_key, lat, lng, time=start_date+datetime.timedelta(offset), units=\"si\")\n",
    "        h = forecast.hourly()\n",
    "        d = h.data\n",
    "\n",
    "        for p in d:\n",
    "            times.append(p.time)\n",
    "            for attr in attributes:\n",
    "                data[attr].append(p.d[attr])\n",
    "\n",
    "    weather_data = pd.DataFrame(data, index=times)\n",
    "\n",
    "    return weather_data"
   ]
  },
  {
   "cell_type": "code",
   "execution_count": 11,
   "metadata": {},
   "outputs": [],
   "source": [
    "# # forecast.hourly()\n",
    "# print (h.summary)\n",
    "# print (h.icon)"
   ]
  },
  {
   "cell_type": "code",
   "execution_count": 14,
   "metadata": {},
   "outputs": [
    {
     "ename": "KeyError",
     "evalue": "'precipType'",
     "output_type": "error",
     "traceback": [
      "\u001b[1;31m---------------------------------------------------------------------------\u001b[0m",
      "\u001b[1;31mKeyError\u001b[0m                                  Traceback (most recent call last)",
      "\u001b[1;32m<ipython-input-14-cf4ca5e77d32>\u001b[0m in \u001b[0;36m<module>\u001b[1;34m()\u001b[0m\n\u001b[0;32m      1\u001b[0m \u001b[0mend_date\u001b[0m \u001b[1;33m=\u001b[0m \u001b[0mdatetime\u001b[0m\u001b[1;33m.\u001b[0m\u001b[0mdatetime\u001b[0m\u001b[1;33m(\u001b[0m\u001b[1;36m2018\u001b[0m\u001b[1;33m,\u001b[0m \u001b[1;36m12\u001b[0m\u001b[1;33m,\u001b[0m \u001b[1;36m31\u001b[0m\u001b[1;33m)\u001b[0m\u001b[1;33m\u001b[0m\u001b[0m\n\u001b[0;32m      2\u001b[0m \u001b[0mend_date\u001b[0m\u001b[1;33m\u001b[0m\u001b[0m\n\u001b[1;32m----> 3\u001b[1;33m \u001b[0mdf_weath\u001b[0m\u001b[1;33m=\u001b[0m\u001b[0mgetWeatherData\u001b[0m\u001b[1;33m(\u001b[0m\u001b[0mlat\u001b[0m\u001b[1;33m,\u001b[0m \u001b[0mlng\u001b[0m\u001b[1;33m,\u001b[0m \u001b[0mstart_date\u001b[0m\u001b[1;33m,\u001b[0m \u001b[0mend_date\u001b[0m\u001b[1;33m,\u001b[0m \u001b[0mattributes\u001b[0m\u001b[1;33m)\u001b[0m\u001b[1;33m\u001b[0m\u001b[0m\n\u001b[0m",
      "\u001b[1;32m<ipython-input-9-b2409ae930fe>\u001b[0m in \u001b[0;36mgetWeatherData\u001b[1;34m(lat, lng, start_date, end_date, attributes)\u001b[0m\n\u001b[0;32m     20\u001b[0m             \u001b[0mtimes\u001b[0m\u001b[1;33m.\u001b[0m\u001b[0mappend\u001b[0m\u001b[1;33m(\u001b[0m\u001b[0mp\u001b[0m\u001b[1;33m.\u001b[0m\u001b[0mtime\u001b[0m\u001b[1;33m)\u001b[0m\u001b[1;33m\u001b[0m\u001b[0m\n\u001b[0;32m     21\u001b[0m             \u001b[1;32mfor\u001b[0m \u001b[0mattr\u001b[0m \u001b[1;32min\u001b[0m \u001b[0mattributes\u001b[0m\u001b[1;33m:\u001b[0m\u001b[1;33m\u001b[0m\u001b[0m\n\u001b[1;32m---> 22\u001b[1;33m                 \u001b[0mdata\u001b[0m\u001b[1;33m[\u001b[0m\u001b[0mattr\u001b[0m\u001b[1;33m]\u001b[0m\u001b[1;33m.\u001b[0m\u001b[0mappend\u001b[0m\u001b[1;33m(\u001b[0m\u001b[0mp\u001b[0m\u001b[1;33m.\u001b[0m\u001b[0md\u001b[0m\u001b[1;33m[\u001b[0m\u001b[0mattr\u001b[0m\u001b[1;33m]\u001b[0m\u001b[1;33m)\u001b[0m\u001b[1;33m\u001b[0m\u001b[0m\n\u001b[0m\u001b[0;32m     23\u001b[0m \u001b[1;33m\u001b[0m\u001b[0m\n\u001b[0;32m     24\u001b[0m     \u001b[0mweather_data\u001b[0m \u001b[1;33m=\u001b[0m \u001b[0mpd\u001b[0m\u001b[1;33m.\u001b[0m\u001b[0mDataFrame\u001b[0m\u001b[1;33m(\u001b[0m\u001b[0mdata\u001b[0m\u001b[1;33m,\u001b[0m \u001b[0mindex\u001b[0m\u001b[1;33m=\u001b[0m\u001b[0mtimes\u001b[0m\u001b[1;33m)\u001b[0m\u001b[1;33m\u001b[0m\u001b[0m\n",
      "\u001b[1;31mKeyError\u001b[0m: 'precipType'"
     ]
    }
   ],
   "source": [
    "end_date = datetime.datetime(2018, 12, 31)\n",
    "end_date\n",
    "df_weath=getWeatherData(lat, lng, start_date, end_date, attributes)"
   ]
  },
  {
   "cell_type": "code",
   "execution_count": 13,
   "metadata": {},
   "outputs": [
    {
     "ename": "NameError",
     "evalue": "name 'offset' is not defined",
     "output_type": "error",
     "traceback": [
      "\u001b[1;31m---------------------------------------------------------------------------\u001b[0m",
      "\u001b[1;31mNameError\u001b[0m                                 Traceback (most recent call last)",
      "\u001b[1;32m<ipython-input-13-2e5f1ed407ba>\u001b[0m in \u001b[0;36m<module>\u001b[1;34m()\u001b[0m\n\u001b[1;32m----> 1\u001b[1;33m \u001b[0moffset\u001b[0m\u001b[1;33m\u001b[0m\u001b[0m\n\u001b[0m\u001b[0;32m      2\u001b[0m \u001b[0mdf_weath\u001b[0m\u001b[1;33m.\u001b[0m\u001b[0mhead\u001b[0m\u001b[1;33m(\u001b[0m\u001b[1;33m)\u001b[0m\u001b[1;33m\u001b[0m\u001b[0m\n",
      "\u001b[1;31mNameError\u001b[0m: name 'offset' is not defined"
     ]
    }
   ],
   "source": [
    "# offset\n",
    "df_weath.head()"
   ]
  },
  {
   "cell_type": "code",
   "execution_count": null,
   "metadata": {},
   "outputs": [],
   "source": [
    "df_weath.describe()\n",
    "# print(df_weath)"
   ]
  },
  {
   "cell_type": "code",
   "execution_count": null,
   "metadata": {},
   "outputs": [],
   "source": [
    "# https://stackoverflow.com/questions/16923281/pandas-writing-dataframe-to-csv-file\n",
    "\n",
    "# df_weath.to_csv('S1_mes_weather.csv', sep='\\t')\n",
    "# df_weath.to_csv('S1_mes_weather2.csv', sep='\\t', encoding='utf-8')\n",
    "hder={}\n",
    "# hder =[\"Date_Time\"]+attributes\n",
    "hder = attributes\n",
    "# hder.insert(0,\"Date_Time\")\n",
    "hder\n",
    "df_weath.to_csv('S1_mes_weather.csv', columns = hder)"
   ]
  },
  {
   "cell_type": "code",
   "execution_count": null,
   "metadata": {},
   "outputs": [],
   "source": [
    "attributes\n",
    "hder"
   ]
  },
  {
   "cell_type": "code",
   "execution_count": null,
   "metadata": {},
   "outputs": [],
   "source": [
    "end_date\n"
   ]
  },
  {
   "cell_type": "code",
   "execution_count": null,
   "metadata": {},
   "outputs": [],
   "source": []
  },
  {
   "cell_type": "code",
   "execution_count": null,
   "metadata": {},
   "outputs": [],
   "source": []
  }
 ],
 "metadata": {
  "kernelspec": {
   "display_name": "Python 3",
   "language": "python",
   "name": "python3"
  },
  "language_info": {
   "codemirror_mode": {
    "name": "ipython",
    "version": 3
   },
   "file_extension": ".py",
   "mimetype": "text/x-python",
   "name": "python",
   "nbconvert_exporter": "python",
   "pygments_lexer": "ipython3",
   "version": "3.7.0"
  }
 },
 "nbformat": 4,
 "nbformat_minor": 2
}
