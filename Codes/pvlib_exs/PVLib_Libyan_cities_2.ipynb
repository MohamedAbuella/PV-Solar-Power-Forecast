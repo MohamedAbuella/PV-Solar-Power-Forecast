{
 "cells": [
  {
   "cell_type": "code",
   "execution_count": 1,
   "metadata": {},
   "outputs": [],
   "source": [
    "In [1]: import pandas as pd\n",
    "In [2]: import matplotlib.pyplot as plt\n",
    "\n",
    "In [3]: naive_times = pd.DatetimeIndex(start='2017', end='2018', freq='1h')\n",
    "\n",
    "# very approximate\n",
    "# latitude, longitude, name, altitude, timezone\n",
    "coordinates = [(30, -110, 'Tucson', 700, 'Etc/GMT+7'),\n",
    "(30, 10, 'Ghadames', 330, 'Etc/GMT-2'),\n",
    "(32, 15, 'Misurata', 10, 'Etc/GMT-2'),\n",
    "(33, 13, 'Tripoli', 33, 'Etc/GMT-2'),\n",
    "(43, 141, 'Sapporo', 10, 'Etc/GMT-9'),\n",
    "(50, 10, 'Berlin', 34, 'Etc/GMT-1'),\n",
    "(-24, 69, 'Atacama', 2400, 'Etc/GMT-1')]\n",
    "\n",
    "In [5]: import pvlib\n",
    "\n",
    "# get the module and inverter specifications from SAM\n",
    "In [6]: sandia_modules = pvlib.pvsystem.retrieve_sam('SandiaMod')\n",
    "\n",
    "In [7]: sapm_inverters = pvlib.pvsystem.retrieve_sam('cecinverter')\n",
    "\n",
    "In [8]: module = sandia_modules['Canadian_Solar_CS5P_220M___2009_']\n",
    "\n",
    "In [9]: inverter = sapm_inverters['ABB__MICRO_0_25_I_OUTD_US_208_208V__CEC_2014_']\n",
    "\n",
    "# specify constant ambient air temp and wind for simplicity\n",
    "In [10]: temp_air = 20\n",
    "\n",
    "In [11]: wind_speed = 0"
   ]
  },
  {
   "cell_type": "code",
   "execution_count": 2,
   "metadata": {},
   "outputs": [],
   "source": [
    "In [12]: system = {'module': module, 'inverter': inverter,\n",
    "   ....:           'surface_azimuth': 180}\n",
    "    "
   ]
  },
  {
   "cell_type": "code",
   "execution_count": 3,
   "metadata": {},
   "outputs": [
    {
     "name": "stderr",
     "output_type": "stream",
     "text": [
      "C:\\Users\\Mhdella\\Anaconda3\\lib\\site-packages\\pvlib\\pvsystem.py:1917: RuntimeWarning: invalid value encountered in maximum\n",
      "  spectral_loss = np.maximum(0, np.polyval(am_coeff, airmass_absolute))\n"
     ]
    }
   ],
   "source": [
    "In [13]: energies = {}\n",
    "\n",
    "In [14]: for latitude, longitude, name, altitude, timezone in coordinates:\n",
    "   ....:     times = naive_times.tz_localize(timezone)\n",
    "   ....:     system['surface_tilt'] = latitude\n",
    "   ....:     solpos = pvlib.solarposition.get_solarposition(times, latitude, longitude)\n",
    "   ....:     dni_extra = pvlib.irradiance.get_extra_radiation(times)\n",
    "   ....:     airmass = pvlib.atmosphere.get_relative_airmass(solpos['apparent_zenith'])\n",
    "   ....:     pressure = pvlib.atmosphere.alt2pres(altitude)\n",
    "   ....:     am_abs = pvlib.atmosphere.get_absolute_airmass(airmass, pressure)\n",
    "   ....:     tl = pvlib.clearsky.lookup_linke_turbidity(times, latitude, longitude)\n",
    "   ....:     cs = pvlib.clearsky.ineichen(solpos['apparent_zenith'], am_abs, tl,\n",
    "   ....:                                  dni_extra=dni_extra, altitude=altitude)\n",
    "   ....:     aoi = pvlib.irradiance.aoi(system['surface_tilt'], system['surface_azimuth'],\n",
    "   ....:                                solpos['apparent_zenith'], solpos['azimuth'])\n",
    "   ....:     total_irrad = pvlib.irradiance.get_total_irradiance(system['surface_tilt'],\n",
    "   ....:                                                         system['surface_azimuth'],\n",
    "   ....:                                                         solpos['apparent_zenith'],\n",
    "   ....:                                                         solpos['azimuth'],\n",
    "   ....:                                                         cs['dni'], cs['ghi'], cs['dhi'],\n",
    "   ....:                                                         dni_extra=dni_extra,\n",
    "   ....:                                                         model='haydavies')\n",
    "   ....:     temps = pvlib.pvsystem.sapm_celltemp(total_irrad['poa_global'],\n",
    "   ....:                                          wind_speed, temp_air)\n",
    "   ....:     effective_irradiance = pvlib.pvsystem.sapm_effective_irradiance(\n",
    "   ....:         total_irrad['poa_direct'], total_irrad['poa_diffuse'],\n",
    "   ....:         am_abs, aoi, module)\n",
    "   ....:     dc = pvlib.pvsystem.sapm(effective_irradiance, temps['temp_cell'], module)\n",
    "   ....:     ac = pvlib.pvsystem.snlinverter(dc['v_mp'], dc['p_mp'], inverter)\n",
    "   ....:     annual_energy = ac.sum()\n",
    "   ....:     energies[name] = annual_energy\n",
    "   ....: "
   ]
  },
  {
   "cell_type": "code",
   "execution_count": 4,
   "metadata": {},
   "outputs": [
    {
     "name": "stdout",
     "output_type": "stream",
     "text": [
      "Tucson      467728.0\n",
      "Ghadames    462124.0\n",
      "Misurata    462426.0\n",
      "Tripoli     464865.0\n",
      "Sapporo     476523.0\n",
      "Berlin      383558.0\n",
      "Atacama     540683.0\n",
      "dtype: float64\n"
     ]
    }
   ],
   "source": [
    "In [15]: energies = pd.Series(energies)\n",
    "\n",
    "# based on the parameters specified above, these are in W*hrs\n",
    "In [16]: print(energies.round(0))"
   ]
  },
  {
   "cell_type": "code",
   "execution_count": 5,
   "metadata": {},
   "outputs": [
    {
     "data": {
      "text/plain": [
       "Text(0,0.5,'Yearly energy yield (W hr)')"
      ]
     },
     "execution_count": 5,
     "metadata": {},
     "output_type": "execute_result"
    },
    {
     "data": {
      "image/png": "[encoded data removed]",
      "text/plain": [
       "<Figure size 432x288 with 1 Axes>"
      ]
     },
     "metadata": {
      "needs_background": "light"
     },
     "output_type": "display_data"
    }
   ],
   "source": [
    "In [17]: energies.plot(kind='bar', rot=0)\n",
    "\n",
    "In [18]: plt.ylabel('Yearly energy yield (W hr)')\n"
   ]
  },
  {
   "cell_type": "code",
   "execution_count": null,
   "metadata": {},
   "outputs": [],
   "source": []
  },
  {
   "cell_type": "code",
   "execution_count": null,
   "metadata": {},
   "outputs": [],
   "source": []
  }
 ],
 "metadata": {
  "kernelspec": {
   "display_name": "Python 3",
   "language": "python",
   "name": "python3"
  },
  "language_info": {
   "codemirror_mode": {
    "name": "ipython",
    "version": 3
   },
   "file_extension": ".py",
   "mimetype": "text/x-python",
   "name": "python",
   "nbconvert_exporter": "python",
   "pygments_lexer": "ipython3",
   "version": "3.7.0"
  }
 },
 "nbformat": 4,
 "nbformat_minor": 2
}
