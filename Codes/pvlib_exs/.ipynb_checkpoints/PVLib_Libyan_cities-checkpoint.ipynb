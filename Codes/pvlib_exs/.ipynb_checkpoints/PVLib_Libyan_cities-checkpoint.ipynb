{
 "cells": [
  {
   "cell_type": "markdown",
   "metadata": {},
   "source": [
    "https://pvlib-python.readthedocs.io/en/latest/introexamples.html\n",
    "# Intro Examples\n",
    "\n",
    "This page contains introductory examples of pvlib python usage.\n",
    "Modeling paradigms\n",
    "\n",
    "The backbone of pvlib-python is well-tested procedural code that implements PV system models. pvlib-python also provides a collection of classes for users that prefer object-oriented programming. These classes can help users keep track of data in a more organized way, provide some “smart” functions with more flexible inputs, and simplify the modeling process for common situations. The classes do not add any algorithms beyond what’s available in the procedural code, and most of the object methods are simple wrappers around the corresponding procedural code.\n",
    "\n",
    "Let’s use each of these pvlib modeling paradigms to calculate the yearly energy yield for a given hardware configuration at a handful of sites listed below."
   ]
  },
  {
   "cell_type": "code",
   "execution_count": 2,
   "metadata": {},
   "outputs": [],
   "source": [
    "import pandas as pd\n",
    "import matplotlib.pyplot as plt\n",
    "import pvlib"
   ]
  },
  {
   "cell_type": "code",
   "execution_count": 10,
   "metadata": {},
   "outputs": [],
   "source": [
    "naive_times = pd.DatetimeIndex(start='2015', end='2016', freq='1h')\n",
    "# naive_times = pd.DatetimeIndex(start='2017', end='2018', freq='1h')\n",
    "# very approximate\n",
    "# latitude, longitude, name, altitude, timezone\n",
    "coordinates = [(30, -110, 'Tucson', 700, 'Etc/GMT+7'),\n",
    "(30, 10, 'Ghadames', 330, 'Etc/GMT-2'),\n",
    "(32, 15, 'Misurata', 10, 'Etc/GMT-2'),\n",
    "(33, 13, 'Tripoli', 10, 'Etc/GMT-2'),\n",
    "(43, 141, 'Sapporo', 10, 'Etc/GMT=9'),\n",
    "(50, 10, 'Berlin', 34, 'Etc/GMT-1')]\n",
    "\n",
    "# get the module and inverter specifications from SAM\n",
    "sandia_modules = pvlib.pvsystem.retrieve_sam('SandiaMod')\n",
    "sapm_inverters = pvlib.pvsystem.retrieve_sam('cecinverter')\n",
    "module = sandia_modules['Canadian_Solar_CS5P_220M___2009_']\n",
    "inverter = sapm_inverters['ABB__MICRO_0_25_I_OUTD_US_208_208V__CEC_2014_']\n",
    "\n",
    "# specify constant ambient air temp and wind for simplicity\n",
    "temp_air = 20\n",
    "wind_speed = 0"
   ]
  },
  {
   "cell_type": "code",
   "execution_count": 11,
   "metadata": {},
   "outputs": [],
   "source": [
    "system = {'module': module, 'inverter': inverter,\n",
    "'surface_azimuth': 180}\n",
    "energies = {}"
   ]
  },
  {
   "cell_type": "code",
   "execution_count": 12,
   "metadata": {},
   "outputs": [
    {
     "ename": "NameError",
     "evalue": "name 'times' is not defined",
     "output_type": "error",
     "traceback": [
      "\u001b[1;31m---------------------------------------------------------------------------\u001b[0m",
      "\u001b[1;31mNameError\u001b[0m                                 Traceback (most recent call last)",
      "\u001b[1;32m<ipython-input-12-97a1827d3499>\u001b[0m in \u001b[0;36m<module>\u001b[1;34m()\u001b[0m\n\u001b[0;32m      1\u001b[0m \u001b[1;32mfor\u001b[0m \u001b[0mlatitude\u001b[0m\u001b[1;33m,\u001b[0m \u001b[0mlongitude\u001b[0m\u001b[1;33m,\u001b[0m \u001b[0mname\u001b[0m\u001b[1;33m,\u001b[0m \u001b[0maltitude\u001b[0m\u001b[1;33m,\u001b[0m \u001b[0mtimezone\u001b[0m \u001b[1;32min\u001b[0m \u001b[0mcoordinates\u001b[0m\u001b[1;33m:\u001b[0m\u001b[1;33m\u001b[0m\u001b[0m\n\u001b[1;32m----> 2\u001b[1;33m     \u001b[0msolpos\u001b[0m \u001b[1;33m=\u001b[0m \u001b[0mpvlib\u001b[0m\u001b[1;33m.\u001b[0m\u001b[0msolarposition\u001b[0m\u001b[1;33m.\u001b[0m\u001b[0mget_solarposition\u001b[0m\u001b[1;33m(\u001b[0m\u001b[0mtimes\u001b[0m\u001b[1;33m,\u001b[0m \u001b[0mlatitude\u001b[0m\u001b[1;33m,\u001b[0m \u001b[0mlongitude\u001b[0m\u001b[1;33m)\u001b[0m\u001b[1;33m\u001b[0m\u001b[0m\n\u001b[0m\u001b[0;32m      3\u001b[0m     \u001b[0mdni_extra\u001b[0m \u001b[1;33m=\u001b[0m \u001b[0mpvlib\u001b[0m\u001b[1;33m.\u001b[0m\u001b[0mirradiance\u001b[0m\u001b[1;33m.\u001b[0m\u001b[0mget_extra_radiation\u001b[0m\u001b[1;33m(\u001b[0m\u001b[0mtimes\u001b[0m\u001b[1;33m)\u001b[0m\u001b[1;33m\u001b[0m\u001b[0m\n\u001b[0;32m      4\u001b[0m     \u001b[0mairmass\u001b[0m \u001b[1;33m=\u001b[0m \u001b[0mpvlib\u001b[0m\u001b[1;33m.\u001b[0m\u001b[0matmosphere\u001b[0m\u001b[1;33m.\u001b[0m\u001b[0mget_relative_airmass\u001b[0m\u001b[1;33m(\u001b[0m\u001b[0msolpos\u001b[0m\u001b[1;33m[\u001b[0m\u001b[1;34m'apparent_zenith'\u001b[0m\u001b[1;33m]\u001b[0m\u001b[1;33m)\u001b[0m\u001b[1;33m\u001b[0m\u001b[0m\n\u001b[0;32m      5\u001b[0m     \u001b[0mpressure\u001b[0m \u001b[1;33m=\u001b[0m \u001b[0mpvlib\u001b[0m\u001b[1;33m.\u001b[0m\u001b[0matmosphere\u001b[0m\u001b[1;33m.\u001b[0m\u001b[0malt2pres\u001b[0m\u001b[1;33m(\u001b[0m\u001b[0maltitude\u001b[0m\u001b[1;33m)\u001b[0m\u001b[1;33m\u001b[0m\u001b[0m\n",
      "\u001b[1;31mNameError\u001b[0m: name 'times' is not defined"
     ]
    }
   ],
   "source": [
    "In [14]: for latitude, longitude, name, altitude, timezone in coordinates:\n",
    "   ....:     solpos = pvlib.solarposition.get_solarposition(times, latitude, longitude)\n",
    "   ....:     dni_extra = pvlib.irradiance.get_extra_radiation(times)\n",
    "   ....:     airmass = pvlib.atmosphere.get_relative_airmass(solpos['apparent_zenith'])\n",
    "   ....:     pressure = pvlib.atmosphere.alt2pres(altitude)\n",
    "   ....:     am_abs = pvlib.atmosphere.get_absolute_airmass(airmass, pressure)\n",
    "   ....:     tl = pvlib.clearsky.lookup_linke_turbidity(times, latitude, longitude)\n",
    "   ....:     cs = pvlib.clearsky.ineichen(solpos['apparent_zenith'], am_abs, tl,\n",
    "   ....:                                  dni_extra=dni_extra, altitude=altitude)\n",
    "   ....:     aoi = pvlib.irradiance.aoi(system['surface_tilt'], system['surface_azimuth'],\n",
    "   ....:                                solpos['apparent_zenith'], solpos['azimuth'])\n",
    "   ....:     total_irrad = pvlib.irradiance.get_total_irradiance(system['surface_tilt'],\n",
    "   ....:                                                         system['surface_azimuth'],\n",
    "   ....:                                                         solpos['apparent_zenith'],\n",
    "   ....:                                                         solpos['azimuth'],\n",
    "   ....:                                                         cs['dni'], cs['ghi'], cs['dhi'],\n",
    "   ....:                                                         dni_extra=dni_extra,\n",
    "   ....:                                                         model='haydavies')\n",
    "   ....:     temps = pvlib.pvsystem.sapm_celltemp(total_irrad['poa_global'],\n",
    "   ....:                                          wind_speed, temp_air)\n",
    "   ....:     effective_irradiance = pvlib.pvsystem.sapm_effective_irradiance(\n",
    "   ....:         total_irrad['poa_direct'], total_irrad['poa_diffuse'],\n",
    "   ....:         am_abs, aoi, module)\n",
    "   ....:     dc = pvlib.pvsystem.sapm(effective_irradiance, temps['temp_cell'], module)\n",
    "   ....:     ac = pvlib.pvsystem.snlinverter(dc['v_mp'], dc['p_mp'], inverter)\n",
    "   ....:     annual_energy = ac.sum()\n",
    "   ....:     energies[name] = annual_energy"
   ]
  },
  {
   "cell_type": "code",
   "execution_count": 14,
   "metadata": {},
   "outputs": [
    {
     "name": "stdout",
     "output_type": "stream",
     "text": [
      "Tucson           443008.0\n",
      "Albuquerque      485171.0\n",
      "San Francisco    432844.0\n",
      "Berlin           383547.0\n",
      "dtype: float64\n"
     ]
    }
   ],
   "source": [
    "energies = pd.Series(energies)\n",
    "\n",
    "# based on the parameters specified above, these are in W*hrs\n",
    "print(energies.round(0))"
   ]
  },
  {
   "cell_type": "code",
   "execution_count": 16,
   "metadata": {},
   "outputs": [
    {
     "data": {
      "text/plain": [
       "Text(0,0.5,'Yearly energy yield (W hr)')"
      ]
     },
     "execution_count": 16,
     "metadata": {},
     "output_type": "execute_result"
    },
    {
     "data": {
      "image/png": "[encoded data removed]",
      "text/plain": [
       "<Figure size 432x288 with 1 Axes>"
      ]
     },
     "metadata": {
      "needs_background": "light"
     },
     "output_type": "display_data"
    }
   ],
   "source": [
    "energies.plot(kind='bar', rot=0)\n",
    "\n",
    "plt.ylabel('Yearly energy yield (W hr)')"
   ]
  },
  {
   "cell_type": "markdown",
   "metadata": {},
   "source": [
    "# Object oriented (Location, PVSystem, ModelChain)\n",
    "\n",
    "The first object oriented paradigm uses a model where a PVSystem object represents an assembled collection of modules, inverters, etc., a Location object represents a particular place on the planet, and a ModelChain object describes the modeling chain used to calculate PV output at that Location. This can be a useful paradigm if you prefer to think about the PV system and its location as separate concepts or if you develop your own ModelChain subclasses. It can also be helpful if you make extensive use of Location-specific methods for other calculations. pvlib-python also includes a SingleAxisTracker class that is a subclass of PVSystem.\n",
    "\n",
    "The following code demonstrates how to use Location, PVSystem, and ModelChain objects to accomplish our system modeling goal. ModelChain objects provide convenience methods that can provide default selections for models and can also fill necessary input data with modeled data. In our example below, we use convenience methods. For example, no irradiance data is provided as input, so the ModelChain object substitutes irradiance from a clear-sky model via the prepare_inputs method. Also, no irradiance transposition model is specified (keyword argument transposition for ModelChain) so the ModelChain defaults to the haydavies model. In this example, ModelChain infers the DC power model from the module provided by examining the parameters defined for module."
   ]
  },
  {
   "cell_type": "code",
   "execution_count": 19,
   "metadata": {},
   "outputs": [],
   "source": [
    "from pvlib.pvsystem import PVSystem\n",
    "from pvlib.location import Location\n",
    "from pvlib.modelchain import ModelChain\n",
    "system = PVSystem(module_parameters=module,\n",
    "inverter_parameters=inverter)\n",
    "energies = {}"
   ]
  },
  {
   "cell_type": "code",
   "execution_count": 20,
   "metadata": {},
   "outputs": [
    {
     "name": "stderr",
     "output_type": "stream",
     "text": [
      "C:\\Users\\Mhdella\\Anaconda3\\lib\\site-packages\\pvlib\\pvsystem.py:1917: RuntimeWarning: invalid value encountered in maximum\n",
      "  spectral_loss = np.maximum(0, np.polyval(am_coeff, airmass_absolute))\n"
     ]
    }
   ],
   "source": [
    "In [24]: for latitude, longitude, name, altitude, timezone in coordinates:\n",
    "   ....:     times = naive_times.tz_localize(timezone)\n",
    "   ....:     location = Location(latitude, longitude, name=name, altitude=altitude,\n",
    "   ....:                         tz=timezone)\n",
    "   ....:     mc = ModelChain(system, location,\n",
    "   ....:                     orientation_strategy='south_at_latitude_tilt')\n",
    "   ....:     mc.run_model(times)\n",
    "   ....:     annual_energy = mc.ac.sum()\n",
    "   ....:     energies[name] = annual_energy\n",
    "   ....: "
   ]
  },
  {
   "cell_type": "code",
   "execution_count": 21,
   "metadata": {},
   "outputs": [
    {
     "name": "stdout",
     "output_type": "stream",
     "text": [
      "Tucson           467704.0\n",
      "Albuquerque      500372.0\n",
      "San Francisco    440046.0\n",
      "Berlin           383544.0\n",
      "dtype: float64\n"
     ]
    }
   ],
   "source": [
    "energies = pd.Series(energies)\n",
    "\n",
    "# based on the parameters specified above, these are in W*hrs\n",
    "print(energies.round(0))"
   ]
  },
  {
   "cell_type": "code",
   "execution_count": 22,
   "metadata": {},
   "outputs": [
    {
     "data": {
      "text/plain": [
       "Text(0,0.5,'Yearly energy yield (W hr)')"
      ]
     },
     "execution_count": 22,
     "metadata": {},
     "output_type": "execute_result"
    },
    {
     "data": {
      "image/png": "[encoded data removed]",
      "text/plain": [
       "<Figure size 432x288 with 1 Axes>"
      ]
     },
     "metadata": {
      "needs_background": "light"
     },
     "output_type": "display_data"
    }
   ],
   "source": [
    "In [27]: energies.plot(kind='bar', rot=0)\n",
    "In [28]: plt.ylabel('Yearly energy yield (W hr)')"
   ]
  },
  {
   "cell_type": "markdown",
   "metadata": {},
   "source": [
    "# Object oriented (LocalizedPVSystem)\n",
    "\n",
    "The second object oriented paradigm uses a model where a LocalizedPVSystem represents a PV system at a particular place on the planet. This can be a useful paradigm if you’re thinking about a power plant that already exists.\n",
    "\n",
    "The LocalizedPVSystem inherits from both PVSystem and Location, while the LocalizedSingleAxisTracker inherits from SingleAxisTracker (itself a subclass of PVSystem) and Location. The LocalizedPVSystem and LocalizedSingleAxisTracker classes may contain bugs due to the relative difficulty of implementing multiple inheritance. The LocalizedPVSystem and LocalizedSingleAxisTracker may be deprecated in a future release. We recommend that most modeling workflows implement Location, PVSystem, and ModelChain.\n",
    "\n",
    "The following code demonstrates how to use a LocalizedPVSystem object to accomplish our modeling goal:"
   ]
  },
  {
   "cell_type": "code",
   "execution_count": 24,
   "metadata": {},
   "outputs": [],
   "source": [
    "from pvlib.pvsystem import LocalizedPVSystem\n",
    "energies = {}"
   ]
  },
  {
   "cell_type": "code",
   "execution_count": 25,
   "metadata": {},
   "outputs": [
    {
     "name": "stderr",
     "output_type": "stream",
     "text": [
      "C:\\Users\\Mhdella\\Anaconda3\\lib\\site-packages\\pvlib\\pvsystem.py:1917: RuntimeWarning: invalid value encountered in maximum\n",
      "  spectral_loss = np.maximum(0, np.polyval(am_coeff, airmass_absolute))\n"
     ]
    }
   ],
   "source": [
    "In [31]: for latitude, longitude, name, altitude, timezone in coordinates:\n",
    "   ....:     localized_system = LocalizedPVSystem(module_parameters=module,\n",
    "   ....:                                          inverter_parameters=inverter,\n",
    "   ....:                                          surface_tilt=latitude,\n",
    "   ....:                                          surface_azimuth=180,\n",
    "   ....:                                          latitude=latitude,\n",
    "   ....:                                          longitude=longitude,\n",
    "   ....:                                          name=name,\n",
    "   ....:                                          altitude=altitude,\n",
    "   ....:                                          tz=timezone)\n",
    "   ....:     times = naive_times.tz_localize(timezone)\n",
    "   ....:     clearsky = localized_system.get_clearsky(times)\n",
    "   ....:     solar_position = localized_system.get_solarposition(times)\n",
    "   ....:     total_irrad = localized_system.get_irradiance(solar_position['apparent_zenith'],\n",
    "   ....:                                                   solar_position['azimuth'],\n",
    "   ....:                                                   clearsky['dni'],\n",
    "   ....:                                                   clearsky['ghi'],\n",
    "   ....:                                                   clearsky['dhi'])\n",
    "   ....:     temps = localized_system.sapm_celltemp(total_irrad['poa_global'],\n",
    "   ....:                                            wind_speed, temp_air)\n",
    "   ....:     aoi = localized_system.get_aoi(solar_position['apparent_zenith'],\n",
    "   ....:                                    solar_position['azimuth'])\n",
    "   ....:     airmass = localized_system.get_airmass(solar_position=solar_position)\n",
    "   ....:     effective_irradiance = localized_system.sapm_effective_irradiance(\n",
    "   ....:         total_irrad['poa_direct'], total_irrad['poa_diffuse'],\n",
    "   ....:         airmass['airmass_absolute'], aoi)\n",
    "   ....:     dc = localized_system.sapm(effective_irradiance, temps['temp_cell'])\n",
    "   ....:     ac = localized_system.snlinverter(dc['v_mp'], dc['p_mp'])\n",
    "   ....:     annual_energy = ac.sum()\n",
    "   ....:     energies[name] = annual_energy\n",
    "   ....: "
   ]
  },
  {
   "cell_type": "code",
   "execution_count": 26,
   "metadata": {},
   "outputs": [
    {
     "name": "stdout",
     "output_type": "stream",
     "text": [
      "Tucson           467704.0\n",
      "Albuquerque      500372.0\n",
      "San Francisco    440046.0\n",
      "Berlin           383544.0\n",
      "dtype: float64\n"
     ]
    }
   ],
   "source": [
    "energies = pd.Series(energies)\n",
    "\n",
    "# based on the parameters specified above, these are in W*hrs\n",
    "print(energies.round(0))"
   ]
  },
  {
   "cell_type": "code",
   "execution_count": 29,
   "metadata": {},
   "outputs": [
    {
     "data": {
      "text/plain": [
       "Text(0,0.5,'Yearly energy yield (W hr)')"
      ]
     },
     "execution_count": 29,
     "metadata": {},
     "output_type": "execute_result"
    },
    {
     "data": {
      "image/png": "[encoded data removed]",
      "text/plain": [
       "<Figure size 432x288 with 1 Axes>"
      ]
     },
     "metadata": {
      "needs_background": "light"
     },
     "output_type": "display_data"
    }
   ],
   "source": [
    "energies.plot(kind='bar', rot=0)\n",
    "plt.ylabel('Yearly energy yield (W hr)')"
   ]
  },
  {
   "cell_type": "code",
   "execution_count": null,
   "metadata": {},
   "outputs": [],
   "source": []
  },
  {
   "cell_type": "code",
   "execution_count": null,
   "metadata": {},
   "outputs": [],
   "source": []
  },
  {
   "cell_type": "code",
   "execution_count": null,
   "metadata": {},
   "outputs": [],
   "source": []
  },
  {
   "cell_type": "code",
   "execution_count": null,
   "metadata": {},
   "outputs": [],
   "source": []
  },
  {
   "cell_type": "code",
   "execution_count": null,
   "metadata": {},
   "outputs": [],
   "source": []
  }
 ],
 "metadata": {
  "kernelspec": {
   "display_name": "Python 3",
   "language": "python",
   "name": "python3"
  },
  "language_info": {
   "codemirror_mode": {
    "name": "ipython",
    "version": 3
   },
   "file_extension": ".py",
   "mimetype": "text/x-python",
   "name": "python",
   "nbconvert_exporter": "python",
   "pygments_lexer": "ipython3",
   "version": "3.7.0"
  }
 },
 "nbformat": 4,
 "nbformat_minor": 2
}
