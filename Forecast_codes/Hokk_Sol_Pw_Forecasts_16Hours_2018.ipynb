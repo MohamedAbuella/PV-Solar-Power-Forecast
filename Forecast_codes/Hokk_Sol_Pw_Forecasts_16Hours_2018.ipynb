{
 "cells": [
  {
   "cell_type": "markdown",
   "metadata": {},
   "source": [
    "Training and forecasting the solar power of Hokkaido Island in Japna\n",
    "Training 2017, Forecast 2018\n",
    "\n",
    "https://stackoverflow.com/questions/35139108/how-to-install-xgboost-in-anaconda-python-windows-platform"
   ]
  },
  {
   "cell_type": "code",
   "execution_count": 1,
   "metadata": {},
   "outputs": [],
   "source": [
    "import pandas as pd\n",
    "import numpy as np\n",
    "import datetime as dt\n",
    "import csv \n",
    "import matplotlib.pyplot as plt\n",
    "import pytz\n",
    "import xgboost as xgb"
   ]
  },
  {
   "cell_type": "code",
   "execution_count": 2,
   "metadata": {},
   "outputs": [
    {
     "data": {
      "text/plain": [
       "'C:\\\\Users\\\\Mhdella\\\\Google Drive\\\\Jupyter Folder\\\\PV_Hokkaido_forecast_contest\\\\pvinhokkaidodatadistribution'"
      ]
     },
     "execution_count": 2,
     "metadata": {},
     "output_type": "execute_result"
    }
   ],
   "source": [
    "import os\n",
    "cwd = os.getcwd()\n",
    "cwd\n",
    "# os.chdir('pvinhokkaidodatadistribution')\n",
    "# C:\\Users\\Mhdella\\Google Drive\\Jupyter Folder\\PV_Hokkaido_forecast_contest\\\n",
    "os.chdir('C:\\\\Users\\\\Mhdella\\\\Google Drive\\\\Jupyter Folder\\\\PV_Hokkaido_forecast_contest\\\\pvinhokkaidodatadistribution')\n",
    "nwd=os.getcwd()\n",
    "nwd"
   ]
  },
  {
   "cell_type": "code",
   "execution_count": 3,
   "metadata": {},
   "outputs": [
    {
     "data": {
      "text/html": [
       "<div>\n",
       "<style scoped>\n",
       "    .dataframe tbody tr th:only-of-type {\n",
       "        vertical-align: middle;\n",
       "    }\n",
       "\n",
       "    .dataframe tbody tr th {\n",
       "        vertical-align: top;\n",
       "    }\n",
       "\n",
       "    .dataframe thead th {\n",
       "        text-align: right;\n",
       "    }\n",
       "</style>\n",
       "<table border=\"1\" class=\"dataframe\">\n",
       "  <thead>\n",
       "    <tr style=\"text-align: right;\">\n",
       "      <th></th>\n",
       "      <th>DATE</th>\n",
       "      <th>TIME</th>\n",
       "      <th>S1[MW]</th>\n",
       "      <th>S2[MW]</th>\n",
       "      <th>solar[kW/m2]</th>\n",
       "      <th>temp[deg C]</th>\n",
       "      <th>solar[kW/m2].1</th>\n",
       "      <th>temp[deg C].1</th>\n",
       "      <th>solar[kW/m2].2</th>\n",
       "      <th>temp[deg C].2</th>\n",
       "      <th>...</th>\n",
       "      <th>t2m.2</th>\n",
       "      <th>asn.2</th>\n",
       "      <th>sd.2</th>\n",
       "      <th>ssrdc.2</th>\n",
       "      <th>ssrd.2</th>\n",
       "      <th>tcc.2</th>\n",
       "      <th>tciw.2</th>\n",
       "      <th>tclw.2</th>\n",
       "      <th>tp.2</th>\n",
       "      <th>wind_speed.2</th>\n",
       "    </tr>\n",
       "  </thead>\n",
       "  <tbody>\n",
       "    <tr>\n",
       "      <th>0</th>\n",
       "      <td>1/1/2016</td>\n",
       "      <td>9:00:00</td>\n",
       "      <td>54.7</td>\n",
       "      <td>78.4</td>\n",
       "      <td>0.159228</td>\n",
       "      <td>-1.2</td>\n",
       "      <td>0.276627</td>\n",
       "      <td>0.0</td>\n",
       "      <td>0.339371</td>\n",
       "      <td>-5.9</td>\n",
       "      <td>...</td>\n",
       "      <td>-13.909399</td>\n",
       "      <td>0.600965</td>\n",
       "      <td>7.450000e-09</td>\n",
       "      <td>57.319398</td>\n",
       "      <td>30.413241</td>\n",
       "      <td>0.000000</td>\n",
       "      <td>0.000000</td>\n",
       "      <td>0.000000</td>\n",
       "      <td>0.000000e+00</td>\n",
       "      <td>7.704484</td>\n",
       "    </tr>\n",
       "    <tr>\n",
       "      <th>1</th>\n",
       "      <td>1/1/2016</td>\n",
       "      <td>9:30:00</td>\n",
       "      <td>113.8</td>\n",
       "      <td>89.0</td>\n",
       "      <td>0.221269</td>\n",
       "      <td>-0.3</td>\n",
       "      <td>0.307764</td>\n",
       "      <td>0.1</td>\n",
       "      <td>0.297246</td>\n",
       "      <td>-4.4</td>\n",
       "      <td>...</td>\n",
       "      <td>-12.694835</td>\n",
       "      <td>0.600870</td>\n",
       "      <td>7.450000e-09</td>\n",
       "      <td>104.414120</td>\n",
       "      <td>55.211142</td>\n",
       "      <td>0.037510</td>\n",
       "      <td>0.000396</td>\n",
       "      <td>0.000012</td>\n",
       "      <td>2.690000e-07</td>\n",
       "      <td>7.772519</td>\n",
       "    </tr>\n",
       "    <tr>\n",
       "      <th>2</th>\n",
       "      <td>1/1/2016</td>\n",
       "      <td>10:00:00</td>\n",
       "      <td>115.9</td>\n",
       "      <td>97.3</td>\n",
       "      <td>0.231619</td>\n",
       "      <td>-0.5</td>\n",
       "      <td>0.354492</td>\n",
       "      <td>0.7</td>\n",
       "      <td>0.320564</td>\n",
       "      <td>-2.3</td>\n",
       "      <td>...</td>\n",
       "      <td>-11.480271</td>\n",
       "      <td>0.600775</td>\n",
       "      <td>7.450000e-09</td>\n",
       "      <td>151.508843</td>\n",
       "      <td>80.009043</td>\n",
       "      <td>0.075021</td>\n",
       "      <td>0.000793</td>\n",
       "      <td>0.000023</td>\n",
       "      <td>5.390000e-07</td>\n",
       "      <td>7.840554</td>\n",
       "    </tr>\n",
       "    <tr>\n",
       "      <th>3</th>\n",
       "      <td>1/1/2016</td>\n",
       "      <td>10:30:00</td>\n",
       "      <td>139.5</td>\n",
       "      <td>100.6</td>\n",
       "      <td>0.205909</td>\n",
       "      <td>-0.4</td>\n",
       "      <td>0.363168</td>\n",
       "      <td>0.8</td>\n",
       "      <td>0.306980</td>\n",
       "      <td>-1.9</td>\n",
       "      <td>...</td>\n",
       "      <td>-10.265707</td>\n",
       "      <td>0.600680</td>\n",
       "      <td>7.450000e-09</td>\n",
       "      <td>198.603565</td>\n",
       "      <td>104.806944</td>\n",
       "      <td>0.112531</td>\n",
       "      <td>0.001189</td>\n",
       "      <td>0.000034</td>\n",
       "      <td>8.080000e-07</td>\n",
       "      <td>7.908589</td>\n",
       "    </tr>\n",
       "    <tr>\n",
       "      <th>4</th>\n",
       "      <td>1/1/2016</td>\n",
       "      <td>11:00:00</td>\n",
       "      <td>125.7</td>\n",
       "      <td>96.8</td>\n",
       "      <td>0.277444</td>\n",
       "      <td>-0.2</td>\n",
       "      <td>0.358989</td>\n",
       "      <td>0.6</td>\n",
       "      <td>0.237579</td>\n",
       "      <td>-3.1</td>\n",
       "      <td>...</td>\n",
       "      <td>-9.051143</td>\n",
       "      <td>0.600586</td>\n",
       "      <td>7.450000e-09</td>\n",
       "      <td>245.698287</td>\n",
       "      <td>129.604846</td>\n",
       "      <td>0.150041</td>\n",
       "      <td>0.001585</td>\n",
       "      <td>0.000046</td>\n",
       "      <td>1.080000e-06</td>\n",
       "      <td>7.976625</td>\n",
       "    </tr>\n",
       "  </tbody>\n",
       "</table>\n",
       "<p>5 rows × 48 columns</p>\n",
       "</div>"
      ],
      "text/plain": [
       "       DATE      TIME  S1[MW]  S2[MW]  solar[kW/m2]  temp[deg C]  \\\n",
       "0  1/1/2016   9:00:00    54.7    78.4      0.159228         -1.2   \n",
       "1  1/1/2016   9:30:00   113.8    89.0      0.221269         -0.3   \n",
       "2  1/1/2016  10:00:00   115.9    97.3      0.231619         -0.5   \n",
       "3  1/1/2016  10:30:00   139.5   100.6      0.205909         -0.4   \n",
       "4  1/1/2016  11:00:00   125.7    96.8      0.277444         -0.2   \n",
       "\n",
       "   solar[kW/m2].1  temp[deg C].1  solar[kW/m2].2  temp[deg C].2      ...       \\\n",
       "0        0.276627            0.0        0.339371           -5.9      ...        \n",
       "1        0.307764            0.1        0.297246           -4.4      ...        \n",
       "2        0.354492            0.7        0.320564           -2.3      ...        \n",
       "3        0.363168            0.8        0.306980           -1.9      ...        \n",
       "4        0.358989            0.6        0.237579           -3.1      ...        \n",
       "\n",
       "       t2m.2     asn.2          sd.2     ssrdc.2      ssrd.2     tcc.2  \\\n",
       "0 -13.909399  0.600965  7.450000e-09   57.319398   30.413241  0.000000   \n",
       "1 -12.694835  0.600870  7.450000e-09  104.414120   55.211142  0.037510   \n",
       "2 -11.480271  0.600775  7.450000e-09  151.508843   80.009043  0.075021   \n",
       "3 -10.265707  0.600680  7.450000e-09  198.603565  104.806944  0.112531   \n",
       "4  -9.051143  0.600586  7.450000e-09  245.698287  129.604846  0.150041   \n",
       "\n",
       "     tciw.2    tclw.2          tp.2  wind_speed.2  \n",
       "0  0.000000  0.000000  0.000000e+00      7.704484  \n",
       "1  0.000396  0.000012  2.690000e-07      7.772519  \n",
       "2  0.000793  0.000023  5.390000e-07      7.840554  \n",
       "3  0.001189  0.000034  8.080000e-07      7.908589  \n",
       "4  0.001585  0.000046  1.080000e-06      7.976625  \n",
       "\n",
       "[5 rows x 48 columns]"
      ]
     },
     "execution_count": 3,
     "metadata": {},
     "output_type": "execute_result"
    }
   ],
   "source": [
    "# file_name='Merg_Ens_Agg_42_44_mes17_18.csv'\n",
    "# file_name='Merg_Ens_Agg_43_mes17_18.csv'\n",
    "\n",
    "# file_name='Merg_Ens_Agg_42_44_mes16_17_18.csv'\n",
    "file_name='Merg_Ens_mmaxmin_Agg_42_44_mes16_18.csv'\n",
    "\n",
    "# file_name='Merg_Res_Comb_S1_S2_2018_tz_Jp.csv'\n",
    "# file_mane='Merg_Res_Comb_S1_S2_2017_tz_Jp.csv'\n",
    "\n",
    "df_hok=pd.read_csv(file_name) \n",
    "df_hok.head()\n",
    "# df_hok.tail()"
   ]
  },
  {
   "cell_type": "code",
   "execution_count": 4,
   "metadata": {},
   "outputs": [],
   "source": [
    "#### This cell just to check out the dataset with different coordination lat 43 and lat42-44 from ECMWF\n",
    "df_hok1=pd.read_csv('Merg_Ens_Agg_42_44_mes17_18.csv') \n",
    "df_hok2=pd.read_csv('Merg_Ens_Agg_43_mes17_18.csv')\n",
    "\n",
    "df_mns= {'col1': df_hok1.mean(), 'col2': df_hok2.mean()}\n",
    "# df_mns"
   ]
  },
  {
   "cell_type": "markdown",
   "metadata": {},
   "source": [
    "https://scikit-learn.org/stable/modules/generated/sklearn.ensemble.GradientBoostingRegressor.html\n",
    "\n",
    "https://scikit-learn.org/stable/auto_examples/ensemble/plot_gradient_boosting_regression.html#sphx-glr-auto-examples-ensemble-plot-gradient-boosting-regression-py"
   ]
  },
  {
   "cell_type": "code",
   "execution_count": 5,
   "metadata": {},
   "outputs": [
    {
     "data": {
      "text/html": [
       "<div>\n",
       "<style scoped>\n",
       "    .dataframe tbody tr th:only-of-type {\n",
       "        vertical-align: middle;\n",
       "    }\n",
       "\n",
       "    .dataframe tbody tr th {\n",
       "        vertical-align: top;\n",
       "    }\n",
       "\n",
       "    .dataframe thead th {\n",
       "        text-align: right;\n",
       "    }\n",
       "</style>\n",
       "<table border=\"1\" class=\"dataframe\">\n",
       "  <thead>\n",
       "    <tr style=\"text-align: right;\">\n",
       "      <th></th>\n",
       "      <th>DATE</th>\n",
       "      <th>TIME</th>\n",
       "      <th>S1[MW]</th>\n",
       "      <th>S2[MW]</th>\n",
       "      <th>solar[kW/m2]</th>\n",
       "      <th>temp[deg C]</th>\n",
       "      <th>solar[kW/m2].1</th>\n",
       "      <th>temp[deg C].1</th>\n",
       "      <th>solar[kW/m2].2</th>\n",
       "      <th>temp[deg C].2</th>\n",
       "      <th>...</th>\n",
       "      <th>t2m.2</th>\n",
       "      <th>asn.2</th>\n",
       "      <th>sd.2</th>\n",
       "      <th>ssrdc.2</th>\n",
       "      <th>ssrd.2</th>\n",
       "      <th>tcc.2</th>\n",
       "      <th>tciw.2</th>\n",
       "      <th>tclw.2</th>\n",
       "      <th>tp.2</th>\n",
       "      <th>wind_speed.2</th>\n",
       "    </tr>\n",
       "  </thead>\n",
       "  <tbody>\n",
       "    <tr>\n",
       "      <th>0</th>\n",
       "      <td>1/1/2016</td>\n",
       "      <td>9:00:00</td>\n",
       "      <td>54.7</td>\n",
       "      <td>78.4</td>\n",
       "      <td>0.159228</td>\n",
       "      <td>-1.2</td>\n",
       "      <td>0.276627</td>\n",
       "      <td>0.0</td>\n",
       "      <td>0.339371</td>\n",
       "      <td>-5.9</td>\n",
       "      <td>...</td>\n",
       "      <td>-13.909399</td>\n",
       "      <td>0.600965</td>\n",
       "      <td>7.450000e-09</td>\n",
       "      <td>57.319398</td>\n",
       "      <td>30.413241</td>\n",
       "      <td>0.000000</td>\n",
       "      <td>0.000000</td>\n",
       "      <td>0.000000</td>\n",
       "      <td>0.000000e+00</td>\n",
       "      <td>7.704484</td>\n",
       "    </tr>\n",
       "    <tr>\n",
       "      <th>1</th>\n",
       "      <td>1/1/2016</td>\n",
       "      <td>9:30:00</td>\n",
       "      <td>113.8</td>\n",
       "      <td>89.0</td>\n",
       "      <td>0.221269</td>\n",
       "      <td>-0.3</td>\n",
       "      <td>0.307764</td>\n",
       "      <td>0.1</td>\n",
       "      <td>0.297246</td>\n",
       "      <td>-4.4</td>\n",
       "      <td>...</td>\n",
       "      <td>-12.694835</td>\n",
       "      <td>0.600870</td>\n",
       "      <td>7.450000e-09</td>\n",
       "      <td>104.414120</td>\n",
       "      <td>55.211142</td>\n",
       "      <td>0.037510</td>\n",
       "      <td>0.000396</td>\n",
       "      <td>0.000012</td>\n",
       "      <td>2.690000e-07</td>\n",
       "      <td>7.772519</td>\n",
       "    </tr>\n",
       "    <tr>\n",
       "      <th>2</th>\n",
       "      <td>1/1/2016</td>\n",
       "      <td>10:00:00</td>\n",
       "      <td>115.9</td>\n",
       "      <td>97.3</td>\n",
       "      <td>0.231619</td>\n",
       "      <td>-0.5</td>\n",
       "      <td>0.354492</td>\n",
       "      <td>0.7</td>\n",
       "      <td>0.320564</td>\n",
       "      <td>-2.3</td>\n",
       "      <td>...</td>\n",
       "      <td>-11.480271</td>\n",
       "      <td>0.600775</td>\n",
       "      <td>7.450000e-09</td>\n",
       "      <td>151.508843</td>\n",
       "      <td>80.009043</td>\n",
       "      <td>0.075021</td>\n",
       "      <td>0.000793</td>\n",
       "      <td>0.000023</td>\n",
       "      <td>5.390000e-07</td>\n",
       "      <td>7.840554</td>\n",
       "    </tr>\n",
       "    <tr>\n",
       "      <th>3</th>\n",
       "      <td>1/1/2016</td>\n",
       "      <td>10:30:00</td>\n",
       "      <td>139.5</td>\n",
       "      <td>100.6</td>\n",
       "      <td>0.205909</td>\n",
       "      <td>-0.4</td>\n",
       "      <td>0.363168</td>\n",
       "      <td>0.8</td>\n",
       "      <td>0.306980</td>\n",
       "      <td>-1.9</td>\n",
       "      <td>...</td>\n",
       "      <td>-10.265707</td>\n",
       "      <td>0.600680</td>\n",
       "      <td>7.450000e-09</td>\n",
       "      <td>198.603565</td>\n",
       "      <td>104.806944</td>\n",
       "      <td>0.112531</td>\n",
       "      <td>0.001189</td>\n",
       "      <td>0.000034</td>\n",
       "      <td>8.080000e-07</td>\n",
       "      <td>7.908589</td>\n",
       "    </tr>\n",
       "    <tr>\n",
       "      <th>4</th>\n",
       "      <td>1/1/2016</td>\n",
       "      <td>11:00:00</td>\n",
       "      <td>125.7</td>\n",
       "      <td>96.8</td>\n",
       "      <td>0.277444</td>\n",
       "      <td>-0.2</td>\n",
       "      <td>0.358989</td>\n",
       "      <td>0.6</td>\n",
       "      <td>0.237579</td>\n",
       "      <td>-3.1</td>\n",
       "      <td>...</td>\n",
       "      <td>-9.051143</td>\n",
       "      <td>0.600586</td>\n",
       "      <td>7.450000e-09</td>\n",
       "      <td>245.698287</td>\n",
       "      <td>129.604846</td>\n",
       "      <td>0.150041</td>\n",
       "      <td>0.001585</td>\n",
       "      <td>0.000046</td>\n",
       "      <td>1.080000e-06</td>\n",
       "      <td>7.976625</td>\n",
       "    </tr>\n",
       "  </tbody>\n",
       "</table>\n",
       "<p>5 rows × 48 columns</p>\n",
       "</div>"
      ],
      "text/plain": [
       "       DATE      TIME  S1[MW]  S2[MW]  solar[kW/m2]  temp[deg C]  \\\n",
       "0  1/1/2016   9:00:00    54.7    78.4      0.159228         -1.2   \n",
       "1  1/1/2016   9:30:00   113.8    89.0      0.221269         -0.3   \n",
       "2  1/1/2016  10:00:00   115.9    97.3      0.231619         -0.5   \n",
       "3  1/1/2016  10:30:00   139.5   100.6      0.205909         -0.4   \n",
       "4  1/1/2016  11:00:00   125.7    96.8      0.277444         -0.2   \n",
       "\n",
       "   solar[kW/m2].1  temp[deg C].1  solar[kW/m2].2  temp[deg C].2      ...       \\\n",
       "0        0.276627            0.0        0.339371           -5.9      ...        \n",
       "1        0.307764            0.1        0.297246           -4.4      ...        \n",
       "2        0.354492            0.7        0.320564           -2.3      ...        \n",
       "3        0.363168            0.8        0.306980           -1.9      ...        \n",
       "4        0.358989            0.6        0.237579           -3.1      ...        \n",
       "\n",
       "       t2m.2     asn.2          sd.2     ssrdc.2      ssrd.2     tcc.2  \\\n",
       "0 -13.909399  0.600965  7.450000e-09   57.319398   30.413241  0.000000   \n",
       "1 -12.694835  0.600870  7.450000e-09  104.414120   55.211142  0.037510   \n",
       "2 -11.480271  0.600775  7.450000e-09  151.508843   80.009043  0.075021   \n",
       "3 -10.265707  0.600680  7.450000e-09  198.603565  104.806944  0.112531   \n",
       "4  -9.051143  0.600586  7.450000e-09  245.698287  129.604846  0.150041   \n",
       "\n",
       "     tciw.2    tclw.2          tp.2  wind_speed.2  \n",
       "0  0.000000  0.000000  0.000000e+00      7.704484  \n",
       "1  0.000396  0.000012  2.690000e-07      7.772519  \n",
       "2  0.000793  0.000023  5.390000e-07      7.840554  \n",
       "3  0.001189  0.000034  8.080000e-07      7.908589  \n",
       "4  0.001585  0.000046  1.080000e-06      7.976625  \n",
       "\n",
       "[5 rows x 48 columns]"
      ]
     },
     "execution_count": 5,
     "metadata": {},
     "output_type": "execute_result"
    }
   ],
   "source": [
    "import sklearn \n",
    "import numpy as np\n",
    "from sklearn.metrics import mean_squared_error\n",
    "# X, y = make_friedman1(n_samples=1200, random_state=0, noise=1.0)\n",
    "# X, y = make_friedman1(n_samples=1200, random_state=0, noise=1.0)\n",
    "df_hok.head()"
   ]
  },
  {
   "cell_type": "code",
   "execution_count": 6,
   "metadata": {},
   "outputs": [
    {
     "name": "stdout",
     "output_type": "stream",
     "text": [
      "['DATE', 'TIME', 'S1[MW]', 'S2[MW]', 'solar[kW/m2]', 'temp[deg C]', 'solar[kW/m2].1', 'temp[deg C].1', 'solar[kW/m2].2', 'temp[deg C].2', 'solar[kW/m2].3', 'temp[deg C].3', 'u10', 'v10', 't2m', 'asn', 'sd', 'ssrdc', 'ssrd', 'tcc', 'tciw', 'tclw', 'tp', 'wind_speed', 'u10.1', 'v10.1', 't2m.1', 'asn.1', 'sd.1', 'ssrdc.1', 'ssrd.1', 'tcc.1', 'tciw.1', 'tclw.1', 'tp.1', 'wind_speed.1', 'u10.2', 'v10.2', 't2m.2', 'asn.2', 'sd.2', 'ssrdc.2', 'ssrd.2', 'tcc.2', 'tciw.2', 'tclw.2', 'tp.2', 'wind_speed.2']\n"
     ]
    }
   ],
   "source": [
    "print(list(df_hok))"
   ]
  },
  {
   "cell_type": "code",
   "execution_count": 7,
   "metadata": {},
   "outputs": [
    {
     "name": "stdout",
     "output_type": "stream",
     "text": [
      "36 49\n"
     ]
    }
   ],
   "source": [
    "#### df_feats=df_hok[df_hok['ssrdc'] != 0] ## dropping night hours, when clear-sky solar irradiance (SSRDC) forecasts=0, and this can be applied in real forecasts  \n",
    "\n",
    "#### df_feats=df_hok.set_index('DATE')\n",
    "\n",
    "############################# Not dropping night hours\n",
    "\n",
    "df_tar_feats=df_hok.set_index(pd.to_datetime(df_hok['DATE'] + ' ' + df_hok['TIME']))\n",
    "\n",
    "############## In case of forecast solar power  #######\n",
    "\n",
    "Targ=df_tar_feats['S1[MW]']+df_tar_feats['S2[MW]']\n",
    "Targ = Targ.replace(np.nan, 0, regex=True)\n",
    "\n",
    "df_feats=df_tar_feats[['u10', 'v10', 't2m', 'asn', 'sd', 'ssrdc', 'ssrd', 'tcc', 'tciw', 'tclw', 'tp', 'wind_speed', \n",
    "             'u10.1', 'v10.1', 't2m.1', 'asn.1', 'sd.1', 'ssrdc.1', 'ssrd.1', 'tcc.1', 'tciw.1', 'tclw.1', 'tp.1', 'wind_speed.1', \n",
    "             'u10.2', 'v10.2', 't2m.2', 'asn.2', 'sd.2', 'ssrdc.2', 'ssrd.2', 'tcc.2', 'tciw.2', 'tclw.2', 'tp.2', 'wind_speed.2']]\n",
    "############### In case of forecast solar irradiance  #######\n",
    "\n",
    "# Targ=df_tar_feats['ssrd']  #ssrd is the mean of ssrd data from all ensemble members\n",
    "# df_feats=df_tar_feats[['u10', 'v10', 't2m', 'asn', 'sd', 'ssrdc', 'tcc', 'tciw', 'tclw', 'tp', 'wind_speed', \n",
    "#              'u10.1', 'v10.1', 't2m.1', 'asn.1', 'sd.1', 'ssrdc.1', 'tcc.1', 'tciw.1', 'tclw.1', 'tp.1', 'wind_speed.1', \n",
    "#              'u10.2', 'v10.2', 't2m.2', 'asn.2', 'sd.2', 'ssrdc.2', 'tcc.2', 'tciw.2', 'tclw.2', 'tp.2', 'wind_speed.2']]\n",
    "\n",
    "\n",
    "df_tar_feats.insert(loc=0, column='Targ', value=Targ)\n",
    "\n",
    "df_feats.head()\n",
    "df_feats.tail()\n",
    "\n",
    "print(len(list(df_feats)), len(list(df_tar_feats)))\n",
    "# Targ.tail()\n"
   ]
  },
  {
   "cell_type": "code",
   "execution_count": 8,
   "metadata": {},
   "outputs": [
    {
     "name": "stdout",
     "output_type": "stream",
     "text": [
      "52603 312.6 37.385689029143066\n"
     ]
    }
   ],
   "source": [
    "len(df_feats)\n",
    "# len(Targ)\n",
    "print(len(Targ), max(Targ), Targ.mean())"
   ]
  },
  {
   "cell_type": "code",
   "execution_count": 9,
   "metadata": {},
   "outputs": [],
   "source": [
    "# ind_date_time= pd.date_range('2019-03-08 00:00','2019-03-09 00:00',freq='120T')\n",
    "ind_date_time= pd.date_range('2019-03-08 04:00','2019-03-09 03:30',freq='30T')\n",
    "\n",
    "Hours= ind_date_time.strftime('%H:%M')\n",
    "# Hours\n",
    "# for num in range(0,len(Hours),6):\n",
    "#     print(Hours[num])"
   ]
  },
  {
   "cell_type": "code",
   "execution_count": 10,
   "metadata": {},
   "outputs": [],
   "source": [
    "df_intrv0=df_tar_feats.between_time('20:00','03:30')\n",
    "df_intrv1=df_tar_feats.between_time('04:00','04:30')\n",
    "df_intrv2=df_tar_feats.between_time('05:00','05:30')\n",
    "df_intrv3=df_tar_feats.between_time('06:00','06:30')\n",
    "df_intrv4=df_tar_feats.between_time('07:00','07:30')\n",
    "df_intrv5=df_tar_feats.between_time('08:00','08:30')\n",
    "df_intrv6=df_tar_feats.between_time('09:00','09:30')\n",
    "df_intrv7=df_tar_feats.between_time('10:00','10:30')\n",
    "df_intrv8=df_tar_feats.between_time('11:00','11:30')\n",
    "df_intrv9=df_tar_feats.between_time('12:00','12:30')\n",
    "df_intrv10=df_tar_feats.between_time('13:00','13:30')\n",
    "df_intrv11=df_tar_feats.between_time('14:00','14:30')\n",
    "df_intrv12=df_tar_feats.between_time('15:00','15:30')\n",
    "df_intrv13=df_tar_feats.between_time('16:00','16:30')\n",
    "df_intrv14=df_tar_feats.between_time('17:00','17:30')\n",
    "df_intrv15=df_tar_feats.between_time('18:00','18:30')\n",
    "df_intrv16=df_tar_feats.between_time('19:00','19:30')\n",
    "# df_intrv16.head(9)"
   ]
  },
  {
   "cell_type": "code",
   "execution_count": 11,
   "metadata": {},
   "outputs": [],
   "source": [
    "#df=dfdfd #Just to stop before run the following cell"
   ]
  },
  {
   "cell_type": "code",
   "execution_count": 12,
   "metadata": {},
   "outputs": [
    {
     "name": "stdout",
     "output_type": "stream",
     "text": [
      "Yes20:00-3:30\n"
     ]
    },
    {
     "name": "stderr",
     "output_type": "stream",
     "text": [
      "C:\\Users\\Mhdella\\Google Drive\\Jupyter Folder\\PV_Hokkaido_forecast_contest\\Forecast_codes\\Hokk_Hourly_Forecast_Models_16hrs.py:17: RuntimeWarning: invalid value encountered in double_scalars\n",
      "  nRMSE=np.sqrt(mse)/Targ.mean()\n"
     ]
    },
    {
     "name": "stdout",
     "output_type": "stream",
     "text": [
      "0.0 nan\n",
      "Yes04:00-04:30\n",
      "1.7802711274400318 4.402702817959011\n",
      "Yes05:00-05:30\n",
      "134.45094979654226 2.757341102375605\n",
      "Yes06:00-06:30\n",
      "1532.0005393985264 2.0532541703723477\n",
      "Yes07:00-07:30\n",
      "6982.14291455394 1.7499680831302733\n",
      "Yes08:00-08:30\n",
      "17959.234628035196 1.6209391444875878\n",
      "Yes09:00-09:30\n",
      "29904.718991618083 1.5814043250117071\n",
      "Yes10:00-10:30\n",
      "36902.86892223369 1.5692354584969141\n",
      "Yes11:00-11:30\n",
      "38687.25983337313 1.5687603516395012\n",
      "Yes12:00-12:30\n",
      "37236.08377072271 1.5933452149269858\n",
      "Yes13:00-13:30\n",
      "30098.21731753094 1.5925549904476197\n",
      "Yes14:00-14:30\n",
      "18098.748984804686 1.6237264827409923\n",
      "Yes15:00-15:30\n",
      "7585.354811753149 1.8100857195905584\n",
      "Yes16:00-16:30\n",
      "1804.3576510444302 2.125088710574093\n",
      "Yes17:00-17:30\n",
      "154.35318710807272 2.62038907863443\n",
      "Yes18:00-18:30\n",
      "2.754819753999844 4.048297332989362\n",
      "Yes19:00-19:30\n",
      "8.904358254291367e-06 65.40965557098389\n"
     ]
    }
   ],
   "source": [
    "from Hokk_Hourly_Forecast_Models_16hrs import model_intrv0, model_intrv1, model_intrv2, model_intrv3, model_intrv4, model_intrv5, model_intrv6, model_intrv7, model_intrv8, model_intrv9, model_intrv10, model_intrv11, model_intrv12, model_intrv13, model_intrv14, model_intrv15, model_intrv16\n",
    "##### from Hokk_Hourly_Forecast_Models_16hrs_Tuned_By_CV import model_intrv0, model_intrv1, model_intrv2, model_intrv3, model_intrv4, model_intrv5, model_intrv6, model_intrv7, model_intrv8, model_intrv9, model_intrv10, model_intrv11, model_intrv12, model_intrv13, model_intrv14, model_intrv15, model_intrv16\n",
    "\n",
    "intvs=[df_intrv0, df_intrv1, df_intrv2, df_intrv3, df_intrv4, df_intrv5, df_intrv6, df_intrv7, df_intrv8,\n",
    "       df_intrv9, df_intrv10, df_intrv11, df_intrv12, df_intrv13, df_intrv14, df_intrv15, df_intrv16]\n",
    "\n",
    "for num in range(0, len(intvs)):\n",
    "    df_hr=intvs[num]\n",
    "#     print(num, len(df_hr), max(df_hr['Targ']), df_hr['Targ'].mean(), df_hr['Targ'].std())\n",
    "    \n",
    "    ####Select features of the data \n",
    "    Targ=df_hr['Targ']\n",
    "    df_feats_w_mes=df_hr.drop('Targ', axis=1) #Features including measurements and weather forecasts\n",
    "    df_feats_no_mes =df_hr.drop(df_tar_feats.columns[range(0,13)], axis=1)  #Features of weather forecasts only\n",
    "\n",
    "    # df_feats=df_feats_w_mes  ## the measurements lenght is less than the weather since there are not exist in forecast period\n",
    "    \n",
    "#     df_feats_no_mes =df_feats_no_mes.drop('asn', axis=1)  #drop albedo snow\n",
    "#     df_feats_no_mes =df_feats_no_mes.drop('sd', axis=1)  #drop snow depth\n",
    "#     df_feats_no_mes=df_feats_no_mes.drop(['asn','sd', 'asn.1','sd.1','asn.2','sd.2','u10', \n",
    "#                           'v10','asn','sd','u10.1', 'v10.1','u10.2', 'v10.2'], axis=1)   \n",
    "#     df_feats_no_mes=df_feats_no_mes.drop(['asn','sd', 'asn.1','sd.1','asn.2','sd.2'], axis=1)\n",
    "#     df_feats_no_mes=df_feats_no_mes.drop(['tciw', 'tclw',  'tciw.1', 'tclw.1', 'tciw.2', 'tclw.2'], axis=1)\n",
    "#     df_feats_no_mes=df_feats_no_mes.drop(['u10.1', 'v10.1', 't2m.1', 'asn.1', 'sd.1', 'ssrdc.1', 'ssrd.1', 'tcc.1', 'tciw.1', 'tclw.1', 'tp.1', 'wind_speed.1', \n",
    "#              'u10.2', 'v10.2', 't2m.2', 'asn.2', 'sd.2', 'ssrdc.2', 'ssrd.2', 'tcc.2', 'tciw.2', 'tclw.2', 'tp.2', 'wind_speed.2'], axis=1)\n",
    "#########################################\n",
    "\n",
    "\n",
    "    \n",
    "    df_feats=df_feats_no_mes   \n",
    "#     X_train=df_feats.loc['1/1/2017':'12/31/2017']\n",
    "#     X_test=df_feats.loc['1/1/2016':'12/31/2016']\n",
    "#     X_train=df_feats.loc['1/1/2016':'12/31/2016']\n",
    "#     X_test=df_feats.loc['1/1/2017':'12/31/2017']\n",
    "\n",
    "    X_train=df_feats.loc['1/1/2017':'12/31/2017']\n",
    "    X_test=df_feats.loc['1/1/2018':'12/31/2018']\n",
    "\n",
    "#     Y_train=Targ.loc['1/1/2017':'12/31/2017']\n",
    "#     Y_test=Targ.loc['1/1/2016':'12/31/2016']\n",
    "#     Y_train=Targ.loc['1/1/2016':'12/31/2016']\n",
    "#     Y_test=Targ.loc['1/1/2017':'12/31/2017']\n",
    "    \n",
    "    Y_train=Targ.loc['1/1/2017':'12/31/2017']\n",
    "    Y_test=Targ.loc['1/1/2018':'12/31/2018']\n",
    "\n",
    "    X_train.head()\n",
    "    # X_train.tail()\n",
    "    # len(X_train)\n",
    "\n",
    "    # Y_train.head()\n",
    "    # len(Y_train)\n",
    "    Y_train.tail()\n",
    "    \n",
    "    if num==0:\n",
    "        print('Yes20:00-3:30')\n",
    "        reslts=model_intrv0(Y_train, X_train, Y_test, X_test, Targ)\n",
    "        st0={'mse': reslts['mse'], 'nRMSE':reslts['nRMSE']}\n",
    "        Ytspd_inv0=reslts['Yts_pd']    \n",
    "    elif num==1:\n",
    "        print('Yes04:00-04:30')\n",
    "        reslts=model_intrv1(Y_train, X_train, Y_test, X_test, Targ)\n",
    "        st1={'mse': reslts['mse'], 'nRMSE':reslts['nRMSE']}\n",
    "        Ytspd_inv1=reslts['Yts_pd'] \n",
    "    elif num==2:\n",
    "        print('Yes05:00-05:30')\n",
    "        reslts=model_intrv2(Y_train, X_train, Y_test, X_test, Targ) \n",
    "        st2={'mse': reslts['mse'], 'nRMSE':reslts['nRMSE']}\n",
    "        Ytspd_inv2=reslts['Yts_pd']  \n",
    "    elif num==3:\n",
    "        print('Yes06:00-06:30')\n",
    "        reslts=model_intrv3(Y_train, X_train, Y_test, X_test, Targ)\n",
    "        st3={'mse': reslts['mse'], 'nRMSE':reslts['nRMSE']}\n",
    "        Ytspd_inv3=reslts['Yts_pd'] \n",
    "    elif num==4:\n",
    "        print('Yes07:00-07:30')\n",
    "        reslts=model_intrv3(Y_train, X_train, Y_test, X_test, Targ)\n",
    "        st4={'mse': reslts['mse'], 'nRMSE':reslts['nRMSE']}\n",
    "        Ytspd_inv4=reslts['Yts_pd']     \n",
    "    elif num==5:\n",
    "        print('Yes08:00-08:30')\n",
    "        reslts=model_intrv2(Y_train, X_train, Y_test, X_test, Targ) \n",
    "        st5={'mse': reslts['mse'], 'nRMSE':reslts['nRMSE']}\n",
    "        Ytspd_inv5=reslts['Yts_pd']  \n",
    "    elif num==6:\n",
    "        print('Yes09:00-09:30')\n",
    "        reslts=model_intrv3(Y_train, X_train, Y_test, X_test, Targ)\n",
    "        st6={'mse': reslts['mse'], 'nRMSE':reslts['nRMSE']}\n",
    "        Ytspd_inv6=reslts['Yts_pd'] \n",
    "    elif num==7:\n",
    "        print('Yes10:00-10:30')\n",
    "        reslts=model_intrv3(Y_train, X_train, Y_test, X_test, Targ)\n",
    "        st7={'mse': reslts['mse'], 'nRMSE':reslts['nRMSE']}\n",
    "        Ytspd_inv7=reslts['Yts_pd']     \n",
    "    elif num==8:\n",
    "        print('Yes11:00-11:30')\n",
    "        reslts=model_intrv3(Y_train, X_train, Y_test, X_test, Targ)\n",
    "        st8={'mse': reslts['mse'], 'nRMSE':reslts['nRMSE']}\n",
    "        Ytspd_inv8=reslts['Yts_pd']   \n",
    "    elif num==9:\n",
    "        print('Yes12:00-12:30')\n",
    "        reslts=model_intrv1(Y_train, X_train, Y_test, X_test, Targ)\n",
    "        st9={'mse': reslts['mse'], 'nRMSE':reslts['nRMSE']}\n",
    "        Ytspd_inv9=reslts['Yts_pd'] \n",
    "    elif num==10:\n",
    "        print('Yes13:00-13:30')\n",
    "        reslts=model_intrv2(Y_train, X_train, Y_test, X_test, Targ) \n",
    "        st10={'mse': reslts['mse'], 'nRMSE':reslts['nRMSE']}\n",
    "        Ytspd_inv10=reslts['Yts_pd']  \n",
    "    elif num==11:\n",
    "        print('Yes14:00-14:30')\n",
    "        reslts=model_intrv3(Y_train, X_train, Y_test, X_test, Targ)\n",
    "        st11={'mse': reslts['mse'], 'nRMSE':reslts['nRMSE']}\n",
    "        Ytspd_inv11=reslts['Yts_pd'] \n",
    "    elif num==12:\n",
    "        print('Yes15:00-15:30')\n",
    "        reslts=model_intrv3(Y_train, X_train, Y_test, X_test, Targ)\n",
    "        st12={'mse': reslts['mse'], 'nRMSE':reslts['nRMSE']}\n",
    "        Ytspd_inv12=reslts['Yts_pd']     \n",
    "    elif num==13:\n",
    "        print('Yes16:00-16:30')\n",
    "        reslts=model_intrv2(Y_train, X_train, Y_test, X_test, Targ) \n",
    "        st13={'mse': reslts['mse'], 'nRMSE':reslts['nRMSE']}\n",
    "        Ytspd_inv13=reslts['Yts_pd']  \n",
    "    elif num==14:\n",
    "        print('Yes17:00-17:30')\n",
    "        reslts=model_intrv3(Y_train, X_train, Y_test, X_test, Targ)\n",
    "        st14={'mse': reslts['mse'], 'nRMSE':reslts['nRMSE']}\n",
    "        Ytspd_inv14=reslts['Yts_pd'] \n",
    "    elif num==15:\n",
    "        print('Yes18:00-18:30')\n",
    "        reslts=model_intrv3(Y_train, X_train, Y_test, X_test, Targ)\n",
    "        st15={'mse': reslts['mse'], 'nRMSE':reslts['nRMSE']}\n",
    "        Ytspd_inv15=reslts['Yts_pd']     \n",
    "    elif num==16:\n",
    "        print('Yes19:00-19:30')\n",
    "        reslts=model_intrv3(Y_train, X_train, Y_test, X_test, Targ)\n",
    "        st16={'mse': reslts['mse'], 'nRMSE':reslts['nRMSE']}\n",
    "        Ytspd_inv16=reslts['Yts_pd'] \n",
    "    else:\n",
    "        print('No')"
   ]
  },
  {
   "cell_type": "code",
   "execution_count": 22,
   "metadata": {},
   "outputs": [
    {
     "name": "stdout",
     "output_type": "stream",
     "text": [
      "17520 17520\n"
     ]
    }
   ],
   "source": [
    "sYs=sum([len(Ytspd_inv0), len(Ytspd_inv1), len(Ytspd_inv2), len(Ytspd_inv3), len(Ytspd_inv4),\n",
    "        len(Ytspd_inv5), len(Ytspd_inv6), len(Ytspd_inv7), len(Ytspd_inv8),\n",
    "        len(Ytspd_inv9), len(Ytspd_inv10), len(Ytspd_inv11), len(Ytspd_inv12),\n",
    "        len(Ytspd_inv13), len(Ytspd_inv14), len(Ytspd_inv15), len(Ytspd_inv16)])\n",
    "\n",
    "print(sYs, len(df_tar_feats['Targ'].loc['1/1/2018':'12/31/2018']))"
   ]
  },
  {
   "cell_type": "code",
   "execution_count": 23,
   "metadata": {},
   "outputs": [
    {
     "name": "stdout",
     "output_type": "stream",
     "text": [
      "730\n"
     ]
    }
   ],
   "source": [
    "Ytspd_inv0[Ytspd_inv0>0]=0\n",
    "Ytspd_inv0[Ytspd_inv0<0]=0\n",
    "\n",
    "print(len(Ytspd_inv8))\n",
    "# Ytspd_inv0.head()"
   ]
  },
  {
   "cell_type": "code",
   "execution_count": 24,
   "metadata": {},
   "outputs": [
    {
     "data": {
      "text/html": [
       "<div>\n",
       "<style scoped>\n",
       "    .dataframe tbody tr th:only-of-type {\n",
       "        vertical-align: middle;\n",
       "    }\n",
       "\n",
       "    .dataframe tbody tr th {\n",
       "        vertical-align: top;\n",
       "    }\n",
       "\n",
       "    .dataframe thead th {\n",
       "        text-align: right;\n",
       "    }\n",
       "</style>\n",
       "<table border=\"1\" class=\"dataframe\">\n",
       "  <thead>\n",
       "    <tr style=\"text-align: right;\">\n",
       "      <th></th>\n",
       "      <th>Yts</th>\n",
       "      <th>Ypd</th>\n",
       "    </tr>\n",
       "  </thead>\n",
       "  <tbody>\n",
       "    <tr>\n",
       "      <th>2018-12-31 21:30:00</th>\n",
       "      <td>0.0</td>\n",
       "      <td>0.0</td>\n",
       "    </tr>\n",
       "    <tr>\n",
       "      <th>2018-12-31 22:00:00</th>\n",
       "      <td>0.0</td>\n",
       "      <td>0.0</td>\n",
       "    </tr>\n",
       "    <tr>\n",
       "      <th>2018-12-31 22:30:00</th>\n",
       "      <td>0.0</td>\n",
       "      <td>0.0</td>\n",
       "    </tr>\n",
       "    <tr>\n",
       "      <th>2018-12-31 23:00:00</th>\n",
       "      <td>0.0</td>\n",
       "      <td>0.0</td>\n",
       "    </tr>\n",
       "    <tr>\n",
       "      <th>2018-12-31 23:30:00</th>\n",
       "      <td>0.0</td>\n",
       "      <td>0.0</td>\n",
       "    </tr>\n",
       "  </tbody>\n",
       "</table>\n",
       "</div>"
      ],
      "text/plain": [
       "                     Yts  Ypd\n",
       "2018-12-31 21:30:00  0.0  0.0\n",
       "2018-12-31 22:00:00  0.0  0.0\n",
       "2018-12-31 22:30:00  0.0  0.0\n",
       "2018-12-31 23:00:00  0.0  0.0\n",
       "2018-12-31 23:30:00  0.0  0.0"
      ]
     },
     "execution_count": 24,
     "metadata": {},
     "output_type": "execute_result"
    }
   ],
   "source": [
    "df_ytgfst= pd.concat([Ytspd_inv0, Ytspd_inv1, Ytspd_inv2, Ytspd_inv3, Ytspd_inv4, Ytspd_inv5, Ytspd_inv6, Ytspd_inv7, Ytspd_inv8,\n",
    "                     Ytspd_inv9, Ytspd_inv10, Ytspd_inv11, Ytspd_inv12, Ytspd_inv13, Ytspd_inv14, Ytspd_inv15, Ytspd_inv16])\n",
    "df_ytgfst.sort_index(inplace=True)\n",
    "df_ytgfst.head()\n",
    "df_ytgfst.tail()"
   ]
  },
  {
   "cell_type": "code",
   "execution_count": 30,
   "metadata": {},
   "outputs": [
    {
     "data": {
      "text/plain": [
       "0.0"
      ]
     },
     "execution_count": 30,
     "metadata": {},
     "output_type": "execute_result"
    }
   ],
   "source": [
    "df_ytgfst['Yts'].isna().sum()  #Check if there was enteries as Nan in the target and predictions\n",
    "df_ytgfst['Ypd'].isna().sum()\n",
    "df_tar_feats['Targ'].mean() \n",
    "df_ytgfst['Yts'].mean()"
   ]
  },
  {
   "cell_type": "code",
   "execution_count": 31,
   "metadata": {},
   "outputs": [
    {
     "name": "stdout",
     "output_type": "stream",
     "text": [
      "9461.846983406622 2.6018518910336867\n"
     ]
    }
   ],
   "source": [
    "MSE=mean_squared_error(df_ytgfst['Yts'], df_ytgfst['Ypd'])  \n",
    "# NRMSE=np.sqrt(MSE)/df_ytgfst['Yts'].mean()  #mean of target solar power during 2017 only\n",
    "NRMSE=np.sqrt(MSE)/df_tar_feats['Targ'].mean()  #mean of target solar power durning 2016 and 2017\n",
    "\n",
    "print(MSE, NRMSE)"
   ]
  },
  {
   "cell_type": "code",
   "execution_count": 32,
   "metadata": {},
   "outputs": [
    {
     "name": "stdout",
     "output_type": "stream",
     "text": [
      "9461.846983406622 inf\n"
     ]
    },
    {
     "name": "stderr",
     "output_type": "stream",
     "text": [
      "C:\\Users\\Mhdella\\Anaconda3\\lib\\site-packages\\ipykernel_launcher.py:3: RuntimeWarning: divide by zero encountered in double_scalars\n",
      "  This is separate from the ipykernel package so we can avoid doing imports until\n"
     ]
    }
   ],
   "source": [
    "##### Here RMSE is normalized to NRMSE by division of the mean of solar power in the forecasted year\n",
    "MSE=mean_squared_error(df_ytgfst['Yts'], df_ytgfst['Ypd'])  \n",
    "NRMSE=np.sqrt(MSE)/df_ytgfst['Yts'].mean() #mean of target solar power durning 2016 and 2017\n",
    "\n",
    "print(MSE, NRMSE)"
   ]
  },
  {
   "cell_type": "markdown",
   "metadata": {},
   "source": [
    "Run XGBoost models of 16 intervals to forecast solar power entire 2017, leads to:\n",
    "\n",
    "3.552713678800501e-15 inf\n",
    "Yes04:00-04:30\n",
    "0.475519379605122 2.275413906134348\n",
    "Yes05:00-05:30\n",
    "23.08378863532188 1.142515503418456\n",
    "Yes06:00-06:30\n",
    "181.8652749046895 0.7074376122917255\n",
    "Yes07:00-07:30\n",
    "647.4780610224576 0.5329031527598782\n",
    "Yes08:00-08:30\n",
    "1575.4455398693974 0.4800920292549294\n",
    "Yes09:00-09:30\n",
    "2330.0799227751886 0.44142656785601114\n",
    "Yes10:00-10:30\n",
    "2487.094226788558 0.40738418685260663\n",
    "Yes11:00-11:30\n",
    "2448.7018572767597 0.3946758697832598\n",
    "Yes12:00-12:30\n",
    "2282.52364338894 0.3944895684037349\n",
    "Yes13:00-13:30\n",
    "1976.5856534554887 0.40811435409543745\n",
    "Yes14:00-14:30\n",
    "1351.062692232559 0.44363555627627355\n",
    "Yes15:00-15:30\n",
    "651.7656363669407 0.5305873866634264\n",
    "Yes16:00-16:30\n",
    "146.10163921422046 0.604704632561749\n",
    "Yes17:00-17:30\n",
    "21.76416924077891 0.9839635874614143\n",
    "Yes18:00-18:30\n",
    "1.2307041749359056 2.705843317430681\n",
    "Yes19:00-19:30\n",
    "1.5638608410656872e-05 86.68413151347968\n",
    "\n",
    "For 2017 foreccasts: print(MSE, NRMSE)=671.8857643485188 0.4524476931829704 (<0.4605 in four intervals case)\n",
    "When normalizing nRMSE by mean of all power output: print(MSE, NRMSE)=671.8857643485188, 0.6933337329108594(<0.705803, imporve 1.76%)\n",
    "The most challenging intervals, are noon and afternoon hours 10 to 14. with higher MSEs (nRMSE is not valid here to indicate which interval is most challenging because it is nomralized by division of mean of power, so in mornings and evenings the mean become lower and then the nRMSE)\n",
    "\n",
    "After tuning XGBoost's parameters, the forecasts improved slightly (becuase the previous parameters are from the 8 intervals, which are already from the CV of XGBoost)\n",
    "\n",
    "print(MSE, NRMSE)=682.8464839906529 0.45612323653247416 (<0.4605) \n",
    "\n",
    "NOTE: The NRMSE of XGB models that are tuned by CV is slightly higher than the XGBs that have the parameters of 8-interval-tunning parameters (0.45612323653247416~>0.4524476931829704),although it is a small difference=0.8%.'\n",
    "Also for 2016 using XGBs with new 16 interval  tunned-paramters leads to slightly higher nRMSE: print(MSE, NRMSE)=755.9593927930301,  0.5011357219226292 comapared to the case of using XGBs with  8-intervals-tuned paramters: print(MSE, NRMSE)=735.9314955977709,  0.4944527792392538\n",
    "\n",
    "Therefore, the models of previous CV 8-interval-tuned parameter are which adopted here, while the new models parameter are saved in another file, called as: (Hokk_Hourly_Forecast_Models_16hrs_Tuned_By_CV.py)\n",
    "\n",
    "Improvement over the 8 intervals case: (0.46-0.45)/0.46*100=2.17%\n",
    "\n",
    "Improvement over one model for all hours case (no separate models for every interval):(1.2399-0.693333)/1.2399*100\n",
    "=44.08%\n",
    "\n",
    "If RMSE is normalized to NRMSE by division of the mean of solar power in the forecasted year\n",
    "NRMSE=np.sqrt(MSE)/df_ytgfst['Yts'].mean()\n",
    "\n",
    "For 2016: print(MSE, NRMSE)=735.9314955977709,  0.4944527792392538\n",
    "\n",
    "For 2017: print(MSE, NRMSE)=6671.8857643485188,  0.4524476931829704\n",
    "\n",
    "While for 2108, the actual solar power output is not known, but in the tentative ranking of results in contest website, for 2018 forecast is first ranked is NRMSE=0.498  https://cuusoo.com/predictions/123\n",
    "\n",
    "# Note:\n",
    "Do not forget to uncomment the option of 2018 (X_train, X_test and Y_train, Y_test), when submitting the forecasts of solar power in 2018 (not 2017 or 2016) for Hokkaido island in Japan to the contest secretariat.\n",
    "    # Y_train=Targ.loc['1/1/2017':'12/31/2017']\n",
    "    # Y_test=Targ.loc['1/1/2018':'12/31/2018']\n",
    "    \n",
    "Wihtout albedo snow (asn) and snow depth (sd) variables: foreccasts in 2017 has NRMSE=0.4509 < 0.4524 (imporv=0.35%)\n",
    "\n",
    "Without asn, sd, from all ensembles (mean, max min), NRMSE=0.4561186593208066(>0.4524)\n",
    "\n",
    "Without asn, sd, u10, v10, from all ensembles (mean, max min), NRMSE=0.45997067690183424(>0.4524)\n",
    "\n",
    "Without  total cloud ice and water content (tciw and tclw), NRMSE=0.46527322388508574(>0.4524)\n",
    "\n",
    "Without  the maimum and minimum values of variables of ensemble members, just usign the mean values of 12 variables of emsemble members, NRMSE=0.4559069170772983(>0.4524)\n",
    "\n",
    "In Hokk_Sol_Pw_Forecasts_16Hours_ssrd_lead_lag.ipyn ssrd lead+1,lead+2 and lag-1, lag-1 are included by they are just slightly imporved the results:\n",
    "for 2017: print(MSE, NRMSE)=668.646926770953 0.45135585961527724(<0.4524), imporve=0.24%\n",
    "for 2016(with lead and lags of ssrd)print(MSE, NRMSE=735.4564339689094 0.4942931628455824(~=0.4944527792392538)\n"
   ]
  },
  {
   "cell_type": "code",
   "execution_count": null,
   "metadata": {},
   "outputs": [],
   "source": []
  },
  {
   "cell_type": "markdown",
   "metadata": {},
   "source": [
    "0.693333*df_tar_feats['Targ'].mean()/max(df_tar_feats['Targ'])=0.0829%"
   ]
  },
  {
   "cell_type": "code",
   "execution_count": 19,
   "metadata": {},
   "outputs": [
    {
     "name": "stdout",
     "output_type": "stream",
     "text": [
      "5840 730 730 730 730\n"
     ]
    }
   ],
   "source": [
    "print(len(Ytspd_inv0), len(Ytspd_inv1), len(Ytspd_inv2), len(Ytspd_inv3), len(Ytspd_inv4))"
   ]
  },
  {
   "cell_type": "code",
   "execution_count": 20,
   "metadata": {},
   "outputs": [
    {
     "data": {
      "text/plain": [
       "0.08291980784274743"
      ]
     },
     "execution_count": 20,
     "metadata": {},
     "output_type": "execute_result"
    }
   ],
   "source": [
    "0.693333*df_tar_feats['Targ'].mean()/max(df_tar_feats['Targ']) "
   ]
  },
  {
   "cell_type": "code",
   "execution_count": 21,
   "metadata": {},
   "outputs": [
    {
     "ename": "ZeroDivisionError",
     "evalue": "float division by zero",
     "output_type": "error",
     "traceback": [
      "\u001b[1;31m---------------------------------------------------------------------------\u001b[0m",
      "\u001b[1;31mZeroDivisionError\u001b[0m                         Traceback (most recent call last)",
      "\u001b[1;32m<ipython-input-21-600d0e77cfd1>\u001b[0m in \u001b[0;36m<module>\u001b[1;34m()\u001b[0m\n\u001b[1;32m----> 1\u001b[1;33m \u001b[1;36m0.452447\u001b[0m\u001b[1;33m*\u001b[0m\u001b[0mdf_ytgfst\u001b[0m\u001b[1;33m[\u001b[0m\u001b[1;34m'Yts'\u001b[0m\u001b[1;33m]\u001b[0m\u001b[1;33m.\u001b[0m\u001b[0mmean\u001b[0m\u001b[1;33m(\u001b[0m\u001b[1;33m)\u001b[0m\u001b[1;33m/\u001b[0m\u001b[0mmax\u001b[0m\u001b[1;33m(\u001b[0m\u001b[0mdf_ytgfst\u001b[0m\u001b[1;33m[\u001b[0m\u001b[1;34m'Yts'\u001b[0m\u001b[1;33m]\u001b[0m\u001b[1;33m)\u001b[0m\u001b[1;33m\u001b[0m\u001b[0m\n\u001b[0m",
      "\u001b[1;31mZeroDivisionError\u001b[0m: float division by zero"
     ]
    }
   ],
   "source": [
    "0.452447*df_ytgfst['Yts'].mean()/max(df_ytgfst['Yts']) "
   ]
  },
  {
   "cell_type": "code",
   "execution_count": null,
   "metadata": {},
   "outputs": [],
   "source": [
    "(0.70580-0.693333)/0.70580*100"
   ]
  },
  {
   "cell_type": "code",
   "execution_count": null,
   "metadata": {},
   "outputs": [],
   "source": [
    "df_ytgfst['Yts'].mean()"
   ]
  },
  {
   "cell_type": "code",
   "execution_count": null,
   "metadata": {},
   "outputs": [],
   "source": [
    "(1.2399-0.693333)/1.2399*100"
   ]
  },
  {
   "cell_type": "code",
   "execution_count": null,
   "metadata": {},
   "outputs": [],
   "source": [
    "(0.46-0.45)/0.46"
   ]
  },
  {
   "cell_type": "code",
   "execution_count": null,
   "metadata": {},
   "outputs": [],
   "source": [
    "(0.45612323653247416-0.4524476931829704)/0.45612323653247416\n"
   ]
  },
  {
   "cell_type": "code",
   "execution_count": null,
   "metadata": {},
   "outputs": [],
   "source": [
    "(0.4524476931829704-0.450862420876339)/0.4524476931829704*100"
   ]
  },
  {
   "cell_type": "code",
   "execution_count": null,
   "metadata": {},
   "outputs": [],
   "source": [
    "print(len(list(X_test)))\n",
    "X_test.head()"
   ]
  },
  {
   "cell_type": "code",
   "execution_count": null,
   "metadata": {},
   "outputs": [],
   "source": []
  },
  {
   "cell_type": "code",
   "execution_count": null,
   "metadata": {},
   "outputs": [],
   "source": []
  },
  {
   "cell_type": "code",
   "execution_count": null,
   "metadata": {},
   "outputs": [],
   "source": []
  },
  {
   "cell_type": "code",
   "execution_count": null,
   "metadata": {},
   "outputs": [],
   "source": []
  },
  {
   "cell_type": "code",
   "execution_count": null,
   "metadata": {},
   "outputs": [],
   "source": []
  }
 ],
 "metadata": {
  "kernelspec": {
   "display_name": "Python 3",
   "language": "python",
   "name": "python3"
  },
  "language_info": {
   "codemirror_mode": {
    "name": "ipython",
    "version": 3
   },
   "file_extension": ".py",
   "mimetype": "text/x-python",
   "name": "python",
   "nbconvert_exporter": "python",
   "pygments_lexer": "ipython3",
   "version": "3.7.0"
  }
 },
 "nbformat": 4,
 "nbformat_minor": 2
}
