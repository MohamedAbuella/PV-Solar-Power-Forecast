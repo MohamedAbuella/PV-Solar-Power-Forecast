{
 "cells": [
  {
   "cell_type": "markdown",
   "metadata": {},
   "source": [
    "Training and forecasting the solar power of Hokkaido Island in Japna\n",
    "Training 2017, Forecast 2018\n",
    "\n",
    "https://stackoverflow.com/questions/35139108/how-to-install-xgboost-in-anaconda-python-windows-platform"
   ]
  },
  {
   "cell_type": "code",
   "execution_count": 1,
   "metadata": {},
   "outputs": [],
   "source": [
    "import pandas as pd\n",
    "import numpy as np\n",
    "import datetime as dt\n",
    "import csv \n",
    "import matplotlib.pyplot as plt\n",
    "import pytz\n",
    "import xgboost as xgb"
   ]
  },
  {
   "cell_type": "code",
   "execution_count": 2,
   "metadata": {},
   "outputs": [
    {
     "data": {
      "text/plain": [
       "'C:\\\\Users\\\\Mhdella\\\\Google Drive\\\\Jupyter Folder\\\\PV_Hokkaido_forecast_contest\\\\pvinhokkaidodatadistribution'"
      ]
     },
     "execution_count": 2,
     "metadata": {},
     "output_type": "execute_result"
    }
   ],
   "source": [
    "import os\n",
    "cwd = os.getcwd()\n",
    "cwd\n",
    "# os.chdir('pvinhokkaidodatadistribution')\n",
    "# C:\\Users\\Mhdella\\Google Drive\\Jupyter Folder\\PV_Hokkaido_forecast_contest\\\n",
    "os.chdir('C:\\\\Users\\\\Mhdella\\\\Google Drive\\\\Jupyter Folder\\\\PV_Hokkaido_forecast_contest\\\\pvinhokkaidodatadistribution')\n",
    "nwd=os.getcwd()\n",
    "nwd"
   ]
  },
  {
   "cell_type": "code",
   "execution_count": 3,
   "metadata": {},
   "outputs": [
    {
     "data": {
      "text/html": [
       "<div>\n",
       "<style scoped>\n",
       "    .dataframe tbody tr th:only-of-type {\n",
       "        vertical-align: middle;\n",
       "    }\n",
       "\n",
       "    .dataframe tbody tr th {\n",
       "        vertical-align: top;\n",
       "    }\n",
       "\n",
       "    .dataframe thead th {\n",
       "        text-align: right;\n",
       "    }\n",
       "</style>\n",
       "<table border=\"1\" class=\"dataframe\">\n",
       "  <thead>\n",
       "    <tr style=\"text-align: right;\">\n",
       "      <th></th>\n",
       "      <th>DATE</th>\n",
       "      <th>TIME</th>\n",
       "      <th>S1[MW]</th>\n",
       "      <th>S2[MW]</th>\n",
       "      <th>solar[kW/m2]</th>\n",
       "      <th>temp[deg C]</th>\n",
       "      <th>solar[kW/m2].1</th>\n",
       "      <th>temp[deg C].1</th>\n",
       "      <th>solar[kW/m2].2</th>\n",
       "      <th>temp[deg C].2</th>\n",
       "      <th>...</th>\n",
       "      <th>t2m.2</th>\n",
       "      <th>asn.2</th>\n",
       "      <th>sd.2</th>\n",
       "      <th>ssrdc.2</th>\n",
       "      <th>ssrd.2</th>\n",
       "      <th>tcc.2</th>\n",
       "      <th>tciw.2</th>\n",
       "      <th>tclw.2</th>\n",
       "      <th>tp.2</th>\n",
       "      <th>wind_speed.2</th>\n",
       "    </tr>\n",
       "  </thead>\n",
       "  <tbody>\n",
       "    <tr>\n",
       "      <th>0</th>\n",
       "      <td>1/1/2016</td>\n",
       "      <td>9:00:00</td>\n",
       "      <td>54.7</td>\n",
       "      <td>78.4</td>\n",
       "      <td>0.159228</td>\n",
       "      <td>-1.2</td>\n",
       "      <td>0.276627</td>\n",
       "      <td>0.0</td>\n",
       "      <td>0.339371</td>\n",
       "      <td>-5.9</td>\n",
       "      <td>...</td>\n",
       "      <td>-13.909399</td>\n",
       "      <td>0.600965</td>\n",
       "      <td>7.450000e-09</td>\n",
       "      <td>57.319398</td>\n",
       "      <td>30.413241</td>\n",
       "      <td>0.000000</td>\n",
       "      <td>0.000000</td>\n",
       "      <td>0.000000</td>\n",
       "      <td>0.000000e+00</td>\n",
       "      <td>7.704484</td>\n",
       "    </tr>\n",
       "    <tr>\n",
       "      <th>1</th>\n",
       "      <td>1/1/2016</td>\n",
       "      <td>9:30:00</td>\n",
       "      <td>113.8</td>\n",
       "      <td>89.0</td>\n",
       "      <td>0.221269</td>\n",
       "      <td>-0.3</td>\n",
       "      <td>0.307764</td>\n",
       "      <td>0.1</td>\n",
       "      <td>0.297246</td>\n",
       "      <td>-4.4</td>\n",
       "      <td>...</td>\n",
       "      <td>-12.694835</td>\n",
       "      <td>0.600870</td>\n",
       "      <td>7.450000e-09</td>\n",
       "      <td>104.414120</td>\n",
       "      <td>55.211142</td>\n",
       "      <td>0.037510</td>\n",
       "      <td>0.000396</td>\n",
       "      <td>0.000012</td>\n",
       "      <td>2.690000e-07</td>\n",
       "      <td>7.772519</td>\n",
       "    </tr>\n",
       "    <tr>\n",
       "      <th>2</th>\n",
       "      <td>1/1/2016</td>\n",
       "      <td>10:00:00</td>\n",
       "      <td>115.9</td>\n",
       "      <td>97.3</td>\n",
       "      <td>0.231619</td>\n",
       "      <td>-0.5</td>\n",
       "      <td>0.354492</td>\n",
       "      <td>0.7</td>\n",
       "      <td>0.320564</td>\n",
       "      <td>-2.3</td>\n",
       "      <td>...</td>\n",
       "      <td>-11.480271</td>\n",
       "      <td>0.600775</td>\n",
       "      <td>7.450000e-09</td>\n",
       "      <td>151.508843</td>\n",
       "      <td>80.009043</td>\n",
       "      <td>0.075021</td>\n",
       "      <td>0.000793</td>\n",
       "      <td>0.000023</td>\n",
       "      <td>5.390000e-07</td>\n",
       "      <td>7.840554</td>\n",
       "    </tr>\n",
       "    <tr>\n",
       "      <th>3</th>\n",
       "      <td>1/1/2016</td>\n",
       "      <td>10:30:00</td>\n",
       "      <td>139.5</td>\n",
       "      <td>100.6</td>\n",
       "      <td>0.205909</td>\n",
       "      <td>-0.4</td>\n",
       "      <td>0.363168</td>\n",
       "      <td>0.8</td>\n",
       "      <td>0.306980</td>\n",
       "      <td>-1.9</td>\n",
       "      <td>...</td>\n",
       "      <td>-10.265707</td>\n",
       "      <td>0.600680</td>\n",
       "      <td>7.450000e-09</td>\n",
       "      <td>198.603565</td>\n",
       "      <td>104.806944</td>\n",
       "      <td>0.112531</td>\n",
       "      <td>0.001189</td>\n",
       "      <td>0.000034</td>\n",
       "      <td>8.080000e-07</td>\n",
       "      <td>7.908589</td>\n",
       "    </tr>\n",
       "    <tr>\n",
       "      <th>4</th>\n",
       "      <td>1/1/2016</td>\n",
       "      <td>11:00:00</td>\n",
       "      <td>125.7</td>\n",
       "      <td>96.8</td>\n",
       "      <td>0.277444</td>\n",
       "      <td>-0.2</td>\n",
       "      <td>0.358989</td>\n",
       "      <td>0.6</td>\n",
       "      <td>0.237579</td>\n",
       "      <td>-3.1</td>\n",
       "      <td>...</td>\n",
       "      <td>-9.051143</td>\n",
       "      <td>0.600586</td>\n",
       "      <td>7.450000e-09</td>\n",
       "      <td>245.698287</td>\n",
       "      <td>129.604846</td>\n",
       "      <td>0.150041</td>\n",
       "      <td>0.001585</td>\n",
       "      <td>0.000046</td>\n",
       "      <td>1.080000e-06</td>\n",
       "      <td>7.976625</td>\n",
       "    </tr>\n",
       "  </tbody>\n",
       "</table>\n",
       "<p>5 rows × 48 columns</p>\n",
       "</div>"
      ],
      "text/plain": [
       "       DATE      TIME  S1[MW]  S2[MW]  solar[kW/m2]  temp[deg C]  \\\n",
       "0  1/1/2016   9:00:00    54.7    78.4      0.159228         -1.2   \n",
       "1  1/1/2016   9:30:00   113.8    89.0      0.221269         -0.3   \n",
       "2  1/1/2016  10:00:00   115.9    97.3      0.231619         -0.5   \n",
       "3  1/1/2016  10:30:00   139.5   100.6      0.205909         -0.4   \n",
       "4  1/1/2016  11:00:00   125.7    96.8      0.277444         -0.2   \n",
       "\n",
       "   solar[kW/m2].1  temp[deg C].1  solar[kW/m2].2  temp[deg C].2      ...       \\\n",
       "0        0.276627            0.0        0.339371           -5.9      ...        \n",
       "1        0.307764            0.1        0.297246           -4.4      ...        \n",
       "2        0.354492            0.7        0.320564           -2.3      ...        \n",
       "3        0.363168            0.8        0.306980           -1.9      ...        \n",
       "4        0.358989            0.6        0.237579           -3.1      ...        \n",
       "\n",
       "       t2m.2     asn.2          sd.2     ssrdc.2      ssrd.2     tcc.2  \\\n",
       "0 -13.909399  0.600965  7.450000e-09   57.319398   30.413241  0.000000   \n",
       "1 -12.694835  0.600870  7.450000e-09  104.414120   55.211142  0.037510   \n",
       "2 -11.480271  0.600775  7.450000e-09  151.508843   80.009043  0.075021   \n",
       "3 -10.265707  0.600680  7.450000e-09  198.603565  104.806944  0.112531   \n",
       "4  -9.051143  0.600586  7.450000e-09  245.698287  129.604846  0.150041   \n",
       "\n",
       "     tciw.2    tclw.2          tp.2  wind_speed.2  \n",
       "0  0.000000  0.000000  0.000000e+00      7.704484  \n",
       "1  0.000396  0.000012  2.690000e-07      7.772519  \n",
       "2  0.000793  0.000023  5.390000e-07      7.840554  \n",
       "3  0.001189  0.000034  8.080000e-07      7.908589  \n",
       "4  0.001585  0.000046  1.080000e-06      7.976625  \n",
       "\n",
       "[5 rows x 48 columns]"
      ]
     },
     "execution_count": 3,
     "metadata": {},
     "output_type": "execute_result"
    }
   ],
   "source": [
    "# file_name='Merg_Ens_Agg_42_44_mes17_18.csv'\n",
    "# file_name='Merg_Ens_Agg_43_mes17_18.csv'\n",
    "\n",
    "# file_name='Merg_Ens_Agg_42_44_mes16_17_18.csv'\n",
    "file_name='Merg_Ens_mmaxmin_Agg_42_44_mes16_18.csv'\n",
    "\n",
    "# file_name='Merg_Res_Comb_S1_S2_2018_tz_Jp.csv'\n",
    "# file_mane='Merg_Res_Comb_S1_S2_2017_tz_Jp.csv'\n",
    "\n",
    "df_hok=pd.read_csv(file_name) \n",
    "df_hok.head()\n",
    "# df_hok.tail()"
   ]
  },
  {
   "cell_type": "code",
   "execution_count": 4,
   "metadata": {},
   "outputs": [],
   "source": [
    "#### This cell just to check out the dataset with different coordination lat 43 and lat42-44 from ECMWF\n",
    "df_hok1=pd.read_csv('Merg_Ens_Agg_42_44_mes17_18.csv') \n",
    "df_hok2=pd.read_csv('Merg_Ens_Agg_43_mes17_18.csv')\n",
    "\n",
    "df_mns= {'col1': df_hok1.mean(), 'col2': df_hok2.mean()}\n",
    "# df_mns"
   ]
  },
  {
   "cell_type": "markdown",
   "metadata": {},
   "source": [
    "https://scikit-learn.org/stable/modules/generated/sklearn.ensemble.GradientBoostingRegressor.html\n",
    "\n",
    "https://scikit-learn.org/stable/auto_examples/ensemble/plot_gradient_boosting_regression.html#sphx-glr-auto-examples-ensemble-plot-gradient-boosting-regression-py"
   ]
  },
  {
   "cell_type": "code",
   "execution_count": 5,
   "metadata": {},
   "outputs": [
    {
     "data": {
      "text/html": [
       "<div>\n",
       "<style scoped>\n",
       "    .dataframe tbody tr th:only-of-type {\n",
       "        vertical-align: middle;\n",
       "    }\n",
       "\n",
       "    .dataframe tbody tr th {\n",
       "        vertical-align: top;\n",
       "    }\n",
       "\n",
       "    .dataframe thead th {\n",
       "        text-align: right;\n",
       "    }\n",
       "</style>\n",
       "<table border=\"1\" class=\"dataframe\">\n",
       "  <thead>\n",
       "    <tr style=\"text-align: right;\">\n",
       "      <th></th>\n",
       "      <th>DATE</th>\n",
       "      <th>TIME</th>\n",
       "      <th>S1[MW]</th>\n",
       "      <th>S2[MW]</th>\n",
       "      <th>solar[kW/m2]</th>\n",
       "      <th>temp[deg C]</th>\n",
       "      <th>solar[kW/m2].1</th>\n",
       "      <th>temp[deg C].1</th>\n",
       "      <th>solar[kW/m2].2</th>\n",
       "      <th>temp[deg C].2</th>\n",
       "      <th>...</th>\n",
       "      <th>t2m.2</th>\n",
       "      <th>asn.2</th>\n",
       "      <th>sd.2</th>\n",
       "      <th>ssrdc.2</th>\n",
       "      <th>ssrd.2</th>\n",
       "      <th>tcc.2</th>\n",
       "      <th>tciw.2</th>\n",
       "      <th>tclw.2</th>\n",
       "      <th>tp.2</th>\n",
       "      <th>wind_speed.2</th>\n",
       "    </tr>\n",
       "  </thead>\n",
       "  <tbody>\n",
       "    <tr>\n",
       "      <th>0</th>\n",
       "      <td>1/1/2016</td>\n",
       "      <td>9:00:00</td>\n",
       "      <td>54.7</td>\n",
       "      <td>78.4</td>\n",
       "      <td>0.159228</td>\n",
       "      <td>-1.2</td>\n",
       "      <td>0.276627</td>\n",
       "      <td>0.0</td>\n",
       "      <td>0.339371</td>\n",
       "      <td>-5.9</td>\n",
       "      <td>...</td>\n",
       "      <td>-13.909399</td>\n",
       "      <td>0.600965</td>\n",
       "      <td>7.450000e-09</td>\n",
       "      <td>57.319398</td>\n",
       "      <td>30.413241</td>\n",
       "      <td>0.000000</td>\n",
       "      <td>0.000000</td>\n",
       "      <td>0.000000</td>\n",
       "      <td>0.000000e+00</td>\n",
       "      <td>7.704484</td>\n",
       "    </tr>\n",
       "    <tr>\n",
       "      <th>1</th>\n",
       "      <td>1/1/2016</td>\n",
       "      <td>9:30:00</td>\n",
       "      <td>113.8</td>\n",
       "      <td>89.0</td>\n",
       "      <td>0.221269</td>\n",
       "      <td>-0.3</td>\n",
       "      <td>0.307764</td>\n",
       "      <td>0.1</td>\n",
       "      <td>0.297246</td>\n",
       "      <td>-4.4</td>\n",
       "      <td>...</td>\n",
       "      <td>-12.694835</td>\n",
       "      <td>0.600870</td>\n",
       "      <td>7.450000e-09</td>\n",
       "      <td>104.414120</td>\n",
       "      <td>55.211142</td>\n",
       "      <td>0.037510</td>\n",
       "      <td>0.000396</td>\n",
       "      <td>0.000012</td>\n",
       "      <td>2.690000e-07</td>\n",
       "      <td>7.772519</td>\n",
       "    </tr>\n",
       "    <tr>\n",
       "      <th>2</th>\n",
       "      <td>1/1/2016</td>\n",
       "      <td>10:00:00</td>\n",
       "      <td>115.9</td>\n",
       "      <td>97.3</td>\n",
       "      <td>0.231619</td>\n",
       "      <td>-0.5</td>\n",
       "      <td>0.354492</td>\n",
       "      <td>0.7</td>\n",
       "      <td>0.320564</td>\n",
       "      <td>-2.3</td>\n",
       "      <td>...</td>\n",
       "      <td>-11.480271</td>\n",
       "      <td>0.600775</td>\n",
       "      <td>7.450000e-09</td>\n",
       "      <td>151.508843</td>\n",
       "      <td>80.009043</td>\n",
       "      <td>0.075021</td>\n",
       "      <td>0.000793</td>\n",
       "      <td>0.000023</td>\n",
       "      <td>5.390000e-07</td>\n",
       "      <td>7.840554</td>\n",
       "    </tr>\n",
       "    <tr>\n",
       "      <th>3</th>\n",
       "      <td>1/1/2016</td>\n",
       "      <td>10:30:00</td>\n",
       "      <td>139.5</td>\n",
       "      <td>100.6</td>\n",
       "      <td>0.205909</td>\n",
       "      <td>-0.4</td>\n",
       "      <td>0.363168</td>\n",
       "      <td>0.8</td>\n",
       "      <td>0.306980</td>\n",
       "      <td>-1.9</td>\n",
       "      <td>...</td>\n",
       "      <td>-10.265707</td>\n",
       "      <td>0.600680</td>\n",
       "      <td>7.450000e-09</td>\n",
       "      <td>198.603565</td>\n",
       "      <td>104.806944</td>\n",
       "      <td>0.112531</td>\n",
       "      <td>0.001189</td>\n",
       "      <td>0.000034</td>\n",
       "      <td>8.080000e-07</td>\n",
       "      <td>7.908589</td>\n",
       "    </tr>\n",
       "    <tr>\n",
       "      <th>4</th>\n",
       "      <td>1/1/2016</td>\n",
       "      <td>11:00:00</td>\n",
       "      <td>125.7</td>\n",
       "      <td>96.8</td>\n",
       "      <td>0.277444</td>\n",
       "      <td>-0.2</td>\n",
       "      <td>0.358989</td>\n",
       "      <td>0.6</td>\n",
       "      <td>0.237579</td>\n",
       "      <td>-3.1</td>\n",
       "      <td>...</td>\n",
       "      <td>-9.051143</td>\n",
       "      <td>0.600586</td>\n",
       "      <td>7.450000e-09</td>\n",
       "      <td>245.698287</td>\n",
       "      <td>129.604846</td>\n",
       "      <td>0.150041</td>\n",
       "      <td>0.001585</td>\n",
       "      <td>0.000046</td>\n",
       "      <td>1.080000e-06</td>\n",
       "      <td>7.976625</td>\n",
       "    </tr>\n",
       "  </tbody>\n",
       "</table>\n",
       "<p>5 rows × 48 columns</p>\n",
       "</div>"
      ],
      "text/plain": [
       "       DATE      TIME  S1[MW]  S2[MW]  solar[kW/m2]  temp[deg C]  \\\n",
       "0  1/1/2016   9:00:00    54.7    78.4      0.159228         -1.2   \n",
       "1  1/1/2016   9:30:00   113.8    89.0      0.221269         -0.3   \n",
       "2  1/1/2016  10:00:00   115.9    97.3      0.231619         -0.5   \n",
       "3  1/1/2016  10:30:00   139.5   100.6      0.205909         -0.4   \n",
       "4  1/1/2016  11:00:00   125.7    96.8      0.277444         -0.2   \n",
       "\n",
       "   solar[kW/m2].1  temp[deg C].1  solar[kW/m2].2  temp[deg C].2      ...       \\\n",
       "0        0.276627            0.0        0.339371           -5.9      ...        \n",
       "1        0.307764            0.1        0.297246           -4.4      ...        \n",
       "2        0.354492            0.7        0.320564           -2.3      ...        \n",
       "3        0.363168            0.8        0.306980           -1.9      ...        \n",
       "4        0.358989            0.6        0.237579           -3.1      ...        \n",
       "\n",
       "       t2m.2     asn.2          sd.2     ssrdc.2      ssrd.2     tcc.2  \\\n",
       "0 -13.909399  0.600965  7.450000e-09   57.319398   30.413241  0.000000   \n",
       "1 -12.694835  0.600870  7.450000e-09  104.414120   55.211142  0.037510   \n",
       "2 -11.480271  0.600775  7.450000e-09  151.508843   80.009043  0.075021   \n",
       "3 -10.265707  0.600680  7.450000e-09  198.603565  104.806944  0.112531   \n",
       "4  -9.051143  0.600586  7.450000e-09  245.698287  129.604846  0.150041   \n",
       "\n",
       "     tciw.2    tclw.2          tp.2  wind_speed.2  \n",
       "0  0.000000  0.000000  0.000000e+00      7.704484  \n",
       "1  0.000396  0.000012  2.690000e-07      7.772519  \n",
       "2  0.000793  0.000023  5.390000e-07      7.840554  \n",
       "3  0.001189  0.000034  8.080000e-07      7.908589  \n",
       "4  0.001585  0.000046  1.080000e-06      7.976625  \n",
       "\n",
       "[5 rows x 48 columns]"
      ]
     },
     "execution_count": 5,
     "metadata": {},
     "output_type": "execute_result"
    }
   ],
   "source": [
    "import sklearn \n",
    "import numpy as np\n",
    "from sklearn.metrics import mean_squared_error\n",
    "# X, y = make_friedman1(n_samples=1200, random_state=0, noise=1.0)\n",
    "# X, y = make_friedman1(n_samples=1200, random_state=0, noise=1.0)\n",
    "df_hok.head()"
   ]
  },
  {
   "cell_type": "code",
   "execution_count": 6,
   "metadata": {},
   "outputs": [
    {
     "name": "stdout",
     "output_type": "stream",
     "text": [
      "['DATE', 'TIME', 'S1[MW]', 'S2[MW]', 'solar[kW/m2]', 'temp[deg C]', 'solar[kW/m2].1', 'temp[deg C].1', 'solar[kW/m2].2', 'temp[deg C].2', 'solar[kW/m2].3', 'temp[deg C].3', 'u10', 'v10', 't2m', 'asn', 'sd', 'ssrdc', 'ssrd', 'tcc', 'tciw', 'tclw', 'tp', 'wind_speed', 'u10.1', 'v10.1', 't2m.1', 'asn.1', 'sd.1', 'ssrdc.1', 'ssrd.1', 'tcc.1', 'tciw.1', 'tclw.1', 'tp.1', 'wind_speed.1', 'u10.2', 'v10.2', 't2m.2', 'asn.2', 'sd.2', 'ssrdc.2', 'ssrd.2', 'tcc.2', 'tciw.2', 'tclw.2', 'tp.2', 'wind_speed.2']\n"
     ]
    }
   ],
   "source": [
    "print(list(df_hok))"
   ]
  },
  {
   "cell_type": "code",
   "execution_count": 7,
   "metadata": {},
   "outputs": [
    {
     "name": "stdout",
     "output_type": "stream",
     "text": [
      "36 49\n"
     ]
    }
   ],
   "source": [
    "#### df_feats=df_hok[df_hok['ssrdc'] != 0] ## dropping night hours, when clear-sky solar irradiance (SSRDC) forecasts=0, and this can be applied in real forecasts  \n",
    "\n",
    "#### df_feats=df_hok.set_index('DATE')\n",
    "\n",
    "############################# Not dropping night hours\n",
    "\n",
    "df_tar_feats=df_hok.set_index(pd.to_datetime(df_hok['DATE'] + ' ' + df_hok['TIME']))\n",
    "\n",
    "############## In case of forecast solar power  #######\n",
    "\n",
    "Targ=df_tar_feats['S1[MW]']+df_tar_feats['S2[MW]']\n",
    "Targ = Targ.replace(np.nan, 0, regex=True)\n",
    "\n",
    "df_feats=df_tar_feats[['u10', 'v10', 't2m', 'asn', 'sd', 'ssrdc', 'ssrd', 'tcc', 'tciw', 'tclw', 'tp', 'wind_speed', \n",
    "             'u10.1', 'v10.1', 't2m.1', 'asn.1', 'sd.1', 'ssrdc.1', 'ssrd.1', 'tcc.1', 'tciw.1', 'tclw.1', 'tp.1', 'wind_speed.1', \n",
    "             'u10.2', 'v10.2', 't2m.2', 'asn.2', 'sd.2', 'ssrdc.2', 'ssrd.2', 'tcc.2', 'tciw.2', 'tclw.2', 'tp.2', 'wind_speed.2']]\n",
    "############### In case of forecast solar irradiance  #######\n",
    "\n",
    "# Targ=df_tar_feats['ssrd']  #ssrd is the mean of ssrd data from all ensemble members\n",
    "# df_feats=df_tar_feats[['u10', 'v10', 't2m', 'asn', 'sd', 'ssrdc', 'tcc', 'tciw', 'tclw', 'tp', 'wind_speed', \n",
    "#              'u10.1', 'v10.1', 't2m.1', 'asn.1', 'sd.1', 'ssrdc.1', 'tcc.1', 'tciw.1', 'tclw.1', 'tp.1', 'wind_speed.1', \n",
    "#              'u10.2', 'v10.2', 't2m.2', 'asn.2', 'sd.2', 'ssrdc.2', 'tcc.2', 'tciw.2', 'tclw.2', 'tp.2', 'wind_speed.2']]\n",
    "\n",
    "\n",
    "df_tar_feats.insert(loc=0, column='Targ', value=Targ)\n",
    "\n",
    "df_feats.head()\n",
    "df_feats.tail()\n",
    "\n",
    "print(len(list(df_feats)), len(list(df_tar_feats)))\n",
    "# Targ.tail()\n"
   ]
  },
  {
   "cell_type": "code",
   "execution_count": 8,
   "metadata": {},
   "outputs": [
    {
     "name": "stdout",
     "output_type": "stream",
     "text": [
      "52603 312.6 37.385689029143066\n"
     ]
    }
   ],
   "source": [
    "len(df_feats)\n",
    "# len(Targ)\n",
    "print(len(Targ), max(Targ), Targ.mean())"
   ]
  },
  {
   "cell_type": "code",
   "execution_count": 9,
   "metadata": {},
   "outputs": [],
   "source": [
    "# ind_date_time= pd.date_range('2019-03-08 00:00','2019-03-09 00:00',freq='120T')\n",
    "ind_date_time= pd.date_range('2019-03-08 04:00','2019-03-09 03:30',freq='30T')\n",
    "\n",
    "Hours= ind_date_time.strftime('%H:%M')\n",
    "# Hours\n",
    "# for num in range(0,len(Hours),6):\n",
    "#     print(Hours[num])"
   ]
  },
  {
   "cell_type": "code",
   "execution_count": 10,
   "metadata": {},
   "outputs": [],
   "source": [
    "df_intrv0=df_tar_feats.between_time('20:00','03:30')\n",
    "df_intrv1=df_tar_feats.between_time('04:00','04:30')\n",
    "df_intrv2=df_tar_feats.between_time('05:00','05:30')\n",
    "df_intrv3=df_tar_feats.between_time('06:00','06:30')\n",
    "df_intrv4=df_tar_feats.between_time('07:00','07:30')\n",
    "df_intrv5=df_tar_feats.between_time('08:00','08:30')\n",
    "df_intrv6=df_tar_feats.between_time('09:00','09:30')\n",
    "df_intrv7=df_tar_feats.between_time('10:00','10:30')\n",
    "df_intrv8=df_tar_feats.between_time('11:00','11:30')\n",
    "df_intrv9=df_tar_feats.between_time('12:00','12:30')\n",
    "df_intrv10=df_tar_feats.between_time('13:00','13:30')\n",
    "df_intrv11=df_tar_feats.between_time('14:00','14:30')\n",
    "df_intrv12=df_tar_feats.between_time('15:00','15:30')\n",
    "df_intrv13=df_tar_feats.between_time('16:00','16:30')\n",
    "df_intrv14=df_tar_feats.between_time('17:00','17:30')\n",
    "df_intrv15=df_tar_feats.between_time('18:00','18:30')\n",
    "df_intrv16=df_tar_feats.between_time('19:00','19:30')\n",
    "# df_intrv16.head(9)"
   ]
  },
  {
   "cell_type": "code",
   "execution_count": 11,
   "metadata": {},
   "outputs": [],
   "source": [
    "#df=dfdfd #Just to stop before run the following cell"
   ]
  },
  {
   "cell_type": "code",
   "execution_count": 12,
   "metadata": {},
   "outputs": [
    {
     "name": "stdout",
     "output_type": "stream",
     "text": [
      "Yes20:00-3:30\n",
      "Fitting 2 folds for each of 48 candidates, totalling 96 fits\n"
     ]
    },
    {
     "name": "stderr",
     "output_type": "stream",
     "text": [
      "[Parallel(n_jobs=4)]: Using backend LokyBackend with 4 concurrent workers.\n",
      "[Parallel(n_jobs=4)]: Done  24 tasks      | elapsed:   14.4s\n",
      "[Parallel(n_jobs=4)]: Done  96 out of  96 | elapsed:   52.6s finished\n"
     ]
    },
    {
     "name": "stdout",
     "output_type": "stream",
     "text": [
      "{'learning_rate': 0.2, 'max_depth': 2, 'n_estimators': 100}\n",
      "Yes04:00-04:30\n",
      "Fitting 2 folds for each of 48 candidates, totalling 96 fits\n"
     ]
    },
    {
     "name": "stderr",
     "output_type": "stream",
     "text": [
      "[Parallel(n_jobs=4)]: Using backend LokyBackend with 4 concurrent workers.\n",
      "[Parallel(n_jobs=4)]: Done  24 tasks      | elapsed:    7.7s\n",
      "[Parallel(n_jobs=4)]: Done  96 out of  96 | elapsed:   27.6s finished\n"
     ]
    },
    {
     "name": "stdout",
     "output_type": "stream",
     "text": [
      "{'learning_rate': 0.05, 'max_depth': 2, 'n_estimators': 200}\n",
      "Yes05:00-05:30\n",
      "Fitting 2 folds for each of 48 candidates, totalling 96 fits\n"
     ]
    },
    {
     "name": "stderr",
     "output_type": "stream",
     "text": [
      "[Parallel(n_jobs=4)]: Using backend LokyBackend with 4 concurrent workers.\n",
      "[Parallel(n_jobs=4)]: Done  24 tasks      | elapsed:    8.4s\n",
      "[Parallel(n_jobs=4)]: Done  96 out of  96 | elapsed:   37.1s finished\n"
     ]
    },
    {
     "name": "stdout",
     "output_type": "stream",
     "text": [
      "{'learning_rate': 0.2, 'max_depth': 4, 'n_estimators': 300}\n",
      "Yes06:00-06:30\n",
      "Fitting 2 folds for each of 48 candidates, totalling 96 fits\n"
     ]
    },
    {
     "name": "stderr",
     "output_type": "stream",
     "text": [
      "[Parallel(n_jobs=4)]: Using backend LokyBackend with 4 concurrent workers.\n",
      "[Parallel(n_jobs=4)]: Done  24 tasks      | elapsed:    9.6s\n",
      "[Parallel(n_jobs=4)]: Done  96 out of  96 | elapsed:   46.4s finished\n"
     ]
    },
    {
     "name": "stdout",
     "output_type": "stream",
     "text": [
      "{'learning_rate': 0.05, 'max_depth': 4, 'n_estimators': 200}\n",
      "Yes07:00-07:30\n",
      "Fitting 2 folds for each of 48 candidates, totalling 96 fits\n"
     ]
    },
    {
     "name": "stderr",
     "output_type": "stream",
     "text": [
      "[Parallel(n_jobs=4)]: Using backend LokyBackend with 4 concurrent workers.\n",
      "[Parallel(n_jobs=4)]: Done  24 tasks      | elapsed:    9.5s\n",
      "[Parallel(n_jobs=4)]: Done  96 out of  96 | elapsed:   45.8s finished\n"
     ]
    },
    {
     "name": "stdout",
     "output_type": "stream",
     "text": [
      "{'learning_rate': 0.1, 'max_depth': 4, 'n_estimators': 100}\n",
      "Yes08:00-08:30\n",
      "Fitting 2 folds for each of 48 candidates, totalling 96 fits\n"
     ]
    },
    {
     "name": "stderr",
     "output_type": "stream",
     "text": [
      "[Parallel(n_jobs=4)]: Using backend LokyBackend with 4 concurrent workers.\n",
      "[Parallel(n_jobs=4)]: Done  24 tasks      | elapsed:    8.5s\n",
      "[Parallel(n_jobs=4)]: Done  96 out of  96 | elapsed:   44.7s finished\n"
     ]
    },
    {
     "name": "stdout",
     "output_type": "stream",
     "text": [
      "{'learning_rate': 0.05, 'max_depth': 4, 'n_estimators': 200}\n",
      "Yes09:00-09:30\n",
      "Fitting 2 folds for each of 48 candidates, totalling 96 fits\n"
     ]
    },
    {
     "name": "stderr",
     "output_type": "stream",
     "text": [
      "[Parallel(n_jobs=4)]: Using backend LokyBackend with 4 concurrent workers.\n",
      "[Parallel(n_jobs=4)]: Done  24 tasks      | elapsed:    8.5s\n",
      "[Parallel(n_jobs=4)]: Done  96 out of  96 | elapsed:   46.4s finished\n"
     ]
    },
    {
     "name": "stdout",
     "output_type": "stream",
     "text": [
      "{'learning_rate': 0.05, 'max_depth': 2, 'n_estimators': 300}\n",
      "Yes10:00-10:30\n",
      "Fitting 2 folds for each of 48 candidates, totalling 96 fits\n"
     ]
    },
    {
     "name": "stderr",
     "output_type": "stream",
     "text": [
      "[Parallel(n_jobs=4)]: Using backend LokyBackend with 4 concurrent workers.\n",
      "[Parallel(n_jobs=4)]: Done  24 tasks      | elapsed:    9.2s\n",
      "[Parallel(n_jobs=4)]: Done  96 out of  96 | elapsed:   42.6s finished\n"
     ]
    },
    {
     "name": "stdout",
     "output_type": "stream",
     "text": [
      "{'learning_rate': 0.1, 'max_depth': 2, 'n_estimators': 100}\n",
      "Yes11:00-11:30\n",
      "Fitting 2 folds for each of 48 candidates, totalling 96 fits\n"
     ]
    },
    {
     "name": "stderr",
     "output_type": "stream",
     "text": [
      "[Parallel(n_jobs=4)]: Using backend LokyBackend with 4 concurrent workers.\n",
      "[Parallel(n_jobs=4)]: Done  24 tasks      | elapsed:    6.4s\n",
      "[Parallel(n_jobs=4)]: Done  96 out of  96 | elapsed:   41.9s finished\n"
     ]
    },
    {
     "name": "stdout",
     "output_type": "stream",
     "text": [
      "{'learning_rate': 0.05, 'max_depth': 2, 'n_estimators': 100}\n",
      "Yes12:00-12:30\n",
      "Fitting 2 folds for each of 48 candidates, totalling 96 fits\n"
     ]
    },
    {
     "name": "stderr",
     "output_type": "stream",
     "text": [
      "[Parallel(n_jobs=4)]: Using backend LokyBackend with 4 concurrent workers.\n",
      "[Parallel(n_jobs=4)]: Done  24 tasks      | elapsed:    8.4s\n",
      "[Parallel(n_jobs=4)]: Done  96 out of  96 | elapsed:   45.7s finished\n"
     ]
    },
    {
     "name": "stdout",
     "output_type": "stream",
     "text": [
      "{'learning_rate': 0.05, 'max_depth': 2, 'n_estimators': 100}\n",
      "Yes13:00-13:30\n",
      "Fitting 2 folds for each of 48 candidates, totalling 96 fits\n"
     ]
    },
    {
     "name": "stderr",
     "output_type": "stream",
     "text": [
      "[Parallel(n_jobs=4)]: Using backend LokyBackend with 4 concurrent workers.\n",
      "[Parallel(n_jobs=4)]: Done  24 tasks      | elapsed:    9.0s\n",
      "[Parallel(n_jobs=4)]: Done  96 out of  96 | elapsed:   46.1s finished\n"
     ]
    },
    {
     "name": "stdout",
     "output_type": "stream",
     "text": [
      "{'learning_rate': 0.05, 'max_depth': 4, 'n_estimators': 100}\n",
      "Yes14:00-14:30\n",
      "Fitting 2 folds for each of 48 candidates, totalling 96 fits\n"
     ]
    },
    {
     "name": "stderr",
     "output_type": "stream",
     "text": [
      "[Parallel(n_jobs=4)]: Using backend LokyBackend with 4 concurrent workers.\n",
      "[Parallel(n_jobs=4)]: Done  24 tasks      | elapsed:    8.7s\n",
      "[Parallel(n_jobs=4)]: Done  96 out of  96 | elapsed:   47.4s finished\n"
     ]
    },
    {
     "name": "stdout",
     "output_type": "stream",
     "text": [
      "{'learning_rate': 0.1, 'max_depth': 4, 'n_estimators': 100}\n",
      "Yes15:00-15:30\n",
      "Fitting 2 folds for each of 48 candidates, totalling 96 fits\n"
     ]
    },
    {
     "name": "stderr",
     "output_type": "stream",
     "text": [
      "[Parallel(n_jobs=4)]: Using backend LokyBackend with 4 concurrent workers.\n",
      "[Parallel(n_jobs=4)]: Done  24 tasks      | elapsed:    9.0s\n",
      "[Parallel(n_jobs=4)]: Done  96 out of  96 | elapsed:   43.5s finished\n"
     ]
    },
    {
     "name": "stdout",
     "output_type": "stream",
     "text": [
      "{'learning_rate': 0.05, 'max_depth': 4, 'n_estimators': 100}\n",
      "Yes16:00-16:30\n",
      "Fitting 2 folds for each of 48 candidates, totalling 96 fits\n"
     ]
    },
    {
     "name": "stderr",
     "output_type": "stream",
     "text": [
      "[Parallel(n_jobs=4)]: Using backend LokyBackend with 4 concurrent workers.\n",
      "[Parallel(n_jobs=4)]: Done  24 tasks      | elapsed:    8.7s\n",
      "[Parallel(n_jobs=4)]: Done  96 out of  96 | elapsed:   40.9s finished\n"
     ]
    },
    {
     "name": "stdout",
     "output_type": "stream",
     "text": [
      "{'learning_rate': 0.05, 'max_depth': 4, 'n_estimators': 100}\n",
      "Yes17:00-17:30\n",
      "Fitting 2 folds for each of 48 candidates, totalling 96 fits\n"
     ]
    },
    {
     "name": "stderr",
     "output_type": "stream",
     "text": [
      "[Parallel(n_jobs=4)]: Using backend LokyBackend with 4 concurrent workers.\n",
      "[Parallel(n_jobs=4)]: Done  24 tasks      | elapsed:    9.0s\n",
      "[Parallel(n_jobs=4)]: Done  96 out of  96 | elapsed:   37.1s finished\n"
     ]
    },
    {
     "name": "stdout",
     "output_type": "stream",
     "text": [
      "{'learning_rate': 0.05, 'max_depth': 4, 'n_estimators': 100}\n",
      "Yes18:00-18:30\n",
      "Fitting 2 folds for each of 48 candidates, totalling 96 fits\n"
     ]
    },
    {
     "name": "stderr",
     "output_type": "stream",
     "text": [
      "[Parallel(n_jobs=4)]: Using backend LokyBackend with 4 concurrent workers.\n",
      "[Parallel(n_jobs=4)]: Done  24 tasks      | elapsed:    7.7s\n",
      "[Parallel(n_jobs=4)]: Done  96 out of  96 | elapsed:   29.6s finished\n"
     ]
    },
    {
     "name": "stdout",
     "output_type": "stream",
     "text": [
      "{'learning_rate': 0.05, 'max_depth': 2, 'n_estimators': 100}\n",
      "Yes19:00-19:30\n",
      "Fitting 2 folds for each of 48 candidates, totalling 96 fits\n"
     ]
    },
    {
     "name": "stderr",
     "output_type": "stream",
     "text": [
      "[Parallel(n_jobs=4)]: Using backend LokyBackend with 4 concurrent workers.\n",
      "[Parallel(n_jobs=4)]: Done  40 tasks      | elapsed:    3.8s\n",
      "[Parallel(n_jobs=4)]: Done  96 out of  96 | elapsed:    9.6s finished\n"
     ]
    },
    {
     "name": "stdout",
     "output_type": "stream",
     "text": [
      "{'learning_rate': 0.05, 'max_depth': 2, 'n_estimators': 300}\n"
     ]
    }
   ],
   "source": [
    "from Hokk_Hourly_Forecast_CV_Models import XGB_model_intrv_CV\n",
    "\n",
    "intvs=[df_intrv0, df_intrv1, df_intrv2, df_intrv3, df_intrv4, df_intrv5, df_intrv6, df_intrv7, df_intrv8,\n",
    "       df_intrv9, df_intrv10, df_intrv11, df_intrv12, df_intrv13, df_intrv14, df_intrv15, df_intrv16]\n",
    "\n",
    "for num in range(0, len(intvs)):\n",
    "    df_hr=intvs[num]\n",
    "#     print(num, len(df_hr), max(df_hr['Targ']), df_hr['Targ'].mean(), df_hr['Targ'].std())\n",
    "    \n",
    "    ####Select features of the data \n",
    "    Targ=df_hr['Targ']\n",
    "    df_feats_w_mes=df_hr.drop('Targ', axis=1) #Features including measurements and weather forecasts\n",
    "    df_feats_no_mes =df_hr.drop(df_tar_feats.columns[range(0,13)], axis=1)  #Features of weather forecasts only\n",
    "\n",
    "    # df_feats=df_feats_w_mes  ## the measurements lenght is less than the weather since there are not exist in forecast period\n",
    "    df_feats=df_feats_no_mes   \n",
    "#     X_train=df_feats.loc['1/1/2017':'12/31/2017']\n",
    "#     X_test=df_feats.loc['1/1/2016':'12/31/2016']\n",
    "    X_train=df_feats.loc['1/1/2016':'12/31/2016']\n",
    "    X_test=df_feats.loc['1/1/2017':'12/31/2017']\n",
    "\n",
    "    # X_train=df_feats.loc['1/1/2017':'12/31/2017']\n",
    "    # X_test=df_feats.loc['1/1/2018':'12/31/2018']\n",
    "\n",
    "#     Y_train=Targ.loc['1/1/2017':'12/31/2017']\n",
    "#     Y_test=Targ.loc['1/1/2016':'12/31/2016']\n",
    "    Y_train=Targ.loc['1/1/2016':'12/31/2016']\n",
    "    Y_test=Targ.loc['1/1/2017':'12/31/2017']\n",
    "    \n",
    "    # Y_train=Targ.loc['1/1/2017':'12/31/2017']\n",
    "    # Y_test=Targ.loc['1/1/2018':'12/31/2018']\n",
    "\n",
    "    X_train.head()\n",
    "    # X_train.tail()\n",
    "    # len(X_train)\n",
    "\n",
    "    # Y_train.head()\n",
    "    # len(Y_train)\n",
    "    Y_train.tail()\n",
    "    \n",
    "    if num==0:\n",
    "        print('Yes20:00-3:30')\n",
    "        XGB_model_intrv_CV(df_feats, Targ)    \n",
    "    elif num==1:\n",
    "        print('Yes04:00-04:30')\n",
    "        XGB_model_intrv_CV(df_feats, Targ)\n",
    "    elif num==2:\n",
    "        print('Yes05:00-05:30')\n",
    "        XGB_model_intrv_CV(df_feats, Targ)\n",
    "    elif num==3:\n",
    "        print('Yes06:00-06:30')\n",
    "        XGB_model_intrv_CV(df_feats, Targ)\n",
    "    elif num==4:\n",
    "        print('Yes07:00-07:30')\n",
    "        XGB_model_intrv_CV(df_feats, Targ)    \n",
    "    elif num==5:\n",
    "        print('Yes08:00-08:30')\n",
    "        XGB_model_intrv_CV(df_feats, Targ)\n",
    "    elif num==6:\n",
    "        print('Yes09:00-09:30')\n",
    "        XGB_model_intrv_CV(df_feats, Targ)\n",
    "    elif num==7:\n",
    "        print('Yes10:00-10:30')\n",
    "        XGB_model_intrv_CV(df_feats, Targ)   \n",
    "    elif num==8:\n",
    "        print('Yes11:00-11:30')\n",
    "        XGB_model_intrv_CV(df_feats, Targ) \n",
    "    elif num==9:\n",
    "        print('Yes12:00-12:30')\n",
    "        XGB_model_intrv_CV(df_feats, Targ) \n",
    "    elif num==10:\n",
    "        print('Yes13:00-13:30')\n",
    "        XGB_model_intrv_CV(df_feats, Targ) \n",
    "    elif num==11:\n",
    "        print('Yes14:00-14:30')\n",
    "        XGB_model_intrv_CV(df_feats, Targ)\n",
    "    elif num==12:\n",
    "        print('Yes15:00-15:30')\n",
    "        XGB_model_intrv_CV(df_feats, Targ)    \n",
    "    elif num==13:\n",
    "        print('Yes16:00-16:30')\n",
    "        XGB_model_intrv_CV(df_feats, Targ)  \n",
    "    elif num==14:\n",
    "        print('Yes17:00-17:30')\n",
    "        XGB_model_intrv_CV(df_feats, Targ)\n",
    "    elif num==15:\n",
    "        print('Yes18:00-18:30')\n",
    "        XGB_model_intrv_CV(df_feats, Targ)    \n",
    "    elif num==16:\n",
    "        print('Yes19:00-19:30')\n",
    "        XGB_model_intrv_CV(df_feats, Targ)\n",
    "    else:\n",
    "        print('No')"
   ]
  },
  {
   "cell_type": "code",
   "execution_count": 13,
   "metadata": {},
   "outputs": [
    {
     "ename": "NameError",
     "evalue": "name 'df_ytgfst' is not defined",
     "output_type": "error",
     "traceback": [
      "\u001b[1;31m---------------------------------------------------------------------------\u001b[0m",
      "\u001b[1;31mNameError\u001b[0m                                 Traceback (most recent call last)",
      "\u001b[1;32m<ipython-input-13-1895a5ff9229>\u001b[0m in \u001b[0;36m<module>\u001b[1;34m()\u001b[0m\n\u001b[1;32m----> 1\u001b[1;33m \u001b[0mMSE\u001b[0m\u001b[1;33m=\u001b[0m\u001b[0mmean_squared_error\u001b[0m\u001b[1;33m(\u001b[0m\u001b[0mdf_ytgfst\u001b[0m\u001b[1;33m[\u001b[0m\u001b[1;34m'Yts'\u001b[0m\u001b[1;33m]\u001b[0m\u001b[1;33m,\u001b[0m \u001b[0mdf_ytgfst\u001b[0m\u001b[1;33m[\u001b[0m\u001b[1;34m'Ypd'\u001b[0m\u001b[1;33m]\u001b[0m\u001b[1;33m)\u001b[0m\u001b[1;33m\u001b[0m\u001b[0m\n\u001b[0m\u001b[0;32m      2\u001b[0m \u001b[1;31m# NRMSE=np.sqrt(MSE)/df_ytgfst['Yts'].mean()  #mean of target solar power during 2017 only\u001b[0m\u001b[1;33m\u001b[0m\u001b[1;33m\u001b[0m\u001b[0m\n\u001b[0;32m      3\u001b[0m \u001b[0mNRMSE\u001b[0m\u001b[1;33m=\u001b[0m\u001b[0mnp\u001b[0m\u001b[1;33m.\u001b[0m\u001b[0msqrt\u001b[0m\u001b[1;33m(\u001b[0m\u001b[0mMSE\u001b[0m\u001b[1;33m)\u001b[0m\u001b[1;33m/\u001b[0m\u001b[0mdf_tar_feats\u001b[0m\u001b[1;33m[\u001b[0m\u001b[1;34m'Targ'\u001b[0m\u001b[1;33m]\u001b[0m\u001b[1;33m.\u001b[0m\u001b[0mmean\u001b[0m\u001b[1;33m(\u001b[0m\u001b[1;33m)\u001b[0m  \u001b[1;31m#mean of target solar power durning 2016 and 2017\u001b[0m\u001b[1;33m\u001b[0m\u001b[0m\n\u001b[0;32m      4\u001b[0m \u001b[1;33m\u001b[0m\u001b[0m\n\u001b[0;32m      5\u001b[0m \u001b[0mprint\u001b[0m\u001b[1;33m(\u001b[0m\u001b[0mMSE\u001b[0m\u001b[1;33m,\u001b[0m \u001b[0mNRMSE\u001b[0m\u001b[1;33m)\u001b[0m\u001b[1;33m\u001b[0m\u001b[0m\n",
      "\u001b[1;31mNameError\u001b[0m: name 'df_ytgfst' is not defined"
     ]
    }
   ],
   "source": [
    "MSE=mean_squared_error(df_ytgfst['Yts'], df_ytgfst['Ypd'])  \n",
    "# NRMSE=np.sqrt(MSE)/df_ytgfst['Yts'].mean()  #mean of target solar power during 2017 only\n",
    "NRMSE=np.sqrt(MSE)/df_tar_feats['Targ'].mean()  #mean of target solar power durning 2016 and 2017\n",
    "\n",
    "print(MSE, NRMSE)"
   ]
  },
  {
   "cell_type": "markdown",
   "metadata": {},
   "source": [
    "Run XGB CV models of 16 intervals for 2 foldes to forecast solar power, one fold for 2016 and another for 2017\n",
    "The XGB CV search leads to:\n",
    "\n",
    "Yes20:00-3:30\n",
    "Fitting 2 folds for each of 48 candidates, totalling 96 fits\n",
    "\n",
    "[Parallel(n_jobs=4)]: Using backend LokyBackend with 4 concurrent workers.\n",
    "[Parallel(n_jobs=4)]: Done  24 tasks      | elapsed:   14.4s\n",
    "[Parallel(n_jobs=4)]: Done  96 out of  96 | elapsed:   52.6s finished\n",
    "\n",
    "{'learning_rate': 0.2, 'max_depth': 2, 'n_estimators': 100}\n",
    "Yes04:00-04:30\n",
    "Fitting 2 folds for each of 48 candidates, totalling 96 fits\n",
    "\n",
    "[Parallel(n_jobs=4)]: Using backend LokyBackend with 4 concurrent workers.\n",
    "[Parallel(n_jobs=4)]: Done  24 tasks      | elapsed:    7.7s\n",
    "[Parallel(n_jobs=4)]: Done  96 out of  96 | elapsed:   27.6s finished\n",
    "\n",
    "{'learning_rate': 0.05, 'max_depth': 2, 'n_estimators': 200}\n",
    "Yes05:00-05:30\n",
    "Fitting 2 folds for each of 48 candidates, totalling 96 fits\n",
    "\n",
    "[Parallel(n_jobs=4)]: Using backend LokyBackend with 4 concurrent workers.\n",
    "[Parallel(n_jobs=4)]: Done  24 tasks      | elapsed:    8.4s\n",
    "[Parallel(n_jobs=4)]: Done  96 out of  96 | elapsed:   37.1s finished\n",
    "\n",
    "{'learning_rate': 0.2, 'max_depth': 4, 'n_estimators': 300}\n",
    "Yes06:00-06:30\n",
    "Fitting 2 folds for each of 48 candidates, totalling 96 fits\n",
    "\n",
    "[Parallel(n_jobs=4)]: Using backend LokyBackend with 4 concurrent workers.\n",
    "[Parallel(n_jobs=4)]: Done  24 tasks      | elapsed:    9.6s\n",
    "[Parallel(n_jobs=4)]: Done  96 out of  96 | elapsed:   46.4s finished\n",
    "\n",
    "{'learning_rate': 0.05, 'max_depth': 4, 'n_estimators': 200}\n",
    "Yes07:00-07:30\n",
    "Fitting 2 folds for each of 48 candidates, totalling 96 fits\n",
    "\n",
    "[Parallel(n_jobs=4)]: Using backend LokyBackend with 4 concurrent workers.\n",
    "[Parallel(n_jobs=4)]: Done  24 tasks      | elapsed:    9.5s\n",
    "[Parallel(n_jobs=4)]: Done  96 out of  96 | elapsed:   45.8s finished\n",
    "\n",
    "{'learning_rate': 0.1, 'max_depth': 4, 'n_estimators': 100}\n",
    "Yes08:00-08:30\n",
    "Fitting 2 folds for each of 48 candidates, totalling 96 fits\n",
    "\n",
    "[Parallel(n_jobs=4)]: Using backend LokyBackend with 4 concurrent workers.\n",
    "[Parallel(n_jobs=4)]: Done  24 tasks      | elapsed:    8.5s\n",
    "[Parallel(n_jobs=4)]: Done  96 out of  96 | elapsed:   44.7s finished\n",
    "\n",
    "{'learning_rate': 0.05, 'max_depth': 4, 'n_estimators': 200}\n",
    "Yes09:00-09:30\n",
    "Fitting 2 folds for each of 48 candidates, totalling 96 fits\n",
    "\n",
    "[Parallel(n_jobs=4)]: Using backend LokyBackend with 4 concurrent workers.\n",
    "[Parallel(n_jobs=4)]: Done  24 tasks      | elapsed:    8.5s\n",
    "[Parallel(n_jobs=4)]: Done  96 out of  96 | elapsed:   46.4s finished\n",
    "\n",
    "{'learning_rate': 0.05, 'max_depth': 2, 'n_estimators': 300}\n",
    "Yes10:00-10:30\n",
    "Fitting 2 folds for each of 48 candidates, totalling 96 fits\n",
    "\n",
    "[Parallel(n_jobs=4)]: Using backend LokyBackend with 4 concurrent workers.\n",
    "[Parallel(n_jobs=4)]: Done  24 tasks      | elapsed:    9.2s\n",
    "[Parallel(n_jobs=4)]: Done  96 out of  96 | elapsed:   42.6s finished\n",
    "\n",
    "{'learning_rate': 0.1, 'max_depth': 2, 'n_estimators': 100}\n",
    "Yes11:00-11:30\n",
    "Fitting 2 folds for each of 48 candidates, totalling 96 fits\n",
    "\n",
    "[Parallel(n_jobs=4)]: Using backend LokyBackend with 4 concurrent workers.\n",
    "[Parallel(n_jobs=4)]: Done  24 tasks      | elapsed:    6.4s\n",
    "[Parallel(n_jobs=4)]: Done  96 out of  96 | elapsed:   41.9s finished\n",
    "\n",
    "{'learning_rate': 0.05, 'max_depth': 2, 'n_estimators': 100}\n",
    "Yes12:00-12:30\n",
    "Fitting 2 folds for each of 48 candidates, totalling 96 fits\n",
    "\n",
    "[Parallel(n_jobs=4)]: Using backend LokyBackend with 4 concurrent workers.\n",
    "[Parallel(n_jobs=4)]: Done  24 tasks      | elapsed:    8.4s\n",
    "[Parallel(n_jobs=4)]: Done  96 out of  96 | elapsed:   45.7s finished\n",
    "\n",
    "{'learning_rate': 0.05, 'max_depth': 2, 'n_estimators': 100}\n",
    "Yes13:00-13:30\n",
    "Fitting 2 folds for each of 48 candidates, totalling 96 fits\n",
    "\n",
    "[Parallel(n_jobs=4)]: Using backend LokyBackend with 4 concurrent workers.\n",
    "[Parallel(n_jobs=4)]: Done  24 tasks      | elapsed:    9.0s\n",
    "[Parallel(n_jobs=4)]: Done  96 out of  96 | elapsed:   46.1s finished\n",
    "\n",
    "{'learning_rate': 0.05, 'max_depth': 4, 'n_estimators': 100}\n",
    "Yes14:00-14:30\n",
    "Fitting 2 folds for each of 48 candidates, totalling 96 fits\n",
    "\n",
    "[Parallel(n_jobs=4)]: Using backend LokyBackend with 4 concurrent workers.\n",
    "[Parallel(n_jobs=4)]: Done  24 tasks      | elapsed:    8.7s\n",
    "[Parallel(n_jobs=4)]: Done  96 out of  96 | elapsed:   47.4s finished\n",
    "\n",
    "{'learning_rate': 0.1, 'max_depth': 4, 'n_estimators': 100}\n",
    "Yes15:00-15:30\n",
    "Fitting 2 folds for each of 48 candidates, totalling 96 fits\n",
    "\n",
    "[Parallel(n_jobs=4)]: Using backend LokyBackend with 4 concurrent workers.\n",
    "[Parallel(n_jobs=4)]: Done  24 tasks      | elapsed:    9.0s\n",
    "[Parallel(n_jobs=4)]: Done  96 out of  96 | elapsed:   43.5s finished\n",
    "\n",
    "{'learning_rate': 0.05, 'max_depth': 4, 'n_estimators': 100}\n",
    "Yes16:00-16:30\n",
    "Fitting 2 folds for each of 48 candidates, totalling 96 fits\n",
    "\n",
    "[Parallel(n_jobs=4)]: Using backend LokyBackend with 4 concurrent workers.\n",
    "[Parallel(n_jobs=4)]: Done  24 tasks      | elapsed:    8.7s\n",
    "[Parallel(n_jobs=4)]: Done  96 out of  96 | elapsed:   40.9s finished\n",
    "\n",
    "{'learning_rate': 0.05, 'max_depth': 4, 'n_estimators': 100}\n",
    "Yes17:00-17:30\n",
    "Fitting 2 folds for each of 48 candidates, totalling 96 fits\n",
    "\n",
    "[Parallel(n_jobs=4)]: Using backend LokyBackend with 4 concurrent workers.\n",
    "[Parallel(n_jobs=4)]: Done  24 tasks      | elapsed:    9.0s\n",
    "[Parallel(n_jobs=4)]: Done  96 out of  96 | elapsed:   37.1s finished\n",
    "\n",
    "{'learning_rate': 0.05, 'max_depth': 4, 'n_estimators': 100}\n",
    "Yes18:00-18:30\n",
    "Fitting 2 folds for each of 48 candidates, totalling 96 fits\n",
    "\n",
    "[Parallel(n_jobs=4)]: Using backend LokyBackend with 4 concurrent workers.\n",
    "[Parallel(n_jobs=4)]: Done  24 tasks      | elapsed:    7.7s\n",
    "[Parallel(n_jobs=4)]: Done  96 out of  96 | elapsed:   29.6s finished\n",
    "\n",
    "{'learning_rate': 0.05, 'max_depth': 2, 'n_estimators': 100}\n",
    "Yes19:00-19:30\n",
    "Fitting 2 folds for each of 48 candidates, totalling 96 fits\n",
    "\n",
    "[Parallel(n_jobs=4)]: Using backend LokyBackend with 4 concurrent workers.\n",
    "[Parallel(n_jobs=4)]: Done  40 tasks      | elapsed:    3.8s\n",
    "[Parallel(n_jobs=4)]: Done  96 out of  96 | elapsed:    9.6s finished\n",
    "\n",
    "{'learning_rate': 0.05, 'max_depth': 2, 'n_estimators': 300}\n",
    "\n",
    "\n"
   ]
  },
  {
   "cell_type": "code",
   "execution_count": null,
   "metadata": {},
   "outputs": [],
   "source": []
  },
  {
   "cell_type": "code",
   "execution_count": null,
   "metadata": {},
   "outputs": [],
   "source": []
  },
  {
   "cell_type": "code",
   "execution_count": null,
   "metadata": {},
   "outputs": [],
   "source": []
  },
  {
   "cell_type": "code",
   "execution_count": null,
   "metadata": {},
   "outputs": [],
   "source": []
  },
  {
   "cell_type": "code",
   "execution_count": null,
   "metadata": {},
   "outputs": [],
   "source": []
  },
  {
   "cell_type": "code",
   "execution_count": null,
   "metadata": {},
   "outputs": [],
   "source": []
  },
  {
   "cell_type": "code",
   "execution_count": null,
   "metadata": {},
   "outputs": [],
   "source": []
  },
  {
   "cell_type": "code",
   "execution_count": null,
   "metadata": {},
   "outputs": [],
   "source": []
  }
 ],
 "metadata": {
  "kernelspec": {
   "display_name": "Python 3",
   "language": "python",
   "name": "python3"
  },
  "language_info": {
   "codemirror_mode": {
    "name": "ipython",
    "version": 3
   },
   "file_extension": ".py",
   "mimetype": "text/x-python",
   "name": "python",
   "nbconvert_exporter": "python",
   "pygments_lexer": "ipython3",
   "version": "3.7.0"
  }
 },
 "nbformat": 4,
 "nbformat_minor": 2
}
