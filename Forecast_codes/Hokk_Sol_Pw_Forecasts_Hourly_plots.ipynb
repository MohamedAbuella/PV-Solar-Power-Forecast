{
 "cells": [
  {
   "cell_type": "markdown",
   "metadata": {},
   "source": [
    "Training and forecasting the solar power of Hokkaido Island in Japna\n",
    "Training 2017, Forecast 2018\n",
    "\n",
    "https://stackoverflow.com/questions/35139108/how-to-install-xgboost-in-anaconda-python-windows-platform"
   ]
  },
  {
   "cell_type": "code",
   "execution_count": 1,
   "metadata": {},
   "outputs": [],
   "source": [
    "import pandas as pd\n",
    "import numpy as np\n",
    "import datetime as dt\n",
    "import csv \n",
    "import matplotlib.pyplot as plt\n",
    "import pytz\n",
    "import xgboost as xgb"
   ]
  },
  {
   "cell_type": "code",
   "execution_count": 2,
   "metadata": {},
   "outputs": [
    {
     "data": {
      "text/plain": [
       "'C:\\\\Users\\\\Mhdella\\\\Google Drive\\\\Jupyter Folder\\\\PV_Hokkaido_forecast_contest\\\\pvinhokkaidodatadistribution'"
      ]
     },
     "execution_count": 2,
     "metadata": {},
     "output_type": "execute_result"
    }
   ],
   "source": [
    "\n",
    "import os\n",
    "cwd = os.getcwd()\n",
    "cwd\n",
    "# os.chdir('pvinhokkaidodatadistribution')\n",
    "# C:\\Users\\Mhdella\\Google Drive\\Jupyter Folder\\PV_Hokkaido_forecast_contest\\\n",
    "os.chdir('C:\\\\Users\\\\Mhdella\\\\Google Drive\\\\Jupyter Folder\\\\PV_Hokkaido_forecast_contest\\\\pvinhokkaidodatadistribution')\n",
    "nwd=os.getcwd()\n",
    "nwd"
   ]
  },
  {
   "cell_type": "code",
   "execution_count": 3,
   "metadata": {},
   "outputs": [
    {
     "data": {
      "text/html": [
       "<div>\n",
       "<style scoped>\n",
       "    .dataframe tbody tr th:only-of-type {\n",
       "        vertical-align: middle;\n",
       "    }\n",
       "\n",
       "    .dataframe tbody tr th {\n",
       "        vertical-align: top;\n",
       "    }\n",
       "\n",
       "    .dataframe thead th {\n",
       "        text-align: right;\n",
       "    }\n",
       "</style>\n",
       "<table border=\"1\" class=\"dataframe\">\n",
       "  <thead>\n",
       "    <tr style=\"text-align: right;\">\n",
       "      <th></th>\n",
       "      <th>DATE</th>\n",
       "      <th>TIME</th>\n",
       "      <th>S1[MW]</th>\n",
       "      <th>S2[MW]</th>\n",
       "      <th>solar[kW/m2]</th>\n",
       "      <th>temp[deg C]</th>\n",
       "      <th>solar[kW/m2].1</th>\n",
       "      <th>temp[deg C].1</th>\n",
       "      <th>solar[kW/m2].2</th>\n",
       "      <th>temp[deg C].2</th>\n",
       "      <th>...</th>\n",
       "      <th>t2m.2</th>\n",
       "      <th>asn.2</th>\n",
       "      <th>sd.2</th>\n",
       "      <th>ssrdc.2</th>\n",
       "      <th>ssrd.2</th>\n",
       "      <th>tcc.2</th>\n",
       "      <th>tciw.2</th>\n",
       "      <th>tclw.2</th>\n",
       "      <th>tp.2</th>\n",
       "      <th>wind_speed.2</th>\n",
       "    </tr>\n",
       "  </thead>\n",
       "  <tbody>\n",
       "    <tr>\n",
       "      <th>0</th>\n",
       "      <td>1/1/2016</td>\n",
       "      <td>9:00:00</td>\n",
       "      <td>54.7</td>\n",
       "      <td>78.4</td>\n",
       "      <td>0.159228</td>\n",
       "      <td>-1.2</td>\n",
       "      <td>0.276627</td>\n",
       "      <td>0.0</td>\n",
       "      <td>0.339371</td>\n",
       "      <td>-5.9</td>\n",
       "      <td>...</td>\n",
       "      <td>-13.909399</td>\n",
       "      <td>0.600965</td>\n",
       "      <td>7.450000e-09</td>\n",
       "      <td>57.319398</td>\n",
       "      <td>30.413241</td>\n",
       "      <td>0.000000</td>\n",
       "      <td>0.000000</td>\n",
       "      <td>0.000000</td>\n",
       "      <td>0.000000e+00</td>\n",
       "      <td>7.704484</td>\n",
       "    </tr>\n",
       "    <tr>\n",
       "      <th>1</th>\n",
       "      <td>1/1/2016</td>\n",
       "      <td>9:30:00</td>\n",
       "      <td>113.8</td>\n",
       "      <td>89.0</td>\n",
       "      <td>0.221269</td>\n",
       "      <td>-0.3</td>\n",
       "      <td>0.307764</td>\n",
       "      <td>0.1</td>\n",
       "      <td>0.297246</td>\n",
       "      <td>-4.4</td>\n",
       "      <td>...</td>\n",
       "      <td>-12.694835</td>\n",
       "      <td>0.600870</td>\n",
       "      <td>7.450000e-09</td>\n",
       "      <td>104.414120</td>\n",
       "      <td>55.211142</td>\n",
       "      <td>0.037510</td>\n",
       "      <td>0.000396</td>\n",
       "      <td>0.000012</td>\n",
       "      <td>2.690000e-07</td>\n",
       "      <td>7.772519</td>\n",
       "    </tr>\n",
       "    <tr>\n",
       "      <th>2</th>\n",
       "      <td>1/1/2016</td>\n",
       "      <td>10:00:00</td>\n",
       "      <td>115.9</td>\n",
       "      <td>97.3</td>\n",
       "      <td>0.231619</td>\n",
       "      <td>-0.5</td>\n",
       "      <td>0.354492</td>\n",
       "      <td>0.7</td>\n",
       "      <td>0.320564</td>\n",
       "      <td>-2.3</td>\n",
       "      <td>...</td>\n",
       "      <td>-11.480271</td>\n",
       "      <td>0.600775</td>\n",
       "      <td>7.450000e-09</td>\n",
       "      <td>151.508843</td>\n",
       "      <td>80.009043</td>\n",
       "      <td>0.075021</td>\n",
       "      <td>0.000793</td>\n",
       "      <td>0.000023</td>\n",
       "      <td>5.390000e-07</td>\n",
       "      <td>7.840554</td>\n",
       "    </tr>\n",
       "    <tr>\n",
       "      <th>3</th>\n",
       "      <td>1/1/2016</td>\n",
       "      <td>10:30:00</td>\n",
       "      <td>139.5</td>\n",
       "      <td>100.6</td>\n",
       "      <td>0.205909</td>\n",
       "      <td>-0.4</td>\n",
       "      <td>0.363168</td>\n",
       "      <td>0.8</td>\n",
       "      <td>0.306980</td>\n",
       "      <td>-1.9</td>\n",
       "      <td>...</td>\n",
       "      <td>-10.265707</td>\n",
       "      <td>0.600680</td>\n",
       "      <td>7.450000e-09</td>\n",
       "      <td>198.603565</td>\n",
       "      <td>104.806944</td>\n",
       "      <td>0.112531</td>\n",
       "      <td>0.001189</td>\n",
       "      <td>0.000034</td>\n",
       "      <td>8.080000e-07</td>\n",
       "      <td>7.908589</td>\n",
       "    </tr>\n",
       "    <tr>\n",
       "      <th>4</th>\n",
       "      <td>1/1/2016</td>\n",
       "      <td>11:00:00</td>\n",
       "      <td>125.7</td>\n",
       "      <td>96.8</td>\n",
       "      <td>0.277444</td>\n",
       "      <td>-0.2</td>\n",
       "      <td>0.358989</td>\n",
       "      <td>0.6</td>\n",
       "      <td>0.237579</td>\n",
       "      <td>-3.1</td>\n",
       "      <td>...</td>\n",
       "      <td>-9.051143</td>\n",
       "      <td>0.600586</td>\n",
       "      <td>7.450000e-09</td>\n",
       "      <td>245.698287</td>\n",
       "      <td>129.604846</td>\n",
       "      <td>0.150041</td>\n",
       "      <td>0.001585</td>\n",
       "      <td>0.000046</td>\n",
       "      <td>1.080000e-06</td>\n",
       "      <td>7.976625</td>\n",
       "    </tr>\n",
       "  </tbody>\n",
       "</table>\n",
       "<p>5 rows × 48 columns</p>\n",
       "</div>"
      ],
      "text/plain": [
       "       DATE      TIME  S1[MW]  S2[MW]  solar[kW/m2]  temp[deg C]  \\\n",
       "0  1/1/2016   9:00:00    54.7    78.4      0.159228         -1.2   \n",
       "1  1/1/2016   9:30:00   113.8    89.0      0.221269         -0.3   \n",
       "2  1/1/2016  10:00:00   115.9    97.3      0.231619         -0.5   \n",
       "3  1/1/2016  10:30:00   139.5   100.6      0.205909         -0.4   \n",
       "4  1/1/2016  11:00:00   125.7    96.8      0.277444         -0.2   \n",
       "\n",
       "   solar[kW/m2].1  temp[deg C].1  solar[kW/m2].2  temp[deg C].2      ...       \\\n",
       "0        0.276627            0.0        0.339371           -5.9      ...        \n",
       "1        0.307764            0.1        0.297246           -4.4      ...        \n",
       "2        0.354492            0.7        0.320564           -2.3      ...        \n",
       "3        0.363168            0.8        0.306980           -1.9      ...        \n",
       "4        0.358989            0.6        0.237579           -3.1      ...        \n",
       "\n",
       "       t2m.2     asn.2          sd.2     ssrdc.2      ssrd.2     tcc.2  \\\n",
       "0 -13.909399  0.600965  7.450000e-09   57.319398   30.413241  0.000000   \n",
       "1 -12.694835  0.600870  7.450000e-09  104.414120   55.211142  0.037510   \n",
       "2 -11.480271  0.600775  7.450000e-09  151.508843   80.009043  0.075021   \n",
       "3 -10.265707  0.600680  7.450000e-09  198.603565  104.806944  0.112531   \n",
       "4  -9.051143  0.600586  7.450000e-09  245.698287  129.604846  0.150041   \n",
       "\n",
       "     tciw.2    tclw.2          tp.2  wind_speed.2  \n",
       "0  0.000000  0.000000  0.000000e+00      7.704484  \n",
       "1  0.000396  0.000012  2.690000e-07      7.772519  \n",
       "2  0.000793  0.000023  5.390000e-07      7.840554  \n",
       "3  0.001189  0.000034  8.080000e-07      7.908589  \n",
       "4  0.001585  0.000046  1.080000e-06      7.976625  \n",
       "\n",
       "[5 rows x 48 columns]"
      ]
     },
     "execution_count": 3,
     "metadata": {},
     "output_type": "execute_result"
    }
   ],
   "source": [
    "# file_name='Merg_Ens_Agg_42_44_mes17_18.csv'\n",
    "# file_name='Merg_Ens_Agg_43_mes17_18.csv'\n",
    "\n",
    "# file_name='Merg_Ens_Agg_42_44_mes16_17_18.csv'\n",
    "file_name='Merg_Ens_mmaxmin_Agg_42_44_mes16_18.csv'\n",
    "\n",
    "# file_name='Merg_Res_Comb_S1_S2_2018_tz_Jp.csv'\n",
    "# file_mane='Merg_Res_Comb_S1_S2_2017_tz_Jp.csv'\n",
    "\n",
    "df_hok=pd.read_csv(file_name) \n",
    "df_hok.head()\n",
    "# df_hok.tail()"
   ]
  },
  {
   "cell_type": "code",
   "execution_count": 4,
   "metadata": {},
   "outputs": [],
   "source": [
    "#### This cell just to check out the dataset with different coordination lat 43 and lat42-44 from ECMWF\n",
    "df_hok1=pd.read_csv('Merg_Ens_Agg_42_44_mes17_18.csv') \n",
    "df_hok2=pd.read_csv('Merg_Ens_Agg_43_mes17_18.csv')\n",
    "\n",
    "df_mns= {'col1': df_hok1.mean(), 'col2': df_hok2.mean()}\n",
    "# df_mns"
   ]
  },
  {
   "cell_type": "markdown",
   "metadata": {},
   "source": [
    "https://scikit-learn.org/stable/modules/generated/sklearn.ensemble.GradientBoostingRegressor.html\n",
    "\n",
    "https://scikit-learn.org/stable/auto_examples/ensemble/plot_gradient_boosting_regression.html#sphx-glr-auto-examples-ensemble-plot-gradient-boosting-regression-py"
   ]
  },
  {
   "cell_type": "code",
   "execution_count": 5,
   "metadata": {},
   "outputs": [
    {
     "data": {
      "text/html": [
       "<div>\n",
       "<style scoped>\n",
       "    .dataframe tbody tr th:only-of-type {\n",
       "        vertical-align: middle;\n",
       "    }\n",
       "\n",
       "    .dataframe tbody tr th {\n",
       "        vertical-align: top;\n",
       "    }\n",
       "\n",
       "    .dataframe thead th {\n",
       "        text-align: right;\n",
       "    }\n",
       "</style>\n",
       "<table border=\"1\" class=\"dataframe\">\n",
       "  <thead>\n",
       "    <tr style=\"text-align: right;\">\n",
       "      <th></th>\n",
       "      <th>DATE</th>\n",
       "      <th>TIME</th>\n",
       "      <th>S1[MW]</th>\n",
       "      <th>S2[MW]</th>\n",
       "      <th>solar[kW/m2]</th>\n",
       "      <th>temp[deg C]</th>\n",
       "      <th>solar[kW/m2].1</th>\n",
       "      <th>temp[deg C].1</th>\n",
       "      <th>solar[kW/m2].2</th>\n",
       "      <th>temp[deg C].2</th>\n",
       "      <th>...</th>\n",
       "      <th>t2m.2</th>\n",
       "      <th>asn.2</th>\n",
       "      <th>sd.2</th>\n",
       "      <th>ssrdc.2</th>\n",
       "      <th>ssrd.2</th>\n",
       "      <th>tcc.2</th>\n",
       "      <th>tciw.2</th>\n",
       "      <th>tclw.2</th>\n",
       "      <th>tp.2</th>\n",
       "      <th>wind_speed.2</th>\n",
       "    </tr>\n",
       "  </thead>\n",
       "  <tbody>\n",
       "    <tr>\n",
       "      <th>0</th>\n",
       "      <td>1/1/2016</td>\n",
       "      <td>9:00:00</td>\n",
       "      <td>54.7</td>\n",
       "      <td>78.4</td>\n",
       "      <td>0.159228</td>\n",
       "      <td>-1.2</td>\n",
       "      <td>0.276627</td>\n",
       "      <td>0.0</td>\n",
       "      <td>0.339371</td>\n",
       "      <td>-5.9</td>\n",
       "      <td>...</td>\n",
       "      <td>-13.909399</td>\n",
       "      <td>0.600965</td>\n",
       "      <td>7.450000e-09</td>\n",
       "      <td>57.319398</td>\n",
       "      <td>30.413241</td>\n",
       "      <td>0.000000</td>\n",
       "      <td>0.000000</td>\n",
       "      <td>0.000000</td>\n",
       "      <td>0.000000e+00</td>\n",
       "      <td>7.704484</td>\n",
       "    </tr>\n",
       "    <tr>\n",
       "      <th>1</th>\n",
       "      <td>1/1/2016</td>\n",
       "      <td>9:30:00</td>\n",
       "      <td>113.8</td>\n",
       "      <td>89.0</td>\n",
       "      <td>0.221269</td>\n",
       "      <td>-0.3</td>\n",
       "      <td>0.307764</td>\n",
       "      <td>0.1</td>\n",
       "      <td>0.297246</td>\n",
       "      <td>-4.4</td>\n",
       "      <td>...</td>\n",
       "      <td>-12.694835</td>\n",
       "      <td>0.600870</td>\n",
       "      <td>7.450000e-09</td>\n",
       "      <td>104.414120</td>\n",
       "      <td>55.211142</td>\n",
       "      <td>0.037510</td>\n",
       "      <td>0.000396</td>\n",
       "      <td>0.000012</td>\n",
       "      <td>2.690000e-07</td>\n",
       "      <td>7.772519</td>\n",
       "    </tr>\n",
       "    <tr>\n",
       "      <th>2</th>\n",
       "      <td>1/1/2016</td>\n",
       "      <td>10:00:00</td>\n",
       "      <td>115.9</td>\n",
       "      <td>97.3</td>\n",
       "      <td>0.231619</td>\n",
       "      <td>-0.5</td>\n",
       "      <td>0.354492</td>\n",
       "      <td>0.7</td>\n",
       "      <td>0.320564</td>\n",
       "      <td>-2.3</td>\n",
       "      <td>...</td>\n",
       "      <td>-11.480271</td>\n",
       "      <td>0.600775</td>\n",
       "      <td>7.450000e-09</td>\n",
       "      <td>151.508843</td>\n",
       "      <td>80.009043</td>\n",
       "      <td>0.075021</td>\n",
       "      <td>0.000793</td>\n",
       "      <td>0.000023</td>\n",
       "      <td>5.390000e-07</td>\n",
       "      <td>7.840554</td>\n",
       "    </tr>\n",
       "    <tr>\n",
       "      <th>3</th>\n",
       "      <td>1/1/2016</td>\n",
       "      <td>10:30:00</td>\n",
       "      <td>139.5</td>\n",
       "      <td>100.6</td>\n",
       "      <td>0.205909</td>\n",
       "      <td>-0.4</td>\n",
       "      <td>0.363168</td>\n",
       "      <td>0.8</td>\n",
       "      <td>0.306980</td>\n",
       "      <td>-1.9</td>\n",
       "      <td>...</td>\n",
       "      <td>-10.265707</td>\n",
       "      <td>0.600680</td>\n",
       "      <td>7.450000e-09</td>\n",
       "      <td>198.603565</td>\n",
       "      <td>104.806944</td>\n",
       "      <td>0.112531</td>\n",
       "      <td>0.001189</td>\n",
       "      <td>0.000034</td>\n",
       "      <td>8.080000e-07</td>\n",
       "      <td>7.908589</td>\n",
       "    </tr>\n",
       "    <tr>\n",
       "      <th>4</th>\n",
       "      <td>1/1/2016</td>\n",
       "      <td>11:00:00</td>\n",
       "      <td>125.7</td>\n",
       "      <td>96.8</td>\n",
       "      <td>0.277444</td>\n",
       "      <td>-0.2</td>\n",
       "      <td>0.358989</td>\n",
       "      <td>0.6</td>\n",
       "      <td>0.237579</td>\n",
       "      <td>-3.1</td>\n",
       "      <td>...</td>\n",
       "      <td>-9.051143</td>\n",
       "      <td>0.600586</td>\n",
       "      <td>7.450000e-09</td>\n",
       "      <td>245.698287</td>\n",
       "      <td>129.604846</td>\n",
       "      <td>0.150041</td>\n",
       "      <td>0.001585</td>\n",
       "      <td>0.000046</td>\n",
       "      <td>1.080000e-06</td>\n",
       "      <td>7.976625</td>\n",
       "    </tr>\n",
       "  </tbody>\n",
       "</table>\n",
       "<p>5 rows × 48 columns</p>\n",
       "</div>"
      ],
      "text/plain": [
       "       DATE      TIME  S1[MW]  S2[MW]  solar[kW/m2]  temp[deg C]  \\\n",
       "0  1/1/2016   9:00:00    54.7    78.4      0.159228         -1.2   \n",
       "1  1/1/2016   9:30:00   113.8    89.0      0.221269         -0.3   \n",
       "2  1/1/2016  10:00:00   115.9    97.3      0.231619         -0.5   \n",
       "3  1/1/2016  10:30:00   139.5   100.6      0.205909         -0.4   \n",
       "4  1/1/2016  11:00:00   125.7    96.8      0.277444         -0.2   \n",
       "\n",
       "   solar[kW/m2].1  temp[deg C].1  solar[kW/m2].2  temp[deg C].2      ...       \\\n",
       "0        0.276627            0.0        0.339371           -5.9      ...        \n",
       "1        0.307764            0.1        0.297246           -4.4      ...        \n",
       "2        0.354492            0.7        0.320564           -2.3      ...        \n",
       "3        0.363168            0.8        0.306980           -1.9      ...        \n",
       "4        0.358989            0.6        0.237579           -3.1      ...        \n",
       "\n",
       "       t2m.2     asn.2          sd.2     ssrdc.2      ssrd.2     tcc.2  \\\n",
       "0 -13.909399  0.600965  7.450000e-09   57.319398   30.413241  0.000000   \n",
       "1 -12.694835  0.600870  7.450000e-09  104.414120   55.211142  0.037510   \n",
       "2 -11.480271  0.600775  7.450000e-09  151.508843   80.009043  0.075021   \n",
       "3 -10.265707  0.600680  7.450000e-09  198.603565  104.806944  0.112531   \n",
       "4  -9.051143  0.600586  7.450000e-09  245.698287  129.604846  0.150041   \n",
       "\n",
       "     tciw.2    tclw.2          tp.2  wind_speed.2  \n",
       "0  0.000000  0.000000  0.000000e+00      7.704484  \n",
       "1  0.000396  0.000012  2.690000e-07      7.772519  \n",
       "2  0.000793  0.000023  5.390000e-07      7.840554  \n",
       "3  0.001189  0.000034  8.080000e-07      7.908589  \n",
       "4  0.001585  0.000046  1.080000e-06      7.976625  \n",
       "\n",
       "[5 rows x 48 columns]"
      ]
     },
     "execution_count": 5,
     "metadata": {},
     "output_type": "execute_result"
    }
   ],
   "source": [
    "import sklearn \n",
    "import numpy as np\n",
    "from sklearn.metrics import mean_squared_error\n",
    "# X, y = make_friedman1(n_samples=1200, random_state=0, noise=1.0)\n",
    "# X, y = make_friedman1(n_samples=1200, random_state=0, noise=1.0)\n",
    "df_hok.head()"
   ]
  },
  {
   "cell_type": "code",
   "execution_count": 6,
   "metadata": {},
   "outputs": [
    {
     "name": "stdout",
     "output_type": "stream",
     "text": [
      "['DATE', 'TIME', 'S1[MW]', 'S2[MW]', 'solar[kW/m2]', 'temp[deg C]', 'solar[kW/m2].1', 'temp[deg C].1', 'solar[kW/m2].2', 'temp[deg C].2', 'solar[kW/m2].3', 'temp[deg C].3', 'u10', 'v10', 't2m', 'asn', 'sd', 'ssrdc', 'ssrd', 'tcc', 'tciw', 'tclw', 'tp', 'wind_speed', 'u10.1', 'v10.1', 't2m.1', 'asn.1', 'sd.1', 'ssrdc.1', 'ssrd.1', 'tcc.1', 'tciw.1', 'tclw.1', 'tp.1', 'wind_speed.1', 'u10.2', 'v10.2', 't2m.2', 'asn.2', 'sd.2', 'ssrdc.2', 'ssrd.2', 'tcc.2', 'tciw.2', 'tclw.2', 'tp.2', 'wind_speed.2']\n"
     ]
    }
   ],
   "source": [
    "print(list(df_hok))"
   ]
  },
  {
   "cell_type": "code",
   "execution_count": 7,
   "metadata": {},
   "outputs": [
    {
     "name": "stdout",
     "output_type": "stream",
     "text": [
      "36 49\n"
     ]
    }
   ],
   "source": [
    "#### df_feats=df_hok[df_hok['ssrdc'] != 0] ## dropping night hours, when clear-sky solar irradiance (SSRDC) forecasts=0, and this can be applied in real forecasts  \n",
    "\n",
    "#### df_feats=df_hok.set_index('DATE')\n",
    "\n",
    "############################# Not dropping night hours\n",
    "\n",
    "df_tar_feats=df_hok.set_index(pd.to_datetime(df_hok['DATE'] + ' ' + df_hok['TIME']))\n",
    "\n",
    "############## In case of forecast solar power  #######\n",
    "\n",
    "Targ=df_tar_feats['S1[MW]']+df_tar_feats['S2[MW]']\n",
    "Targ = Targ.replace(np.nan, 0, regex=True)\n",
    "\n",
    "df_feats=df_tar_feats[['u10', 'v10', 't2m', 'asn', 'sd', 'ssrdc', 'ssrd', 'tcc', 'tciw', 'tclw', 'tp', 'wind_speed', \n",
    "             'u10.1', 'v10.1', 't2m.1', 'asn.1', 'sd.1', 'ssrdc.1', 'ssrd.1', 'tcc.1', 'tciw.1', 'tclw.1', 'tp.1', 'wind_speed.1', \n",
    "             'u10.2', 'v10.2', 't2m.2', 'asn.2', 'sd.2', 'ssrdc.2', 'ssrd.2', 'tcc.2', 'tciw.2', 'tclw.2', 'tp.2', 'wind_speed.2']]\n",
    "############### In case of forecast solar irradiance  #######\n",
    "\n",
    "# Targ=df_tar_feats['ssrd']  #ssrd is the mean of ssrd data from all ensemble members\n",
    "# df_feats=df_tar_feats[['u10', 'v10', 't2m', 'asn', 'sd', 'ssrdc', 'tcc', 'tciw', 'tclw', 'tp', 'wind_speed', \n",
    "#              'u10.1', 'v10.1', 't2m.1', 'asn.1', 'sd.1', 'ssrdc.1', 'tcc.1', 'tciw.1', 'tclw.1', 'tp.1', 'wind_speed.1', \n",
    "#              'u10.2', 'v10.2', 't2m.2', 'asn.2', 'sd.2', 'ssrdc.2', 'tcc.2', 'tciw.2', 'tclw.2', 'tp.2', 'wind_speed.2']]\n",
    "\n",
    "\n",
    "df_tar_feats.insert(loc=0, column='Targ', value=Targ)\n",
    "\n",
    "df_feats.head()\n",
    "df_feats.tail()\n",
    "\n",
    "print(len(list(df_feats)), len(list(df_tar_feats)))\n",
    "# Targ.tail()\n"
   ]
  },
  {
   "cell_type": "code",
   "execution_count": 8,
   "metadata": {},
   "outputs": [
    {
     "name": "stdout",
     "output_type": "stream",
     "text": [
      "52603 312.6 37.385689029143066\n"
     ]
    }
   ],
   "source": [
    "len(df_feats)\n",
    "# len(Targ)\n",
    "print(len(Targ), max(Targ), Targ.mean())"
   ]
  },
  {
   "cell_type": "code",
   "execution_count": 9,
   "metadata": {},
   "outputs": [],
   "source": [
    "# ind_date_time= pd.date_range('2019-03-08 00:00','2019-03-09 00:00',freq='120T')\n",
    "ind_date_time= pd.date_range('2019-03-08 04:00','2019-03-09 03:30',freq='30T')\n",
    "\n",
    "Hours= ind_date_time.strftime('%H:%M')\n",
    "# Hours\n",
    "# for num in range(0,len(Hours),6):\n",
    "#     print(Hours[num])"
   ]
  },
  {
   "cell_type": "code",
   "execution_count": 10,
   "metadata": {},
   "outputs": [],
   "source": [
    "df_intrv0=df_tar_feats.between_time('20:00','03:30')\n",
    "df_intrv1=df_tar_feats.between_time('04:00','04:30')\n",
    "df_intrv2=df_tar_feats.between_time('05:00','05:30')\n",
    "df_intrv3=df_tar_feats.between_time('06:00','06:30')\n",
    "df_intrv4=df_tar_feats.between_time('07:00','07:30')\n",
    "df_intrv5=df_tar_feats.between_time('08:00','08:30')\n",
    "df_intrv6=df_tar_feats.between_time('09:00','09:30')\n",
    "df_intrv7=df_tar_feats.between_time('10:00','10:30')\n",
    "df_intrv8=df_tar_feats.between_time('11:00','11:30')\n",
    "df_intrv9=df_tar_feats.between_time('12:00','12:30')\n",
    "df_intrv10=df_tar_feats.between_time('13:00','13:30')\n",
    "df_intrv11=df_tar_feats.between_time('14:00','14:30')\n",
    "df_intrv12=df_tar_feats.between_time('15:00','15:30')\n",
    "df_intrv13=df_tar_feats.between_time('16:00','16:30')\n",
    "df_intrv14=df_tar_feats.between_time('17:00','17:30')\n",
    "df_intrv15=df_tar_feats.between_time('18:00','18:30')\n",
    "df_intrv16=df_tar_feats.between_time('19:00','19:30')\n",
    "# df_intrv16.head(9)"
   ]
  },
  {
   "cell_type": "markdown",
   "metadata": {},
   "source": [
    "In the following cell some plots of houtly data of actual solar power, ground measuremnts and weather variables"
   ]
  },
  {
   "cell_type": "code",
   "execution_count": 18,
   "metadata": {},
   "outputs": [],
   "source": [
    "# df_interval=df_intrv1  #hour 4\n",
    "# df_interval=df_intrv2  #hour 5\n",
    "# df_interval=df_intrv3  #hour 6\n",
    "# df_interval=df_intrv4  #hour 7\n",
    "# df_interval=df_intrv5  #hour 8\n",
    "# df_interval=df_intrv6  #hour 9\n",
    "# df_interval=df_intrv7  #hour 10\n",
    "# df_interval=df_intrv8  #hour 11\n",
    "df_interval=df_intrv9  #hour 12\n",
    "# df_interval=df_intrv10  #hour 13\n",
    "# df_interval=df_intrv11  #hour 14\n",
    "# df_interval=df_intrv12  #hour 15\n",
    "# df_interval=df_intrv13  #hour 16\n",
    "# df_interval=df_intrv14  #hour 17\n",
    "# df_interval=df_intrv15  #hour 18\n",
    "# df_interval=df_intrv16  #hour 19\n",
    "\n",
    "df_interval=df_interval.drop('TIME', axis=1) \n",
    "df_interval=df_interval.drop('DATE', axis=1) \n",
    "df_interval\n",
    "norm_df_interval=(df_interval-df_interval.min())/(df_interval.max()-df_interval.min())\n",
    "# norm_df_interval"
   ]
  },
  {
   "cell_type": "code",
   "execution_count": 19,
   "metadata": {},
   "outputs": [
    {
     "data": {
      "image/png": "[encoded data removed]",
      "text/plain": [
       "<Figure size 432x288 with 1 Axes>"
      ]
     },
     "metadata": {
      "needs_background": "light"
     },
     "output_type": "display_data"
    },
    {
     "data": {
      "image/png": "[encoded data removed]",
      "text/plain": [
       "<Figure size 432x288 with 1 Axes>"
      ]
     },
     "metadata": {
      "needs_background": "light"
     },
     "output_type": "display_data"
    }
   ],
   "source": [
    "df_plt=norm_df_interval.loc['2017-1-1':'2017-12-10']\n",
    "# df_plt=norm_df_interval.loc['2016-1-1':'2016-1-10']\n",
    "df_plt[['asn','ssrd','Targ']].plot()  #Albedo snow\n",
    "df_plt[['sd','ssrd','Targ']].plot()  #Anow depth\n",
    "# df_plt[['ssrdc','Targ']].plot()\n",
    "# df_plt[['ssrd','ssrdc','Targ']].plot()    \n",
    "# df_plt[['ssrdc','Targ']].plot()\n",
    "# df_plt[['ssrd','ssrdc']].plot()\n",
    "plt.ylabel('Normalized to max (variables) %');\n",
    "# plt.xlabel('Time');\n",
    "plt.title('Variability of some variables for certain hour')\n",
    "plt.legend();\n"
   ]
  },
  {
   "cell_type": "code",
   "execution_count": null,
   "metadata": {
    "scrolled": true
   },
   "outputs": [],
   "source": [
    "# df=dfdfd #Just to stop before run the following cell"
   ]
  },
  {
   "cell_type": "code",
   "execution_count": 21,
   "metadata": {},
   "outputs": [
    {
     "name": "stdout",
     "output_type": "stream",
     "text": [
      "Yes20:00-3:30\n"
     ]
    },
    {
     "name": "stderr",
     "output_type": "stream",
     "text": [
      "C:\\Users\\Mhdella\\Google Drive\\Jupyter Folder\\PV_Hokkaido_forecast_contest\\Forecast_codes\\Hokk_Hourly_Forecast_Models_16hrs.py:17: RuntimeWarning: divide by zero encountered in double_scalars\n",
      "  nRMSE=np.sqrt(mse)/Targ.mean()\n"
     ]
    },
    {
     "name": "stdout",
     "output_type": "stream",
     "text": [
      "3.552713678800501e-15 inf\n",
      "Yes04:00-04:30\n",
      "0.5071050726093976 2.3497695672714363\n",
      "Yes05:00-05:30\n",
      "23.062268265078753 1.1419828116183899\n",
      "Yes06:00-06:30\n",
      "185.54395010986175 0.71455663070068\n",
      "Yes07:00-07:30\n",
      "667.2666695095692 0.5409853156494823\n",
      "Yes08:00-08:30\n",
      "1550.0809993008513 0.47621162671279643\n",
      "Yes09:00-09:30\n",
      "2378.5853393632196 0.4459975039819426\n",
      "Yes10:00-10:30\n",
      "2449.618733839869 0.40430330819151206\n",
      "Yes11:00-11:30\n",
      "2452.8371249640322 0.39500898544936885\n",
      "Yes12:00-12:30\n",
      "2272.209705414741 0.39359727804884376\n",
      "Yes13:00-13:30\n",
      "1869.9155126089454 0.3969493021422192\n",
      "Yes14:00-14:30\n",
      "1359.777016230349 0.44506397634241507\n",
      "Yes15:00-15:30\n",
      "630.113618156366 0.5216997455759033\n",
      "Yes16:00-16:30\n",
      "150.88770436829793 0.6145294169122151\n",
      "Yes17:00-17:30\n",
      "20.82397655009572 0.9624757876568988\n",
      "Yes18:00-18:30\n",
      "1.228197025480349 2.7030857854936827\n",
      "Yes19:00-19:30\n",
      "1.5585853522263674e-05 86.53779896576866\n"
     ]
    }
   ],
   "source": [
    "from Hokk_Hourly_Forecast_Models_16hrs import model_intrv0, model_intrv1, model_intrv2, model_intrv3, model_intrv4, model_intrv5, model_intrv6, model_intrv7, model_intrv8, model_intrv9, model_intrv10, model_intrv11, model_intrv12, model_intrv13, model_intrv14, model_intrv15, model_intrv16\n",
    "##### from Hokk_Hourly_Forecast_Models_16hrs_Tuned_By_CV import model_intrv0, model_intrv1, model_intrv2, model_intrv3, model_intrv4, model_intrv5, model_intrv6, model_intrv7, model_intrv8, model_intrv9, model_intrv10, model_intrv11, model_intrv12, model_intrv13, model_intrv14, model_intrv15, model_intrv16\n",
    "\n",
    "intvs=[df_intrv0, df_intrv1, df_intrv2, df_intrv3, df_intrv4, df_intrv5, df_intrv6, df_intrv7, df_intrv8,\n",
    "       df_intrv9, df_intrv10, df_intrv11, df_intrv12, df_intrv13, df_intrv14, df_intrv15, df_intrv16]\n",
    "\n",
    "for num in range(0, len(intvs)):\n",
    "    df_hr=intvs[num]\n",
    "#     print(num, len(df_hr), max(df_hr['Targ']), df_hr['Targ'].mean(), df_hr['Targ'].std())\n",
    "    \n",
    "    ####Select features of the data \n",
    "    Targ=df_hr['Targ']\n",
    "    df_feats_w_mes=df_hr.drop('Targ', axis=1) #Features including measurements and weather forecasts\n",
    "    df_feats_no_mes =df_hr.drop(df_tar_feats.columns[range(0,13)], axis=1)  #Features of weather forecasts only\n",
    "\n",
    "#     df_feats_no_mes =df_feats_no_mes.drop('asn', axis=1)  #drop albedo snow\n",
    "#     df_feats_no_mes =df_feats_no_mes.drop('sd', axis=1)  #drop snow depth\n",
    "\n",
    "\n",
    "    # df_feats=df_feats_w_mes  ## the measurements lenght is less than the weather since there are not exist in forecast period\n",
    "    df_feats=df_feats_no_mes   \n",
    "#     X_train=df_feats.loc['1/1/2017':'12/31/2017']\n",
    "#     X_test=df_feats.loc['1/1/2016':'12/31/2016']\n",
    "    X_train=df_feats.loc['1/1/2016':'12/31/2016']\n",
    "    X_test=df_feats.loc['1/1/2017':'12/31/2017']\n",
    "\n",
    "    # X_train=df_feats.loc['1/1/2017':'12/31/2017']\n",
    "    # X_test=df_feats.loc['1/1/2018':'12/31/2018']\n",
    "\n",
    "#     Y_train=Targ.loc['1/1/2017':'12/31/2017']\n",
    "#     Y_test=Targ.loc['1/1/2016':'12/31/2016']\n",
    "    Y_train=Targ.loc['1/1/2016':'12/31/2016']\n",
    "    Y_test=Targ.loc['1/1/2017':'12/31/2017']\n",
    "    \n",
    "    # Y_train=Targ.loc['1/1/2017':'12/31/2017']\n",
    "    # Y_test=Targ.loc['1/1/2018':'12/31/2018']\n",
    "\n",
    "    X_train.head()\n",
    "    # X_train.tail()\n",
    "    # len(X_train)\n",
    "\n",
    "    # Y_train.head()\n",
    "    # len(Y_train)\n",
    "    Y_train.tail()\n",
    "    \n",
    "    if num==0:\n",
    "        print('Yes20:00-3:30')\n",
    "        reslts=model_intrv0(Y_train, X_train, Y_test, X_test, Targ)\n",
    "        st0={'mse': reslts['mse'], 'nRMSE':reslts['nRMSE']}\n",
    "        Ytspd_inv0=reslts['Yts_pd']    \n",
    "    elif num==1:\n",
    "        print('Yes04:00-04:30')\n",
    "        reslts=model_intrv1(Y_train, X_train, Y_test, X_test, Targ)\n",
    "        st1={'mse': reslts['mse'], 'nRMSE':reslts['nRMSE']}\n",
    "        Ytspd_inv1=reslts['Yts_pd'] \n",
    "    elif num==2:\n",
    "        print('Yes05:00-05:30')\n",
    "        reslts=model_intrv2(Y_train, X_train, Y_test, X_test, Targ) \n",
    "        st2={'mse': reslts['mse'], 'nRMSE':reslts['nRMSE']}\n",
    "        Ytspd_inv2=reslts['Yts_pd']  \n",
    "    elif num==3:\n",
    "        print('Yes06:00-06:30')\n",
    "        reslts=model_intrv3(Y_train, X_train, Y_test, X_test, Targ)\n",
    "        st3={'mse': reslts['mse'], 'nRMSE':reslts['nRMSE']}\n",
    "        Ytspd_inv3=reslts['Yts_pd'] \n",
    "    elif num==4:\n",
    "        print('Yes07:00-07:30')\n",
    "        reslts=model_intrv3(Y_train, X_train, Y_test, X_test, Targ)\n",
    "        st4={'mse': reslts['mse'], 'nRMSE':reslts['nRMSE']}\n",
    "        Ytspd_inv4=reslts['Yts_pd']     \n",
    "    elif num==5:\n",
    "        print('Yes08:00-08:30')\n",
    "        reslts=model_intrv2(Y_train, X_train, Y_test, X_test, Targ) \n",
    "        st5={'mse': reslts['mse'], 'nRMSE':reslts['nRMSE']}\n",
    "        Ytspd_inv5=reslts['Yts_pd']  \n",
    "    elif num==6:\n",
    "        print('Yes09:00-09:30')\n",
    "        reslts=model_intrv3(Y_train, X_train, Y_test, X_test, Targ)\n",
    "        st6={'mse': reslts['mse'], 'nRMSE':reslts['nRMSE']}\n",
    "        Ytspd_inv6=reslts['Yts_pd'] \n",
    "    elif num==7:\n",
    "        print('Yes10:00-10:30')\n",
    "        reslts=model_intrv3(Y_train, X_train, Y_test, X_test, Targ)\n",
    "        st7={'mse': reslts['mse'], 'nRMSE':reslts['nRMSE']}\n",
    "        Ytspd_inv7=reslts['Yts_pd']     \n",
    "    elif num==8:\n",
    "        print('Yes11:00-11:30')\n",
    "        reslts=model_intrv3(Y_train, X_train, Y_test, X_test, Targ)\n",
    "        st8={'mse': reslts['mse'], 'nRMSE':reslts['nRMSE']}\n",
    "        Ytspd_inv8=reslts['Yts_pd']   \n",
    "    elif num==9:\n",
    "        print('Yes12:00-12:30')\n",
    "        reslts=model_intrv1(Y_train, X_train, Y_test, X_test, Targ)\n",
    "        st9={'mse': reslts['mse'], 'nRMSE':reslts['nRMSE']}\n",
    "        Ytspd_inv9=reslts['Yts_pd'] \n",
    "    elif num==10:\n",
    "        print('Yes13:00-13:30')\n",
    "        reslts=model_intrv2(Y_train, X_train, Y_test, X_test, Targ) \n",
    "        st10={'mse': reslts['mse'], 'nRMSE':reslts['nRMSE']}\n",
    "        Ytspd_inv10=reslts['Yts_pd']  \n",
    "    elif num==11:\n",
    "        print('Yes14:00-14:30')\n",
    "        reslts=model_intrv3(Y_train, X_train, Y_test, X_test, Targ)\n",
    "        st11={'mse': reslts['mse'], 'nRMSE':reslts['nRMSE']}\n",
    "        Ytspd_inv11=reslts['Yts_pd'] \n",
    "    elif num==12:\n",
    "        print('Yes15:00-15:30')\n",
    "        reslts=model_intrv3(Y_train, X_train, Y_test, X_test, Targ)\n",
    "        st12={'mse': reslts['mse'], 'nRMSE':reslts['nRMSE']}\n",
    "        Ytspd_inv12=reslts['Yts_pd']     \n",
    "    elif num==13:\n",
    "        print('Yes16:00-16:30')\n",
    "        reslts=model_intrv2(Y_train, X_train, Y_test, X_test, Targ) \n",
    "        st13={'mse': reslts['mse'], 'nRMSE':reslts['nRMSE']}\n",
    "        Ytspd_inv13=reslts['Yts_pd']  \n",
    "    elif num==14:\n",
    "        print('Yes17:00-17:30')\n",
    "        reslts=model_intrv3(Y_train, X_train, Y_test, X_test, Targ)\n",
    "        st14={'mse': reslts['mse'], 'nRMSE':reslts['nRMSE']}\n",
    "        Ytspd_inv14=reslts['Yts_pd'] \n",
    "    elif num==15:\n",
    "        print('Yes18:00-18:30')\n",
    "        reslts=model_intrv3(Y_train, X_train, Y_test, X_test, Targ)\n",
    "        st15={'mse': reslts['mse'], 'nRMSE':reslts['nRMSE']}\n",
    "        Ytspd_inv15=reslts['Yts_pd']     \n",
    "    elif num==16:\n",
    "        print('Yes19:00-19:30')\n",
    "        reslts=model_intrv3(Y_train, X_train, Y_test, X_test, Targ)\n",
    "        st16={'mse': reslts['mse'], 'nRMSE':reslts['nRMSE']}\n",
    "        Ytspd_inv16=reslts['Yts_pd'] \n",
    "    else:\n",
    "        print('No')"
   ]
  },
  {
   "cell_type": "code",
   "execution_count": 25,
   "metadata": {},
   "outputs": [
    {
     "name": "stdout",
     "output_type": "stream",
     "text": [
      "17520 17520\n"
     ]
    }
   ],
   "source": [
    "sYs=sum([len(Ytspd_inv0), len(Ytspd_inv1), len(Ytspd_inv2), len(Ytspd_inv3), len(Ytspd_inv4),\n",
    "        len(Ytspd_inv5), len(Ytspd_inv6), len(Ytspd_inv7), len(Ytspd_inv8),\n",
    "        len(Ytspd_inv9), len(Ytspd_inv10), len(Ytspd_inv11), len(Ytspd_inv12),\n",
    "        len(Ytspd_inv13), len(Ytspd_inv14), len(Ytspd_inv15), len(Ytspd_inv16)])\n",
    "\n",
    "print(sYs, len(df_tar_feats['Targ'].loc['1/1/2017':'12/31/2017']))"
   ]
  },
  {
   "cell_type": "code",
   "execution_count": null,
   "metadata": {},
   "outputs": [],
   "source": [
    "df_output=Ytspd_inv1 #hour 4\n",
    "# df_output=Ytspd_inv2  #hour 5\n",
    "# df_output=Ytspd_inv3  #hour 6\n",
    "# df_output=Ytspd_inv4  #hour 7\n",
    "# df_output=Ytspd_inv5  #hour 8\n",
    "# df_output=Ytspd_inv6  #hour 9\n",
    "# df_output=Ytspd_inv7  #hour 10\n",
    "# df_output=Ytspd_inv8  #hour 11\n",
    "df_output=Ytspd_inv9  #hour 12\n",
    "# df_output=Ytspd_inv10  #hour 13\n",
    "# df_output=Ytspd_inv11  #hour 14\n",
    "# df_output=Ytspd_inv12  #hour 15\n",
    "# df_output=Ytspd_inv13  #hour 16\n",
    "# df_output=Ytspd_inv14  #hour 17\n",
    "# df_output=Ytspd_inv15  #hour 18\n",
    "# df_output=Ytspd_inv16  #hour 19\n",
    "\n",
    "df_output\n",
    "norm_df_output=(df_output-df_output.min())/(df_output.max()-df_output.min())\n",
    "# norm_df_output"
   ]
  },
  {
   "cell_type": "code",
   "execution_count": null,
   "metadata": {},
   "outputs": [],
   "source": [
    "df_plt=norm_df_output.loc['2017-1-1':'2017-12-10']\n",
    "# # df_plt=norm_df_output.loc['2016-1-1':'2016-1-10']\n",
    "df_plt[['Yts']].plot()  \n",
    "df_plt[['Ypd',]].plot()    \n",
    "df_plt[['Yts','Ypd',]].plot()    \n",
    "\n",
    "\n",
    "plt.ylabel('Normalized to max (variables) %');\n",
    "# plt.xlabel('Time');\n",
    "plt.title('Variability of some variables for certain hour')\n",
    "plt.legend();"
   ]
  },
  {
   "cell_type": "markdown",
   "metadata": {},
   "source": [
    "The seasonality of the hourly solar power is captured very well in the forecasts by including solar irradiance varliables (such as, surface solar radiation downwards (ssrd) and clear-sky suraface solar radiation downwards(ssrdc)), especially at the morning and evening hours.\n",
    "\n",
    "For example: check df_output=Ytspd_inv13 #hour 16:00"
   ]
  },
  {
   "cell_type": "code",
   "execution_count": null,
   "metadata": {},
   "outputs": [],
   "source": [
    "##### Subplots \n",
    "fig, ax = plt.subplots(2, 2)\n",
    "ax[0, 0].plot(df_plt[['Yts']])\n",
    "ax[0, 1].plot(df_plt[['Ypd']])\n",
    "ax[1, 0].plot(df_plt[['Yts','Ypd']])\n",
    "plt.show()\n",
    "# plt.ylabel('Normalized to max (variables) %');\n",
    "# # plt.xlabel('Time');\n",
    "# plt.title('Variability of some variables for certain hour')\n",
    "# plt.legend();"
   ]
  },
  {
   "cell_type": "code",
   "execution_count": null,
   "metadata": {},
   "outputs": [],
   "source": [
    "e=dfdsd  #just to stop from run the following cells"
   ]
  },
  {
   "cell_type": "code",
   "execution_count": null,
   "metadata": {},
   "outputs": [],
   "source": []
  },
  {
   "cell_type": "code",
   "execution_count": 26,
   "metadata": {},
   "outputs": [
    {
     "name": "stdout",
     "output_type": "stream",
     "text": [
      "730\n"
     ]
    }
   ],
   "source": [
    "Ytspd_inv0[Ytspd_inv0>0]=0\n",
    "Ytspd_inv0[Ytspd_inv0<0]=0\n",
    "\n",
    "print(len(Ytspd_inv8))\n",
    "# Ytspd_inv0.head()"
   ]
  },
  {
   "cell_type": "code",
   "execution_count": 27,
   "metadata": {},
   "outputs": [
    {
     "data": {
      "text/html": [
       "<div>\n",
       "<style scoped>\n",
       "    .dataframe tbody tr th:only-of-type {\n",
       "        vertical-align: middle;\n",
       "    }\n",
       "\n",
       "    .dataframe tbody tr th {\n",
       "        vertical-align: top;\n",
       "    }\n",
       "\n",
       "    .dataframe thead th {\n",
       "        text-align: right;\n",
       "    }\n",
       "</style>\n",
       "<table border=\"1\" class=\"dataframe\">\n",
       "  <thead>\n",
       "    <tr style=\"text-align: right;\">\n",
       "      <th></th>\n",
       "      <th>Yts</th>\n",
       "      <th>Ypd</th>\n",
       "    </tr>\n",
       "  </thead>\n",
       "  <tbody>\n",
       "    <tr>\n",
       "      <th>2017-12-31 21:30:00</th>\n",
       "      <td>0.0</td>\n",
       "      <td>0.0</td>\n",
       "    </tr>\n",
       "    <tr>\n",
       "      <th>2017-12-31 22:00:00</th>\n",
       "      <td>0.0</td>\n",
       "      <td>0.0</td>\n",
       "    </tr>\n",
       "    <tr>\n",
       "      <th>2017-12-31 22:30:00</th>\n",
       "      <td>0.0</td>\n",
       "      <td>0.0</td>\n",
       "    </tr>\n",
       "    <tr>\n",
       "      <th>2017-12-31 23:00:00</th>\n",
       "      <td>0.0</td>\n",
       "      <td>0.0</td>\n",
       "    </tr>\n",
       "    <tr>\n",
       "      <th>2017-12-31 23:30:00</th>\n",
       "      <td>0.0</td>\n",
       "      <td>0.0</td>\n",
       "    </tr>\n",
       "  </tbody>\n",
       "</table>\n",
       "</div>"
      ],
      "text/plain": [
       "                     Yts  Ypd\n",
       "2017-12-31 21:30:00  0.0  0.0\n",
       "2017-12-31 22:00:00  0.0  0.0\n",
       "2017-12-31 22:30:00  0.0  0.0\n",
       "2017-12-31 23:00:00  0.0  0.0\n",
       "2017-12-31 23:30:00  0.0  0.0"
      ]
     },
     "execution_count": 27,
     "metadata": {},
     "output_type": "execute_result"
    }
   ],
   "source": [
    "df_ytgfst= pd.concat([Ytspd_inv0, Ytspd_inv1, Ytspd_inv2, Ytspd_inv3, Ytspd_inv4, Ytspd_inv5, Ytspd_inv6, Ytspd_inv7, Ytspd_inv8,\n",
    "                     Ytspd_inv9, Ytspd_inv10, Ytspd_inv11, Ytspd_inv12, Ytspd_inv13, Ytspd_inv14, Ytspd_inv15, Ytspd_inv16])\n",
    "df_ytgfst.sort_index(inplace=True)\n",
    "df_ytgfst.head()\n",
    "df_ytgfst.tail()"
   ]
  },
  {
   "cell_type": "code",
   "execution_count": 28,
   "metadata": {},
   "outputs": [
    {
     "data": {
      "text/plain": [
       "57.290068493150514"
      ]
     },
     "execution_count": 28,
     "metadata": {},
     "output_type": "execute_result"
    }
   ],
   "source": [
    "df_ytgfst['Yts'].isna().sum()  #Check if there was enteries as Nan in the target and predictions\n",
    "# df_ytgfst['Ypd'].isna().sum()\n",
    "df_tar_feats['Targ'].mean() \n",
    "df_ytgfst['Yts'].mean()"
   ]
  },
  {
   "cell_type": "code",
   "execution_count": 29,
   "metadata": {},
   "outputs": [
    {
     "name": "stdout",
     "output_type": "stream",
     "text": [
      "667.1857473485509 0.690904451509723\n"
     ]
    }
   ],
   "source": [
    "MSE=mean_squared_error(df_ytgfst['Yts'], df_ytgfst['Ypd'])  \n",
    "# NRMSE=np.sqrt(MSE)/df_ytgfst['Yts'].mean()  #mean of target solar power during 2017 only\n",
    "NRMSE=np.sqrt(MSE)/df_tar_feats['Targ'].mean()  #mean of target solar power durning 2016 and 2017\n",
    "\n",
    "print(MSE, NRMSE)"
   ]
  },
  {
   "cell_type": "code",
   "execution_count": 30,
   "metadata": {},
   "outputs": [
    {
     "name": "stdout",
     "output_type": "stream",
     "text": [
      "667.1857473485509 0.45086242087633976\n"
     ]
    }
   ],
   "source": [
    "##### Here RMSE is normalized to NRMSE by division of the mean of solar power in the forecasted year\n",
    "MSE=mean_squared_error(df_ytgfst['Yts'], df_ytgfst['Ypd'])  \n",
    "NRMSE=np.sqrt(MSE)/df_ytgfst['Yts'].mean() #mean of target solar power durning 2016 and 2017\n",
    "\n",
    "print(MSE, NRMSE)"
   ]
  },
  {
   "cell_type": "code",
   "execution_count": 24,
   "metadata": {},
   "outputs": [],
   "source": [
    "# X_test.head()"
   ]
  },
  {
   "cell_type": "code",
   "execution_count": null,
   "metadata": {},
   "outputs": [],
   "source": []
  },
  {
   "cell_type": "code",
   "execution_count": null,
   "metadata": {},
   "outputs": [],
   "source": []
  },
  {
   "cell_type": "code",
   "execution_count": null,
   "metadata": {},
   "outputs": [],
   "source": []
  },
  {
   "cell_type": "code",
   "execution_count": null,
   "metadata": {},
   "outputs": [],
   "source": []
  }
 ],
 "metadata": {
  "kernelspec": {
   "display_name": "Python 3",
   "language": "python",
   "name": "python3"
  },
  "language_info": {
   "codemirror_mode": {
    "name": "ipython",
    "version": 3
   },
   "file_extension": ".py",
   "mimetype": "text/x-python",
   "name": "python",
   "nbconvert_exporter": "python",
   "pygments_lexer": "ipython3",
   "version": "3.7.0"
  }
 },
 "nbformat": 4,
 "nbformat_minor": 2
}
