{
 "cells": [
  {
   "cell_type": "markdown",
   "metadata": {},
   "source": [
    "Training and forecasting the solar power of Hokkaido Island in Japna\n",
    "Training 2017, Forecast 2018\n",
    "\n",
    "https://stackoverflow.com/questions/35139108/how-to-install-xgboost-in-anaconda-python-windows-platform"
   ]
  },
  {
   "cell_type": "code",
   "execution_count": 1,
   "metadata": {},
   "outputs": [],
   "source": [
    "import pandas as pd\n",
    "import numpy as np\n",
    "import datetime as dt\n",
    "import csv \n",
    "import matplotlib.pyplot as plt\n",
    "import pytz\n",
    "import xgboost as xgb"
   ]
  },
  {
   "cell_type": "code",
   "execution_count": 2,
   "metadata": {},
   "outputs": [
    {
     "data": {
      "text/plain": [
       "'C:\\\\Users\\\\Mhdella\\\\Google Drive\\\\Jupyter Folder\\\\PV_Hokkaido_forecast_contest\\\\pvinhokkaidodatadistribution'"
      ]
     },
     "execution_count": 2,
     "metadata": {},
     "output_type": "execute_result"
    }
   ],
   "source": [
    "import os\n",
    "cwd = os.getcwd()\n",
    "cwd\n",
    "# os.chdir('pvinhokkaidodatadistribution')\n",
    "# C:\\Users\\Mhdella\\Google Drive\\Jupyter Folder\\PV_Hokkaido_forecast_contest\\\n",
    "os.chdir('C:\\\\Users\\\\Mhdella\\\\Google Drive\\\\Jupyter Folder\\\\PV_Hokkaido_forecast_contest\\\\pvinhokkaidodatadistribution')\n",
    "nwd=os.getcwd()\n",
    "nwd"
   ]
  },
  {
   "cell_type": "code",
   "execution_count": 3,
   "metadata": {},
   "outputs": [
    {
     "data": {
      "text/html": [
       "<div>\n",
       "<style scoped>\n",
       "    .dataframe tbody tr th:only-of-type {\n",
       "        vertical-align: middle;\n",
       "    }\n",
       "\n",
       "    .dataframe tbody tr th {\n",
       "        vertical-align: top;\n",
       "    }\n",
       "\n",
       "    .dataframe thead th {\n",
       "        text-align: right;\n",
       "    }\n",
       "</style>\n",
       "<table border=\"1\" class=\"dataframe\">\n",
       "  <thead>\n",
       "    <tr style=\"text-align: right;\">\n",
       "      <th></th>\n",
       "      <th>DATE</th>\n",
       "      <th>TIME</th>\n",
       "      <th>S1[MW]</th>\n",
       "      <th>S2[MW]</th>\n",
       "      <th>solar[kW/m2]</th>\n",
       "      <th>temp[deg C]</th>\n",
       "      <th>solar[kW/m2].1</th>\n",
       "      <th>temp[deg C].1</th>\n",
       "      <th>solar[kW/m2].2</th>\n",
       "      <th>temp[deg C].2</th>\n",
       "      <th>...</th>\n",
       "      <th>t2m.2</th>\n",
       "      <th>asn.2</th>\n",
       "      <th>sd.2</th>\n",
       "      <th>ssrdc.2</th>\n",
       "      <th>ssrd.2</th>\n",
       "      <th>tcc.2</th>\n",
       "      <th>tciw.2</th>\n",
       "      <th>tclw.2</th>\n",
       "      <th>tp.2</th>\n",
       "      <th>wind_speed.2</th>\n",
       "    </tr>\n",
       "  </thead>\n",
       "  <tbody>\n",
       "    <tr>\n",
       "      <th>0</th>\n",
       "      <td>1/1/2016</td>\n",
       "      <td>9:00:00</td>\n",
       "      <td>54.7</td>\n",
       "      <td>78.4</td>\n",
       "      <td>0.159228</td>\n",
       "      <td>-1.2</td>\n",
       "      <td>0.276627</td>\n",
       "      <td>0.0</td>\n",
       "      <td>0.339371</td>\n",
       "      <td>-5.9</td>\n",
       "      <td>...</td>\n",
       "      <td>-13.909399</td>\n",
       "      <td>0.600965</td>\n",
       "      <td>7.450000e-09</td>\n",
       "      <td>57.319398</td>\n",
       "      <td>30.413241</td>\n",
       "      <td>0.000000</td>\n",
       "      <td>0.000000</td>\n",
       "      <td>0.000000</td>\n",
       "      <td>0.000000e+00</td>\n",
       "      <td>7.704484</td>\n",
       "    </tr>\n",
       "    <tr>\n",
       "      <th>1</th>\n",
       "      <td>1/1/2016</td>\n",
       "      <td>9:30:00</td>\n",
       "      <td>113.8</td>\n",
       "      <td>89.0</td>\n",
       "      <td>0.221269</td>\n",
       "      <td>-0.3</td>\n",
       "      <td>0.307764</td>\n",
       "      <td>0.1</td>\n",
       "      <td>0.297246</td>\n",
       "      <td>-4.4</td>\n",
       "      <td>...</td>\n",
       "      <td>-12.694835</td>\n",
       "      <td>0.600870</td>\n",
       "      <td>7.450000e-09</td>\n",
       "      <td>104.414120</td>\n",
       "      <td>55.211142</td>\n",
       "      <td>0.037510</td>\n",
       "      <td>0.000396</td>\n",
       "      <td>0.000012</td>\n",
       "      <td>2.690000e-07</td>\n",
       "      <td>7.772519</td>\n",
       "    </tr>\n",
       "    <tr>\n",
       "      <th>2</th>\n",
       "      <td>1/1/2016</td>\n",
       "      <td>10:00:00</td>\n",
       "      <td>115.9</td>\n",
       "      <td>97.3</td>\n",
       "      <td>0.231619</td>\n",
       "      <td>-0.5</td>\n",
       "      <td>0.354492</td>\n",
       "      <td>0.7</td>\n",
       "      <td>0.320564</td>\n",
       "      <td>-2.3</td>\n",
       "      <td>...</td>\n",
       "      <td>-11.480271</td>\n",
       "      <td>0.600775</td>\n",
       "      <td>7.450000e-09</td>\n",
       "      <td>151.508843</td>\n",
       "      <td>80.009043</td>\n",
       "      <td>0.075021</td>\n",
       "      <td>0.000793</td>\n",
       "      <td>0.000023</td>\n",
       "      <td>5.390000e-07</td>\n",
       "      <td>7.840554</td>\n",
       "    </tr>\n",
       "    <tr>\n",
       "      <th>3</th>\n",
       "      <td>1/1/2016</td>\n",
       "      <td>10:30:00</td>\n",
       "      <td>139.5</td>\n",
       "      <td>100.6</td>\n",
       "      <td>0.205909</td>\n",
       "      <td>-0.4</td>\n",
       "      <td>0.363168</td>\n",
       "      <td>0.8</td>\n",
       "      <td>0.306980</td>\n",
       "      <td>-1.9</td>\n",
       "      <td>...</td>\n",
       "      <td>-10.265707</td>\n",
       "      <td>0.600680</td>\n",
       "      <td>7.450000e-09</td>\n",
       "      <td>198.603565</td>\n",
       "      <td>104.806944</td>\n",
       "      <td>0.112531</td>\n",
       "      <td>0.001189</td>\n",
       "      <td>0.000034</td>\n",
       "      <td>8.080000e-07</td>\n",
       "      <td>7.908589</td>\n",
       "    </tr>\n",
       "    <tr>\n",
       "      <th>4</th>\n",
       "      <td>1/1/2016</td>\n",
       "      <td>11:00:00</td>\n",
       "      <td>125.7</td>\n",
       "      <td>96.8</td>\n",
       "      <td>0.277444</td>\n",
       "      <td>-0.2</td>\n",
       "      <td>0.358989</td>\n",
       "      <td>0.6</td>\n",
       "      <td>0.237579</td>\n",
       "      <td>-3.1</td>\n",
       "      <td>...</td>\n",
       "      <td>-9.051143</td>\n",
       "      <td>0.600586</td>\n",
       "      <td>7.450000e-09</td>\n",
       "      <td>245.698287</td>\n",
       "      <td>129.604846</td>\n",
       "      <td>0.150041</td>\n",
       "      <td>0.001585</td>\n",
       "      <td>0.000046</td>\n",
       "      <td>1.080000e-06</td>\n",
       "      <td>7.976625</td>\n",
       "    </tr>\n",
       "  </tbody>\n",
       "</table>\n",
       "<p>5 rows × 48 columns</p>\n",
       "</div>"
      ],
      "text/plain": [
       "       DATE      TIME  S1[MW]  S2[MW]  solar[kW/m2]  temp[deg C]  \\\n",
       "0  1/1/2016   9:00:00    54.7    78.4      0.159228         -1.2   \n",
       "1  1/1/2016   9:30:00   113.8    89.0      0.221269         -0.3   \n",
       "2  1/1/2016  10:00:00   115.9    97.3      0.231619         -0.5   \n",
       "3  1/1/2016  10:30:00   139.5   100.6      0.205909         -0.4   \n",
       "4  1/1/2016  11:00:00   125.7    96.8      0.277444         -0.2   \n",
       "\n",
       "   solar[kW/m2].1  temp[deg C].1  solar[kW/m2].2  temp[deg C].2      ...       \\\n",
       "0        0.276627            0.0        0.339371           -5.9      ...        \n",
       "1        0.307764            0.1        0.297246           -4.4      ...        \n",
       "2        0.354492            0.7        0.320564           -2.3      ...        \n",
       "3        0.363168            0.8        0.306980           -1.9      ...        \n",
       "4        0.358989            0.6        0.237579           -3.1      ...        \n",
       "\n",
       "       t2m.2     asn.2          sd.2     ssrdc.2      ssrd.2     tcc.2  \\\n",
       "0 -13.909399  0.600965  7.450000e-09   57.319398   30.413241  0.000000   \n",
       "1 -12.694835  0.600870  7.450000e-09  104.414120   55.211142  0.037510   \n",
       "2 -11.480271  0.600775  7.450000e-09  151.508843   80.009043  0.075021   \n",
       "3 -10.265707  0.600680  7.450000e-09  198.603565  104.806944  0.112531   \n",
       "4  -9.051143  0.600586  7.450000e-09  245.698287  129.604846  0.150041   \n",
       "\n",
       "     tciw.2    tclw.2          tp.2  wind_speed.2  \n",
       "0  0.000000  0.000000  0.000000e+00      7.704484  \n",
       "1  0.000396  0.000012  2.690000e-07      7.772519  \n",
       "2  0.000793  0.000023  5.390000e-07      7.840554  \n",
       "3  0.001189  0.000034  8.080000e-07      7.908589  \n",
       "4  0.001585  0.000046  1.080000e-06      7.976625  \n",
       "\n",
       "[5 rows x 48 columns]"
      ]
     },
     "execution_count": 3,
     "metadata": {},
     "output_type": "execute_result"
    }
   ],
   "source": [
    "# file_name='Merg_Ens_Agg_42_44_mes17_18.csv'\n",
    "# file_name='Merg_Ens_Agg_43_mes17_18.csv'\n",
    "\n",
    "# file_name='Merg_Ens_Agg_42_44_mes16_17_18.csv'\n",
    "file_name='Merg_Ens_mmaxmin_Agg_42_44_mes16_18.csv'\n",
    "\n",
    "# file_name='Merg_Res_Comb_S1_S2_2018_tz_Jp.csv'\n",
    "# file_mane='Merg_Res_Comb_S1_S2_2017_tz_Jp.csv'\n",
    "\n",
    "df_hok=pd.read_csv(file_name) \n",
    "df_hok.head()\n",
    "# df_hok.tail()"
   ]
  },
  {
   "cell_type": "code",
   "execution_count": 4,
   "metadata": {},
   "outputs": [],
   "source": [
    "#### This cell just to check out the dataset with different coordination lat 43 and lat42-44 from ECMWF\n",
    "df_hok1=pd.read_csv('Merg_Ens_Agg_42_44_mes17_18.csv') \n",
    "df_hok2=pd.read_csv('Merg_Ens_Agg_43_mes17_18.csv')\n",
    "\n",
    "df_mns= {'col1': df_hok1.mean(), 'col2': df_hok2.mean()}\n",
    "# df_mns"
   ]
  },
  {
   "cell_type": "markdown",
   "metadata": {},
   "source": [
    "https://scikit-learn.org/stable/modules/generated/sklearn.ensemble.GradientBoostingRegressor.html\n",
    "\n",
    "https://scikit-learn.org/stable/auto_examples/ensemble/plot_gradient_boosting_regression.html#sphx-glr-auto-examples-ensemble-plot-gradient-boosting-regression-py"
   ]
  },
  {
   "cell_type": "code",
   "execution_count": 5,
   "metadata": {},
   "outputs": [
    {
     "data": {
      "text/html": [
       "<div>\n",
       "<style scoped>\n",
       "    .dataframe tbody tr th:only-of-type {\n",
       "        vertical-align: middle;\n",
       "    }\n",
       "\n",
       "    .dataframe tbody tr th {\n",
       "        vertical-align: top;\n",
       "    }\n",
       "\n",
       "    .dataframe thead th {\n",
       "        text-align: right;\n",
       "    }\n",
       "</style>\n",
       "<table border=\"1\" class=\"dataframe\">\n",
       "  <thead>\n",
       "    <tr style=\"text-align: right;\">\n",
       "      <th></th>\n",
       "      <th>DATE</th>\n",
       "      <th>TIME</th>\n",
       "      <th>S1[MW]</th>\n",
       "      <th>S2[MW]</th>\n",
       "      <th>solar[kW/m2]</th>\n",
       "      <th>temp[deg C]</th>\n",
       "      <th>solar[kW/m2].1</th>\n",
       "      <th>temp[deg C].1</th>\n",
       "      <th>solar[kW/m2].2</th>\n",
       "      <th>temp[deg C].2</th>\n",
       "      <th>...</th>\n",
       "      <th>t2m.2</th>\n",
       "      <th>asn.2</th>\n",
       "      <th>sd.2</th>\n",
       "      <th>ssrdc.2</th>\n",
       "      <th>ssrd.2</th>\n",
       "      <th>tcc.2</th>\n",
       "      <th>tciw.2</th>\n",
       "      <th>tclw.2</th>\n",
       "      <th>tp.2</th>\n",
       "      <th>wind_speed.2</th>\n",
       "    </tr>\n",
       "  </thead>\n",
       "  <tbody>\n",
       "    <tr>\n",
       "      <th>0</th>\n",
       "      <td>1/1/2016</td>\n",
       "      <td>9:00:00</td>\n",
       "      <td>54.7</td>\n",
       "      <td>78.4</td>\n",
       "      <td>0.159228</td>\n",
       "      <td>-1.2</td>\n",
       "      <td>0.276627</td>\n",
       "      <td>0.0</td>\n",
       "      <td>0.339371</td>\n",
       "      <td>-5.9</td>\n",
       "      <td>...</td>\n",
       "      <td>-13.909399</td>\n",
       "      <td>0.600965</td>\n",
       "      <td>7.450000e-09</td>\n",
       "      <td>57.319398</td>\n",
       "      <td>30.413241</td>\n",
       "      <td>0.000000</td>\n",
       "      <td>0.000000</td>\n",
       "      <td>0.000000</td>\n",
       "      <td>0.000000e+00</td>\n",
       "      <td>7.704484</td>\n",
       "    </tr>\n",
       "    <tr>\n",
       "      <th>1</th>\n",
       "      <td>1/1/2016</td>\n",
       "      <td>9:30:00</td>\n",
       "      <td>113.8</td>\n",
       "      <td>89.0</td>\n",
       "      <td>0.221269</td>\n",
       "      <td>-0.3</td>\n",
       "      <td>0.307764</td>\n",
       "      <td>0.1</td>\n",
       "      <td>0.297246</td>\n",
       "      <td>-4.4</td>\n",
       "      <td>...</td>\n",
       "      <td>-12.694835</td>\n",
       "      <td>0.600870</td>\n",
       "      <td>7.450000e-09</td>\n",
       "      <td>104.414120</td>\n",
       "      <td>55.211142</td>\n",
       "      <td>0.037510</td>\n",
       "      <td>0.000396</td>\n",
       "      <td>0.000012</td>\n",
       "      <td>2.690000e-07</td>\n",
       "      <td>7.772519</td>\n",
       "    </tr>\n",
       "    <tr>\n",
       "      <th>2</th>\n",
       "      <td>1/1/2016</td>\n",
       "      <td>10:00:00</td>\n",
       "      <td>115.9</td>\n",
       "      <td>97.3</td>\n",
       "      <td>0.231619</td>\n",
       "      <td>-0.5</td>\n",
       "      <td>0.354492</td>\n",
       "      <td>0.7</td>\n",
       "      <td>0.320564</td>\n",
       "      <td>-2.3</td>\n",
       "      <td>...</td>\n",
       "      <td>-11.480271</td>\n",
       "      <td>0.600775</td>\n",
       "      <td>7.450000e-09</td>\n",
       "      <td>151.508843</td>\n",
       "      <td>80.009043</td>\n",
       "      <td>0.075021</td>\n",
       "      <td>0.000793</td>\n",
       "      <td>0.000023</td>\n",
       "      <td>5.390000e-07</td>\n",
       "      <td>7.840554</td>\n",
       "    </tr>\n",
       "    <tr>\n",
       "      <th>3</th>\n",
       "      <td>1/1/2016</td>\n",
       "      <td>10:30:00</td>\n",
       "      <td>139.5</td>\n",
       "      <td>100.6</td>\n",
       "      <td>0.205909</td>\n",
       "      <td>-0.4</td>\n",
       "      <td>0.363168</td>\n",
       "      <td>0.8</td>\n",
       "      <td>0.306980</td>\n",
       "      <td>-1.9</td>\n",
       "      <td>...</td>\n",
       "      <td>-10.265707</td>\n",
       "      <td>0.600680</td>\n",
       "      <td>7.450000e-09</td>\n",
       "      <td>198.603565</td>\n",
       "      <td>104.806944</td>\n",
       "      <td>0.112531</td>\n",
       "      <td>0.001189</td>\n",
       "      <td>0.000034</td>\n",
       "      <td>8.080000e-07</td>\n",
       "      <td>7.908589</td>\n",
       "    </tr>\n",
       "    <tr>\n",
       "      <th>4</th>\n",
       "      <td>1/1/2016</td>\n",
       "      <td>11:00:00</td>\n",
       "      <td>125.7</td>\n",
       "      <td>96.8</td>\n",
       "      <td>0.277444</td>\n",
       "      <td>-0.2</td>\n",
       "      <td>0.358989</td>\n",
       "      <td>0.6</td>\n",
       "      <td>0.237579</td>\n",
       "      <td>-3.1</td>\n",
       "      <td>...</td>\n",
       "      <td>-9.051143</td>\n",
       "      <td>0.600586</td>\n",
       "      <td>7.450000e-09</td>\n",
       "      <td>245.698287</td>\n",
       "      <td>129.604846</td>\n",
       "      <td>0.150041</td>\n",
       "      <td>0.001585</td>\n",
       "      <td>0.000046</td>\n",
       "      <td>1.080000e-06</td>\n",
       "      <td>7.976625</td>\n",
       "    </tr>\n",
       "  </tbody>\n",
       "</table>\n",
       "<p>5 rows × 48 columns</p>\n",
       "</div>"
      ],
      "text/plain": [
       "       DATE      TIME  S1[MW]  S2[MW]  solar[kW/m2]  temp[deg C]  \\\n",
       "0  1/1/2016   9:00:00    54.7    78.4      0.159228         -1.2   \n",
       "1  1/1/2016   9:30:00   113.8    89.0      0.221269         -0.3   \n",
       "2  1/1/2016  10:00:00   115.9    97.3      0.231619         -0.5   \n",
       "3  1/1/2016  10:30:00   139.5   100.6      0.205909         -0.4   \n",
       "4  1/1/2016  11:00:00   125.7    96.8      0.277444         -0.2   \n",
       "\n",
       "   solar[kW/m2].1  temp[deg C].1  solar[kW/m2].2  temp[deg C].2      ...       \\\n",
       "0        0.276627            0.0        0.339371           -5.9      ...        \n",
       "1        0.307764            0.1        0.297246           -4.4      ...        \n",
       "2        0.354492            0.7        0.320564           -2.3      ...        \n",
       "3        0.363168            0.8        0.306980           -1.9      ...        \n",
       "4        0.358989            0.6        0.237579           -3.1      ...        \n",
       "\n",
       "       t2m.2     asn.2          sd.2     ssrdc.2      ssrd.2     tcc.2  \\\n",
       "0 -13.909399  0.600965  7.450000e-09   57.319398   30.413241  0.000000   \n",
       "1 -12.694835  0.600870  7.450000e-09  104.414120   55.211142  0.037510   \n",
       "2 -11.480271  0.600775  7.450000e-09  151.508843   80.009043  0.075021   \n",
       "3 -10.265707  0.600680  7.450000e-09  198.603565  104.806944  0.112531   \n",
       "4  -9.051143  0.600586  7.450000e-09  245.698287  129.604846  0.150041   \n",
       "\n",
       "     tciw.2    tclw.2          tp.2  wind_speed.2  \n",
       "0  0.000000  0.000000  0.000000e+00      7.704484  \n",
       "1  0.000396  0.000012  2.690000e-07      7.772519  \n",
       "2  0.000793  0.000023  5.390000e-07      7.840554  \n",
       "3  0.001189  0.000034  8.080000e-07      7.908589  \n",
       "4  0.001585  0.000046  1.080000e-06      7.976625  \n",
       "\n",
       "[5 rows x 48 columns]"
      ]
     },
     "execution_count": 5,
     "metadata": {},
     "output_type": "execute_result"
    }
   ],
   "source": [
    "import sklearn \n",
    "import numpy as np\n",
    "from sklearn.metrics import mean_squared_error\n",
    "# X, y = make_friedman1(n_samples=1200, random_state=0, noise=1.0)\n",
    "# X, y = make_friedman1(n_samples=1200, random_state=0, noise=1.0)\n",
    "df_hok.head()"
   ]
  },
  {
   "cell_type": "code",
   "execution_count": 6,
   "metadata": {},
   "outputs": [
    {
     "name": "stdout",
     "output_type": "stream",
     "text": [
      "['DATE', 'TIME', 'S1[MW]', 'S2[MW]', 'solar[kW/m2]', 'temp[deg C]', 'solar[kW/m2].1', 'temp[deg C].1', 'solar[kW/m2].2', 'temp[deg C].2', 'solar[kW/m2].3', 'temp[deg C].3', 'u10', 'v10', 't2m', 'asn', 'sd', 'ssrdc', 'ssrd', 'tcc', 'tciw', 'tclw', 'tp', 'wind_speed', 'u10.1', 'v10.1', 't2m.1', 'asn.1', 'sd.1', 'ssrdc.1', 'ssrd.1', 'tcc.1', 'tciw.1', 'tclw.1', 'tp.1', 'wind_speed.1', 'u10.2', 'v10.2', 't2m.2', 'asn.2', 'sd.2', 'ssrdc.2', 'ssrd.2', 'tcc.2', 'tciw.2', 'tclw.2', 'tp.2', 'wind_speed.2']\n"
     ]
    }
   ],
   "source": [
    "print(list(df_hok))"
   ]
  },
  {
   "cell_type": "code",
   "execution_count": 7,
   "metadata": {},
   "outputs": [],
   "source": [
    "#### df_feats=df_hok[df_hok['ssrdc'] != 0] ## dropping night hours, when clear-sky solar irradiance (SSRDC) forecasts=0, and this can be applied in real forecasts  \n",
    "\n",
    "#### df_feats=df_hok.set_index('DATE')\n",
    "\n",
    "############################# Not dropping night hours\n",
    "\n",
    "df_tar_feats=df_hok.set_index(pd.to_datetime(df_hok['DATE'] + ' ' + df_hok['TIME']))\n",
    "\n",
    "############## In case of forecast solar power  #######\n",
    "\n",
    "# Targ=df_tar_feats['S1[MW]']+df_tar_feats['S2[MW]']\n",
    "# Targ = Targ.replace(np.nan, 0, regex=True)\n",
    "\n",
    "# df_feats=df_tar_feats[['u10', 'v10', 't2m', 'asn', 'sd', 'ssrdc', 'ssrd', 'tcc', 'tciw', 'tclw', 'tp', 'wind_speed', \n",
    "#              'u10.1', 'v10.1', 't2m.1', 'asn.1', 'sd.1', 'ssrdc.1', 'ssrd.1', 'tcc.1', 'tciw.1', 'tclw.1', 'tp.1', 'wind_speed.1', \n",
    "#              'u10.2', 'v10.2', 't2m.2', 'asn.2', 'sd.2', 'ssrdc.2', 'ssrd.2', 'tcc.2', 'tciw.2', 'tclw.2', 'tp.2', 'wind_speed.2']]\n",
    "\n",
    "############### In case of forecast solar irradiance  #######\n",
    "\n",
    "Targ=df_tar_feats['ssrd']  #ssrd is the mean of ssrd data from all ensemble members\n",
    "df_tar_feats=df_tar_feats[['solar[kW/m2]', 'temp[deg C]', 'solar[kW/m2].1', 'temp[deg C].1', 'solar[kW/m2].2', 'temp[deg C].2',\n",
    "                       'solar[kW/m2].3', 'temp[deg C].3','u10', 'v10', 't2m', 'asn', 'sd', 'ssrdc','ssrd', 'tcc', 'tciw', 'tclw', \n",
    "                       'tp', 'wind_speed', 'u10.1', 'v10.1', 't2m.1', 'asn.1', 'sd.1', 'ssrdc.1','ssrd.1', 'tcc.1', 'tciw.1', 'tclw.1', 'tp.1', 'wind_speed.1', \n",
    "                      'u10.2', 'v10.2', 't2m.2', 'asn.2', 'sd.2', 'ssrdc.2', 'ssrd.2', 'tcc.2', 'tciw.2', 'tclw.2', 'tp.2', 'wind_speed.2']]\n",
    "\n",
    "\n",
    "df_tar_feats.insert(loc=0, column='Targ', value=Targ)\n",
    "\n",
    "# Targ.tail()\n",
    "# df_tar_feats.head()\n"
   ]
  },
  {
   "cell_type": "code",
   "execution_count": 8,
   "metadata": {},
   "outputs": [
    {
     "data": {
      "text/plain": [
       "38"
      ]
     },
     "execution_count": 8,
     "metadata": {},
     "output_type": "execute_result"
    }
   ],
   "source": [
    "# df_tar_feats[['solar[kW/m2]','temp[deg C]', 'solar[kW/m2].1', 'temp[deg C].1', 'solar[kW/m2].2', 'temp[deg C].2',\n",
    "#                        'solar[kW/m2].3', 'temp[deg C].3']]\n",
    "df_tar_feats['Solar_mes_mean']=df_tar_feats[['solar[kW/m2]', 'solar[kW/m2].1', 'solar[kW/m2].2','solar[kW/m2].3' ]].mean(axis=1)*1000\n",
    "df_tar_feats['Temp_mes_mean']=df_tar_feats[['temp[deg C]', 'temp[deg C].1', 'temp[deg C].2','temp[deg C].3']].mean(axis=1)\n",
    "\n",
    "# df_tar_feats['Solar_mes_mean']\n",
    "# df_tar_feats['Temp_mes_mean']\n",
    "\n",
    "df_feats_no_indiv_mes =df_tar_feats.drop(df_tar_feats.columns[range(0,9)], axis=1)  #Features of weather forecasts only\n",
    "df_feats_no_indiv_mes.rename(columns={'Solar_mes_mean': 'Targ'}, inplace=True)\n",
    "\n",
    "\n",
    "df_feats_no_indiv_mes = df_feats_no_indiv_mes[['Temp_mes_mean'] + df_feats_no_indiv_mes.columns[:-1].tolist()]\n",
    "df_feats_no_indiv_mes = df_feats_no_indiv_mes[['Targ'] + df_feats_no_indiv_mes.columns[:-1].tolist()]\n",
    "\n",
    "df_feats_no_indiv_mes.head()\n",
    "\n",
    "len(list(df_feats_no_indiv_mes))\n"
   ]
  },
  {
   "cell_type": "code",
   "execution_count": 9,
   "metadata": {},
   "outputs": [],
   "source": [
    "###This cell to divide the target solar irradiance by clear sky solar irradiance, to check how it affects the performance\n",
    "# df_feats_no_indiv_mes['Targ']=df_feats_no_indiv_mes['Targ']/df_feats_no_indiv_mes['ssrdc']\n",
    "# df_feats_no_indiv_mes['Targ']=df_feats_no_indiv_mes['Targ'].replace([np.inf,-np.inf], np.nan)\n",
    "# df_feats_no_indiv_mes.fillna(0, inplace=True)\n",
    "# # df_feats_no_indiv_mes.head(88)"
   ]
  },
  {
   "cell_type": "code",
   "execution_count": 10,
   "metadata": {},
   "outputs": [],
   "source": [
    "# ind_date_time= pd.date_range('2019-03-08 00:00','2019-03-09 00:00',freq='120T')\n",
    "ind_date_time= pd.date_range('2019-03-08 04:00','2019-03-09 03:30',freq='30T')\n",
    "\n",
    "Hours= ind_date_time.strftime('%H:%M')\n",
    "# Hours\n",
    "# for num in range(0,len(Hours),6):\n",
    "#     print(Hours[num])"
   ]
  },
  {
   "cell_type": "code",
   "execution_count": 11,
   "metadata": {},
   "outputs": [],
   "source": [
    "df_intrv0=df_feats_no_indiv_mes.between_time('20:00','03:30')\n",
    "df_intrv1=df_feats_no_indiv_mes.between_time('04:00','07:30')\n",
    "df_intrv2=df_feats_no_indiv_mes.between_time('08:00','11:30')\n",
    "df_intrv3=df_feats_no_indiv_mes.between_time('12:00','15:30')\n",
    "df_intrv4=df_feats_no_indiv_mes.between_time('16:00','19:30')\n",
    "# df_intrv4.head(9)"
   ]
  },
  {
   "cell_type": "code",
   "execution_count": 12,
   "metadata": {},
   "outputs": [],
   "source": [
    "#df=dfdfd #Just to stop before run the following cell"
   ]
  },
  {
   "cell_type": "code",
   "execution_count": 13,
   "metadata": {},
   "outputs": [
    {
     "data": {
      "text/plain": [
       "8768"
      ]
     },
     "execution_count": 13,
     "metadata": {},
     "output_type": "execute_result"
    }
   ],
   "source": [
    "Targ=df_intrv4['Targ']\n",
    "len(Targ)\n",
    "# len(df_intrv4)\n",
    "# df_intrv4.head()"
   ]
  },
  {
   "cell_type": "code",
   "execution_count": 14,
   "metadata": {},
   "outputs": [
    {
     "name": "stdout",
     "output_type": "stream",
     "text": [
      "Yes20:00-3:30\n",
      "0.12463916888442042 -0.3321680900438101\n",
      "Yes4:00-7:30\n",
      "1302.5807683034582 0.467147013951742\n",
      "Yes8:00-11:30\n",
      "7779.852601608198 0.21538871457987332\n",
      "Yes12:00-15:30\n",
      "8950.553030459725 0.2917186166986582\n",
      "Yes16:00-19:30\n",
      "262.77762844885757 0.5767391584436579\n"
     ]
    }
   ],
   "source": [
    "from Hokk_Hourly_Forecast_Models import model_intrv0, model_intrv1, model_intrv2, model_intrv3, model_intrv4\n",
    "intvs=[df_intrv0, df_intrv1, df_intrv2, df_intrv3, df_intrv4]\n",
    "for num in range(0, len(intvs)):\n",
    "    df_hr=intvs[num]\n",
    "#     print(num, len(df_hr), max(df_hr['Targ']), df_hr['Targ'].mean(), df_hr['Targ'].std())\n",
    "    \n",
    "    ####Select features of the data \n",
    "    Targ=df_hr['Targ']\n",
    "    df_feats_w_mes=df_hr.drop('Targ', axis=1) #Features including measurements and weather forecasts\n",
    "    df_feats=df_feats_w_mes #Features mean of measuments and weather without SSRD, also the Targ is excluded\n",
    "\n",
    "#     X_train=df_feats.loc['1/1/2016':'12/31/2016']\n",
    "#     X_test=df_feats.loc['1/1/2017':'12/31/2017']\n",
    "\n",
    "    X_train=df_feats.loc['1/1/2016':'12/31/2017']\n",
    "    X_test=df_feats.loc['1/1/2018':'12/31/2018']\n",
    "\n",
    "#     Y_train=Targ.loc['1/1/2016':'12/31/2016']\n",
    "#     Y_test=Targ.loc['1/1/2017':'12/31/2017']\n",
    "\n",
    "    Y_train=Targ.loc['1/1/2016':'12/31/2017']\n",
    "    Y_test=Targ.loc['1/1/2018':'12/31/2018']\n",
    "\n",
    "    X_train.head()\n",
    "    # X_train.tail()\n",
    "    # len(X_train)\n",
    "\n",
    "    # Y_train.head()\n",
    "    # len(Y_train)\n",
    "    Y_train.tail()\n",
    "    \n",
    "    if num==0:\n",
    "        print('Yes20:00-3:30')\n",
    "        reslts=model_intrv0(Y_train, X_train, Y_test, X_test, Targ)\n",
    "        st0={'mse': reslts['mse'], 'nRMSE':reslts['nRMSE']}\n",
    "        Ytspd_inv0=reslts['Yts_pd']    \n",
    "    elif num==1:\n",
    "        print('Yes4:00-7:30')\n",
    "        reslts=model_intrv1(Y_train, X_train, Y_test, X_test, Targ)\n",
    "        st1={'mse': reslts['mse'], 'nRMSE':reslts['nRMSE']}\n",
    "        Ytspd_inv1=reslts['Yts_pd'] \n",
    "    elif num==2:\n",
    "        print('Yes8:00-11:30')\n",
    "        reslts=model_intrv2(Y_train, X_train, Y_test, X_test, Targ) \n",
    "        st2={'mse': reslts['mse'], 'nRMSE':reslts['nRMSE']}\n",
    "        Ytspd_inv2=reslts['Yts_pd']  \n",
    "    elif num==3:\n",
    "        print('Yes12:00-15:30')\n",
    "        reslts=model_intrv3(Y_train, X_train, Y_test, X_test, Targ)\n",
    "        st3={'mse': reslts['mse'], 'nRMSE':reslts['nRMSE']}\n",
    "        Ytspd_inv3=reslts['Yts_pd'] \n",
    "    elif num==4:\n",
    "        print('Yes16:00-19:30')\n",
    "        reslts=model_intrv3(Y_train, X_train, Y_test, X_test, Targ)\n",
    "        st4={'mse': reslts['mse'], 'nRMSE':reslts['nRMSE']}\n",
    "        Ytspd_inv4=reslts['Yts_pd']     \n",
    "    else:\n",
    "        print('No')"
   ]
  },
  {
   "cell_type": "code",
   "execution_count": 22,
   "metadata": {},
   "outputs": [
    {
     "name": "stdout",
     "output_type": "stream",
     "text": [
      "17520 17520\n"
     ]
    }
   ],
   "source": [
    "sYs=sum([len(Ytspd_inv0), len(Ytspd_inv1), len(Ytspd_inv2), len(Ytspd_inv3), len(Ytspd_inv4)])\n",
    "print(sYs, len(df_tar_feats['Targ'].loc['1/1/2017':'12/31/2017']))"
   ]
  },
  {
   "cell_type": "code",
   "execution_count": 23,
   "metadata": {},
   "outputs": [
    {
     "name": "stdout",
     "output_type": "stream",
     "text": [
      "5840\n"
     ]
    }
   ],
   "source": [
    "Ytspd_inv0[Ytspd_inv0>0]=0\n",
    "Ytspd_inv0[Ytspd_inv0<0]=0\n",
    "print(len(Ytspd_inv0))\n",
    "# Ytspd_inv0.head()"
   ]
  },
  {
   "cell_type": "code",
   "execution_count": 24,
   "metadata": {},
   "outputs": [
    {
     "data": {
      "text/html": [
       "<div>\n",
       "<style scoped>\n",
       "    .dataframe tbody tr th:only-of-type {\n",
       "        vertical-align: middle;\n",
       "    }\n",
       "\n",
       "    .dataframe tbody tr th {\n",
       "        vertical-align: top;\n",
       "    }\n",
       "\n",
       "    .dataframe thead th {\n",
       "        text-align: right;\n",
       "    }\n",
       "</style>\n",
       "<table border=\"1\" class=\"dataframe\">\n",
       "  <thead>\n",
       "    <tr style=\"text-align: right;\">\n",
       "      <th></th>\n",
       "      <th>Yts</th>\n",
       "      <th>Ypd</th>\n",
       "    </tr>\n",
       "  </thead>\n",
       "  <tbody>\n",
       "    <tr>\n",
       "      <th>2017-12-31 21:30:00</th>\n",
       "      <td>0.0</td>\n",
       "      <td>0.0</td>\n",
       "    </tr>\n",
       "    <tr>\n",
       "      <th>2017-12-31 22:00:00</th>\n",
       "      <td>0.0</td>\n",
       "      <td>0.0</td>\n",
       "    </tr>\n",
       "    <tr>\n",
       "      <th>2017-12-31 22:30:00</th>\n",
       "      <td>0.0</td>\n",
       "      <td>0.0</td>\n",
       "    </tr>\n",
       "    <tr>\n",
       "      <th>2017-12-31 23:00:00</th>\n",
       "      <td>0.0</td>\n",
       "      <td>0.0</td>\n",
       "    </tr>\n",
       "    <tr>\n",
       "      <th>2017-12-31 23:30:00</th>\n",
       "      <td>0.0</td>\n",
       "      <td>0.0</td>\n",
       "    </tr>\n",
       "  </tbody>\n",
       "</table>\n",
       "</div>"
      ],
      "text/plain": [
       "                     Yts  Ypd\n",
       "2017-12-31 21:30:00  0.0  0.0\n",
       "2017-12-31 22:00:00  0.0  0.0\n",
       "2017-12-31 22:30:00  0.0  0.0\n",
       "2017-12-31 23:00:00  0.0  0.0\n",
       "2017-12-31 23:30:00  0.0  0.0"
      ]
     },
     "execution_count": 24,
     "metadata": {},
     "output_type": "execute_result"
    }
   ],
   "source": [
    "df_ytgfst= pd.concat([Ytspd_inv0, Ytspd_inv1, Ytspd_inv2, Ytspd_inv3, Ytspd_inv4])\n",
    "df_ytgfst.sort_index(inplace=True)\n",
    "df_ytgfst.head()\n",
    "df_ytgfst.tail()"
   ]
  },
  {
   "cell_type": "code",
   "execution_count": 25,
   "metadata": {},
   "outputs": [
    {
     "name": "stdout",
     "output_type": "stream",
     "text": [
      "3049.2940048033734 0.3646134963525478\n"
     ]
    }
   ],
   "source": [
    "MSE=mean_squared_error(df_ytgfst['Yts'], df_ytgfst['Ypd'])  \n",
    "# NRMSE=np.sqrt(MSE)/df_ytgfst['Yts'].mean()  #mean of target solar power during 2017 only\n",
    "NRMSE=np.sqrt(MSE)/df_tar_feats['Targ'].mean()  #mean of target solar power durning 2016 and 2017\n",
    "\n",
    "print(MSE, NRMSE)"
   ]
  },
  {
   "cell_type": "markdown",
   "metadata": {},
   "source": [
    "Here the parameters of XGBoost are as in XGBoost CV with solar power forecasts.\n",
    "This wihtout including ssrd in features, so it is not post-processing or calibration of ECMWF forecasts of ssrd to get an adjusted solar irradinace at the plane of array (POA).\n",
    "Yes20:00-3:30\n",
    "0.12343472494729416 -0.3305592495931356  (here nRMSE is negative, becuse MSE/mean(negative)leads to neg) but they are all set to zero in this interval of hours=20:00 to 03:00)\n",
    "\n",
    "Yes4:00-7:30\n",
    "1362.8560691609462 0.47783311320942534\n",
    "Yes8:00-11:30\n",
    "7644.0940192419075 0.21350117526778964\n",
    "Yes12:00-15:30\n",
    "8768.377774928727 0.28873460457921474\n",
    "Yes16:00-19:30\n",
    "242.82181336142614 0.5544074964689417\n",
    "\n",
    "Based on nRMSE results, the most challenging hours to forecasts are morning and evening hours(4 to 8 and 16 to 20).\n",
    "\n",
    "The all hours of 2017, NRMSE for the solar irradiance forecasts:print(MSE, NRMSE)=3003.0249461155013, 0.3618366552697341 (this without ssrd data, not adjusting) (NRMSE 0.36 of solar irradiance forecasts > 0.74 in solar power forecasts in 2017)\n",
    "\n",
    "Dividing the target solar irradiance by the clear-sky irradiance, and run the forecacsts for this normalized target solar irradiance: the results are: \n",
    "\n",
    "print(MSE, NRMSE)=16267.006811348243,  0.842145077687895  (>>0.3628 without clear sky normalization)\n",
    "\n",
    "Solar rradiance adjusting for 2016, print(MSE, NRMSE)=3194.5247991890697,  0.37319534866039106\n",
    "\n",
    "Solar rradiance adjusting for 2017, print(MSE, NRMSE)=3049.2940048033734,  0.3646134963525478\n"
   ]
  },
  {
   "cell_type": "code",
   "execution_count": 19,
   "metadata": {},
   "outputs": [
    {
     "name": "stdout",
     "output_type": "stream",
     "text": [
      "52603 52603\n",
      "35070 35070\n",
      "14823.841841736401 0.8725282829506926\n"
     ]
    }
   ],
   "source": [
    "df_feats_no_indiv_mes.head()\n",
    "df_tar_feats.head()\n",
    "print(len(df_feats_no_indiv_mes), len(df_tar_feats))\n",
    "solar_mes_mean=df_feats_no_indiv_mes['Targ'].loc['1/1/2016':'12/31/2017']\n",
    "solar_ecmwf_mean=df_tar_feats['ssrd'].loc['1/1/2016':'12/31/2017']\n",
    "print(len(solar_mes_mean), len(solar_ecmwf_mean))\n",
    "\n",
    "MSE_sol=mean_squared_error(solar_mes_mean, solar_ecmwf_mean)  \n",
    "NRMSE_sol=np.sqrt(MSE_sol)/solar_mes_mean.mean()  \n",
    "print(MSE_sol, NRMSE_sol)"
   ]
  },
  {
   "cell_type": "markdown",
   "metadata": {},
   "source": [
    "The nRMSE between the solar irradiance from the ECMWF and the ground measurements is:\n",
    "print(MSE_sol, NRMSE_sol)\n",
    "14823.841841736401,  0.8725282829506926 \n",
    "\n",
    "So, it could be helpful to post-process these ECMWF forecasts of surface solar radiation downwards (ssrd) and adjust them and used them as additional feature for forecasting  solar power, these adjusted forecasts are more accurate solar irradinace at the plane of array (POA).\n"
   ]
  },
  {
   "cell_type": "code",
   "execution_count": 20,
   "metadata": {},
   "outputs": [],
   "source": [
    "# df_ytgfst.to_csv('solr2018'+file_name, encoding='utf-8')"
   ]
  },
  {
   "cell_type": "code",
   "execution_count": 21,
   "metadata": {},
   "outputs": [],
   "source": [
    "# df_ytgfst.head()"
   ]
  },
  {
   "cell_type": "code",
   "execution_count": null,
   "metadata": {},
   "outputs": [],
   "source": []
  },
  {
   "cell_type": "code",
   "execution_count": null,
   "metadata": {},
   "outputs": [],
   "source": []
  },
  {
   "cell_type": "code",
   "execution_count": null,
   "metadata": {},
   "outputs": [],
   "source": []
  },
  {
   "cell_type": "code",
   "execution_count": null,
   "metadata": {},
   "outputs": [],
   "source": []
  },
  {
   "cell_type": "code",
   "execution_count": null,
   "metadata": {},
   "outputs": [],
   "source": []
  }
 ],
 "metadata": {
  "kernelspec": {
   "display_name": "Python 3",
   "language": "python",
   "name": "python3"
  },
  "language_info": {
   "codemirror_mode": {
    "name": "ipython",
    "version": 3
   },
   "file_extension": ".py",
   "mimetype": "text/x-python",
   "name": "python",
   "nbconvert_exporter": "python",
   "pygments_lexer": "ipython3",
   "version": "3.7.0"
  }
 },
 "nbformat": 4,
 "nbformat_minor": 2
}
