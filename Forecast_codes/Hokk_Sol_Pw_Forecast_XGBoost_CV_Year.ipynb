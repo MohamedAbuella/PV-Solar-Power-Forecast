{
 "cells": [
  {
   "cell_type": "markdown",
   "metadata": {},
   "source": [
    "Training and forecasting the solar power of Hokkaido Island in Japna\n",
    "Training 2017, Forecast 2018\n",
    "\n",
    "https://stackoverflow.com/questions/35139108/how-to-install-xgboost-in-anaconda-python-windows-platform"
   ]
  },
  {
   "cell_type": "code",
   "execution_count": 1,
   "metadata": {},
   "outputs": [],
   "source": [
    "import pandas as pd\n",
    "import numpy as np\n",
    "import datetime as dt\n",
    "import csv \n",
    "import matplotlib.pyplot as plt\n",
    "import pytz\n",
    "import xgboost as xgb"
   ]
  },
  {
   "cell_type": "code",
   "execution_count": 2,
   "metadata": {},
   "outputs": [
    {
     "data": {
      "text/plain": [
       "'C:\\\\Users\\\\Mhdella\\\\Google Drive\\\\Jupyter Folder\\\\PV_Hokkaido_forecast_contest\\\\pvinhokkaidodatadistribution'"
      ]
     },
     "execution_count": 2,
     "metadata": {},
     "output_type": "execute_result"
    }
   ],
   "source": [
    "import os\n",
    "cwd = os.getcwd()\n",
    "cwd\n",
    "# os.chdir('pvinhokkaidodatadistribution')\n",
    "# C:\\Users\\Mhdella\\Google Drive\\Jupyter Folder\\PV_Hokkaido_forecast_contest\\\n",
    "os.chdir('C:\\\\Users\\\\Mhdella\\\\Google Drive\\\\Jupyter Folder\\\\PV_Hokkaido_forecast_contest\\\\pvinhokkaidodatadistribution')\n",
    "nwd=os.getcwd()\n",
    "nwd"
   ]
  },
  {
   "cell_type": "code",
   "execution_count": 3,
   "metadata": {},
   "outputs": [
    {
     "data": {
      "text/html": [
       "<div>\n",
       "<style scoped>\n",
       "    .dataframe tbody tr th:only-of-type {\n",
       "        vertical-align: middle;\n",
       "    }\n",
       "\n",
       "    .dataframe tbody tr th {\n",
       "        vertical-align: top;\n",
       "    }\n",
       "\n",
       "    .dataframe thead th {\n",
       "        text-align: right;\n",
       "    }\n",
       "</style>\n",
       "<table border=\"1\" class=\"dataframe\">\n",
       "  <thead>\n",
       "    <tr style=\"text-align: right;\">\n",
       "      <th></th>\n",
       "      <th>DATE</th>\n",
       "      <th>TIME</th>\n",
       "      <th>S1[MW]</th>\n",
       "      <th>S2[MW]</th>\n",
       "      <th>solar[kW/m2]</th>\n",
       "      <th>temp[deg C]</th>\n",
       "      <th>solar[kW/m2].1</th>\n",
       "      <th>temp[deg C].1</th>\n",
       "      <th>solar[kW/m2].2</th>\n",
       "      <th>temp[deg C].2</th>\n",
       "      <th>...</th>\n",
       "      <th>t2m.2</th>\n",
       "      <th>asn.2</th>\n",
       "      <th>sd.2</th>\n",
       "      <th>ssrdc.2</th>\n",
       "      <th>ssrd.2</th>\n",
       "      <th>tcc.2</th>\n",
       "      <th>tciw.2</th>\n",
       "      <th>tclw.2</th>\n",
       "      <th>tp.2</th>\n",
       "      <th>wind_speed.2</th>\n",
       "    </tr>\n",
       "  </thead>\n",
       "  <tbody>\n",
       "    <tr>\n",
       "      <th>0</th>\n",
       "      <td>1/1/2016</td>\n",
       "      <td>9:00:00</td>\n",
       "      <td>54.7</td>\n",
       "      <td>78.4</td>\n",
       "      <td>0.159228</td>\n",
       "      <td>-1.2</td>\n",
       "      <td>0.276627</td>\n",
       "      <td>0.0</td>\n",
       "      <td>0.339371</td>\n",
       "      <td>-5.9</td>\n",
       "      <td>...</td>\n",
       "      <td>-13.909399</td>\n",
       "      <td>0.600965</td>\n",
       "      <td>7.450000e-09</td>\n",
       "      <td>57.319398</td>\n",
       "      <td>30.413241</td>\n",
       "      <td>0.000000</td>\n",
       "      <td>0.000000</td>\n",
       "      <td>0.000000</td>\n",
       "      <td>0.000000e+00</td>\n",
       "      <td>7.704484</td>\n",
       "    </tr>\n",
       "    <tr>\n",
       "      <th>1</th>\n",
       "      <td>1/1/2016</td>\n",
       "      <td>9:30:00</td>\n",
       "      <td>113.8</td>\n",
       "      <td>89.0</td>\n",
       "      <td>0.221269</td>\n",
       "      <td>-0.3</td>\n",
       "      <td>0.307764</td>\n",
       "      <td>0.1</td>\n",
       "      <td>0.297246</td>\n",
       "      <td>-4.4</td>\n",
       "      <td>...</td>\n",
       "      <td>-12.694835</td>\n",
       "      <td>0.600870</td>\n",
       "      <td>7.450000e-09</td>\n",
       "      <td>104.414120</td>\n",
       "      <td>55.211142</td>\n",
       "      <td>0.037510</td>\n",
       "      <td>0.000396</td>\n",
       "      <td>0.000012</td>\n",
       "      <td>2.690000e-07</td>\n",
       "      <td>7.772519</td>\n",
       "    </tr>\n",
       "    <tr>\n",
       "      <th>2</th>\n",
       "      <td>1/1/2016</td>\n",
       "      <td>10:00:00</td>\n",
       "      <td>115.9</td>\n",
       "      <td>97.3</td>\n",
       "      <td>0.231619</td>\n",
       "      <td>-0.5</td>\n",
       "      <td>0.354492</td>\n",
       "      <td>0.7</td>\n",
       "      <td>0.320564</td>\n",
       "      <td>-2.3</td>\n",
       "      <td>...</td>\n",
       "      <td>-11.480271</td>\n",
       "      <td>0.600775</td>\n",
       "      <td>7.450000e-09</td>\n",
       "      <td>151.508843</td>\n",
       "      <td>80.009043</td>\n",
       "      <td>0.075021</td>\n",
       "      <td>0.000793</td>\n",
       "      <td>0.000023</td>\n",
       "      <td>5.390000e-07</td>\n",
       "      <td>7.840554</td>\n",
       "    </tr>\n",
       "    <tr>\n",
       "      <th>3</th>\n",
       "      <td>1/1/2016</td>\n",
       "      <td>10:30:00</td>\n",
       "      <td>139.5</td>\n",
       "      <td>100.6</td>\n",
       "      <td>0.205909</td>\n",
       "      <td>-0.4</td>\n",
       "      <td>0.363168</td>\n",
       "      <td>0.8</td>\n",
       "      <td>0.306980</td>\n",
       "      <td>-1.9</td>\n",
       "      <td>...</td>\n",
       "      <td>-10.265707</td>\n",
       "      <td>0.600680</td>\n",
       "      <td>7.450000e-09</td>\n",
       "      <td>198.603565</td>\n",
       "      <td>104.806944</td>\n",
       "      <td>0.112531</td>\n",
       "      <td>0.001189</td>\n",
       "      <td>0.000034</td>\n",
       "      <td>8.080000e-07</td>\n",
       "      <td>7.908589</td>\n",
       "    </tr>\n",
       "    <tr>\n",
       "      <th>4</th>\n",
       "      <td>1/1/2016</td>\n",
       "      <td>11:00:00</td>\n",
       "      <td>125.7</td>\n",
       "      <td>96.8</td>\n",
       "      <td>0.277444</td>\n",
       "      <td>-0.2</td>\n",
       "      <td>0.358989</td>\n",
       "      <td>0.6</td>\n",
       "      <td>0.237579</td>\n",
       "      <td>-3.1</td>\n",
       "      <td>...</td>\n",
       "      <td>-9.051143</td>\n",
       "      <td>0.600586</td>\n",
       "      <td>7.450000e-09</td>\n",
       "      <td>245.698287</td>\n",
       "      <td>129.604846</td>\n",
       "      <td>0.150041</td>\n",
       "      <td>0.001585</td>\n",
       "      <td>0.000046</td>\n",
       "      <td>1.080000e-06</td>\n",
       "      <td>7.976625</td>\n",
       "    </tr>\n",
       "  </tbody>\n",
       "</table>\n",
       "<p>5 rows × 48 columns</p>\n",
       "</div>"
      ],
      "text/plain": [
       "       DATE      TIME  S1[MW]  S2[MW]  solar[kW/m2]  temp[deg C]  \\\n",
       "0  1/1/2016   9:00:00    54.7    78.4      0.159228         -1.2   \n",
       "1  1/1/2016   9:30:00   113.8    89.0      0.221269         -0.3   \n",
       "2  1/1/2016  10:00:00   115.9    97.3      0.231619         -0.5   \n",
       "3  1/1/2016  10:30:00   139.5   100.6      0.205909         -0.4   \n",
       "4  1/1/2016  11:00:00   125.7    96.8      0.277444         -0.2   \n",
       "\n",
       "   solar[kW/m2].1  temp[deg C].1  solar[kW/m2].2  temp[deg C].2      ...       \\\n",
       "0        0.276627            0.0        0.339371           -5.9      ...        \n",
       "1        0.307764            0.1        0.297246           -4.4      ...        \n",
       "2        0.354492            0.7        0.320564           -2.3      ...        \n",
       "3        0.363168            0.8        0.306980           -1.9      ...        \n",
       "4        0.358989            0.6        0.237579           -3.1      ...        \n",
       "\n",
       "       t2m.2     asn.2          sd.2     ssrdc.2      ssrd.2     tcc.2  \\\n",
       "0 -13.909399  0.600965  7.450000e-09   57.319398   30.413241  0.000000   \n",
       "1 -12.694835  0.600870  7.450000e-09  104.414120   55.211142  0.037510   \n",
       "2 -11.480271  0.600775  7.450000e-09  151.508843   80.009043  0.075021   \n",
       "3 -10.265707  0.600680  7.450000e-09  198.603565  104.806944  0.112531   \n",
       "4  -9.051143  0.600586  7.450000e-09  245.698287  129.604846  0.150041   \n",
       "\n",
       "     tciw.2    tclw.2          tp.2  wind_speed.2  \n",
       "0  0.000000  0.000000  0.000000e+00      7.704484  \n",
       "1  0.000396  0.000012  2.690000e-07      7.772519  \n",
       "2  0.000793  0.000023  5.390000e-07      7.840554  \n",
       "3  0.001189  0.000034  8.080000e-07      7.908589  \n",
       "4  0.001585  0.000046  1.080000e-06      7.976625  \n",
       "\n",
       "[5 rows x 48 columns]"
      ]
     },
     "execution_count": 3,
     "metadata": {},
     "output_type": "execute_result"
    }
   ],
   "source": [
    "# file_name='Merg_Ens_Agg_42_44_mes17_18.csv'\n",
    "# file_name='Merg_Ens_Agg_43_mes17_18.csv'\n",
    "\n",
    "# file_name='Merg_Ens_Agg_42_44_mes16_17_18.csv'\n",
    "file_name='Merg_Ens_mmaxmin_Agg_42_44_mes16_18.csv'\n",
    "\n",
    "# file_name='Merg_Res_Comb_S1_S2_2018_tz_Jp.csv'\n",
    "# file_mane='Merg_Res_Comb_S1_S2_2017_tz_Jp.csv'\n",
    "\n",
    "df_hok=pd.read_csv(file_name) \n",
    "df_hok.head()\n",
    "# df_hok.tail()"
   ]
  },
  {
   "cell_type": "code",
   "execution_count": 4,
   "metadata": {},
   "outputs": [],
   "source": [
    "#### This cell just to check out the dataset with different coordination lat 43 and lat42-44 from ECMWF\n",
    "df_hok1=pd.read_csv('Merg_Ens_Agg_42_44_mes17_18.csv') \n",
    "df_hok2=pd.read_csv('Merg_Ens_Agg_43_mes17_18.csv')\n",
    "\n",
    "df_mns= {'col1': df_hok1.mean(), 'col2': df_hok2.mean()}\n",
    "# df_mns"
   ]
  },
  {
   "cell_type": "markdown",
   "metadata": {},
   "source": [
    "https://scikit-learn.org/stable/modules/generated/sklearn.ensemble.GradientBoostingRegressor.html\n",
    "\n",
    "https://scikit-learn.org/stable/auto_examples/ensemble/plot_gradient_boosting_regression.html#sphx-glr-auto-examples-ensemble-plot-gradient-boosting-regression-py"
   ]
  },
  {
   "cell_type": "code",
   "execution_count": 5,
   "metadata": {},
   "outputs": [
    {
     "data": {
      "text/html": [
       "<div>\n",
       "<style scoped>\n",
       "    .dataframe tbody tr th:only-of-type {\n",
       "        vertical-align: middle;\n",
       "    }\n",
       "\n",
       "    .dataframe tbody tr th {\n",
       "        vertical-align: top;\n",
       "    }\n",
       "\n",
       "    .dataframe thead th {\n",
       "        text-align: right;\n",
       "    }\n",
       "</style>\n",
       "<table border=\"1\" class=\"dataframe\">\n",
       "  <thead>\n",
       "    <tr style=\"text-align: right;\">\n",
       "      <th></th>\n",
       "      <th>DATE</th>\n",
       "      <th>TIME</th>\n",
       "      <th>S1[MW]</th>\n",
       "      <th>S2[MW]</th>\n",
       "      <th>solar[kW/m2]</th>\n",
       "      <th>temp[deg C]</th>\n",
       "      <th>solar[kW/m2].1</th>\n",
       "      <th>temp[deg C].1</th>\n",
       "      <th>solar[kW/m2].2</th>\n",
       "      <th>temp[deg C].2</th>\n",
       "      <th>...</th>\n",
       "      <th>t2m.2</th>\n",
       "      <th>asn.2</th>\n",
       "      <th>sd.2</th>\n",
       "      <th>ssrdc.2</th>\n",
       "      <th>ssrd.2</th>\n",
       "      <th>tcc.2</th>\n",
       "      <th>tciw.2</th>\n",
       "      <th>tclw.2</th>\n",
       "      <th>tp.2</th>\n",
       "      <th>wind_speed.2</th>\n",
       "    </tr>\n",
       "  </thead>\n",
       "  <tbody>\n",
       "    <tr>\n",
       "      <th>0</th>\n",
       "      <td>1/1/2016</td>\n",
       "      <td>9:00:00</td>\n",
       "      <td>54.7</td>\n",
       "      <td>78.4</td>\n",
       "      <td>0.159228</td>\n",
       "      <td>-1.2</td>\n",
       "      <td>0.276627</td>\n",
       "      <td>0.0</td>\n",
       "      <td>0.339371</td>\n",
       "      <td>-5.9</td>\n",
       "      <td>...</td>\n",
       "      <td>-13.909399</td>\n",
       "      <td>0.600965</td>\n",
       "      <td>7.450000e-09</td>\n",
       "      <td>57.319398</td>\n",
       "      <td>30.413241</td>\n",
       "      <td>0.000000</td>\n",
       "      <td>0.000000</td>\n",
       "      <td>0.000000</td>\n",
       "      <td>0.000000e+00</td>\n",
       "      <td>7.704484</td>\n",
       "    </tr>\n",
       "    <tr>\n",
       "      <th>1</th>\n",
       "      <td>1/1/2016</td>\n",
       "      <td>9:30:00</td>\n",
       "      <td>113.8</td>\n",
       "      <td>89.0</td>\n",
       "      <td>0.221269</td>\n",
       "      <td>-0.3</td>\n",
       "      <td>0.307764</td>\n",
       "      <td>0.1</td>\n",
       "      <td>0.297246</td>\n",
       "      <td>-4.4</td>\n",
       "      <td>...</td>\n",
       "      <td>-12.694835</td>\n",
       "      <td>0.600870</td>\n",
       "      <td>7.450000e-09</td>\n",
       "      <td>104.414120</td>\n",
       "      <td>55.211142</td>\n",
       "      <td>0.037510</td>\n",
       "      <td>0.000396</td>\n",
       "      <td>0.000012</td>\n",
       "      <td>2.690000e-07</td>\n",
       "      <td>7.772519</td>\n",
       "    </tr>\n",
       "    <tr>\n",
       "      <th>2</th>\n",
       "      <td>1/1/2016</td>\n",
       "      <td>10:00:00</td>\n",
       "      <td>115.9</td>\n",
       "      <td>97.3</td>\n",
       "      <td>0.231619</td>\n",
       "      <td>-0.5</td>\n",
       "      <td>0.354492</td>\n",
       "      <td>0.7</td>\n",
       "      <td>0.320564</td>\n",
       "      <td>-2.3</td>\n",
       "      <td>...</td>\n",
       "      <td>-11.480271</td>\n",
       "      <td>0.600775</td>\n",
       "      <td>7.450000e-09</td>\n",
       "      <td>151.508843</td>\n",
       "      <td>80.009043</td>\n",
       "      <td>0.075021</td>\n",
       "      <td>0.000793</td>\n",
       "      <td>0.000023</td>\n",
       "      <td>5.390000e-07</td>\n",
       "      <td>7.840554</td>\n",
       "    </tr>\n",
       "    <tr>\n",
       "      <th>3</th>\n",
       "      <td>1/1/2016</td>\n",
       "      <td>10:30:00</td>\n",
       "      <td>139.5</td>\n",
       "      <td>100.6</td>\n",
       "      <td>0.205909</td>\n",
       "      <td>-0.4</td>\n",
       "      <td>0.363168</td>\n",
       "      <td>0.8</td>\n",
       "      <td>0.306980</td>\n",
       "      <td>-1.9</td>\n",
       "      <td>...</td>\n",
       "      <td>-10.265707</td>\n",
       "      <td>0.600680</td>\n",
       "      <td>7.450000e-09</td>\n",
       "      <td>198.603565</td>\n",
       "      <td>104.806944</td>\n",
       "      <td>0.112531</td>\n",
       "      <td>0.001189</td>\n",
       "      <td>0.000034</td>\n",
       "      <td>8.080000e-07</td>\n",
       "      <td>7.908589</td>\n",
       "    </tr>\n",
       "    <tr>\n",
       "      <th>4</th>\n",
       "      <td>1/1/2016</td>\n",
       "      <td>11:00:00</td>\n",
       "      <td>125.7</td>\n",
       "      <td>96.8</td>\n",
       "      <td>0.277444</td>\n",
       "      <td>-0.2</td>\n",
       "      <td>0.358989</td>\n",
       "      <td>0.6</td>\n",
       "      <td>0.237579</td>\n",
       "      <td>-3.1</td>\n",
       "      <td>...</td>\n",
       "      <td>-9.051143</td>\n",
       "      <td>0.600586</td>\n",
       "      <td>7.450000e-09</td>\n",
       "      <td>245.698287</td>\n",
       "      <td>129.604846</td>\n",
       "      <td>0.150041</td>\n",
       "      <td>0.001585</td>\n",
       "      <td>0.000046</td>\n",
       "      <td>1.080000e-06</td>\n",
       "      <td>7.976625</td>\n",
       "    </tr>\n",
       "  </tbody>\n",
       "</table>\n",
       "<p>5 rows × 48 columns</p>\n",
       "</div>"
      ],
      "text/plain": [
       "       DATE      TIME  S1[MW]  S2[MW]  solar[kW/m2]  temp[deg C]  \\\n",
       "0  1/1/2016   9:00:00    54.7    78.4      0.159228         -1.2   \n",
       "1  1/1/2016   9:30:00   113.8    89.0      0.221269         -0.3   \n",
       "2  1/1/2016  10:00:00   115.9    97.3      0.231619         -0.5   \n",
       "3  1/1/2016  10:30:00   139.5   100.6      0.205909         -0.4   \n",
       "4  1/1/2016  11:00:00   125.7    96.8      0.277444         -0.2   \n",
       "\n",
       "   solar[kW/m2].1  temp[deg C].1  solar[kW/m2].2  temp[deg C].2      ...       \\\n",
       "0        0.276627            0.0        0.339371           -5.9      ...        \n",
       "1        0.307764            0.1        0.297246           -4.4      ...        \n",
       "2        0.354492            0.7        0.320564           -2.3      ...        \n",
       "3        0.363168            0.8        0.306980           -1.9      ...        \n",
       "4        0.358989            0.6        0.237579           -3.1      ...        \n",
       "\n",
       "       t2m.2     asn.2          sd.2     ssrdc.2      ssrd.2     tcc.2  \\\n",
       "0 -13.909399  0.600965  7.450000e-09   57.319398   30.413241  0.000000   \n",
       "1 -12.694835  0.600870  7.450000e-09  104.414120   55.211142  0.037510   \n",
       "2 -11.480271  0.600775  7.450000e-09  151.508843   80.009043  0.075021   \n",
       "3 -10.265707  0.600680  7.450000e-09  198.603565  104.806944  0.112531   \n",
       "4  -9.051143  0.600586  7.450000e-09  245.698287  129.604846  0.150041   \n",
       "\n",
       "     tciw.2    tclw.2          tp.2  wind_speed.2  \n",
       "0  0.000000  0.000000  0.000000e+00      7.704484  \n",
       "1  0.000396  0.000012  2.690000e-07      7.772519  \n",
       "2  0.000793  0.000023  5.390000e-07      7.840554  \n",
       "3  0.001189  0.000034  8.080000e-07      7.908589  \n",
       "4  0.001585  0.000046  1.080000e-06      7.976625  \n",
       "\n",
       "[5 rows x 48 columns]"
      ]
     },
     "execution_count": 5,
     "metadata": {},
     "output_type": "execute_result"
    }
   ],
   "source": [
    "import sklearn \n",
    "import numpy as np\n",
    "from sklearn.metrics import mean_squared_error\n",
    "from sklearn.datasets import make_friedman1\n",
    "# X, y = make_friedman1(n_samples=1200, random_state=0, noise=1.0)\n",
    "# X, y = make_friedman1(n_samples=1200, random_state=0, noise=1.0)\n",
    "df_hok.head()"
   ]
  },
  {
   "cell_type": "code",
   "execution_count": 6,
   "metadata": {},
   "outputs": [
    {
     "name": "stdout",
     "output_type": "stream",
     "text": [
      "['DATE', 'TIME', 'S1[MW]', 'S2[MW]', 'solar[kW/m2]', 'temp[deg C]', 'solar[kW/m2].1', 'temp[deg C].1', 'solar[kW/m2].2', 'temp[deg C].2', 'solar[kW/m2].3', 'temp[deg C].3', 'u10', 'v10', 't2m', 'asn', 'sd', 'ssrdc', 'ssrd', 'tcc', 'tciw', 'tclw', 'tp', 'wind_speed', 'u10.1', 'v10.1', 't2m.1', 'asn.1', 'sd.1', 'ssrdc.1', 'ssrd.1', 'tcc.1', 'tciw.1', 'tclw.1', 'tp.1', 'wind_speed.1', 'u10.2', 'v10.2', 't2m.2', 'asn.2', 'sd.2', 'ssrdc.2', 'ssrd.2', 'tcc.2', 'tciw.2', 'tclw.2', 'tp.2', 'wind_speed.2']\n"
     ]
    }
   ],
   "source": [
    "print(list(df_hok))"
   ]
  },
  {
   "cell_type": "code",
   "execution_count": 7,
   "metadata": {},
   "outputs": [
    {
     "data": {
      "text/plain": [
       "DATE\n",
       "12/31/2018    0.0\n",
       "12/31/2018    0.0\n",
       "12/31/2018    0.0\n",
       "12/31/2018    0.0\n",
       "12/31/2018    0.0\n",
       "dtype: float64"
      ]
     },
     "execution_count": 7,
     "metadata": {},
     "output_type": "execute_result"
    }
   ],
   "source": [
    "#### df_tm = df_hok[df_hok['ssrdc'] != 0] ## dropping night hours, when clear-sky solar irradiance (SSRDC) forecasts=0, and this can be applied in real forecasts  \n",
    "\n",
    "#### df_tm=df_tm.set_index('DATE')\n",
    "\n",
    "############################# Not dropping night hours\n",
    "\n",
    "df_tm=df_hok.set_index('DATE') \n",
    "\n",
    "############## In case of forecast solar power  #######\n",
    "\n",
    "Targ=df_tm['S1[MW]']+df_tm['S2[MW]']\n",
    "Targ = Targ.replace(np.nan, 0, regex=True)\n",
    "df_tm=df_tm[['u10', 'v10', 't2m', 'asn', 'sd', 'ssrdc', 'ssrd', 'tcc', 'tciw', 'tclw', 'tp', 'wind_speed', \n",
    "             'u10.1', 'v10.1', 't2m.1', 'asn.1', 'sd.1', 'ssrdc.1', 'ssrd.1', 'tcc.1', 'tciw.1', 'tclw.1', 'tp.1', 'wind_speed.1', \n",
    "             'u10.2', 'v10.2', 't2m.2', 'asn.2', 'sd.2', 'ssrdc.2', 'ssrd.2', 'tcc.2', 'tciw.2', 'tclw.2', 'tp.2', 'wind_speed.2']]\n",
    "\n",
    "############### In case of forecast solar irradiance  #######\n",
    "\n",
    "# Targ=df_tm['ssrd']\n",
    "# df_tm=df_tm[['u10', 'v10', 't2m', 'asn', 'sd', 'ssrdc', 'tcc', 'tciw', 'tclw', 'tp', 'wind_speed', \n",
    "#              'u10.1', 'v10.1', 't2m.1', 'asn.1', 'sd.1', 'ssrdc.1', 'tcc.1', 'tciw.1', 'tclw.1', 'tp.1', 'wind_speed.1', \n",
    "#              'u10.2', 'v10.2', 't2m.2', 'asn.2', 'sd.2', 'ssrdc.2', 'tcc.2', 'tciw.2', 'tclw.2', 'tp.2', 'wind_speed.2']]\n",
    "\n",
    "df_tm.head()\n",
    "df_tm.tail()\n",
    "\n",
    "# df_tm['Date']=df_hok['DATE']\n",
    "\n",
    "Targ.tail()\n"
   ]
  },
  {
   "cell_type": "code",
   "execution_count": 8,
   "metadata": {},
   "outputs": [
    {
     "name": "stdout",
     "output_type": "stream",
     "text": [
      "38961 312.6 50.475909242576236\n"
     ]
    }
   ],
   "source": [
    "len(df_tm)\n",
    "# len(Targ)\n",
    "print( len(Targ), max(Targ), Targ.mean())"
   ]
  },
  {
   "cell_type": "code",
   "execution_count": 9,
   "metadata": {},
   "outputs": [
    {
     "data": {
      "text/plain": [
       "DATE\n",
       "12/31/2016    0.0\n",
       "12/31/2016    0.0\n",
       "12/31/2016    0.0\n",
       "12/31/2016    0.0\n",
       "12/31/2016    0.0\n",
       "dtype: float64"
      ]
     },
     "execution_count": 9,
     "metadata": {},
     "output_type": "execute_result"
    }
   ],
   "source": [
    "X_train=df_tm.loc['1/1/2016':'12/31/2016']\n",
    "X_test=df_tm.loc['1/1/2017':'12/31/2017']\n",
    "\n",
    "# X_train=df_tm.loc['1/1/2017':'12/31/2017']\n",
    "# X_test=df_tm.loc['1/1/2018':'12/31/2018']\n",
    "\n",
    "Y_train=Targ.loc['1/1/2016':'12/31/2016']\n",
    "Y_test=Targ.loc['1/1/2017':'12/31/2017']\n",
    "\n",
    "# Y_train=Targ.loc['1/1/2017':'12/31/2017']\n",
    "# Y_test=Targ.loc['1/1/2018':'12/31/2018']\n",
    "\n",
    "X_train.head()\n",
    "X_train.tail()\n",
    "len(X_train)\n",
    "\n",
    "# Y_train.head()\n",
    "# len(Y_train)\n",
    "Y_train.tail()"
   ]
  },
  {
   "cell_type": "code",
   "execution_count": null,
   "metadata": {},
   "outputs": [],
   "source": [
    "from sklearn.ensemble import GradientBoostingRegressor\n",
    "\n",
    "est = GradientBoostingRegressor(n_estimators=100, learning_rate=0.05,\n",
    "                                max_depth=8, random_state=0, subsample=0.9, loss='ls').fit(X_train, Y_train)\n",
    "pred_Y=est.predict(X_test)\n",
    "mse=mean_squared_error(Y_test, pred_Y)  \n",
    "nRMSE=np.sqrt(mse)/Targ.mean()\n",
    "\n",
    "print(mse, nRMSE)"
   ]
  },
  {
   "cell_type": "markdown",
   "metadata": {},
   "source": [
    "Here including mean, max and min of the ensembles of weather forecasts\n",
    "\n",
    "Parameters: n_estimators=400, learning_rate=0.1, max_depth=4, random_state=0, loss='ls'\n",
    "\n",
    "with training set of 2017 only, (Solar irr, nRMSE=0.1872461)\n",
    "\n",
    "with training set of 2016+2017, (Solar irr, nRMSE=0.1770770)\n",
    "\n",
    "For Solar Power: 2016 train and 2017 test\n",
    "\n",
    "nRMSE=1.2924510, ### Improvement by case of using mean, max, min of ensemble over using just mean, with samilar GB model's params, improv=(1.44191-1.2924)/1.44191*100=10.3688%\n",
    "\n",
    "Parameters: n_estimators=800, learning_rate=0.1, max_depth=4, random_state=0, loss='ls', nRMSE=1.30852099\n",
    "\n",
    "Parameters: n_estimators=400, learning_rate=0.1, max_depth=8, random_state=0, loss='ls', nRMSE=1.27297 <1.2924@depth=4\n",
    "\n",
    "\n",
    "\n",
    "np.sqrt(mse)/max(Targ)=0.15224 @nRMSE=1.2737 "
   ]
  },
  {
   "cell_type": "code",
   "execution_count": null,
   "metadata": {},
   "outputs": [],
   "source": [
    "# import xgboost as xgb\n",
    "# model.fit(X_train, Y_train)\n",
    "\n",
    "from xgboost.sklearn import XGBRegressor\n",
    "\n",
    "model=XGBRegressor(n_estimators=200, learning_rate=0.05, max_depth=8, random_state=0,\n",
    "                 subsample=0.9, colsample_bytree=1.0, loss='ls').fit(X_train, Y_train)\n",
    "\n",
    "\n",
    "model.score(X_test,Y_test)\n",
    "\n",
    "pred_Yxgb=model.predict(X_test)\n",
    "mse=mean_squared_error(Y_test, pred_Yxgb)  \n",
    "nRMSE=np.sqrt(mse)/Targ.mean()\n",
    "# nRMSE=np.sqrt(mse)/max(Targ)\n",
    "\n",
    "print(mse, nRMSE)"
   ]
  },
  {
   "cell_type": "code",
   "execution_count": null,
   "metadata": {},
   "outputs": [],
   "source": [
    "#print(mse, nRMSE)"
   ]
  },
  {
   "cell_type": "markdown",
   "metadata": {},
   "source": [
    "By XGB, nRMSE=1.3115674 > 1.2729759 from GB, but XGBoost here without any tuning for its parameters"
   ]
  },
  {
   "cell_type": "markdown",
   "metadata": {},
   "source": [
    "Cross-validation for GBoosting: 2folds for each of 100 candidates, totalling 200 fits (each fold 1 year)"
   ]
  },
  {
   "cell_type": "code",
   "execution_count": null,
   "metadata": {},
   "outputs": [],
   "source": [
    "from sklearn import metrics   ##Additional scklearn functions\n",
    "from sklearn.model_selection import cross_validate\n",
    "from sklearn.model_selection import GridSearchCV   #Perforing grid search\n",
    "from sklearn.ensemble import GradientBoostingRegressor\n",
    "GB_model = GradientBoostingRegressor()\n",
    "\n",
    "Xgrid_train=df_tm.loc['1/1/2016':'12/31/2017']\n",
    "Ygrid_train=Targ.loc['1/1/2016':'12/31/2017']\n",
    "\n",
    "test_params = {'n_estimators':[100, 200, 300, 400, 500], 'learning_rate':[0.05,0.1, 0.2, 0.3, 0.5], \n",
    "               'max_depth':[2,4,8,12]}\n",
    "\n",
    "# grid = GridSearchCV(estimator = GB_model, param_grid = test_params, n_jobs=4, \n",
    "#                     scoring='neg_mean_squared_error',cv=3, verbose=3)\n",
    "\n",
    "grid = GridSearchCV(estimator = GB_model, param_grid = test_params, n_jobs=4, \n",
    "                    scoring='neg_mean_squared_error',cv=2, verbose=3)\n",
    "\n",
    "grid.fit(Xgrid_train,Ygrid_train)\n",
    "print(grid.best_params_)"
   ]
  },
  {
   "cell_type": "markdown",
   "metadata": {},
   "source": [
    "Fitting 3 folds for each of 100 candidates, totalling 300 fits\n",
    "\n",
    "[Parallel(n_jobs=4)]: Using backend LokyBackend with 4 concurrent workers.\n",
    "[Parallel(n_jobs=4)]: Done  24 tasks      | elapsed:   47.9s\n",
    "[Parallel(n_jobs=4)]: Done 120 tasks      | elapsed: 21.5min\n",
    "[Parallel(n_jobs=4)]: Done 280 tasks      | elapsed: 49.6min\n",
    "[Parallel(n_jobs=4)]: Done 300 out of 300 | elapsed: 56.0min finished\n",
    "{'learning_rate': 0.05, 'max_depth': 4, 'n_estimators': 100}  Tried GB with these parms but got 1.295197 > 1.2729759 (GB without CV, Why? Because CV is with 3 folds among the training data, while without CV is for all trainin dataset at once. CV's parmeters is more reliable to use for testing for real solar power forecasts in 2018)\n",
    "\n",
    "CV GB with 2 folds each a year, {'learning_rate': 0.05, 'max_depth': 8, 'n_estimators': 100}, nRMSE=1.258419 (Same nRMSE of CV with less than a year, by another script) "
   ]
  },
  {
   "cell_type": "markdown",
   "metadata": {},
   "source": [
    "Cross-validation for XGBoost: 2folds for each 400 candidates (total 1200 fits), takes almost 2hours"
   ]
  },
  {
   "cell_type": "code",
   "execution_count": 10,
   "metadata": {
    "scrolled": true
   },
   "outputs": [
    {
     "name": "stdout",
     "output_type": "stream",
     "text": [
      "Fitting 2 folds for each of 48 candidates, totalling 96 fits\n"
     ]
    },
    {
     "name": "stderr",
     "output_type": "stream",
     "text": [
      "[Parallel(n_jobs=4)]: Using backend LokyBackend with 4 concurrent workers.\n",
      "[Parallel(n_jobs=4)]: Done  24 tasks      | elapsed:  1.3min\n",
      "[Parallel(n_jobs=4)]: Done  96 out of  96 | elapsed:  7.3min finished\n"
     ]
    },
    {
     "name": "stdout",
     "output_type": "stream",
     "text": [
      "{'learning_rate': 0.05, 'max_depth': 8, 'n_estimators': 200}\n"
     ]
    }
   ],
   "source": [
    "from sklearn import metrics   ##Additional scklearn functions\n",
    "from sklearn.model_selection import cross_validate\n",
    "from sklearn.model_selection import GridSearchCV   #Perforing grid search\n",
    "from xgboost.sklearn import XGBRegressor\n",
    "xgb_model = XGBRegressor()\n",
    "\n",
    "Xgrid_train=df_tm.loc['1/1/2016':'12/31/2017']\n",
    "Ygrid_train=Targ.loc['1/1/2016':'12/31/2017']\n",
    "\n",
    "# test_params = {'n_estimators':[100, 200, 300, 400, 500], 'learning_rate':[0.05,0.1, 0.2, 0.3, 0.5], \n",
    "#                'max_depth':[2,4,8,12],'subsample': [0.9, 1.0], 'colsample_bytree': [0.9, 1.0]}\n",
    "\n",
    "test_params = {'n_estimators':[100, 200, 300, 500], 'learning_rate':[0.05,0.1, 0.2], \n",
    "               'max_depth':[2,4,8,10]}\n",
    "\n",
    "grid = GridSearchCV(estimator = xgb_model, param_grid = test_params, n_jobs=4, \n",
    "                    scoring='neg_mean_squared_error',cv=2, verbose=3)\n",
    "\n",
    "grid.fit(Xgrid_train,Ygrid_train)\n",
    "print(grid.best_params_)"
   ]
  },
  {
   "cell_type": "markdown",
   "metadata": {},
   "source": [
    "Fitting 3 folds for each of 400 candidates, totalling 1200 fits\n",
    "\n",
    "{'colsample_bytree': 1.0, 'learning_rate': 0.05, 'max_depth': 4, 'n_estimators': 100, 'subsample': 0.9}\n",
    "\n",
    "With best CV XGB, nRMSE=1.295126 > 1.2729759 from GB, (nRMSE was XGBoost, nRMSE=1.3115674 before CV)\n",
    "\n",
    "CV XGBoost with 2 folds each a year, {'learning_rate': 0.05, 'max_depth': 8, 'n_estimators': 200}, nRMSE=1.257295 (Same nRMSE of CV with less than a year, by another script). \n",
    "\n",
    "Note: nRMSE=1.239930 by dding (subsample=0.9, colsample_bytree=1.0), which is less than < 1.257295(in case of no sample options are used). However, improv=(1.257-1.239)/1.257=1.38% (not significant)\n",
    "\n",
    "If nRMSE normalized with respect to max(Targ) insead of Mean(Targ), it would be=1.239*Targ.mean()/max(Targ)=0.148, still higher comaring to solar forecasts in Australia, (the weather is more challenging in Hokkaido, JP), SInce the variability normalized solar power of daily hours is (np.std(Targ[Targ>0]/max(Targ))=0.29649). Thus, the variability of Sol Pw 0.30(at Hokkaido) > 0.25(at Australia case), Sol Pw in Hokkaido is about variable by 1.2 times than in Australia.\n"
   ]
  },
  {
   "cell_type": "code",
   "execution_count": null,
   "metadata": {},
   "outputs": [],
   "source": [
    "##### Printing out the CV results\n",
    "print(\"Best: %f using %s\" % (grid.best_score_, grid.best_params_))\n",
    "\n",
    "means = grid.cv_results_['mean_test_score']\n",
    "stds = grid.cv_results_['std_test_score']\n",
    "params = grid.cv_results_['params']\n",
    "\n",
    "for mean, stdev, param in zip(means, stds, params):\n",
    "    print(\"%f (%f) with: %r\" % (mean, stdev, param))"
   ]
  },
  {
   "cell_type": "markdown",
   "metadata": {},
   "source": [
    "Note: By dropping or filtering the night hours, nRMSE=1.05639 (XGB) and (1.058 by GB). So removing the night hour improve the performance significantly, (1.2399-1.05639)/1.2399)*100=14.8\n",
    "\n",
    "By using the condition when clear-sky irradiance equals to zero to filter the night hours from the data, the nRMSE=1.0694 < 1.23, improves by 13.8% and it is just 1.2% higher of 1.05 which using actual power to filter the night hours. Using clear-sky is more practical than using actual solar power to filter the nigth hours, because actual power is not seen in the forecasting period.\n",
    "\n",
    "1.2399*Targ.mean()/max(Targ) ### 1.2399 in case of Targ with all hours (day+nigh)\n",
    "It gives 0.148\n",
    "\n",
    "In case of all hours:\n",
    "\n",
    "print( len(Targ), max(Targ), Targ.mean())\n",
    "\n",
    "52603,  312.6,  37.39\n",
    "\n",
    "Whereas, in case of keeping daily hours only and filtering the night hours:\n",
    "print( len(Targ), max(Targ), Targ.mean())\n",
    "\n",
    "38961,  312.6,  50.48\n",
    "\n",
    "So, here is a question, the nRMSE as teh contest's selection criteria, the hours of calculating the mean actual power in the denomerator; Q:Are these hours day hours only or all hours (including the night hours)?\n",
    "\n",
    "This is a critical question, because excluding night hours incerease the mean of actual solar power and thus  decrease nRMSE. As it happened all hours nRMSE= 1.23, no night horus nRMSE=1.07. While the rmse of all hours is less than RMSE of day hours only (0.147<0.1727)\n",
    "\n",
    "# Note\n",
    "Therefore, in fact, filtering the night hours does not imporve the forecast but it improve the nRMSE because the mean of actual solar power in the denomerator of RMSE becomes higher than the mean of actual solar power in case of including all hours. \n",
    "Let's check out the forecasts by from xgboost in both cases:(showing both mse and nRMSE)\n",
    "\n",
    "1)All hours, including night hours in the data \n",
    "print(mse, nRMSE)\n",
    "2148.8480,  1.2399\n",
    "\n",
    "2)Without night hours in thd data\n",
    "print(mse, nRMSE)\n",
    "2914.0024, 1.0694\n",
    "\n",
    "Thus, all hours forecasts is better because they have less MSE. MSE is considered for comparison since it does not include a division by mean of actual solar power as in nRMSE, which can be misleading when comparing between the two cases, with and without night hours.\n",
    "\n",
    "But the CV for tuning parameters have data of all hours, while the CV has not conducted for without night hours case yet. So the parameters are more suitable for all hours case and hence leads to better forecasts. \n",
    "\n",
    "CV search without night hours data has been conducted and led to the same parameters that CV gave with all hours data: {'learning_rate': 0.05, 'max_depth': 8, 'n_estimators': 200}\n",
    " \n",
    "Thus, now it is obvious that all hours case gives better forecasts."
   ]
  },
  {
   "cell_type": "code",
   "execution_count": null,
   "metadata": {},
   "outputs": [],
   "source": [
    "1.07*50.48/ 312.6"
   ]
  },
  {
   "cell_type": "code",
   "execution_count": null,
   "metadata": {},
   "outputs": [],
   "source": [
    "1.23*37.39/ 312.6"
   ]
  },
  {
   "cell_type": "code",
   "execution_count": null,
   "metadata": {},
   "outputs": [],
   "source": [
    "np.std(Targ[Targ>0]/max(Targ))"
   ]
  },
  {
   "cell_type": "code",
   "execution_count": null,
   "metadata": {},
   "outputs": [],
   "source": [
    "(1.2399-1.05639)/1.2399*100"
   ]
  },
  {
   "cell_type": "code",
   "execution_count": null,
   "metadata": {},
   "outputs": [],
   "source": [
    "(1.2399-1.0694)/1.2399*100"
   ]
  },
  {
   "cell_type": "code",
   "execution_count": null,
   "metadata": {},
   "outputs": [],
   "source": []
  },
  {
   "cell_type": "code",
   "execution_count": null,
   "metadata": {},
   "outputs": [],
   "source": []
  },
  {
   "cell_type": "code",
   "execution_count": null,
   "metadata": {},
   "outputs": [],
   "source": []
  },
  {
   "cell_type": "code",
   "execution_count": null,
   "metadata": {},
   "outputs": [],
   "source": []
  },
  {
   "cell_type": "code",
   "execution_count": null,
   "metadata": {},
   "outputs": [],
   "source": []
  },
  {
   "cell_type": "code",
   "execution_count": null,
   "metadata": {},
   "outputs": [],
   "source": []
  },
  {
   "cell_type": "code",
   "execution_count": null,
   "metadata": {},
   "outputs": [],
   "source": []
  }
 ],
 "metadata": {
  "kernelspec": {
   "display_name": "Python 3",
   "language": "python",
   "name": "python3"
  },
  "language_info": {
   "codemirror_mode": {
    "name": "ipython",
    "version": 3
   },
   "file_extension": ".py",
   "mimetype": "text/x-python",
   "name": "python",
   "nbconvert_exporter": "python",
   "pygments_lexer": "ipython3",
   "version": "3.7.0"
  }
 },
 "nbformat": 4,
 "nbformat_minor": 2
}
